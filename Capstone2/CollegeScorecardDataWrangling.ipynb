{
 "cells": [
  {
   "cell_type": "code",
   "execution_count": 1,
   "metadata": {
    "_cell_guid": "b1076dfc-b9ad-4769-8c92-a6c4dae69d19",
    "_uuid": "8f2839f25d086af736a60e9eeb907d3b93b6e0e5"
   },
   "outputs": [],
   "source": [
    "# Set up the environment\n",
    "import os\n",
    "import numpy as np\n",
    "import pandas as pd\n",
    "import matplotlib.pyplot as plt\n",
    "import seaborn as sns\n",
    "%matplotlib inline"
   ]
  },
  {
   "cell_type": "markdown",
   "metadata": {},
   "source": [
    "# The goal\n",
    "What are common features among colleges and universities that have closed in the last decade?\n",
    "Using these features, is it possible to predict which schools are in danger of closing in the near future?\n",
    "Are there steps that schools can take to mitigate the features which may lead to their closing?"
   ]
  },
  {
   "cell_type": "markdown",
   "metadata": {},
   "source": [
    "# Data collection\n",
    "The data come from the US Department of Education College Scorecard, which is available on Kaggle and from the US Department of Education at https://collegescorecard.ed.gov/data/."
   ]
  },
  {
   "cell_type": "code",
   "execution_count": 2,
   "metadata": {},
   "outputs": [
    {
     "name": "stdout",
     "output_type": "stream",
     "text": [
      "./data/raw/11_6609_bundle_archive/MERGED2003_PP.csv\n",
      "./data/raw/11_6609_bundle_archive/MERGED2004_PP.csv\n",
      "./data/raw/11_6609_bundle_archive/MERGED2005_PP.csv\n",
      "./data/raw/11_6609_bundle_archive/MERGED2006_PP.csv\n",
      "./data/raw/11_6609_bundle_archive/MERGED2007_PP.csv\n",
      "./data/raw/11_6609_bundle_archive/MERGED2008_PP.csv\n",
      "./data/raw/11_6609_bundle_archive/MERGED2009_PP.csv\n",
      "./data/raw/11_6609_bundle_archive/MERGED2010_PP.csv\n",
      "./data/raw/11_6609_bundle_archive/MERGED2011_PP.csv\n",
      "./data/raw/11_6609_bundle_archive/MERGED2012_PP.csv\n",
      "./data/raw/11_6609_bundle_archive/MERGED2013_PP.csv\n"
     ]
    }
   ],
   "source": [
    "# Load the csv files year by year; add a year column and merge them into one dataframe\n",
    "filepath = \"./data/raw/11_6609_bundle_archive/\"\n",
    "year = ['2003', '2004', '2005', '2006', '2007', '2008', '2009', '2010', '2011', '2012', '2013']\n",
    "df_dict = {}\n",
    "\n",
    "fields = ['OPEID','INSTNM','CITY', 'NUMBRANCH', 'PREDDEG', 'HIGHDEG', 'CONTROL','region', 'ADM_RATE',\\\n",
    "         'UGDS', 'CURROPER', 'NPT4_PUB', 'NPT4_PRIV', 'COSTT4_A', 'COSTT4_P','TUITFTE', 'INEXPFTE', 'AVGFACSAL', 'PFTFAC',\\\n",
    "         'C150_4', 'C150_L4','RET_FT4','RET_FTL4','RET_PT4','RET_PTL4','PCTFLOAN','UG25abv',\\\n",
    "         'COMP_ORIG_YR4_RT','WDRAW_ORIG_YR4_RT', 'ENRL_ORIG_YR4_RT', 'DEBT_MDN']\n",
    "\n",
    "for yr in year:\n",
    "    filename = filepath + \"MERGED\" + yr + \"_PP.csv\"\n",
    "    print(filename)\n",
    "    df_dict[yr] = pd.read_csv(filename, usecols=fields, low_memory=False)\n",
    "    df_dict[yr]['Year'] = yr"
   ]
  },
  {
   "cell_type": "code",
   "execution_count": 3,
   "metadata": {},
   "outputs": [],
   "source": [
    "data = pd.concat([df for df in df_dict.values()], ignore_index=True)"
   ]
  },
  {
   "cell_type": "markdown",
   "metadata": {},
   "source": [
    "## Data organization\n",
    "Create a file structure (and add work to GitHub repo)"
   ]
  },
  {
   "cell_type": "code",
   "execution_count": 4,
   "metadata": {},
   "outputs": [],
   "source": [
    "#Create directories for various components of the project\n",
    "#os.mkdir(\"data\")\n",
    "#os.mkdir(\"data/raw\")\n",
    "#os.mkdir(\"data/interim\")\n",
    "#os.mkdir(\"data/processed\")\n",
    "#os.mkdir(\"data/external\")\n",
    "#os.mkdir(\"figures\")\n",
    "#os.mkdir(\"models\")"
   ]
  },
  {
   "cell_type": "code",
   "execution_count": 5,
   "metadata": {},
   "outputs": [
    {
     "data": {
      "text/plain": [
       "(78617, 32)"
      ]
     },
     "execution_count": 5,
     "metadata": {},
     "output_type": "execute_result"
    }
   ],
   "source": [
    "# Look at basic info about the dataframe - column names, summary information\n",
    "data.shape"
   ]
  },
  {
   "cell_type": "code",
   "execution_count": 6,
   "metadata": {},
   "outputs": [
    {
     "data": {
      "text/html": [
       "<div>\n",
       "<style scoped>\n",
       "    .dataframe tbody tr th:only-of-type {\n",
       "        vertical-align: middle;\n",
       "    }\n",
       "\n",
       "    .dataframe tbody tr th {\n",
       "        vertical-align: top;\n",
       "    }\n",
       "\n",
       "    .dataframe thead th {\n",
       "        text-align: right;\n",
       "    }\n",
       "</style>\n",
       "<table border=\"1\" class=\"dataframe\">\n",
       "  <thead>\n",
       "    <tr style=\"text-align: right;\">\n",
       "      <th></th>\n",
       "      <th>OPEID</th>\n",
       "      <th>INSTNM</th>\n",
       "      <th>CITY</th>\n",
       "      <th>NUMBRANCH</th>\n",
       "      <th>PREDDEG</th>\n",
       "      <th>HIGHDEG</th>\n",
       "      <th>CONTROL</th>\n",
       "      <th>region</th>\n",
       "      <th>ADM_RATE</th>\n",
       "      <th>UGDS</th>\n",
       "      <th>...</th>\n",
       "      <th>RET_FTL4</th>\n",
       "      <th>RET_PT4</th>\n",
       "      <th>RET_PTL4</th>\n",
       "      <th>PCTFLOAN</th>\n",
       "      <th>UG25abv</th>\n",
       "      <th>COMP_ORIG_YR4_RT</th>\n",
       "      <th>WDRAW_ORIG_YR4_RT</th>\n",
       "      <th>ENRL_ORIG_YR4_RT</th>\n",
       "      <th>DEBT_MDN</th>\n",
       "      <th>Year</th>\n",
       "    </tr>\n",
       "  </thead>\n",
       "  <tbody>\n",
       "    <tr>\n",
       "      <th>0</th>\n",
       "      <td>00100200</td>\n",
       "      <td>ALABAMA A &amp; M UNIVERSITY</td>\n",
       "      <td>NORMAL</td>\n",
       "      <td>1</td>\n",
       "      <td>3</td>\n",
       "      <td>4</td>\n",
       "      <td>1.0</td>\n",
       "      <td>5.0</td>\n",
       "      <td>0.4457</td>\n",
       "      <td>5292.0</td>\n",
       "      <td>...</td>\n",
       "      <td>NaN</td>\n",
       "      <td>NaN</td>\n",
       "      <td>NaN</td>\n",
       "      <td>NaN</td>\n",
       "      <td>0.1408</td>\n",
       "      <td>0.203088803089</td>\n",
       "      <td>0.276447876448</td>\n",
       "      <td>0.19305019305</td>\n",
       "      <td>13187</td>\n",
       "      <td>2003</td>\n",
       "    </tr>\n",
       "    <tr>\n",
       "      <th>1</th>\n",
       "      <td>00105200</td>\n",
       "      <td>UNIVERSITY OF ALABAMA AT BIRMINGHAM</td>\n",
       "      <td>BIRMINGHAM</td>\n",
       "      <td>1</td>\n",
       "      <td>3</td>\n",
       "      <td>4</td>\n",
       "      <td>1.0</td>\n",
       "      <td>5.0</td>\n",
       "      <td>0.8049</td>\n",
       "      <td>10381.0</td>\n",
       "      <td>...</td>\n",
       "      <td>NaN</td>\n",
       "      <td>NaN</td>\n",
       "      <td>NaN</td>\n",
       "      <td>NaN</td>\n",
       "      <td>0.2879</td>\n",
       "      <td>0.367117117117</td>\n",
       "      <td>0.291666666667</td>\n",
       "      <td>0.088963963964</td>\n",
       "      <td>10500</td>\n",
       "      <td>2003</td>\n",
       "    </tr>\n",
       "    <tr>\n",
       "      <th>2</th>\n",
       "      <td>02503400</td>\n",
       "      <td>SOUTHERN CHRISTIAN UNIVERSITY</td>\n",
       "      <td>MONTGOMERY</td>\n",
       "      <td>1</td>\n",
       "      <td>3</td>\n",
       "      <td>4</td>\n",
       "      <td>2.0</td>\n",
       "      <td>5.0</td>\n",
       "      <td>NaN</td>\n",
       "      <td>336.0</td>\n",
       "      <td>...</td>\n",
       "      <td>NaN</td>\n",
       "      <td>NaN</td>\n",
       "      <td>NaN</td>\n",
       "      <td>NaN</td>\n",
       "      <td>0.8720</td>\n",
       "      <td>0.366972477064</td>\n",
       "      <td>0.366972477064</td>\n",
       "      <td>PrivacySuppressed</td>\n",
       "      <td>10158</td>\n",
       "      <td>2003</td>\n",
       "    </tr>\n",
       "    <tr>\n",
       "      <th>3</th>\n",
       "      <td>00105500</td>\n",
       "      <td>UNIVERSITY OF ALABAMA IN HUNTSVILLE</td>\n",
       "      <td>HUNTSVILLE</td>\n",
       "      <td>1</td>\n",
       "      <td>3</td>\n",
       "      <td>4</td>\n",
       "      <td>1.0</td>\n",
       "      <td>5.0</td>\n",
       "      <td>0.8756</td>\n",
       "      <td>4966.0</td>\n",
       "      <td>...</td>\n",
       "      <td>NaN</td>\n",
       "      <td>NaN</td>\n",
       "      <td>NaN</td>\n",
       "      <td>NaN</td>\n",
       "      <td>0.2830</td>\n",
       "      <td>0.229336437718</td>\n",
       "      <td>0.296856810244</td>\n",
       "      <td>0.129220023283</td>\n",
       "      <td>10500</td>\n",
       "      <td>2003</td>\n",
       "    </tr>\n",
       "    <tr>\n",
       "      <th>4</th>\n",
       "      <td>00100500</td>\n",
       "      <td>ALABAMA STATE UNIVERSITY</td>\n",
       "      <td>MONTGOMERY</td>\n",
       "      <td>1</td>\n",
       "      <td>3</td>\n",
       "      <td>4</td>\n",
       "      <td>1.0</td>\n",
       "      <td>5.0</td>\n",
       "      <td>0.5042</td>\n",
       "      <td>4941.0</td>\n",
       "      <td>...</td>\n",
       "      <td>NaN</td>\n",
       "      <td>NaN</td>\n",
       "      <td>NaN</td>\n",
       "      <td>NaN</td>\n",
       "      <td>0.1349</td>\n",
       "      <td>0.138686131387</td>\n",
       "      <td>0.320504313205</td>\n",
       "      <td>0.145321831453</td>\n",
       "      <td>9938</td>\n",
       "      <td>2003</td>\n",
       "    </tr>\n",
       "  </tbody>\n",
       "</table>\n",
       "<p>5 rows × 32 columns</p>\n",
       "</div>"
      ],
      "text/plain": [
       "      OPEID                               INSTNM        CITY  NUMBRANCH  \\\n",
       "0  00100200             ALABAMA A & M UNIVERSITY      NORMAL          1   \n",
       "1  00105200  UNIVERSITY OF ALABAMA AT BIRMINGHAM  BIRMINGHAM          1   \n",
       "2  02503400        SOUTHERN CHRISTIAN UNIVERSITY  MONTGOMERY          1   \n",
       "3  00105500  UNIVERSITY OF ALABAMA IN HUNTSVILLE  HUNTSVILLE          1   \n",
       "4  00100500             ALABAMA STATE UNIVERSITY  MONTGOMERY          1   \n",
       "\n",
       "   PREDDEG  HIGHDEG  CONTROL  region  ADM_RATE     UGDS  ...  RET_FTL4  \\\n",
       "0        3        4      1.0     5.0    0.4457   5292.0  ...       NaN   \n",
       "1        3        4      1.0     5.0    0.8049  10381.0  ...       NaN   \n",
       "2        3        4      2.0     5.0       NaN    336.0  ...       NaN   \n",
       "3        3        4      1.0     5.0    0.8756   4966.0  ...       NaN   \n",
       "4        3        4      1.0     5.0    0.5042   4941.0  ...       NaN   \n",
       "\n",
       "   RET_PT4  RET_PTL4  PCTFLOAN  UG25abv  COMP_ORIG_YR4_RT  WDRAW_ORIG_YR4_RT  \\\n",
       "0      NaN       NaN       NaN   0.1408    0.203088803089     0.276447876448   \n",
       "1      NaN       NaN       NaN   0.2879    0.367117117117     0.291666666667   \n",
       "2      NaN       NaN       NaN   0.8720    0.366972477064     0.366972477064   \n",
       "3      NaN       NaN       NaN   0.2830    0.229336437718     0.296856810244   \n",
       "4      NaN       NaN       NaN   0.1349    0.138686131387     0.320504313205   \n",
       "\n",
       "    ENRL_ORIG_YR4_RT  DEBT_MDN  Year  \n",
       "0      0.19305019305     13187  2003  \n",
       "1     0.088963963964     10500  2003  \n",
       "2  PrivacySuppressed     10158  2003  \n",
       "3     0.129220023283     10500  2003  \n",
       "4     0.145321831453      9938  2003  \n",
       "\n",
       "[5 rows x 32 columns]"
      ]
     },
     "execution_count": 6,
     "metadata": {},
     "output_type": "execute_result"
    }
   ],
   "source": [
    "data.head()"
   ]
  },
  {
   "cell_type": "code",
   "execution_count": 7,
   "metadata": {},
   "outputs": [
    {
     "data": {
      "text/plain": [
       "Index(['OPEID', 'INSTNM', 'CITY', 'NUMBRANCH', 'PREDDEG', 'HIGHDEG', 'CONTROL',\n",
       "       'region', 'ADM_RATE', 'UGDS', 'CURROPER', 'NPT4_PUB', 'NPT4_PRIV',\n",
       "       'COSTT4_A', 'COSTT4_P', 'TUITFTE', 'INEXPFTE', 'AVGFACSAL', 'PFTFAC',\n",
       "       'C150_4', 'C150_L4', 'RET_FT4', 'RET_FTL4', 'RET_PT4', 'RET_PTL4',\n",
       "       'PCTFLOAN', 'UG25abv', 'COMP_ORIG_YR4_RT', 'WDRAW_ORIG_YR4_RT',\n",
       "       'ENRL_ORIG_YR4_RT', 'DEBT_MDN', 'Year'],\n",
       "      dtype='object')"
      ]
     },
     "execution_count": 7,
     "metadata": {},
     "output_type": "execute_result"
    }
   ],
   "source": [
    "data.columns"
   ]
  },
  {
   "cell_type": "code",
   "execution_count": 8,
   "metadata": {},
   "outputs": [
    {
     "name": "stdout",
     "output_type": "stream",
     "text": [
      "<class 'pandas.core.frame.DataFrame'>\n",
      "RangeIndex: 78617 entries, 0 to 78616\n",
      "Data columns (total 32 columns):\n",
      " #   Column             Non-Null Count  Dtype  \n",
      "---  ------             --------------  -----  \n",
      " 0   OPEID              78617 non-null  object \n",
      " 1   INSTNM             78617 non-null  object \n",
      " 2   CITY               78617 non-null  object \n",
      " 3   NUMBRANCH          78617 non-null  int64  \n",
      " 4   PREDDEG            78617 non-null  int64  \n",
      " 5   HIGHDEG            78617 non-null  int64  \n",
      " 6   CONTROL            78594 non-null  float64\n",
      " 7   region             78587 non-null  float64\n",
      " 8   ADM_RATE           28863 non-null  float64\n",
      " 9   UGDS               72811 non-null  float64\n",
      " 10  CURROPER           78617 non-null  int64  \n",
      " 11  NPT4_PUB           9156 non-null   float64\n",
      " 12  NPT4_PRIV          18560 non-null  float64\n",
      " 13  COSTT4_A           20504 non-null  float64\n",
      " 14  COSTT4_P           12256 non-null  float64\n",
      " 15  TUITFTE            75289 non-null  float64\n",
      " 16  INEXPFTE           75289 non-null  float64\n",
      " 17  AVGFACSAL          47746 non-null  float64\n",
      " 18  PFTFAC             54969 non-null  float64\n",
      " 19  C150_4             24700 non-null  float64\n",
      " 20  C150_L4            41884 non-null  float64\n",
      " 21  RET_FT4            22899 non-null  float64\n",
      " 22  RET_FTL4           37280 non-null  float64\n",
      " 23  RET_PT4            15377 non-null  float64\n",
      " 24  RET_PTL4           22487 non-null  float64\n",
      " 25  PCTFLOAN           34444 non-null  float64\n",
      " 26  UG25abv            39398 non-null  float64\n",
      " 27  COMP_ORIG_YR4_RT   67216 non-null  object \n",
      " 28  WDRAW_ORIG_YR4_RT  67216 non-null  object \n",
      " 29  ENRL_ORIG_YR4_RT   67216 non-null  object \n",
      " 30  DEBT_MDN           70290 non-null  object \n",
      " 31  Year               78617 non-null  object \n",
      "dtypes: float64(20), int64(4), object(8)\n",
      "memory usage: 19.2+ MB\n"
     ]
    }
   ],
   "source": [
    "data.info()"
   ]
  },
  {
   "cell_type": "code",
   "execution_count": 9,
   "metadata": {},
   "outputs": [
    {
     "data": {
      "text/plain": [
       "OPEID                16921\n",
       "INSTNM               17581\n",
       "CITY                  5072\n",
       "NUMBRANCH               54\n",
       "PREDDEG                  5\n",
       "HIGHDEG                  5\n",
       "CONTROL                  3\n",
       "region                  10\n",
       "ADM_RATE              7461\n",
       "UGDS                 11610\n",
       "CURROPER                 2\n",
       "NPT4_PUB              6887\n",
       "NPT4_PRIV            13237\n",
       "COSTT4_A             15353\n",
       "COSTT4_P              9594\n",
       "TUITFTE              21721\n",
       "INEXPFTE             17001\n",
       "AVGFACSAL             9164\n",
       "PFTFAC                8560\n",
       "C150_4                7358\n",
       "C150_L4               8357\n",
       "RET_FT4               5065\n",
       "RET_FTL4              5289\n",
       "RET_PT4               1841\n",
       "RET_PTL4              3930\n",
       "PCTFLOAN              8868\n",
       "UG25abv               8543\n",
       "COMP_ORIG_YR4_RT     27427\n",
       "WDRAW_ORIG_YR4_RT    24776\n",
       "ENRL_ORIG_YR4_RT     16104\n",
       "DEBT_MDN             14106\n",
       "Year                    11\n",
       "dtype: int64"
      ]
     },
     "execution_count": 9,
     "metadata": {},
     "output_type": "execute_result"
    }
   ],
   "source": [
    "data.nunique()"
   ]
  },
  {
   "cell_type": "code",
   "execution_count": 10,
   "metadata": {},
   "outputs": [
    {
     "data": {
      "text/html": [
       "<div>\n",
       "<style scoped>\n",
       "    .dataframe tbody tr th:only-of-type {\n",
       "        vertical-align: middle;\n",
       "    }\n",
       "\n",
       "    .dataframe tbody tr th {\n",
       "        vertical-align: top;\n",
       "    }\n",
       "\n",
       "    .dataframe thead th {\n",
       "        text-align: right;\n",
       "    }\n",
       "</style>\n",
       "<table border=\"1\" class=\"dataframe\">\n",
       "  <thead>\n",
       "    <tr style=\"text-align: right;\">\n",
       "      <th></th>\n",
       "      <th>count</th>\n",
       "      <th>mean</th>\n",
       "      <th>std</th>\n",
       "      <th>min</th>\n",
       "      <th>25%</th>\n",
       "      <th>50%</th>\n",
       "      <th>75%</th>\n",
       "      <th>max</th>\n",
       "    </tr>\n",
       "  </thead>\n",
       "  <tbody>\n",
       "    <tr>\n",
       "      <th>NUMBRANCH</th>\n",
       "      <td>78617.0</td>\n",
       "      <td>4.820853</td>\n",
       "      <td>1.555930e+01</td>\n",
       "      <td>1.0000</td>\n",
       "      <td>1.00000</td>\n",
       "      <td>1.00000</td>\n",
       "      <td>2.00000</td>\n",
       "      <td>1.410000e+02</td>\n",
       "    </tr>\n",
       "    <tr>\n",
       "      <th>PREDDEG</th>\n",
       "      <td>78617.0</td>\n",
       "      <td>1.840607</td>\n",
       "      <td>1.017012e+00</td>\n",
       "      <td>0.0000</td>\n",
       "      <td>1.00000</td>\n",
       "      <td>2.00000</td>\n",
       "      <td>3.00000</td>\n",
       "      <td>4.000000e+00</td>\n",
       "    </tr>\n",
       "    <tr>\n",
       "      <th>HIGHDEG</th>\n",
       "      <td>78617.0</td>\n",
       "      <td>2.203289</td>\n",
       "      <td>1.287425e+00</td>\n",
       "      <td>0.0000</td>\n",
       "      <td>1.00000</td>\n",
       "      <td>2.00000</td>\n",
       "      <td>4.00000</td>\n",
       "      <td>4.000000e+00</td>\n",
       "    </tr>\n",
       "    <tr>\n",
       "      <th>CONTROL</th>\n",
       "      <td>78594.0</td>\n",
       "      <td>2.142466</td>\n",
       "      <td>8.417294e-01</td>\n",
       "      <td>1.0000</td>\n",
       "      <td>1.00000</td>\n",
       "      <td>2.00000</td>\n",
       "      <td>3.00000</td>\n",
       "      <td>3.000000e+00</td>\n",
       "    </tr>\n",
       "    <tr>\n",
       "      <th>region</th>\n",
       "      <td>78587.0</td>\n",
       "      <td>4.565666</td>\n",
       "      <td>2.182403e+00</td>\n",
       "      <td>0.0000</td>\n",
       "      <td>3.00000</td>\n",
       "      <td>5.00000</td>\n",
       "      <td>6.00000</td>\n",
       "      <td>9.000000e+00</td>\n",
       "    </tr>\n",
       "    <tr>\n",
       "      <th>ADM_RATE</th>\n",
       "      <td>28863.0</td>\n",
       "      <td>0.690312</td>\n",
       "      <td>2.249065e-01</td>\n",
       "      <td>0.0000</td>\n",
       "      <td>0.54750</td>\n",
       "      <td>0.71260</td>\n",
       "      <td>0.85520</td>\n",
       "      <td>1.000000e+01</td>\n",
       "    </tr>\n",
       "    <tr>\n",
       "      <th>UGDS</th>\n",
       "      <td>72811.0</td>\n",
       "      <td>2301.504457</td>\n",
       "      <td>5.170577e+03</td>\n",
       "      <td>0.0000</td>\n",
       "      <td>129.00000</td>\n",
       "      <td>526.00000</td>\n",
       "      <td>2086.00000</td>\n",
       "      <td>2.535940e+05</td>\n",
       "    </tr>\n",
       "    <tr>\n",
       "      <th>CURROPER</th>\n",
       "      <td>78617.0</td>\n",
       "      <td>0.853009</td>\n",
       "      <td>3.540993e-01</td>\n",
       "      <td>0.0000</td>\n",
       "      <td>1.00000</td>\n",
       "      <td>1.00000</td>\n",
       "      <td>1.00000</td>\n",
       "      <td>1.000000e+00</td>\n",
       "    </tr>\n",
       "    <tr>\n",
       "      <th>NPT4_PUB</th>\n",
       "      <td>9156.0</td>\n",
       "      <td>8861.269878</td>\n",
       "      <td>4.428223e+03</td>\n",
       "      <td>-6359.0000</td>\n",
       "      <td>5692.50000</td>\n",
       "      <td>8113.00000</td>\n",
       "      <td>11603.25000</td>\n",
       "      <td>3.474900e+04</td>\n",
       "    </tr>\n",
       "    <tr>\n",
       "      <th>NPT4_PRIV</th>\n",
       "      <td>18560.0</td>\n",
       "      <td>17982.273545</td>\n",
       "      <td>7.462133e+03</td>\n",
       "      <td>-103168.0000</td>\n",
       "      <td>13120.75000</td>\n",
       "      <td>18179.50000</td>\n",
       "      <td>22487.00000</td>\n",
       "      <td>8.757000e+04</td>\n",
       "    </tr>\n",
       "    <tr>\n",
       "      <th>COSTT4_A</th>\n",
       "      <td>20504.0</td>\n",
       "      <td>23002.166699</td>\n",
       "      <td>1.157569e+04</td>\n",
       "      <td>2200.0000</td>\n",
       "      <td>13293.00000</td>\n",
       "      <td>21395.50000</td>\n",
       "      <td>29439.50000</td>\n",
       "      <td>7.447300e+04</td>\n",
       "    </tr>\n",
       "    <tr>\n",
       "      <th>COSTT4_P</th>\n",
       "      <td>12256.0</td>\n",
       "      <td>20068.453247</td>\n",
       "      <td>8.328864e+03</td>\n",
       "      <td>0.0000</td>\n",
       "      <td>14443.75000</td>\n",
       "      <td>18836.50000</td>\n",
       "      <td>24338.75000</td>\n",
       "      <td>9.672000e+04</td>\n",
       "    </tr>\n",
       "    <tr>\n",
       "      <th>TUITFTE</th>\n",
       "      <td>75289.0</td>\n",
       "      <td>10053.154604</td>\n",
       "      <td>1.139392e+05</td>\n",
       "      <td>0.0000</td>\n",
       "      <td>2839.00000</td>\n",
       "      <td>6520.00000</td>\n",
       "      <td>11378.00000</td>\n",
       "      <td>2.667016e+07</td>\n",
       "    </tr>\n",
       "    <tr>\n",
       "      <th>INEXPFTE</th>\n",
       "      <td>75289.0</td>\n",
       "      <td>13210.000837</td>\n",
       "      <td>1.079174e+06</td>\n",
       "      <td>0.0000</td>\n",
       "      <td>2654.00000</td>\n",
       "      <td>4391.00000</td>\n",
       "      <td>6980.00000</td>\n",
       "      <td>2.920157e+08</td>\n",
       "    </tr>\n",
       "    <tr>\n",
       "      <th>AVGFACSAL</th>\n",
       "      <td>47746.0</td>\n",
       "      <td>5535.507184</td>\n",
       "      <td>2.025063e+03</td>\n",
       "      <td>42.0000</td>\n",
       "      <td>4200.00000</td>\n",
       "      <td>5313.00000</td>\n",
       "      <td>6615.00000</td>\n",
       "      <td>2.489200e+04</td>\n",
       "    </tr>\n",
       "    <tr>\n",
       "      <th>PFTFAC</th>\n",
       "      <td>54969.0</td>\n",
       "      <td>0.579410</td>\n",
       "      <td>2.997276e-01</td>\n",
       "      <td>0.0000</td>\n",
       "      <td>0.32050</td>\n",
       "      <td>0.55560</td>\n",
       "      <td>0.86970</td>\n",
       "      <td>1.166700e+00</td>\n",
       "    </tr>\n",
       "    <tr>\n",
       "      <th>C150_4</th>\n",
       "      <td>24700.0</td>\n",
       "      <td>0.485773</td>\n",
       "      <td>2.135821e-01</td>\n",
       "      <td>0.0000</td>\n",
       "      <td>0.33940</td>\n",
       "      <td>0.48005</td>\n",
       "      <td>0.62755</td>\n",
       "      <td>1.000000e+00</td>\n",
       "    </tr>\n",
       "    <tr>\n",
       "      <th>C150_L4</th>\n",
       "      <td>41884.0</td>\n",
       "      <td>0.550466</td>\n",
       "      <td>2.697341e-01</td>\n",
       "      <td>0.0000</td>\n",
       "      <td>0.30950</td>\n",
       "      <td>0.59380</td>\n",
       "      <td>0.76740</td>\n",
       "      <td>1.000000e+00</td>\n",
       "    </tr>\n",
       "    <tr>\n",
       "      <th>RET_FT4</th>\n",
       "      <td>22899.0</td>\n",
       "      <td>20.649334</td>\n",
       "      <td>3.271983e+01</td>\n",
       "      <td>0.0000</td>\n",
       "      <td>0.65430</td>\n",
       "      <td>0.79370</td>\n",
       "      <td>53.00000</td>\n",
       "      <td>1.000000e+02</td>\n",
       "    </tr>\n",
       "    <tr>\n",
       "      <th>RET_FTL4</th>\n",
       "      <td>37280.0</td>\n",
       "      <td>20.346095</td>\n",
       "      <td>3.228549e+01</td>\n",
       "      <td>0.0000</td>\n",
       "      <td>0.61040</td>\n",
       "      <td>0.79045</td>\n",
       "      <td>50.00000</td>\n",
       "      <td>1.000000e+02</td>\n",
       "    </tr>\n",
       "    <tr>\n",
       "      <th>RET_PT4</th>\n",
       "      <td>15377.0</td>\n",
       "      <td>14.037655</td>\n",
       "      <td>2.581813e+01</td>\n",
       "      <td>0.0000</td>\n",
       "      <td>0.32760</td>\n",
       "      <td>0.54550</td>\n",
       "      <td>18.00000</td>\n",
       "      <td>1.000000e+02</td>\n",
       "    </tr>\n",
       "    <tr>\n",
       "      <th>RET_PTL4</th>\n",
       "      <td>22487.0</td>\n",
       "      <td>15.763236</td>\n",
       "      <td>2.713129e+01</td>\n",
       "      <td>0.0000</td>\n",
       "      <td>0.41545</td>\n",
       "      <td>0.70020</td>\n",
       "      <td>30.00000</td>\n",
       "      <td>1.000000e+02</td>\n",
       "    </tr>\n",
       "    <tr>\n",
       "      <th>PCTFLOAN</th>\n",
       "      <td>34444.0</td>\n",
       "      <td>0.526235</td>\n",
       "      <td>2.977227e-01</td>\n",
       "      <td>0.0000</td>\n",
       "      <td>0.30630</td>\n",
       "      <td>0.59090</td>\n",
       "      <td>0.76440</td>\n",
       "      <td>1.791800e+00</td>\n",
       "    </tr>\n",
       "    <tr>\n",
       "      <th>UG25abv</th>\n",
       "      <td>39398.0</td>\n",
       "      <td>0.414986</td>\n",
       "      <td>2.219391e-01</td>\n",
       "      <td>0.0004</td>\n",
       "      <td>0.25350</td>\n",
       "      <td>0.41220</td>\n",
       "      <td>0.56860</td>\n",
       "      <td>1.000000e+00</td>\n",
       "    </tr>\n",
       "  </tbody>\n",
       "</table>\n",
       "</div>"
      ],
      "text/plain": [
       "             count          mean           std          min          25%  \\\n",
       "NUMBRANCH  78617.0      4.820853  1.555930e+01       1.0000      1.00000   \n",
       "PREDDEG    78617.0      1.840607  1.017012e+00       0.0000      1.00000   \n",
       "HIGHDEG    78617.0      2.203289  1.287425e+00       0.0000      1.00000   \n",
       "CONTROL    78594.0      2.142466  8.417294e-01       1.0000      1.00000   \n",
       "region     78587.0      4.565666  2.182403e+00       0.0000      3.00000   \n",
       "ADM_RATE   28863.0      0.690312  2.249065e-01       0.0000      0.54750   \n",
       "UGDS       72811.0   2301.504457  5.170577e+03       0.0000    129.00000   \n",
       "CURROPER   78617.0      0.853009  3.540993e-01       0.0000      1.00000   \n",
       "NPT4_PUB    9156.0   8861.269878  4.428223e+03   -6359.0000   5692.50000   \n",
       "NPT4_PRIV  18560.0  17982.273545  7.462133e+03 -103168.0000  13120.75000   \n",
       "COSTT4_A   20504.0  23002.166699  1.157569e+04    2200.0000  13293.00000   \n",
       "COSTT4_P   12256.0  20068.453247  8.328864e+03       0.0000  14443.75000   \n",
       "TUITFTE    75289.0  10053.154604  1.139392e+05       0.0000   2839.00000   \n",
       "INEXPFTE   75289.0  13210.000837  1.079174e+06       0.0000   2654.00000   \n",
       "AVGFACSAL  47746.0   5535.507184  2.025063e+03      42.0000   4200.00000   \n",
       "PFTFAC     54969.0      0.579410  2.997276e-01       0.0000      0.32050   \n",
       "C150_4     24700.0      0.485773  2.135821e-01       0.0000      0.33940   \n",
       "C150_L4    41884.0      0.550466  2.697341e-01       0.0000      0.30950   \n",
       "RET_FT4    22899.0     20.649334  3.271983e+01       0.0000      0.65430   \n",
       "RET_FTL4   37280.0     20.346095  3.228549e+01       0.0000      0.61040   \n",
       "RET_PT4    15377.0     14.037655  2.581813e+01       0.0000      0.32760   \n",
       "RET_PTL4   22487.0     15.763236  2.713129e+01       0.0000      0.41545   \n",
       "PCTFLOAN   34444.0      0.526235  2.977227e-01       0.0000      0.30630   \n",
       "UG25abv    39398.0      0.414986  2.219391e-01       0.0004      0.25350   \n",
       "\n",
       "                   50%          75%           max  \n",
       "NUMBRANCH      1.00000      2.00000  1.410000e+02  \n",
       "PREDDEG        2.00000      3.00000  4.000000e+00  \n",
       "HIGHDEG        2.00000      4.00000  4.000000e+00  \n",
       "CONTROL        2.00000      3.00000  3.000000e+00  \n",
       "region         5.00000      6.00000  9.000000e+00  \n",
       "ADM_RATE       0.71260      0.85520  1.000000e+01  \n",
       "UGDS         526.00000   2086.00000  2.535940e+05  \n",
       "CURROPER       1.00000      1.00000  1.000000e+00  \n",
       "NPT4_PUB    8113.00000  11603.25000  3.474900e+04  \n",
       "NPT4_PRIV  18179.50000  22487.00000  8.757000e+04  \n",
       "COSTT4_A   21395.50000  29439.50000  7.447300e+04  \n",
       "COSTT4_P   18836.50000  24338.75000  9.672000e+04  \n",
       "TUITFTE     6520.00000  11378.00000  2.667016e+07  \n",
       "INEXPFTE    4391.00000   6980.00000  2.920157e+08  \n",
       "AVGFACSAL   5313.00000   6615.00000  2.489200e+04  \n",
       "PFTFAC         0.55560      0.86970  1.166700e+00  \n",
       "C150_4         0.48005      0.62755  1.000000e+00  \n",
       "C150_L4        0.59380      0.76740  1.000000e+00  \n",
       "RET_FT4        0.79370     53.00000  1.000000e+02  \n",
       "RET_FTL4       0.79045     50.00000  1.000000e+02  \n",
       "RET_PT4        0.54550     18.00000  1.000000e+02  \n",
       "RET_PTL4       0.70020     30.00000  1.000000e+02  \n",
       "PCTFLOAN       0.59090      0.76440  1.791800e+00  \n",
       "UG25abv        0.41220      0.56860  1.000000e+00  "
      ]
     },
     "execution_count": 10,
     "metadata": {},
     "output_type": "execute_result"
    }
   ],
   "source": [
    "data.describe().T"
   ]
  },
  {
   "cell_type": "markdown",
   "metadata": {},
   "source": [
    "## Explore data types \n",
    "Many of the columns that I expected to be numerical data were actually classifed as strings. I tried to convert them to numbers, but got an error message, so I explored the content of the colummns and the data dictionary to see what the problem was.\n",
    "\n",
    "For privacy reasons, some of the columns include data is coded as \"PrivacySupressed\"."
   ]
  },
  {
   "cell_type": "code",
   "execution_count": 11,
   "metadata": {},
   "outputs": [
    {
     "name": "stdout",
     "output_type": "stream",
     "text": [
      "PrivacySuppressed    13.348258\n",
      "0                     3.832504\n",
      "1                     0.431204\n",
      "0.5                   0.352341\n",
      "0.666666666667        0.199702\n",
      "                       ...    \n",
      "0.759523809524        0.001272\n",
      "0.220790378007        0.001272\n",
      "0.196457326892        0.001272\n",
      "0.052037845706        0.001272\n",
      "0.591011235955        0.001272\n",
      "Name: COMP_ORIG_YR4_RT, Length: 27427, dtype: float64\n",
      "14.501952503911367\n"
     ]
    }
   ],
   "source": [
    "# Look at individual column information to assess and assign data types\n",
    "print((data.COMP_ORIG_YR4_RT.value_counts()/len(data.COMP_ORIG_YR4_RT)) *100)\n",
    "print((data.COMP_ORIG_YR4_RT.isnull().sum() /len(data.COMP_ORIG_YR4_RT)) *100)"
   ]
  },
  {
   "cell_type": "code",
   "execution_count": 12,
   "metadata": {},
   "outputs": [],
   "source": [
    "# Replace \"PrivacySuppressed\" with null values (NaN)\n",
    "for col in data.columns:\n",
    "    if data[col].dtype == 'object':\n",
    "        data[col] = data[col].str.replace(\"PrivacySuppressed\", \"NaN\")"
   ]
  },
  {
   "cell_type": "markdown",
   "metadata": {},
   "source": [
    "## Combine columns\n",
    "\n",
    "There are several columns with the same information for different categories of schools (Public vs Private, Academic Year vs Annual Year). Each of the individual columns is missing a lot of data, but there would be less missing data if they were combined."
   ]
  },
  {
   "cell_type": "code",
   "execution_count": 13,
   "metadata": {},
   "outputs": [],
   "source": [
    "#Compare Net Price columns for private and public, to see if they can be combined into one column.\n",
    "net_price = data[['NPT4_PUB', 'NPT4_PRIV']]\n",
    "not_null = net_price.notnull()\n",
    "eitherdf = net_price.loc[(not_null['NPT4_PUB'])|(not_null['NPT4_PRIV'])]\n",
    "\n",
    "take_full = lambda s1, s2: s1 if np.isnan(s2) else s2\n",
    "\n",
    "data['NetPrice'] = data['NPT4_PUB'].combine(data['NPT4_PRIV'], take_full)\n",
    "data['Cost'] = data['COSTT4_P'].combine(data['COSTT4_A'], take_full)"
   ]
  },
  {
   "cell_type": "code",
   "execution_count": 14,
   "metadata": {},
   "outputs": [
    {
     "data": {
      "text/plain": [
       "(27716,)"
      ]
     },
     "execution_count": 14,
     "metadata": {},
     "output_type": "execute_result"
    }
   ],
   "source": [
    "data['NetPrice'].loc[data['NetPrice'].notnull()].shape"
   ]
  },
  {
   "cell_type": "code",
   "execution_count": 15,
   "metadata": {},
   "outputs": [
    {
     "data": {
      "text/plain": [
       "(32760,)"
      ]
     },
     "execution_count": 15,
     "metadata": {},
     "output_type": "execute_result"
    }
   ],
   "source": [
    "data['Cost'].loc[data['Cost'].notnull()].shape"
   ]
  },
  {
   "cell_type": "markdown",
   "metadata": {},
   "source": [
    "## Percentage of null values per column"
   ]
  },
  {
   "cell_type": "code",
   "execution_count": 16,
   "metadata": {
    "scrolled": true
   },
   "outputs": [
    {
     "data": {
      "text/html": [
       "<div>\n",
       "<style scoped>\n",
       "    .dataframe tbody tr th:only-of-type {\n",
       "        vertical-align: middle;\n",
       "    }\n",
       "\n",
       "    .dataframe tbody tr th {\n",
       "        vertical-align: top;\n",
       "    }\n",
       "\n",
       "    .dataframe thead th {\n",
       "        text-align: right;\n",
       "    }\n",
       "</style>\n",
       "<table border=\"1\" class=\"dataframe\">\n",
       "  <thead>\n",
       "    <tr style=\"text-align: right;\">\n",
       "      <th></th>\n",
       "      <th>percent</th>\n",
       "    </tr>\n",
       "  </thead>\n",
       "  <tbody>\n",
       "    <tr>\n",
       "      <th>NPT4_PUB</th>\n",
       "      <td>0.883537</td>\n",
       "    </tr>\n",
       "    <tr>\n",
       "      <th>COSTT4_P</th>\n",
       "      <td>0.844105</td>\n",
       "    </tr>\n",
       "    <tr>\n",
       "      <th>RET_PT4</th>\n",
       "      <td>0.804406</td>\n",
       "    </tr>\n",
       "    <tr>\n",
       "      <th>NPT4_PRIV</th>\n",
       "      <td>0.763919</td>\n",
       "    </tr>\n",
       "    <tr>\n",
       "      <th>COSTT4_A</th>\n",
       "      <td>0.739191</td>\n",
       "    </tr>\n",
       "    <tr>\n",
       "      <th>RET_PTL4</th>\n",
       "      <td>0.713968</td>\n",
       "    </tr>\n",
       "    <tr>\n",
       "      <th>RET_FT4</th>\n",
       "      <td>0.708727</td>\n",
       "    </tr>\n",
       "    <tr>\n",
       "      <th>C150_4</th>\n",
       "      <td>0.685819</td>\n",
       "    </tr>\n",
       "    <tr>\n",
       "      <th>NetPrice</th>\n",
       "      <td>0.647455</td>\n",
       "    </tr>\n",
       "    <tr>\n",
       "      <th>ADM_RATE</th>\n",
       "      <td>0.632866</td>\n",
       "    </tr>\n",
       "    <tr>\n",
       "      <th>Cost</th>\n",
       "      <td>0.583296</td>\n",
       "    </tr>\n",
       "    <tr>\n",
       "      <th>PCTFLOAN</th>\n",
       "      <td>0.561876</td>\n",
       "    </tr>\n",
       "    <tr>\n",
       "      <th>RET_FTL4</th>\n",
       "      <td>0.525802</td>\n",
       "    </tr>\n",
       "    <tr>\n",
       "      <th>UG25abv</th>\n",
       "      <td>0.498862</td>\n",
       "    </tr>\n",
       "    <tr>\n",
       "      <th>C150_L4</th>\n",
       "      <td>0.467240</td>\n",
       "    </tr>\n",
       "    <tr>\n",
       "      <th>AVGFACSAL</th>\n",
       "      <td>0.392676</td>\n",
       "    </tr>\n",
       "    <tr>\n",
       "      <th>PFTFAC</th>\n",
       "      <td>0.300800</td>\n",
       "    </tr>\n",
       "    <tr>\n",
       "      <th>OPEID</th>\n",
       "      <td>0.296017</td>\n",
       "    </tr>\n",
       "    <tr>\n",
       "      <th>COMP_ORIG_YR4_RT</th>\n",
       "      <td>0.145020</td>\n",
       "    </tr>\n",
       "    <tr>\n",
       "      <th>WDRAW_ORIG_YR4_RT</th>\n",
       "      <td>0.145020</td>\n",
       "    </tr>\n",
       "    <tr>\n",
       "      <th>ENRL_ORIG_YR4_RT</th>\n",
       "      <td>0.145020</td>\n",
       "    </tr>\n",
       "    <tr>\n",
       "      <th>DEBT_MDN</th>\n",
       "      <td>0.105919</td>\n",
       "    </tr>\n",
       "    <tr>\n",
       "      <th>UGDS</th>\n",
       "      <td>0.073852</td>\n",
       "    </tr>\n",
       "    <tr>\n",
       "      <th>TUITFTE</th>\n",
       "      <td>0.042332</td>\n",
       "    </tr>\n",
       "    <tr>\n",
       "      <th>INEXPFTE</th>\n",
       "      <td>0.042332</td>\n",
       "    </tr>\n",
       "    <tr>\n",
       "      <th>region</th>\n",
       "      <td>0.000382</td>\n",
       "    </tr>\n",
       "    <tr>\n",
       "      <th>CONTROL</th>\n",
       "      <td>0.000293</td>\n",
       "    </tr>\n",
       "  </tbody>\n",
       "</table>\n",
       "</div>"
      ],
      "text/plain": [
       "                    percent\n",
       "NPT4_PUB           0.883537\n",
       "COSTT4_P           0.844105\n",
       "RET_PT4            0.804406\n",
       "NPT4_PRIV          0.763919\n",
       "COSTT4_A           0.739191\n",
       "RET_PTL4           0.713968\n",
       "RET_FT4            0.708727\n",
       "C150_4             0.685819\n",
       "NetPrice           0.647455\n",
       "ADM_RATE           0.632866\n",
       "Cost               0.583296\n",
       "PCTFLOAN           0.561876\n",
       "RET_FTL4           0.525802\n",
       "UG25abv            0.498862\n",
       "C150_L4            0.467240\n",
       "AVGFACSAL          0.392676\n",
       "PFTFAC             0.300800\n",
       "OPEID              0.296017\n",
       "COMP_ORIG_YR4_RT   0.145020\n",
       "WDRAW_ORIG_YR4_RT  0.145020\n",
       "ENRL_ORIG_YR4_RT   0.145020\n",
       "DEBT_MDN           0.105919\n",
       "UGDS               0.073852\n",
       "TUITFTE            0.042332\n",
       "INEXPFTE           0.042332\n",
       "region             0.000382\n",
       "CONTROL            0.000293"
      ]
     },
     "execution_count": 16,
     "metadata": {},
     "output_type": "execute_result"
    }
   ],
   "source": [
    "# Look at percentage of null values per column\n",
    "nas=pd.DataFrame(data.isnull().sum().sort_values(ascending=False)/len(data),columns = ['percent'])\n",
    "pos = nas['percent'] > 0\n",
    "nas[pos]"
   ]
  },
  {
   "cell_type": "code",
   "execution_count": 17,
   "metadata": {},
   "outputs": [
    {
     "name": "stdout",
     "output_type": "stream",
     "text": [
      "Columns to drop include:  []\n"
     ]
    }
   ],
   "source": [
    "# Get a list of columns with > 90% NAN values\n",
    "to_drop = [column for column in data.columns if (data[column].isnull().sum()/len(data[column]) > 0.90)]\n",
    "#data.isnull().sum()/len(data)\n",
    "\n",
    "print(\"Columns to drop include: \", to_drop)"
   ]
  },
  {
   "cell_type": "markdown",
   "metadata": {},
   "source": [
    "My first attempt at data wrangling had many colums with missing values. Based on the data wrangling and exploratory data analysis has led me to refine the list of colums to import, which means there are no longer any columms with >90% missing values."
   ]
  },
  {
   "cell_type": "code",
   "execution_count": 18,
   "metadata": {},
   "outputs": [],
   "source": [
    "# Remove columns with > 90% NAN values from dataframe\n",
    "data = data.drop(to_drop, axis=1)\n",
    "#data.head()"
   ]
  },
  {
   "cell_type": "markdown",
   "metadata": {},
   "source": [
    "# Convert data types"
   ]
  },
  {
   "cell_type": "code",
   "execution_count": 19,
   "metadata": {},
   "outputs": [],
   "source": [
    "data_types = {\"PREDDEG\": 'category', \"HIGHDEG\": 'category', 'CONTROL':'category', 'region':'category', \n",
    "              'CURROPER':'bool', 'DEBT_MDN':'float64','COMP_ORIG_YR4_RT': 'float64', \n",
    "              'WDRAW_ORIG_YR4_RT':'float64', 'ENRL_ORIG_YR4_RT':'float64'}\n",
    "\n",
    "for col in data_types.keys():\n",
    "    data[col] = data[col].astype(data_types[col])"
   ]
  },
  {
   "cell_type": "code",
   "execution_count": 20,
   "metadata": {},
   "outputs": [],
   "source": [
    "data['Year']= pd.to_datetime(data['Year'])"
   ]
  },
  {
   "cell_type": "code",
   "execution_count": 21,
   "metadata": {},
   "outputs": [],
   "source": [
    "#Rename columns to be more descriptive\n",
    "# col_names = ['Id','OPEID','Name','City','Zip','Predominant degree', 'Main branch', 'NumBranches',\\\n",
    "#             'Primary degree type', 'High degree', 'Control', 'StateCode','Region', \\\n",
    "#             'AdmissionRate', 'ACTMidpoint', 'SATAvg',\\\n",
    "#             'Enrollment-DegreeSeeking', \\\n",
    "#             'CURROPER','NetPrice-Private', 'AvgCost-AY', 'TuitionRevenue/FTE',\\\n",
    "#             'Expenditure/FTE','AvgFaculty Salary', 'Percent Fulltime Faculty', 'Completion-4yr', 'Completion<4yr','RetentionFT-4yr', \\\n",
    "#             'RetentionFT-<4yr','RetentionPT-4yr', 'RetentionPT-<4yr', 'PercentFedLoan','PercentAge>25', \\\n",
    "#             'PercentCompleted4yr', 'PercentWithdraw4yr', 'PercentEnrolled4yr',\\\n",
    "#             'PercentAidedLowIncome', 'PercentIndependent', 'PercentDependentLowIncome','PercentIndepentdentLowIncome',\\\n",
    "#             'PercentFirstGen','AvgIncomeDependent','AvgIncomeIndep','MedianDebt', \\\n",
    "#             'MedianDebtCompleters', 'MedianDebtNotComplete', 'PercentReceiveFedLoan','AvgAgeEntry', 'PercentFemale',\\\n",
    "#             'PercentMarried','PercentDependent','PercentVeteran', 'AvgFamilyIncome','MedianFamilyIncome',\\\n",
    "#             'MedianHouseholdIncome']\n",
    "# data.columns = col_names\n",
    "# data.set_index('Id').head()"
   ]
  },
  {
   "cell_type": "code",
   "execution_count": 22,
   "metadata": {},
   "outputs": [
    {
     "data": {
      "text/html": [
       "<div>\n",
       "<style scoped>\n",
       "    .dataframe tbody tr th:only-of-type {\n",
       "        vertical-align: middle;\n",
       "    }\n",
       "\n",
       "    .dataframe tbody tr th {\n",
       "        vertical-align: top;\n",
       "    }\n",
       "\n",
       "    .dataframe thead th {\n",
       "        text-align: right;\n",
       "    }\n",
       "</style>\n",
       "<table border=\"1\" class=\"dataframe\">\n",
       "  <thead>\n",
       "    <tr style=\"text-align: right;\">\n",
       "      <th></th>\n",
       "      <th>OPEID</th>\n",
       "      <th>INSTNM</th>\n",
       "      <th>CITY</th>\n",
       "      <th>NUMBRANCH</th>\n",
       "      <th>PREDDEG</th>\n",
       "      <th>HIGHDEG</th>\n",
       "      <th>CONTROL</th>\n",
       "      <th>region</th>\n",
       "      <th>ADM_RATE</th>\n",
       "      <th>UGDS</th>\n",
       "      <th>...</th>\n",
       "      <th>RET_PTL4</th>\n",
       "      <th>PCTFLOAN</th>\n",
       "      <th>UG25abv</th>\n",
       "      <th>COMP_ORIG_YR4_RT</th>\n",
       "      <th>WDRAW_ORIG_YR4_RT</th>\n",
       "      <th>ENRL_ORIG_YR4_RT</th>\n",
       "      <th>DEBT_MDN</th>\n",
       "      <th>Year</th>\n",
       "      <th>NetPrice</th>\n",
       "      <th>Cost</th>\n",
       "    </tr>\n",
       "  </thead>\n",
       "  <tbody>\n",
       "  </tbody>\n",
       "</table>\n",
       "<p>0 rows × 34 columns</p>\n",
       "</div>"
      ],
      "text/plain": [
       "Empty DataFrame\n",
       "Columns: [OPEID, INSTNM, CITY, NUMBRANCH, PREDDEG, HIGHDEG, CONTROL, region, ADM_RATE, UGDS, CURROPER, NPT4_PUB, NPT4_PRIV, COSTT4_A, COSTT4_P, TUITFTE, INEXPFTE, AVGFACSAL, PFTFAC, C150_4, C150_L4, RET_FT4, RET_FTL4, RET_PT4, RET_PTL4, PCTFLOAN, UG25abv, COMP_ORIG_YR4_RT, WDRAW_ORIG_YR4_RT, ENRL_ORIG_YR4_RT, DEBT_MDN, Year, NetPrice, Cost]\n",
       "Index: []\n",
       "\n",
       "[0 rows x 34 columns]"
      ]
     },
     "execution_count": 22,
     "metadata": {},
     "output_type": "execute_result"
    }
   ],
   "source": [
    "# Look for duplicate rows\n",
    "duplicateRowsDF = data[data.duplicated()]\n",
    "duplicateRowsDF"
   ]
  },
  {
   "cell_type": "markdown",
   "metadata": {},
   "source": [
    "## Save wrangled data to .csv file"
   ]
  },
  {
   "cell_type": "code",
   "execution_count": 23,
   "metadata": {},
   "outputs": [],
   "source": [
    "# Write complete dataframe to file.\n",
    "data.to_csv('data/interim/scorecard.filtered.csv')"
   ]
  },
  {
   "cell_type": "markdown",
   "metadata": {},
   "source": [
    "# Exploratory Data Analysis\n",
    "## Initial questions about the data\n",
    "1. How does price differ based on school control (public, private nonprofit, private for-profit)?\n",
    "2. Does size (student enrollment and number of faculty) vary by control?\n",
    "3. What factors contribute to schools closing? What is the distribution of closed schools (by region, size, control)\n",
    "4. How does student debt relate to school size and control? Does student debt contribute to schools closing?\n",
    "\n",
    "## More detailed exploration of null values"
   ]
  },
  {
   "cell_type": "code",
   "execution_count": 24,
   "metadata": {},
   "outputs": [
    {
     "name": "stdout",
     "output_type": "stream",
     "text": [
      "                   Count   Percent\n",
      "OPEID              23272  0.296017\n",
      "CONTROL               23  0.000293\n",
      "region                30  0.000382\n",
      "ADM_RATE           49754  0.632866\n",
      "UGDS                5806  0.073852\n",
      "NPT4_PUB           69461  0.883537\n",
      "NPT4_PRIV          60057  0.763919\n",
      "COSTT4_A           58113  0.739191\n",
      "COSTT4_P           66361  0.844105\n",
      "TUITFTE             3328  0.042332\n",
      "INEXPFTE            3328  0.042332\n",
      "AVGFACSAL          30871  0.392676\n",
      "PFTFAC             23648  0.300800\n",
      "C150_4             53917  0.685819\n",
      "C150_L4            36733  0.467240\n",
      "RET_FT4            55718  0.708727\n",
      "RET_FTL4           41337  0.525802\n",
      "RET_PT4            63240  0.804406\n",
      "RET_PTL4           56130  0.713968\n",
      "PCTFLOAN           44173  0.561876\n",
      "UG25abv            39219  0.498862\n",
      "COMP_ORIG_YR4_RT   21895  0.278502\n",
      "WDRAW_ORIG_YR4_RT  23093  0.293741\n",
      "ENRL_ORIG_YR4_RT   29734  0.378213\n",
      "DEBT_MDN           13440  0.170955\n",
      "NetPrice           50901  0.647455\n",
      "Cost               45857  0.583296\n"
     ]
    }
   ],
   "source": [
    "#Check for null values\n",
    "nulldata = data.isnull().sum()\n",
    "nulldata = pd.DataFrame(nulldata)\n",
    "nulldata.columns = [\"Count\"]\n",
    "nulldata['Percent'] = (data.isnull().sum())/data.shape[0]\n",
    "\n",
    "print(nulldata.loc[nulldata['Percent']>0])"
   ]
  },
  {
   "cell_type": "markdown",
   "metadata": {},
   "source": [
    "The columms with the highest percentage of missing values are also columns that were combined in a previous step (NetPrice and Cost), so it is safe to delete those four columns.\n",
    "\n",
    "The other columns with high missing rates are the RET columns (retention rates). For the time being, I'm going to keep those columns."
   ]
  },
  {
   "cell_type": "code",
   "execution_count": 25,
   "metadata": {},
   "outputs": [
    {
     "name": "stdout",
     "output_type": "stream",
     "text": [
      "(78617, 30)\n"
     ]
    }
   ],
   "source": [
    "to_drop = ['NPT4_PUB', 'NPT4_PRIV', 'COSTT4_A', 'COSTT4_P']\n",
    "data = data.drop(to_drop, axis=1)\n",
    "print(data.shape)"
   ]
  },
  {
   "cell_type": "markdown",
   "metadata": {},
   "source": [
    "## Number and names of schools in the database\n",
    "- How many rows are in the database?\n",
    "- How many unique schools are in the database? By OPEID and by Name"
   ]
  },
  {
   "cell_type": "code",
   "execution_count": 26,
   "metadata": {},
   "outputs": [
    {
     "name": "stdout",
     "output_type": "stream",
     "text": [
      "There are  78617  observations in the data\n",
      "There are  8592 unique OPEIDs in the data\n",
      "00224900    27\n",
      "01308800    10\n",
      "02179907    10\n",
      "03021500    10\n",
      "00730401     9\n",
      "            ..\n",
      "10732901     1\n",
      "010490B3     1\n",
      "00466606     1\n",
      "02274400     1\n",
      "10732914     1\n",
      "Name: OPEID, Length: 8592, dtype: int64\n"
     ]
    }
   ],
   "source": [
    "n_data = data.shape[0]\n",
    "print(\"There are \", n_data, \" observations in the data\")\n",
    "\n",
    "n_opeid = data[\"OPEID\"].nunique()\n",
    "print(\"There are \", n_opeid, \"unique OPEIDs in the data\")\n",
    "print(data.OPEID.value_counts())"
   ]
  },
  {
   "cell_type": "code",
   "execution_count": 27,
   "metadata": {},
   "outputs": [
    {
     "name": "stdout",
     "output_type": "stream",
     "text": [
      "There are  12040 unique school names in the data\n",
      "itt technical institute                       230\n",
      "marinello school of beauty                    129\n",
      "lincoln technical institute                   100\n",
      "sanford-brown institute                        77\n",
      "ross medical education center                  70\n",
      "                                             ... \n",
      "paul mitchell the school-birmingham             1\n",
      "pivot point beauty school-chicago               1\n",
      "marjon school of beauty ltd-tonawanda           1\n",
      "inter american univ of puerto rico-fajardo      1\n",
      "montana state university billings               1\n",
      "Name: INSTNM, Length: 12040, dtype: int64\n"
     ]
    }
   ],
   "source": [
    "data['INSTNM'] = data['INSTNM'].str.lower()\n",
    "n_schools = data['INSTNM'].nunique()\n",
    "print(\"There are \", n_schools, \"unique school names in the data\")\n",
    "print(data.INSTNM.value_counts())"
   ]
  },
  {
   "cell_type": "markdown",
   "metadata": {},
   "source": [
    "There are 8592 OPEID numbers and 12040 unique school names in the data, which means that some school names share OPEID numbers. To get a sense for the data, I think it will be important to know how schools names relate to the OPEID numbers.\n",
    "\n",
    "How many school names occur only once in the database? What are those schools?"
   ]
  },
  {
   "cell_type": "code",
   "execution_count": 28,
   "metadata": {},
   "outputs": [
    {
     "name": "stdout",
     "output_type": "stream",
     "text": [
      "montana state university billings                   1\n",
      "inter american univ of puerto rico-fajardo          1\n",
      "marjon school of beauty ltd-tonawanda               1\n",
      "pivot point beauty school-chicago                   1\n",
      "paul mitchell the school-birmingham                 1\n",
      "                                                   ..\n",
      "michigan state university-college of law            1\n",
      "itt technical institute-arlington heights           1\n",
      "d-q university                                      1\n",
      "platinum shear school of cosmetology                1\n",
      "prismed of sj inc dba academyof computer careers    1\n",
      "Name: INSTNM, Length: 1644, dtype: int64\n"
     ]
    }
   ],
   "source": [
    "unique_names = data.INSTNM.value_counts(ascending = True)[data.INSTNM.value_counts()==1]\n",
    "print(unique_names)"
   ]
  },
  {
   "cell_type": "markdown",
   "metadata": {},
   "source": [
    "There are 1644 schools names that are unique.\n",
    "\n",
    "That means that there are roughly 10,400 school names that occur more than once. How many schools occur multiple times, and how many times do they occur?"
   ]
  },
  {
   "cell_type": "code",
   "execution_count": 29,
   "metadata": {},
   "outputs": [
    {
     "data": {
      "image/png": "[encoded data removed]",
      "text/plain": [
       "<Figure size 432x288 with 2 Axes>"
      ]
     },
     "metadata": {
      "needs_background": "light"
     },
     "output_type": "display_data"
    }
   ],
   "source": [
    "#Plot histogram of number of schools per Name\n",
    "plt.subplot(1, 2, 1)\n",
    "#plt.hist(data['Name'].value_counts())\n",
    "hist, bins, _ = plt.hist(data['INSTNM'].value_counts(), bins=20)\n",
    "plt.xlabel('Schools per Name')\n",
    "plt.ylabel('Count (log)')\n",
    "plt.yscale('log')\n",
    "\n",
    "plt.subplot(1, 2, 2)\n",
    "# Converted to logarithmic scale\n",
    "logbins = np.logspace(np.log10(bins[0]),np.log10(bins[-1]),len(bins))\n",
    "plt.hist(data['INSTNM'].value_counts(), bins=logbins)\n",
    "plt.xlabel('Schools per Name (log)')\n",
    "plt.xscale('log')\n",
    "plt.yscale('log')\n",
    "plt.show()"
   ]
  },
  {
   "cell_type": "markdown",
   "metadata": {},
   "source": [
    "There is one school name with more than 200 occurences in the database, which skews the histogram and its bin sizes. Converting the number of schools (and counts) to a log scale more clearly shows the distribution of the schools by their count in the data.\n",
    "\n",
    "While there are many unique school names, there are also equally many schools names with counts of between 10 & 100.\n",
    "\n",
    "Now that we have a sense of how often school names are repeated in the database, we can explore the distribution of the OPEID."
   ]
  },
  {
   "cell_type": "code",
   "execution_count": 30,
   "metadata": {},
   "outputs": [
    {
     "data": {
      "image/png": "[encoded data removed]",
      "text/plain": [
       "<Figure size 432x288 with 1 Axes>"
      ]
     },
     "metadata": {
      "needs_background": "light"
     },
     "output_type": "display_data"
    }
   ],
   "source": [
    "#Plot histogram of number of schools per OPEID\n",
    "plt.hist(data['OPEID'].value_counts(), bins=20)\n",
    "plt.xlabel('Schools per OPEID')\n",
    "plt.ylabel('Count (log)')\n",
    "plt.yscale('log')"
   ]
  },
  {
   "cell_type": "markdown",
   "metadata": {},
   "source": [
    "The number of observations per OPEID are much less varied than the school names, with the max count being around 26. This must mean that schools with the same name can have multiple OPEIDs.\n",
    "\n",
    "From the list and counts of school names (above), ITT Technical Institute occurs most often in the database. How many OPEIDs are associated with ITT Tech?"
   ]
  },
  {
   "cell_type": "code",
   "execution_count": 31,
   "metadata": {},
   "outputs": [
    {
     "name": "stdout",
     "output_type": "stream",
     "text": [
      "00732901    8\n",
      "00732900    8\n",
      "00732903    8\n",
      "03071801    8\n",
      "00732902    8\n",
      "           ..\n",
      "02321903    1\n",
      "00732954    1\n",
      "00732939    1\n",
      "00732924    1\n",
      "00732956    1\n",
      "Name: OPEID, Length: 223, dtype: int64\n",
      "ITT Technical Institue has 230 schools distrubted over 223 OPEIDs\n"
     ]
    }
   ],
   "source": [
    "itt = data.loc[data['INSTNM'].str.startswith('itt tech')] # TECHNICAL INSTITUTE']\n",
    "print(itt.OPEID.value_counts())\n",
    "print(\"ITT Technical Institue has 230 schools distrubted over 223 OPEIDs\")"
   ]
  },
  {
   "cell_type": "markdown",
   "metadata": {},
   "source": [
    "The maximum number of OPEIDs associated with ITT Tech is 8. How are the schools names associated with one OPEID related?"
   ]
  },
  {
   "cell_type": "code",
   "execution_count": 32,
   "metadata": {},
   "outputs": [
    {
     "data": {
      "text/html": [
       "<div>\n",
       "<style scoped>\n",
       "    .dataframe tbody tr th:only-of-type {\n",
       "        vertical-align: middle;\n",
       "    }\n",
       "\n",
       "    .dataframe tbody tr th {\n",
       "        vertical-align: top;\n",
       "    }\n",
       "\n",
       "    .dataframe thead th {\n",
       "        text-align: right;\n",
       "    }\n",
       "</style>\n",
       "<table border=\"1\" class=\"dataframe\">\n",
       "  <thead>\n",
       "    <tr style=\"text-align: right;\">\n",
       "      <th></th>\n",
       "      <th>OPEID</th>\n",
       "      <th>INSTNM</th>\n",
       "      <th>CITY</th>\n",
       "      <th>NUMBRANCH</th>\n",
       "      <th>PREDDEG</th>\n",
       "      <th>HIGHDEG</th>\n",
       "      <th>CONTROL</th>\n",
       "      <th>region</th>\n",
       "      <th>ADM_RATE</th>\n",
       "      <th>UGDS</th>\n",
       "      <th>...</th>\n",
       "      <th>RET_PTL4</th>\n",
       "      <th>PCTFLOAN</th>\n",
       "      <th>UG25abv</th>\n",
       "      <th>COMP_ORIG_YR4_RT</th>\n",
       "      <th>WDRAW_ORIG_YR4_RT</th>\n",
       "      <th>ENRL_ORIG_YR4_RT</th>\n",
       "      <th>DEBT_MDN</th>\n",
       "      <th>Year</th>\n",
       "      <th>NetPrice</th>\n",
       "      <th>Cost</th>\n",
       "    </tr>\n",
       "  </thead>\n",
       "  <tbody>\n",
       "    <tr>\n",
       "      <th>5001</th>\n",
       "      <td>00732903</td>\n",
       "      <td>itt technical institute</td>\n",
       "      <td>HOUSTON</td>\n",
       "      <td>6</td>\n",
       "      <td>2</td>\n",
       "      <td>2</td>\n",
       "      <td>3.0</td>\n",
       "      <td>6.0</td>\n",
       "      <td>0.4577</td>\n",
       "      <td>664.0</td>\n",
       "      <td>...</td>\n",
       "      <td>NaN</td>\n",
       "      <td>NaN</td>\n",
       "      <td>0.3298</td>\n",
       "      <td>0.351468</td>\n",
       "      <td>0.272453</td>\n",
       "      <td>0.008204</td>\n",
       "      <td>9791.0</td>\n",
       "      <td>2003-01-01</td>\n",
       "      <td>NaN</td>\n",
       "      <td>NaN</td>\n",
       "    </tr>\n",
       "    <tr>\n",
       "      <th>11510</th>\n",
       "      <td>00732903</td>\n",
       "      <td>itt technical institute</td>\n",
       "      <td>HOUSTON</td>\n",
       "      <td>6</td>\n",
       "      <td>2</td>\n",
       "      <td>2</td>\n",
       "      <td>3.0</td>\n",
       "      <td>6.0</td>\n",
       "      <td>0.3846</td>\n",
       "      <td>464.0</td>\n",
       "      <td>...</td>\n",
       "      <td>27.0000</td>\n",
       "      <td>NaN</td>\n",
       "      <td>NaN</td>\n",
       "      <td>0.336726</td>\n",
       "      <td>0.301327</td>\n",
       "      <td>0.015044</td>\n",
       "      <td>9126.0</td>\n",
       "      <td>2004-01-01</td>\n",
       "      <td>NaN</td>\n",
       "      <td>NaN</td>\n",
       "    </tr>\n",
       "    <tr>\n",
       "      <th>18138</th>\n",
       "      <td>00732903</td>\n",
       "      <td>itt technical institute</td>\n",
       "      <td>Houston</td>\n",
       "      <td>6</td>\n",
       "      <td>2</td>\n",
       "      <td>2</td>\n",
       "      <td>3.0</td>\n",
       "      <td>6.0</td>\n",
       "      <td>0.5191</td>\n",
       "      <td>380.0</td>\n",
       "      <td>...</td>\n",
       "      <td>53.0000</td>\n",
       "      <td>NaN</td>\n",
       "      <td>0.3763</td>\n",
       "      <td>0.440325</td>\n",
       "      <td>0.307866</td>\n",
       "      <td>0.013562</td>\n",
       "      <td>8834.0</td>\n",
       "      <td>2005-01-01</td>\n",
       "      <td>NaN</td>\n",
       "      <td>NaN</td>\n",
       "    </tr>\n",
       "    <tr>\n",
       "      <th>24917</th>\n",
       "      <td>00732903</td>\n",
       "      <td>itt technical institute-houston north</td>\n",
       "      <td>Houston</td>\n",
       "      <td>6</td>\n",
       "      <td>2</td>\n",
       "      <td>2</td>\n",
       "      <td>3.0</td>\n",
       "      <td>6.0</td>\n",
       "      <td>0.4413</td>\n",
       "      <td>385.0</td>\n",
       "      <td>...</td>\n",
       "      <td>52.0000</td>\n",
       "      <td>NaN</td>\n",
       "      <td>NaN</td>\n",
       "      <td>0.404772</td>\n",
       "      <td>0.380913</td>\n",
       "      <td>0.013395</td>\n",
       "      <td>7292.0</td>\n",
       "      <td>2006-01-01</td>\n",
       "      <td>NaN</td>\n",
       "      <td>NaN</td>\n",
       "    </tr>\n",
       "    <tr>\n",
       "      <th>31720</th>\n",
       "      <td>00732903</td>\n",
       "      <td>itt technical institute-houston north</td>\n",
       "      <td>Houston</td>\n",
       "      <td>6</td>\n",
       "      <td>2</td>\n",
       "      <td>2</td>\n",
       "      <td>3.0</td>\n",
       "      <td>6.0</td>\n",
       "      <td>0.3772</td>\n",
       "      <td>448.0</td>\n",
       "      <td>...</td>\n",
       "      <td>NaN</td>\n",
       "      <td>NaN</td>\n",
       "      <td>0.3996</td>\n",
       "      <td>0.358586</td>\n",
       "      <td>0.418110</td>\n",
       "      <td>0.013348</td>\n",
       "      <td>7501.0</td>\n",
       "      <td>2007-01-01</td>\n",
       "      <td>NaN</td>\n",
       "      <td>NaN</td>\n",
       "    </tr>\n",
       "    <tr>\n",
       "      <th>38577</th>\n",
       "      <td>00732903</td>\n",
       "      <td>itt technical institute-houston north</td>\n",
       "      <td>Houston</td>\n",
       "      <td>6</td>\n",
       "      <td>2</td>\n",
       "      <td>2</td>\n",
       "      <td>3.0</td>\n",
       "      <td>6.0</td>\n",
       "      <td>0.4512</td>\n",
       "      <td>641.0</td>\n",
       "      <td>...</td>\n",
       "      <td>0.2000</td>\n",
       "      <td>NaN</td>\n",
       "      <td>NaN</td>\n",
       "      <td>0.304580</td>\n",
       "      <td>0.428954</td>\n",
       "      <td>0.018723</td>\n",
       "      <td>9500.0</td>\n",
       "      <td>2008-01-01</td>\n",
       "      <td>NaN</td>\n",
       "      <td>NaN</td>\n",
       "    </tr>\n",
       "    <tr>\n",
       "      <th>45513</th>\n",
       "      <td>00732903</td>\n",
       "      <td>itt technical institute-houston north</td>\n",
       "      <td>Houston</td>\n",
       "      <td>6</td>\n",
       "      <td>2</td>\n",
       "      <td>2</td>\n",
       "      <td>3.0</td>\n",
       "      <td>6.0</td>\n",
       "      <td>0.4825</td>\n",
       "      <td>905.0</td>\n",
       "      <td>...</td>\n",
       "      <td>0.2222</td>\n",
       "      <td>0.8830</td>\n",
       "      <td>0.5006</td>\n",
       "      <td>0.292739</td>\n",
       "      <td>0.398033</td>\n",
       "      <td>0.021984</td>\n",
       "      <td>9500.0</td>\n",
       "      <td>2009-01-01</td>\n",
       "      <td>23402.0</td>\n",
       "      <td>25424.0</td>\n",
       "    </tr>\n",
       "    <tr>\n",
       "      <th>52622</th>\n",
       "      <td>00732903</td>\n",
       "      <td>itt technical institute-houston north</td>\n",
       "      <td>Houston</td>\n",
       "      <td>119</td>\n",
       "      <td>2</td>\n",
       "      <td>2</td>\n",
       "      <td>3.0</td>\n",
       "      <td>6.0</td>\n",
       "      <td>0.4178</td>\n",
       "      <td>1007.0</td>\n",
       "      <td>...</td>\n",
       "      <td>NaN</td>\n",
       "      <td>0.8729</td>\n",
       "      <td>NaN</td>\n",
       "      <td>0.312364</td>\n",
       "      <td>0.385304</td>\n",
       "      <td>0.021692</td>\n",
       "      <td>6334.0</td>\n",
       "      <td>2010-01-01</td>\n",
       "      <td>19505.0</td>\n",
       "      <td>24635.0</td>\n",
       "    </tr>\n",
       "  </tbody>\n",
       "</table>\n",
       "<p>8 rows × 30 columns</p>\n",
       "</div>"
      ],
      "text/plain": [
       "          OPEID                                 INSTNM     CITY  NUMBRANCH  \\\n",
       "5001   00732903                itt technical institute  HOUSTON          6   \n",
       "11510  00732903                itt technical institute  HOUSTON          6   \n",
       "18138  00732903                itt technical institute  Houston          6   \n",
       "24917  00732903  itt technical institute-houston north  Houston          6   \n",
       "31720  00732903  itt technical institute-houston north  Houston          6   \n",
       "38577  00732903  itt technical institute-houston north  Houston          6   \n",
       "45513  00732903  itt technical institute-houston north  Houston          6   \n",
       "52622  00732903  itt technical institute-houston north  Houston        119   \n",
       "\n",
       "      PREDDEG HIGHDEG CONTROL region  ADM_RATE    UGDS  ...  RET_PTL4  \\\n",
       "5001        2       2     3.0    6.0    0.4577   664.0  ...       NaN   \n",
       "11510       2       2     3.0    6.0    0.3846   464.0  ...   27.0000   \n",
       "18138       2       2     3.0    6.0    0.5191   380.0  ...   53.0000   \n",
       "24917       2       2     3.0    6.0    0.4413   385.0  ...   52.0000   \n",
       "31720       2       2     3.0    6.0    0.3772   448.0  ...       NaN   \n",
       "38577       2       2     3.0    6.0    0.4512   641.0  ...    0.2000   \n",
       "45513       2       2     3.0    6.0    0.4825   905.0  ...    0.2222   \n",
       "52622       2       2     3.0    6.0    0.4178  1007.0  ...       NaN   \n",
       "\n",
       "       PCTFLOAN  UG25abv  COMP_ORIG_YR4_RT  WDRAW_ORIG_YR4_RT  \\\n",
       "5001        NaN   0.3298          0.351468           0.272453   \n",
       "11510       NaN      NaN          0.336726           0.301327   \n",
       "18138       NaN   0.3763          0.440325           0.307866   \n",
       "24917       NaN      NaN          0.404772           0.380913   \n",
       "31720       NaN   0.3996          0.358586           0.418110   \n",
       "38577       NaN      NaN          0.304580           0.428954   \n",
       "45513    0.8830   0.5006          0.292739           0.398033   \n",
       "52622    0.8729      NaN          0.312364           0.385304   \n",
       "\n",
       "       ENRL_ORIG_YR4_RT  DEBT_MDN       Year  NetPrice     Cost  \n",
       "5001           0.008204    9791.0 2003-01-01       NaN      NaN  \n",
       "11510          0.015044    9126.0 2004-01-01       NaN      NaN  \n",
       "18138          0.013562    8834.0 2005-01-01       NaN      NaN  \n",
       "24917          0.013395    7292.0 2006-01-01       NaN      NaN  \n",
       "31720          0.013348    7501.0 2007-01-01       NaN      NaN  \n",
       "38577          0.018723    9500.0 2008-01-01       NaN      NaN  \n",
       "45513          0.021984    9500.0 2009-01-01   23402.0  25424.0  \n",
       "52622          0.021692    6334.0 2010-01-01   19505.0  24635.0  \n",
       "\n",
       "[8 rows x 30 columns]"
      ]
     },
     "execution_count": 32,
     "metadata": {},
     "output_type": "execute_result"
    }
   ],
   "source": [
    "itt_sample = data.loc[data.OPEID == '00732903']\n",
    "itt_sample"
   ]
  },
  {
   "cell_type": "markdown",
   "metadata": {},
   "source": []
  },
  {
   "cell_type": "markdown",
   "metadata": {},
   "source": [
    "All of these schools are in Houston. They may have different names - some include the name \"Houston\" or \"Houston-North.\" They also all have different IDs, which leads to some questions about how the ID number relates to the OPEID and the school name. This information may be in the data dictionary, or other meta-data documents."
   ]
  },
  {
   "cell_type": "markdown",
   "metadata": {},
   "source": [
    "## Explore categorical columns\n",
    "\n",
    "Several columns from the original analysis have been discarded from the current analysis.\n",
    "\n",
    "### Number of branches\n",
    "All of the schools were labeled as main branches in the original dataset, however some schools are associated with multiple branches."
   ]
  },
  {
   "cell_type": "code",
   "execution_count": 33,
   "metadata": {},
   "outputs": [
    {
     "name": "stdout",
     "output_type": "stream",
     "text": [
      "1      55705\n",
      "2       6871\n",
      "3       3806\n",
      "4       2374\n",
      "5       1510\n",
      "6       1130\n",
      "8        606\n",
      "7        521\n",
      "9        435\n",
      "11       430\n",
      "10       409\n",
      "23       301\n",
      "14       286\n",
      "141      282\n",
      "78       234\n",
      "74       222\n",
      "13       221\n",
      "26       182\n",
      "19       173\n",
      "86       172\n",
      "31       155\n",
      "38       152\n",
      "15       136\n",
      "16       129\n",
      "128      128\n",
      "119      119\n",
      "17       119\n",
      "28       115\n",
      "12       113\n",
      "99       101\n",
      "20       100\n",
      "93        95\n",
      "22        88\n",
      "44        88\n",
      "84        85\n",
      "85        85\n",
      "18        74\n",
      "72        72\n",
      "68        72\n",
      "71        71\n",
      "70        70\n",
      "63        63\n",
      "60        60\n",
      "59        59\n",
      "54        54\n",
      "51        51\n",
      "50        50\n",
      "42        42\n",
      "41        41\n",
      "40        40\n",
      "36        36\n",
      "33        33\n",
      "30        30\n",
      "21        21\n",
      "Name: NUMBRANCH, dtype: int64\n"
     ]
    },
    {
     "data": {
      "image/png": "[encoded data removed]",
      "text/plain": [
       "<Figure size 432x288 with 1 Axes>"
      ]
     },
     "metadata": {
      "needs_background": "light"
     },
     "output_type": "display_data"
    }
   ],
   "source": [
    "print(data['NUMBRANCH'].value_counts())\n",
    "plt.hist(data['NUMBRANCH'])\n",
    "plt.xlabel('Number of branches')\n",
    "plt.ylabel('Count')\n",
    "plt.yscale('log')\n",
    "plt.show()"
   ]
  },
  {
   "cell_type": "markdown",
   "metadata": {},
   "source": [
    "Most schools (55705) have only a single branch, while a few have more than 100 branches. It will be interesting to see how the number of branches might relate to school name and OPEID, particularly for the schools with more than 100 branches."
   ]
  },
  {
   "cell_type": "markdown",
   "metadata": {},
   "source": [
    "### Primary degree type\n",
    "\n",
    "What are the values and distribution of the 'Primary degree type' column? \n",
    "\n",
    "They have been processed as categorical data, but coded numerically - which is appropriate for the machine learning model, but not easily human-readable."
   ]
  },
  {
   "cell_type": "code",
   "execution_count": 34,
   "metadata": {},
   "outputs": [
    {
     "data": {
      "text/plain": [
       "Certificate       33193\n",
       "Bachelor          22214\n",
       "Associates        16234\n",
       "Not classified     3876\n",
       "Graduate           3100\n",
       "Name: PREDDEG, dtype: int64"
      ]
     },
     "execution_count": 34,
     "metadata": {},
     "output_type": "execute_result"
    }
   ],
   "source": [
    "predom_degree = {'0':'Not classified', '1':'Certificate', '2':'Associates', '3':'Bachelor', '4':'Graduate'}\n",
    "pred_deg = data['PREDDEG'].astype('str')\n",
    "\n",
    "for i in range(len(pred_deg)):\n",
    "    val = pred_deg[i]\n",
    "    cat = predom_degree[val]\n",
    "    pred_deg[i] = cat\n",
    "\n",
    "pred_deg.value_counts()"
   ]
  },
  {
   "cell_type": "markdown",
   "metadata": {},
   "source": [
    "### High degree awarded\n",
    "What are the values and distributions in the 'High degree' column? Again, these should be categorical variables. How is the highest degree offered by an institution related to the primary degree type?"
   ]
  },
  {
   "cell_type": "code",
   "execution_count": 35,
   "metadata": {},
   "outputs": [
    {
     "data": {
      "text/plain": [
       "Certificate    26448\n",
       "Graduate       20709\n",
       "Associates     18820\n",
       "Bachelor        8764\n",
       "No degree       3876\n",
       "Name: HIGHDEG, dtype: int64"
      ]
     },
     "execution_count": 35,
     "metadata": {},
     "output_type": "execute_result"
    }
   ],
   "source": [
    "high_degree = {'0':'No degree', '1':'Certificate', '2':'Associates', '3':'Bachelor', '4':'Graduate'}\n",
    "high_deg = data['HIGHDEG'].astype('str')\n",
    "\n",
    "for i in range(len(high_deg)):\n",
    "    val = high_deg[i]\n",
    "    cat = high_degree[val]\n",
    "    high_deg[i] = cat\n",
    "\n",
    "high_deg.value_counts()"
   ]
  },
  {
   "cell_type": "markdown",
   "metadata": {},
   "source": [
    "Interestingly, there are 3876 non-degree-granting institutions, which is the same number as the \"Not classifed\" category in the 'Primary degree type' column.\n",
    "\n",
    "The following pivot table and heat map shows how the primary degree type and the high degree type are related."
   ]
  },
  {
   "cell_type": "code",
   "execution_count": 36,
   "metadata": {},
   "outputs": [
    {
     "name": "stdout",
     "output_type": "stream",
     "text": [
      "HIGHDEG     0      1      2     3      4\n",
      "PREDDEG                                 \n",
      "0        3876      0      0     0      0\n",
      "1           0  26448   6002   420    323\n",
      "2           0      0  12818  2825    591\n",
      "3           0      0      0  5519  16695\n",
      "4           0      0      0     0   3100\n"
     ]
    },
    {
     "data": {
      "text/plain": [
       "<matplotlib.axes._subplots.AxesSubplot at 0x1a1b19f890>"
      ]
     },
     "execution_count": 36,
     "metadata": {},
     "output_type": "execute_result"
    },
    {
     "data": {
      "image/png": "[encoded data removed]",
      "text/plain": [
       "<Figure size 432x288 with 2 Axes>"
      ]
     },
     "metadata": {
      "needs_background": "light"
     },
     "output_type": "display_data"
    }
   ],
   "source": [
    "degree = data.pivot_table(index='PREDDEG', columns='HIGHDEG', aggfunc='size')\n",
    "print(degree)\n",
    "sns.heatmap(degree, cmap='YlGnBu')"
   ]
  },
  {
   "cell_type": "markdown",
   "metadata": {},
   "source": [
    "Indeed, the 3876 'Non-degree granting institutions' from 'High degree\" are the same as the 'Not classified' schools from 'Primary degree type'.\n",
    "\n",
    "Not surprisingly, the highest degrees offered at each institution are at least as high as their primary degree - there is not a primarily bachelor's granting institution with the highest degree of a certificate. However, the highest degree offered by a school may be higher than it's predominant degree type. For each school type, there are several primarily certificate institutions that also award graduate degrees.\n",
    "\n",
    "A vast majority of the certificate granting instutitions and associates granting institutions offer a certificate and associate's degree, respectively, as their highest degree. However, 73.7% of the bachelor's granting institutions offer graduate degrees as their highest degree.\n",
    "\n",
    "Given some of the predictability in the patterning between these two columns, it seems likely that only one of these categories will need to be kept in the final analysis. My inclination is to keep the 'Primary degree type' column, and delete the 'High degree' column."
   ]
  },
  {
   "cell_type": "markdown",
   "metadata": {},
   "source": [
    "### Control - Public, Private nonprofit and Private-for-profit\n",
    "What is the distribution of schools by \"Control\" type? There are three types coded in the data: Public, Private nonprofit and Private for-profit"
   ]
  },
  {
   "cell_type": "code",
   "execution_count": 37,
   "metadata": {},
   "outputs": [
    {
     "name": "stdout",
     "output_type": "stream",
     "text": [
      "Private for-profit    34238\n",
      "Public                23041\n",
      "Private nonprofit     21315\n",
      "Name: CONTROL, dtype: int64\n",
      "There are  23 null values.\n",
      "For profit =  43.563121866809176 %\n"
     ]
    }
   ],
   "source": [
    "control_type = {'1.0':'Public', '2.0':'Private nonprofit', '3.0':'Private for-profit', 'nan':np.nan}\n",
    "\n",
    "control_cat = data['CONTROL'].astype('str')\n",
    "\n",
    "for i in range(len(control_cat)):\n",
    "    val = control_cat[i]\n",
    "    cat = control_type[val]\n",
    "    control_cat[i] = cat\n",
    "\n",
    "print(control_cat.value_counts())\n",
    "print('There are ', control_cat.isnull().sum(), 'null values.')\n",
    "\n",
    "school_total = 34238 + 23041 + 21315\n",
    "percent_forprofit = (34238/school_total) * 100\n",
    "print(\"For profit = \" , percent_forprofit,\"%\")"
   ]
  },
  {
   "cell_type": "markdown",
   "metadata": {},
   "source": [
    "There are approximately equal numbers of public and private non-profit schools. About 40% of the schools are private for-profit schools. It will be interesting to see how the control type interacts with the other variables like cost, size, and degree type."
   ]
  },
  {
   "cell_type": "markdown",
   "metadata": {},
   "source": [
    "### Location - Region\n",
    "How are the schools distributed by state and region?\n",
    "While there is information available about the state of each school, the state and region would be highly correlated, since the region category is based on state."
   ]
  },
  {
   "cell_type": "code",
   "execution_count": 38,
   "metadata": {},
   "outputs": [
    {
     "data": {
      "text/plain": [
       "5.0    18928\n",
       "2.0    12616\n",
       "3.0    11711\n",
       "8.0    10884\n",
       "6.0     8015\n",
       "4.0     7095\n",
       "1.0     4756\n",
       "7.0     2820\n",
       "9.0     1751\n",
       "0.0       11\n",
       "Name: region, dtype: int64"
      ]
     },
     "execution_count": 38,
     "metadata": {},
     "output_type": "execute_result"
    }
   ],
   "source": [
    "region_dict = {\"0.0\": 'US Service Schools',\n",
    "               \"1.0\": 'New England',  # CT, ME, MA, NH, RI, VT\n",
    "               \"2.0\": 'Mid East',     # DE, DC, MD, NJ, NY, PA\n",
    "               \"3.0\": 'Great Lakes',  # IL, IN, MI, OH, WI\n",
    "               \"4.0\": 'Plains',       # IA, KS, MN, MO, NE, ND, SD\n",
    "               \"5.0\": 'Southeast',    # AL, AR, FL, GA, KY, LA, MS, NC, SC, TN, VA, WV\n",
    "               \"6.0\": 'Southwest',    # AZ, NM, OK, TX\n",
    "               \"7.0\": 'Rocky Mountains', # CO, ID, MT, UT, WY\n",
    "               \"8.0\": 'Far West',     # AK, CA, HI, NV, OR, WA\n",
    "               \"9.0\": 'Outlying Areas' # AS, FM, GU, MH, MP, PR, PW, VI\n",
    "}\n",
    "\n",
    "data.region.value_counts()"
   ]
  },
  {
   "cell_type": "markdown",
   "metadata": {},
   "source": [
    "## Explore columns with numerical values\n",
    "### Enrollment\n",
    "The 'Enrollment-DegreeSeeking' column contains the number undergraduate degree-seeking students enrolled at the institution."
   ]
  },
  {
   "cell_type": "code",
   "execution_count": 39,
   "metadata": {},
   "outputs": [
    {
     "name": "stdout",
     "output_type": "stream",
     "text": [
      "Null count:  5806\n",
      "Schools with 0 Enrollment 30\n"
     ]
    },
    {
     "data": {
      "text/plain": [
       "count     72811.000000\n",
       "mean       2301.504457\n",
       "std        5170.576937\n",
       "min           0.000000\n",
       "25%         129.000000\n",
       "50%         526.000000\n",
       "75%        2086.000000\n",
       "max      253594.000000\n",
       "Name: UGDS, dtype: float64"
      ]
     },
     "execution_count": 39,
     "metadata": {},
     "output_type": "execute_result"
    }
   ],
   "source": [
    "print('Null count: ', data['UGDS'].isnull().sum())\n",
    "zero = data.loc[data['UGDS']==0]\n",
    "print('Schools with 0 Enrollment', zero.shape[1])\n",
    "data['UGDS'].describe().T"
   ]
  },
  {
   "cell_type": "code",
   "execution_count": 40,
   "metadata": {},
   "outputs": [
    {
     "data": {
      "image/png": "[encoded data removed]",
      "text/plain": [
       "<Figure size 432x288 with 1 Axes>"
      ]
     },
     "metadata": {
      "needs_background": "light"
     },
     "output_type": "display_data"
    }
   ],
   "source": [
    "sns.boxplot('UGDS', data=data)\n",
    "plt.title('Distribution of Enrollment of Degree Seeking students')\n",
    "plt.xscale('log')\n",
    "plt.xlim([1, 260000])\n",
    "plt.show()"
   ]
  },
  {
   "cell_type": "markdown",
   "metadata": {},
   "source": [
    "Given the wide range of enrollments and huge numbers of outliers, it might be helpful to convert enrollment into bins - small, medium, large, huge; or by number ranges"
   ]
  },
  {
   "cell_type": "code",
   "execution_count": 41,
   "metadata": {},
   "outputs": [
    {
     "data": {
      "text/plain": [
       "small     20246\n",
       "xl        18729\n",
       "large     18342\n",
       "medium    15340\n",
       "none         28\n",
       "Name: EnrollmentBins, dtype: int64"
      ]
     },
     "execution_count": 41,
     "metadata": {},
     "output_type": "execute_result"
    }
   ],
   "source": [
    "# Convert to bins - experiment with different values to see what works\n",
    "bins=[0, 1, 150, 500, 2000, 260000]\n",
    "labels = ['none', 'small', 'medium', 'large', 'xl']\n",
    "#bins = {'none': 0, 'small': 1-150, 'medium': 151-500, 'large': 501-2000, 'xl': 2000+}\n",
    "data[\"EnrollmentBins\"]=pd.cut(data['UGDS'], bins, labels = labels )\n",
    "data[\"EnrollmentBins\"].value_counts()"
   ]
  },
  {
   "cell_type": "markdown",
   "metadata": {},
   "source": [
    "### Tuition Revenue\n",
    "\n",
    "The next column contains the Tuition Revenue per Full-Time equivalent student. According to the data dictionary, this is the net tuition revenue (tuition revenue minus discounts and allowances) divided by the number of FTE students (undergraduates and graduate students). Generally, a full time equivalence is 12 undergraduate credit hours or 6 graduate hours per semester."
   ]
  },
  {
   "cell_type": "code",
   "execution_count": 42,
   "metadata": {},
   "outputs": [
    {
     "name": "stdout",
     "output_type": "stream",
     "text": [
      "Null count:  3328\n",
      "Schools with 0 TuitionRevenue/FTE 31\n"
     ]
    },
    {
     "data": {
      "text/plain": [
       "count    7.528900e+04\n",
       "mean     1.005315e+04\n",
       "std      1.139392e+05\n",
       "min      0.000000e+00\n",
       "25%      2.839000e+03\n",
       "50%      6.520000e+03\n",
       "75%      1.137800e+04\n",
       "max      2.667016e+07\n",
       "Name: TUITFTE, dtype: float64"
      ]
     },
     "execution_count": 42,
     "metadata": {},
     "output_type": "execute_result"
    }
   ],
   "source": [
    "print('Null count: ', data['TUITFTE'].isnull().sum())\n",
    "\n",
    "zero = data.loc[data['TUITFTE']==0]\n",
    "print('Schools with 0 TuitionRevenue/FTE', zero.shape[1])\n",
    "\n",
    "data['TUITFTE'].describe()"
   ]
  },
  {
   "cell_type": "code",
   "execution_count": 43,
   "metadata": {},
   "outputs": [
    {
     "name": "stderr",
     "output_type": "stream",
     "text": [
      "/opt/anaconda3/lib/python3.7/site-packages/numpy/lib/histograms.py:839: RuntimeWarning: invalid value encountered in greater_equal\n",
      "  keep = (tmp_a >= first_edge)\n",
      "/opt/anaconda3/lib/python3.7/site-packages/numpy/lib/histograms.py:840: RuntimeWarning: invalid value encountered in less_equal\n",
      "  keep &= (tmp_a <= last_edge)\n"
     ]
    },
    {
     "data": {
      "image/png": "[encoded data removed]",
      "text/plain": [
       "<Figure size 1000x500 with 2 Axes>"
      ]
     },
     "metadata": {},
     "output_type": "display_data"
    }
   ],
   "source": [
    "fig=plt.figure(figsize=(10,5), dpi= 100, facecolor='w', edgecolor='k')\n",
    "plt.subplot(1, 2, 1)\n",
    "sns.boxplot('TUITFTE', data=data)\n",
    "plt.xlabel('TuitionRevenue/FTE')\n",
    "plt.xscale('log')\n",
    "plt.xlim([1, 2.67e+07])\n",
    "\n",
    "plt.subplot(1, 2, 2)\n",
    "plt.hist(data['TUITFTE'])\n",
    "plt.xlabel('TuitionRevenue/FTE')\n",
    "plt.ylabel('Count')\n",
    "plt.xscale('log')\n",
    "plt.yscale('log')\n",
    "plt.show()"
   ]
  },
  {
   "cell_type": "markdown",
   "metadata": {},
   "source": [
    "There are 31 schools that report 0 tuition revenue, though 3328 schools have null values. It might be worth binning the Tuition Revenue column into ranges, or groups.\n",
    "\n",
    "One school seems to have a much higher tuition than the others. Which school is this, and what is their tuition rate?"
   ]
  },
  {
   "cell_type": "code",
   "execution_count": 44,
   "metadata": {},
   "outputs": [
    {
     "name": "stdout",
     "output_type": "stream",
     "text": [
      "brooks college 26670163.0\n"
     ]
    }
   ],
   "source": [
    "high_tuition_school = data['TUITFTE'].max()\n",
    "high_tuition = data.loc[data['TUITFTE']==high_tuition_school]\n",
    "\n",
    "high_tuition.iloc[0]\n",
    "high_tuition_name = high_tuition.iloc[0]['INSTNM']\n",
    "high_tuition_amount = high_tuition.iloc[0]['TUITFTE']\n",
    "\n",
    "print(high_tuition_name, high_tuition_amount)"
   ]
  },
  {
   "cell_type": "markdown",
   "metadata": {},
   "source": [
    "Brooks College in Long Beach, CA has a tuition revenue of $26,670,163, which seems really high. I'm going to drop this school for the purposes of the following exploration."
   ]
  },
  {
   "cell_type": "code",
   "execution_count": 45,
   "metadata": {},
   "outputs": [],
   "source": [
    "data.drop(high_tuition.index, inplace=True)"
   ]
  },
  {
   "cell_type": "code",
   "execution_count": 47,
   "metadata": {},
   "outputs": [
    {
     "data": {
      "text/plain": [
       "highest    23411\n",
       "med        18612\n",
       "high       16564\n",
       "low        16389\n",
       "none           1\n",
       "Name: TuitionBins, dtype: int64"
      ]
     },
     "execution_count": 47,
     "metadata": {},
     "output_type": "execute_result"
    }
   ],
   "source": [
    "# Convert tuition to bins\n",
    "bins = [0, 1, 2500, 6000, 10000, 30000000]\n",
    "label = ['none', 'low', 'med', 'high', 'highest']\n",
    "data['TuitionBins'] = pd.cut(data['TUITFTE'], bins=bins, labels = label)\n",
    "data.TuitionBins.value_counts()"
   ]
  },
  {
   "cell_type": "markdown",
   "metadata": {},
   "source": [
    "### Expenditure\n",
    "Next, is the Expenditure/FTE column which contains \"Instructional expenditures divided by the number of FTE students (undergraduates and graduate students) (http://nces.ed.gov/ipeds/glossary/index.asp?id=854).\""
   ]
  },
  {
   "cell_type": "code",
   "execution_count": 48,
   "metadata": {},
   "outputs": [
    {
     "name": "stdout",
     "output_type": "stream",
     "text": [
      "Null count:  3328\n",
      "Schools with 0 Expenditure/FTE 32\n"
     ]
    },
    {
     "data": {
      "text/plain": [
       "count    7.528800e+04\n",
       "mean     1.313820e+04\n",
       "std      1.079002e+06\n",
       "min      0.000000e+00\n",
       "25%      2.654000e+03\n",
       "50%      4.391000e+03\n",
       "75%      6.979250e+03\n",
       "max      2.920157e+08\n",
       "Name: INEXPFTE, dtype: float64"
      ]
     },
     "execution_count": 48,
     "metadata": {},
     "output_type": "execute_result"
    }
   ],
   "source": [
    "print('Null count: ', data['INEXPFTE'].isnull().sum())\n",
    "zero = data.loc[data['INEXPFTE']==0]\n",
    "print('Schools with 0 Expenditure/FTE', zero.shape[1])\n",
    "\n",
    "data['INEXPFTE'].describe()"
   ]
  },
  {
   "cell_type": "code",
   "execution_count": 49,
   "metadata": {},
   "outputs": [
    {
     "name": "stderr",
     "output_type": "stream",
     "text": [
      "/opt/anaconda3/lib/python3.7/site-packages/numpy/lib/histograms.py:839: RuntimeWarning: invalid value encountered in greater_equal\n",
      "  keep = (tmp_a >= first_edge)\n",
      "/opt/anaconda3/lib/python3.7/site-packages/numpy/lib/histograms.py:840: RuntimeWarning: invalid value encountered in less_equal\n",
      "  keep &= (tmp_a <= last_edge)\n"
     ]
    },
    {
     "data": {
      "image/png": "[encoded data removed]",
      "text/plain": [
       "<Figure size 1000x500 with 2 Axes>"
      ]
     },
     "metadata": {},
     "output_type": "display_data"
    }
   ],
   "source": [
    "fig=plt.figure(figsize=(10,5), dpi= 100, facecolor='w', edgecolor='k')\n",
    "plt.subplot(1, 2, 1)\n",
    "sns.boxplot('INEXPFTE', data=data)\n",
    "plt.xscale('log')\n",
    "\n",
    "plt.subplot(1, 2, 2)\n",
    "plt.hist(data['INEXPFTE'])\n",
    "plt.xlabel('Expenditure/FTE')\n",
    "plt.ylabel('Count')\n",
    "#plt.xscale('log')\n",
    "plt.yscale('log')\n",
    "plt.show()"
   ]
  },
  {
   "cell_type": "code",
   "execution_count": null,
   "metadata": {},
   "outputs": [],
   "source": []
  },
  {
   "cell_type": "markdown",
   "metadata": {},
   "source": [
    "What is the school with the max value? It seems to be way higher than even the other high values."
   ]
  },
  {
   "cell_type": "code",
   "execution_count": 50,
   "metadata": {},
   "outputs": [
    {
     "name": "stdout",
     "output_type": "stream",
     "text": [
      "st joseph school of nursing 292015675.0\n"
     ]
    }
   ],
   "source": [
    "max_expend = data['INEXPFTE'].max()\n",
    "max_expenditure_school = data.loc[data['INEXPFTE']== max_expend]\n",
    "#print(max_expenditure_school.Name)\n",
    "#data.drop(max_expenditure_school.index, inplace=True)\n",
    "\n",
    "max_expenditure_school.iloc[0]\n",
    "max_expend_name = max_expenditure_school.iloc[0]['INSTNM']\n",
    "max_expend_amount = max_expenditure_school.iloc[0]['INEXPFTE']\n",
    "\n",
    "print(max_expend_name, max_expend_amount)"
   ]
  },
  {
   "cell_type": "markdown",
   "metadata": {},
   "source": [
    "I wonder why St. Joseph School of Nursing has such a high Expenditure/FTE. It is certificate granting institution with the highest degree as a certificate. I'm going to drop this school for now.\n",
    "\n",
    "It will be interesting to see if Tuition/Revenue and Expenditure correlate."
   ]
  },
  {
   "cell_type": "code",
   "execution_count": 51,
   "metadata": {},
   "outputs": [
    {
     "data": {
      "text/plain": [
       "med        33640\n",
       "low        17028\n",
       "high       14747\n",
       "highest     9686\n",
       "none           7\n",
       "Name: ExpenditureBins, dtype: int64"
      ]
     },
     "execution_count": 51,
     "metadata": {},
     "output_type": "execute_result"
    }
   ],
   "source": [
    "# Convert values to bins\n",
    "data['ExpenditureBins'] = pd.cut(data['INEXPFTE'], bins=bins, labels = label)\n",
    "data.ExpenditureBins.value_counts()"
   ]
  },
  {
   "cell_type": "markdown",
   "metadata": {},
   "source": [
    "### Admission Rate\n",
    "\n",
    "The Admission Rate is the \"number of admitted undergraduates divided by the number of undergraduates who applied.\""
   ]
  },
  {
   "cell_type": "code",
   "execution_count": null,
   "metadata": {},
   "outputs": [],
   "source": [
    "print('Null count: ', data['ADM_RATE'].isnull().sum())\n",
    "zero = data.loc[data['ADM_RATE']==0]\n",
    "print('Schools with 0 Admission Rate', zero.shape[1])\n",
    "\n",
    "data['ADM_RATE'].describe()"
   ]
  },
  {
   "cell_type": "code",
   "execution_count": 56,
   "metadata": {},
   "outputs": [
    {
     "name": "stderr",
     "output_type": "stream",
     "text": [
      "/opt/anaconda3/lib/python3.7/site-packages/numpy/lib/histograms.py:839: RuntimeWarning: invalid value encountered in greater_equal\n",
      "  keep = (tmp_a >= first_edge)\n",
      "/opt/anaconda3/lib/python3.7/site-packages/numpy/lib/histograms.py:840: RuntimeWarning: invalid value encountered in less_equal\n",
      "  keep &= (tmp_a <= last_edge)\n"
     ]
    },
    {
     "data": {
      "image/png": "[encoded data removed]",
      "text/plain": [
       "<Figure size 1000x500 with 2 Axes>"
      ]
     },
     "metadata": {},
     "output_type": "display_data"
    }
   ],
   "source": [
    "fig=plt.figure(figsize=(10,5), dpi= 100, facecolor='w', edgecolor='k')\n",
    "plt.subplot(1, 2, 1)\n",
    "sns.boxplot('ADM_RATE', data=data)\n",
    "#plt.xscale('log')\n",
    "\n",
    "plt.subplot(1, 2, 2)\n",
    "plt.hist(data['ADM_RATE'])\n",
    "plt.xlabel('Admission Rate')\n",
    "plt.ylabel('Count')\n",
    "#plt.xscale('log')\n",
    "#plt.yscale('log')\n",
    "plt.tight_layout()\n",
    "plt.show()"
   ]
  },
  {
   "cell_type": "markdown",
   "metadata": {},
   "source": [
    "The value of 10 is way to high - since the max value should be 1. I'm going to replace this value with 1."
   ]
  },
  {
   "cell_type": "code",
   "execution_count": 59,
   "metadata": {},
   "outputs": [
    {
     "name": "stdout",
     "output_type": "stream",
     "text": [
      "5757    marion community schools tucker career & techn...\n",
      "Name: INSTNM, dtype: object\n"
     ]
    }
   ],
   "source": [
    "admin_rate = data['ADM_RATE'].max()\n",
    "admin_rate_school = data.loc[data['ADM_RATE']== admin_rate]\n",
    "print(admin_rate_school.INSTNM)\n",
    "data.loc[admin_rate_school.index, 'ADM_RATE'] = 1\n",
    "#data.drop(max_expenditure_school.index, inplace=True)"
   ]
  },
  {
   "cell_type": "code",
   "execution_count": 60,
   "metadata": {},
   "outputs": [
    {
     "data": {
      "text/plain": [
       "count    28863.000000\n",
       "mean         0.690000\n",
       "std          0.218136\n",
       "min          0.000000\n",
       "25%          0.547500\n",
       "50%          0.712600\n",
       "75%          0.855200\n",
       "max          1.000000\n",
       "Name: ADM_RATE, dtype: float64"
      ]
     },
     "execution_count": 60,
     "metadata": {},
     "output_type": "execute_result"
    }
   ],
   "source": [
    "data['ADM_RATE'].describe()"
   ]
  },
  {
   "cell_type": "markdown",
   "metadata": {},
   "source": [
    "### Average monthly faculty salary\n",
    "\n",
    "The next column is Average Faculty Salary per month. According to the data dictionary, it is calculated from the \"total salary outlays divided by the number of months worked for all full-time nonmedical instructional staff.\" "
   ]
  },
  {
   "cell_type": "code",
   "execution_count": 61,
   "metadata": {},
   "outputs": [
    {
     "name": "stdout",
     "output_type": "stream",
     "text": [
      "Null count:  30871\n",
      "Schools with 0 AvgFaculty Salary 33\n"
     ]
    },
    {
     "data": {
      "text/plain": [
       "count    47745.000000\n",
       "mean      5535.529207\n",
       "std       2025.078435\n",
       "min         42.000000\n",
       "25%       4200.000000\n",
       "50%       5313.000000\n",
       "75%       6615.000000\n",
       "max      24892.000000\n",
       "Name: AVGFACSAL, dtype: float64"
      ]
     },
     "execution_count": 61,
     "metadata": {},
     "output_type": "execute_result"
    }
   ],
   "source": [
    "print('Null count: ', data['AVGFACSAL'].isnull().sum())\n",
    "zero = data.loc[data['AVGFACSAL']==0]\n",
    "print('Schools with 0 AvgFaculty Salary', zero.shape[1])\n",
    "\n",
    "data['AVGFACSAL'].describe()"
   ]
  },
  {
   "cell_type": "code",
   "execution_count": 62,
   "metadata": {},
   "outputs": [
    {
     "name": "stderr",
     "output_type": "stream",
     "text": [
      "/opt/anaconda3/lib/python3.7/site-packages/numpy/lib/histograms.py:839: RuntimeWarning: invalid value encountered in greater_equal\n",
      "  keep = (tmp_a >= first_edge)\n",
      "/opt/anaconda3/lib/python3.7/site-packages/numpy/lib/histograms.py:840: RuntimeWarning: invalid value encountered in less_equal\n",
      "  keep &= (tmp_a <= last_edge)\n"
     ]
    },
    {
     "data": {
      "image/png": "[encoded data removed]",
      "text/plain": [
       "<Figure size 1000x300 with 2 Axes>"
      ]
     },
     "metadata": {},
     "output_type": "display_data"
    }
   ],
   "source": [
    "fig=plt.figure(figsize=(10,3), dpi= 100, facecolor='w', edgecolor='k')\n",
    "plt.subplot(1, 2, 1)\n",
    "sns.boxplot('AVGFACSAL', data=data)\n",
    "\n",
    "plt.subplot(1, 2, 2)\n",
    "plt.hist(data['AVGFACSAL'])\n",
    "plt.xlabel('Avg Faculty Salary')\n",
    "plt.ylabel('Count')\n",
    "#plt.xscale('log')\n",
    "plt.tight_layout()\n",
    "plt.show()"
   ]
  },
  {
   "cell_type": "markdown",
   "metadata": {},
   "source": [
    "Given the wide distribution of these values, it might be worth putting them into bins.\n",
    "\n",
    "It will be interesting to see how faculty salary varies by school type, size, and tuition revenue."
   ]
  },
  {
   "cell_type": "code",
   "execution_count": 63,
   "metadata": {},
   "outputs": [
    {
     "data": {
      "text/plain": [
       "med        20620\n",
       "high       11805\n",
       "low        10156\n",
       "highest     5164\n",
       "none           0\n",
       "Name: FacultyBins, dtype: int64"
      ]
     },
     "execution_count": 63,
     "metadata": {},
     "output_type": "execute_result"
    }
   ],
   "source": [
    "bins = [0, 1, 4000, 6000, 8000, 25000]\n",
    "data['FacultyBins'] = pd.cut(data['AVGFACSAL'], bins=bins, labels=label)\n",
    "data.FacultyBins.value_counts()"
   ]
  },
  {
   "cell_type": "markdown",
   "metadata": {},
   "source": [
    "### Percent fulltime faculty\n",
    "The next column is the percentage of faculty that are fulltime faculty. The value should be between 0 and 1."
   ]
  },
  {
   "cell_type": "code",
   "execution_count": 64,
   "metadata": {},
   "outputs": [
    {
     "name": "stdout",
     "output_type": "stream",
     "text": [
      "Null count:  23648\n",
      "Schools with 0 Percent Fulltime Faculty 34\n"
     ]
    },
    {
     "data": {
      "text/plain": [
       "count    54968.000000\n",
       "mean         0.579416\n",
       "std          0.299727\n",
       "min          0.000000\n",
       "25%          0.320500\n",
       "50%          0.555600\n",
       "75%          0.869725\n",
       "max          1.166700\n",
       "Name: PFTFAC, dtype: float64"
      ]
     },
     "execution_count": 64,
     "metadata": {},
     "output_type": "execute_result"
    }
   ],
   "source": [
    "print('Null count: ', data['PFTFAC'].isnull().sum())\n",
    "zero = data.loc[data['PFTFAC']==0]\n",
    "print('Schools with 0 Percent Fulltime Faculty', zero.shape[1])\n",
    "\n",
    "data['PFTFAC'].describe()"
   ]
  },
  {
   "cell_type": "code",
   "execution_count": 65,
   "metadata": {},
   "outputs": [
    {
     "data": {
      "image/png": "[encoded data removed]",
      "text/plain": [
       "<Figure size 432x288 with 1 Axes>"
      ]
     },
     "metadata": {
      "needs_background": "light"
     },
     "output_type": "display_data"
    }
   ],
   "source": [
    "plt.hist(data['PFTFAC'])\n",
    "plt.xlabel('Percent Fulltime Faculty')\n",
    "plt.ylabel('Count')\n",
    "plt.show()"
   ]
  },
  {
   "cell_type": "markdown",
   "metadata": {},
   "source": [
    "The max value for this column is 1.16. Since the value is a percent, it doesn't make sense for a school to be able to have more than 100% fulltime faculty.\n",
    "\n",
    "One school (see below) has more than 100% full time faculty. (It seems reasonable to replace the values with 1, since a value of more than 1 doesn't make sense.)"
   ]
  },
  {
   "cell_type": "code",
   "execution_count": 66,
   "metadata": {},
   "outputs": [
    {
     "data": {
      "text/html": [
       "<div>\n",
       "<style scoped>\n",
       "    .dataframe tbody tr th:only-of-type {\n",
       "        vertical-align: middle;\n",
       "    }\n",
       "\n",
       "    .dataframe tbody tr th {\n",
       "        vertical-align: top;\n",
       "    }\n",
       "\n",
       "    .dataframe thead th {\n",
       "        text-align: right;\n",
       "    }\n",
       "</style>\n",
       "<table border=\"1\" class=\"dataframe\">\n",
       "  <thead>\n",
       "    <tr style=\"text-align: right;\">\n",
       "      <th></th>\n",
       "      <th>OPEID</th>\n",
       "      <th>INSTNM</th>\n",
       "      <th>CITY</th>\n",
       "      <th>NUMBRANCH</th>\n",
       "      <th>PREDDEG</th>\n",
       "      <th>HIGHDEG</th>\n",
       "      <th>CONTROL</th>\n",
       "      <th>region</th>\n",
       "      <th>ADM_RATE</th>\n",
       "      <th>UGDS</th>\n",
       "      <th>...</th>\n",
       "      <th>WDRAW_ORIG_YR4_RT</th>\n",
       "      <th>ENRL_ORIG_YR4_RT</th>\n",
       "      <th>DEBT_MDN</th>\n",
       "      <th>Year</th>\n",
       "      <th>NetPrice</th>\n",
       "      <th>Cost</th>\n",
       "      <th>EnrollmentBins</th>\n",
       "      <th>TuitionBins</th>\n",
       "      <th>ExpenditureBins</th>\n",
       "      <th>FacultyBins</th>\n",
       "    </tr>\n",
       "  </thead>\n",
       "  <tbody>\n",
       "    <tr>\n",
       "      <th>1593</th>\n",
       "      <td>02337200</td>\n",
       "      <td>pj's college of cosmetology</td>\n",
       "      <td>BOWLING GREEN</td>\n",
       "      <td>5</td>\n",
       "      <td>1</td>\n",
       "      <td>1</td>\n",
       "      <td>3.0</td>\n",
       "      <td>5.0</td>\n",
       "      <td>NaN</td>\n",
       "      <td>45.0</td>\n",
       "      <td>...</td>\n",
       "      <td>0.259036</td>\n",
       "      <td>0.0</td>\n",
       "      <td>6625.0</td>\n",
       "      <td>2003-01-01</td>\n",
       "      <td>NaN</td>\n",
       "      <td>NaN</td>\n",
       "      <td>small</td>\n",
       "      <td>med</td>\n",
       "      <td>low</td>\n",
       "      <td>NaN</td>\n",
       "    </tr>\n",
       "  </tbody>\n",
       "</table>\n",
       "<p>1 rows × 34 columns</p>\n",
       "</div>"
      ],
      "text/plain": [
       "         OPEID                       INSTNM           CITY  NUMBRANCH PREDDEG  \\\n",
       "1593  02337200  pj's college of cosmetology  BOWLING GREEN          5       1   \n",
       "\n",
       "     HIGHDEG CONTROL region  ADM_RATE  UGDS  ...  WDRAW_ORIG_YR4_RT  \\\n",
       "1593       1     3.0    5.0       NaN  45.0  ...           0.259036   \n",
       "\n",
       "      ENRL_ORIG_YR4_RT  DEBT_MDN       Year  NetPrice  Cost  EnrollmentBins  \\\n",
       "1593               0.0    6625.0 2003-01-01       NaN   NaN           small   \n",
       "\n",
       "      TuitionBins  ExpenditureBins  FacultyBins  \n",
       "1593          med              low          NaN  \n",
       "\n",
       "[1 rows x 34 columns]"
      ]
     },
     "execution_count": 66,
     "metadata": {},
     "output_type": "execute_result"
    }
   ],
   "source": [
    "more_faculty = data.loc[data['PFTFAC'] > 1]\n",
    "data.loc[more_faculty.index, 'PFTFAC'] = 1\n",
    "more_faculty.head()"
   ]
  },
  {
   "cell_type": "markdown",
   "metadata": {},
   "source": [
    "### Proportion of students who complete a degree\n",
    "The next columns show the proportion of undergraduate students who completed their degree within 150% of the normal time. There is one column for institutions that offer primarily certificate and associate's degree programs, which typically take less than 4 years to complete. And one column for 4-year institutions.)"
   ]
  },
  {
   "cell_type": "code",
   "execution_count": 71,
   "metadata": {},
   "outputs": [
    {
     "data": {
      "text/html": [
       "<div>\n",
       "<style scoped>\n",
       "    .dataframe tbody tr th:only-of-type {\n",
       "        vertical-align: middle;\n",
       "    }\n",
       "\n",
       "    .dataframe tbody tr th {\n",
       "        vertical-align: top;\n",
       "    }\n",
       "\n",
       "    .dataframe thead th {\n",
       "        text-align: right;\n",
       "    }\n",
       "</style>\n",
       "<table border=\"1\" class=\"dataframe\">\n",
       "  <thead>\n",
       "    <tr style=\"text-align: right;\">\n",
       "      <th></th>\n",
       "      <th>C150_4</th>\n",
       "      <th>C150_L4</th>\n",
       "    </tr>\n",
       "  </thead>\n",
       "  <tbody>\n",
       "    <tr>\n",
       "      <th>0</th>\n",
       "      <td>0.3802</td>\n",
       "      <td>NaN</td>\n",
       "    </tr>\n",
       "    <tr>\n",
       "      <th>1</th>\n",
       "      <td>0.3857</td>\n",
       "      <td>NaN</td>\n",
       "    </tr>\n",
       "    <tr>\n",
       "      <th>2</th>\n",
       "      <td>NaN</td>\n",
       "      <td>NaN</td>\n",
       "    </tr>\n",
       "    <tr>\n",
       "      <th>3</th>\n",
       "      <td>0.4369</td>\n",
       "      <td>NaN</td>\n",
       "    </tr>\n",
       "    <tr>\n",
       "      <th>4</th>\n",
       "      <td>0.2117</td>\n",
       "      <td>NaN</td>\n",
       "    </tr>\n",
       "  </tbody>\n",
       "</table>\n",
       "</div>"
      ],
      "text/plain": [
       "   C150_4  C150_L4\n",
       "0  0.3802      NaN\n",
       "1  0.3857      NaN\n",
       "2     NaN      NaN\n",
       "3  0.4369      NaN\n",
       "4  0.2117      NaN"
      ]
     },
     "execution_count": 71,
     "metadata": {},
     "output_type": "execute_result"
    }
   ],
   "source": [
    "completion_rate = data[['C150_4', 'C150_L4']]\n",
    "not_null = completion_rate.notnull()\n",
    "eitherdf= completion_rate.loc[(not_null['C150_4'])|(not_null['C150_L4'])]\n",
    "#eitherdf.head()\n",
    "completion_rate.head()\n",
    "\n",
    "# print('Null count: ', completion_rate.isnull().sum())\n",
    "# zero = completion_rate.loc[completion_rate == 0]\n",
    "# print('Schools with 0 Completion < 4yr', zero.shape[1])\n",
    "\n",
    "#data['Completion<4yr'].describe()"
   ]
  },
  {
   "cell_type": "code",
   "execution_count": null,
   "metadata": {},
   "outputs": [],
   "source": [
    "# net_price = data[['NPT4_PUB', 'NPT4_PRIV']]\n",
    "# not_null = net_price.notnull()\n",
    "# eitherdf = net_price.loc[(not_null['NPT4_PUB'])|(not_null['NPT4_PRIV'])]\n",
    "\n",
    "# take_full = lambda s1, s2: s1 if np.isnan(s2) else s2\n",
    "\n",
    "# data['NetPrice'] = data['NPT4_PUB'].combine(data['NPT4_PRIV'], take_full)\n",
    "# data['Cost'] = data['COSTT4_P'].combine(data['COSTT4_A'], take_full)"
   ]
  }
 ],
 "metadata": {
  "kernelspec": {
   "display_name": "Python 3",
   "language": "python",
   "name": "python3"
  },
  "language_info": {
   "codemirror_mode": {
    "name": "ipython",
    "version": 3
   },
   "file_extension": ".py",
   "mimetype": "text/x-python",
   "name": "python",
   "nbconvert_exporter": "python",
   "pygments_lexer": "ipython3",
   "version": "3.7.7"
  }
 },
 "nbformat": 4,
 "nbformat_minor": 4
}
