{
 "cells": [
  {
   "cell_type": "code",
   "execution_count": 1,
   "metadata": {},
   "outputs": [],
   "source": [
    "# Set up the environment\n",
    "import pandas as pd\n",
    "import numpy as np\n",
    "import matplotlib.pyplot as plt\n",
    "import seaborn as sns\n",
    "import time\n",
    "%matplotlib inline"
   ]
  },
  {
   "cell_type": "code",
   "execution_count": 2,
   "metadata": {
    "scrolled": true
   },
   "outputs": [
    {
     "data": {
      "text/html": [
       "<div>\n",
       "<style scoped>\n",
       "    .dataframe tbody tr th:only-of-type {\n",
       "        vertical-align: middle;\n",
       "    }\n",
       "\n",
       "    .dataframe tbody tr th {\n",
       "        vertical-align: top;\n",
       "    }\n",
       "\n",
       "    .dataframe thead th {\n",
       "        text-align: right;\n",
       "    }\n",
       "</style>\n",
       "<table border=\"1\" class=\"dataframe\">\n",
       "  <thead>\n",
       "    <tr style=\"text-align: right;\">\n",
       "      <th></th>\n",
       "      <th>OPEID</th>\n",
       "      <th>INSTNM</th>\n",
       "      <th>CITY</th>\n",
       "      <th>NUMBRANCH</th>\n",
       "      <th>PREDDEG</th>\n",
       "      <th>HIGHDEG</th>\n",
       "      <th>CONTROL</th>\n",
       "      <th>region</th>\n",
       "      <th>ADM_RATE</th>\n",
       "      <th>UGDS</th>\n",
       "      <th>...</th>\n",
       "      <th>Cost</th>\n",
       "      <th>PREDDEG_N</th>\n",
       "      <th>Governance</th>\n",
       "      <th>EnrollmentBins</th>\n",
       "      <th>TuitionBins</th>\n",
       "      <th>ExpenditureBins</th>\n",
       "      <th>FacultyBins</th>\n",
       "      <th>Complete</th>\n",
       "      <th>RetentionFT</th>\n",
       "      <th>RetentionPT</th>\n",
       "    </tr>\n",
       "  </thead>\n",
       "  <tbody>\n",
       "    <tr>\n",
       "      <th>0</th>\n",
       "      <td>00100200</td>\n",
       "      <td>alabama a &amp; m university</td>\n",
       "      <td>Normal</td>\n",
       "      <td>1</td>\n",
       "      <td>3</td>\n",
       "      <td>4</td>\n",
       "      <td>1</td>\n",
       "      <td>5.0</td>\n",
       "      <td>0.5129</td>\n",
       "      <td>4930.0</td>\n",
       "      <td>...</td>\n",
       "      <td>13762.0</td>\n",
       "      <td>Bachelor</td>\n",
       "      <td>Public</td>\n",
       "      <td>xl</td>\n",
       "      <td>high</td>\n",
       "      <td>high</td>\n",
       "      <td>high</td>\n",
       "      <td>0.3306</td>\n",
       "      <td>0.7457</td>\n",
       "      <td>0.5000</td>\n",
       "    </tr>\n",
       "    <tr>\n",
       "      <th>1</th>\n",
       "      <td>00105200</td>\n",
       "      <td>university of alabama at birmingham</td>\n",
       "      <td>Birmingham</td>\n",
       "      <td>1</td>\n",
       "      <td>3</td>\n",
       "      <td>4</td>\n",
       "      <td>1</td>\n",
       "      <td>5.0</td>\n",
       "      <td>0.8243</td>\n",
       "      <td>10661.0</td>\n",
       "      <td>...</td>\n",
       "      <td>18003.0</td>\n",
       "      <td>Bachelor</td>\n",
       "      <td>Public</td>\n",
       "      <td>xl</td>\n",
       "      <td>high</td>\n",
       "      <td>highest</td>\n",
       "      <td>highest</td>\n",
       "      <td>0.4108</td>\n",
       "      <td>0.7997</td>\n",
       "      <td>0.7000</td>\n",
       "    </tr>\n",
       "    <tr>\n",
       "      <th>2</th>\n",
       "      <td>02503400</td>\n",
       "      <td>amridge university</td>\n",
       "      <td>Montgomery</td>\n",
       "      <td>1</td>\n",
       "      <td>3</td>\n",
       "      <td>4</td>\n",
       "      <td>2</td>\n",
       "      <td>5.0</td>\n",
       "      <td>0.7143</td>\n",
       "      <td>370.0</td>\n",
       "      <td>...</td>\n",
       "      <td>20700.0</td>\n",
       "      <td>Bachelor</td>\n",
       "      <td>Private nonprofit</td>\n",
       "      <td>medium</td>\n",
       "      <td>highest</td>\n",
       "      <td>med</td>\n",
       "      <td>low</td>\n",
       "      <td>0.2308</td>\n",
       "      <td>0.8000</td>\n",
       "      <td>NaN</td>\n",
       "    </tr>\n",
       "    <tr>\n",
       "      <th>3</th>\n",
       "      <td>00105500</td>\n",
       "      <td>university of alabama at huntsville</td>\n",
       "      <td>Huntsville</td>\n",
       "      <td>1</td>\n",
       "      <td>3</td>\n",
       "      <td>4</td>\n",
       "      <td>1</td>\n",
       "      <td>5.0</td>\n",
       "      <td>0.6614</td>\n",
       "      <td>5828.0</td>\n",
       "      <td>...</td>\n",
       "      <td>17064.0</td>\n",
       "      <td>Bachelor</td>\n",
       "      <td>Public</td>\n",
       "      <td>xl</td>\n",
       "      <td>high</td>\n",
       "      <td>high</td>\n",
       "      <td>highest</td>\n",
       "      <td>0.4364</td>\n",
       "      <td>0.7545</td>\n",
       "      <td>0.5385</td>\n",
       "    </tr>\n",
       "    <tr>\n",
       "      <th>4</th>\n",
       "      <td>00100500</td>\n",
       "      <td>alabama state university</td>\n",
       "      <td>Montgomery</td>\n",
       "      <td>1</td>\n",
       "      <td>3</td>\n",
       "      <td>4</td>\n",
       "      <td>1</td>\n",
       "      <td>5.0</td>\n",
       "      <td>0.4372</td>\n",
       "      <td>4882.0</td>\n",
       "      <td>...</td>\n",
       "      <td>14390.0</td>\n",
       "      <td>Bachelor</td>\n",
       "      <td>Public</td>\n",
       "      <td>xl</td>\n",
       "      <td>high</td>\n",
       "      <td>high</td>\n",
       "      <td>high</td>\n",
       "      <td>0.2399</td>\n",
       "      <td>0.6352</td>\n",
       "      <td>0.4167</td>\n",
       "    </tr>\n",
       "  </tbody>\n",
       "</table>\n",
       "<p>5 rows × 33 columns</p>\n",
       "</div>"
      ],
      "text/plain": [
       "      OPEID                               INSTNM        CITY  NUMBRANCH  \\\n",
       "0  00100200             alabama a & m university      Normal          1   \n",
       "1  00105200  university of alabama at birmingham  Birmingham          1   \n",
       "2  02503400                   amridge university  Montgomery          1   \n",
       "3  00105500  university of alabama at huntsville  Huntsville          1   \n",
       "4  00100500             alabama state university  Montgomery          1   \n",
       "\n",
       "   PREDDEG  HIGHDEG  CONTROL  region  ADM_RATE     UGDS  ...     Cost  \\\n",
       "0        3        4        1     5.0    0.5129   4930.0  ...  13762.0   \n",
       "1        3        4        1     5.0    0.8243  10661.0  ...  18003.0   \n",
       "2        3        4        2     5.0    0.7143    370.0  ...  20700.0   \n",
       "3        3        4        1     5.0    0.6614   5828.0  ...  17064.0   \n",
       "4        3        4        1     5.0    0.4372   4882.0  ...  14390.0   \n",
       "\n",
       "   PREDDEG_N         Governance  EnrollmentBins  TuitionBins  ExpenditureBins  \\\n",
       "0   Bachelor             Public              xl         high             high   \n",
       "1   Bachelor             Public              xl         high          highest   \n",
       "2   Bachelor  Private nonprofit          medium      highest              med   \n",
       "3   Bachelor             Public              xl         high             high   \n",
       "4   Bachelor             Public              xl         high             high   \n",
       "\n",
       "   FacultyBins  Complete  RetentionFT  RetentionPT  \n",
       "0         high    0.3306       0.7457       0.5000  \n",
       "1      highest    0.4108       0.7997       0.7000  \n",
       "2          low    0.2308       0.8000          NaN  \n",
       "3      highest    0.4364       0.7545       0.5385  \n",
       "4         high    0.2399       0.6352       0.4167  \n",
       "\n",
       "[5 rows x 33 columns]"
      ]
     },
     "execution_count": 2,
     "metadata": {},
     "output_type": "execute_result"
    }
   ],
   "source": [
    "# Upload the data\n",
    "# data will contain everything, names and locations\n",
    "# df will contain the features used in the modeling\n",
    "data = pd.read_csv('../data/processed/DecisionTreeData2010.csv', index_col=0)\n",
    "#data = data.loc[data.Year > 2009]\n",
    "data.sort_index(inplace=True)\n",
    "data.head()"
   ]
  },
  {
   "cell_type": "code",
   "execution_count": 3,
   "metadata": {},
   "outputs": [
    {
     "data": {
      "text/plain": [
       "(30682, 3)"
      ]
     },
     "execution_count": 3,
     "metadata": {},
     "output_type": "execute_result"
    }
   ],
   "source": [
    "identity = data[['OPEID','INSTNM', 'CITY']]\n",
    "identity.shape"
   ]
  },
  {
   "cell_type": "code",
   "execution_count": 4,
   "metadata": {},
   "outputs": [
    {
     "data": {
      "text/plain": [
       "(2759, 33)"
      ]
     },
     "execution_count": 4,
     "metadata": {},
     "output_type": "execute_result"
    }
   ],
   "source": [
    "# Separate open and closed schoools\n",
    "closed = data.loc[data.CURROPER == False]\n",
    "closed.shape"
   ]
  },
  {
   "cell_type": "code",
   "execution_count": 5,
   "metadata": {},
   "outputs": [
    {
     "name": "stdout",
     "output_type": "stream",
     "text": [
      "CONTROL           1    2     3\n",
      "PREDDEG_N                     \n",
      "Associates       42   26   257\n",
      "Bachelor         13   94   134\n",
      "Certificate     117  147  1577\n",
      "Graduate          1   40    58\n",
      "Not classified   27   35   191\n"
     ]
    }
   ],
   "source": [
    "closed_degree = closed.pivot_table(index='PREDDEG_N', columns=['CONTROL'], aggfunc='size')\n",
    "print(closed_degree)"
   ]
  },
  {
   "cell_type": "code",
   "execution_count": 6,
   "metadata": {},
   "outputs": [
    {
     "data": {
      "text/plain": [
       "Certificate       1841\n",
       "Associates         325\n",
       "Not classified     253\n",
       "Bachelor           241\n",
       "Graduate            99\n",
       "Name: PREDDEG_N, dtype: int64"
      ]
     },
     "execution_count": 6,
     "metadata": {},
     "output_type": "execute_result"
    }
   ],
   "source": [
    "closed.PREDDEG_N.value_counts()"
   ]
  },
  {
   "cell_type": "code",
   "execution_count": 7,
   "metadata": {},
   "outputs": [],
   "source": [
    "# Resample the minority class\n",
    "from sklearn.utils import resample\n",
    "closed_upsample = resample(closed, replace=True, n_samples=closed.shape[0]*2, random_state=123)"
   ]
  },
  {
   "cell_type": "code",
   "execution_count": 8,
   "metadata": {},
   "outputs": [
    {
     "data": {
      "text/plain": [
       "(27923, 33)"
      ]
     },
     "execution_count": 8,
     "metadata": {},
     "output_type": "execute_result"
    }
   ],
   "source": [
    "open_df = data.loc[data.CURROPER==True]\n",
    "open_df.shape"
   ]
  },
  {
   "cell_type": "code",
   "execution_count": 9,
   "metadata": {},
   "outputs": [
    {
     "data": {
      "text/plain": [
       "(7440, 33)"
      ]
     },
     "execution_count": 9,
     "metadata": {},
     "output_type": "execute_result"
    }
   ],
   "source": [
    "current = open_df.loc[data.Year > 2012]\n",
    "current.shape"
   ]
  },
  {
   "cell_type": "code",
   "execution_count": 10,
   "metadata": {},
   "outputs": [
    {
     "name": "stdout",
     "output_type": "stream",
     "text": [
      "CONTROL           1     2     3\n",
      "CURROPER       True  True  True\n",
      "PREDDEG_N                      \n",
      "Associates      780   163   545\n",
      "Bachelor        588  1241   271\n",
      "Certificate     594   199  2300\n",
      "Graduate         15   236    35\n",
      "Not classified   75    89   309\n"
     ]
    }
   ],
   "source": [
    "current_degree = current.pivot_table(index='PREDDEG_N', columns=['CONTROL','CURROPER'], aggfunc='size')\n",
    "print(current_degree)"
   ]
  },
  {
   "cell_type": "code",
   "execution_count": 11,
   "metadata": {},
   "outputs": [
    {
     "data": {
      "text/plain": [
       "Certificate       3093\n",
       "Bachelor          2100\n",
       "Associates        1488\n",
       "Not classified     473\n",
       "Graduate           286\n",
       "Name: PREDDEG_N, dtype: int64"
      ]
     },
     "execution_count": 11,
     "metadata": {},
     "output_type": "execute_result"
    }
   ],
   "source": [
    "current.PREDDEG_N.value_counts()"
   ]
  },
  {
   "cell_type": "code",
   "execution_count": 12,
   "metadata": {},
   "outputs": [
    {
     "data": {
      "text/plain": [
       "(12958, 33)"
      ]
     },
     "execution_count": 12,
     "metadata": {},
     "output_type": "execute_result"
    }
   ],
   "source": [
    "data = pd.concat([current, closed_upsample], axis = 0)\n",
    "data.shape"
   ]
  },
  {
   "cell_type": "code",
   "execution_count": 13,
   "metadata": {},
   "outputs": [
    {
     "data": {
      "text/plain": [
       "True     7440\n",
       "False    5518\n",
       "Name: CURROPER, dtype: int64"
      ]
     },
     "execution_count": 13,
     "metadata": {},
     "output_type": "execute_result"
    }
   ],
   "source": [
    "data.CURROPER.value_counts()"
   ]
  },
  {
   "cell_type": "code",
   "execution_count": 14,
   "metadata": {},
   "outputs": [
    {
     "data": {
      "text/html": [
       "<div>\n",
       "<style scoped>\n",
       "    .dataframe tbody tr th:only-of-type {\n",
       "        vertical-align: middle;\n",
       "    }\n",
       "\n",
       "    .dataframe tbody tr th {\n",
       "        vertical-align: top;\n",
       "    }\n",
       "\n",
       "    .dataframe thead th {\n",
       "        text-align: right;\n",
       "    }\n",
       "</style>\n",
       "<table border=\"1\" class=\"dataframe\">\n",
       "  <thead>\n",
       "    <tr style=\"text-align: right;\">\n",
       "      <th></th>\n",
       "      <th>OPEID</th>\n",
       "      <th>INSTNM</th>\n",
       "      <th>CITY</th>\n",
       "      <th>NUMBRANCH</th>\n",
       "      <th>PREDDEG</th>\n",
       "      <th>HIGHDEG</th>\n",
       "      <th>CONTROL</th>\n",
       "      <th>region</th>\n",
       "      <th>ADM_RATE</th>\n",
       "      <th>UGDS</th>\n",
       "      <th>...</th>\n",
       "      <th>Cost</th>\n",
       "      <th>PREDDEG_N</th>\n",
       "      <th>Governance</th>\n",
       "      <th>EnrollmentBins</th>\n",
       "      <th>TuitionBins</th>\n",
       "      <th>ExpenditureBins</th>\n",
       "      <th>FacultyBins</th>\n",
       "      <th>Complete</th>\n",
       "      <th>RetentionFT</th>\n",
       "      <th>RetentionPT</th>\n",
       "    </tr>\n",
       "  </thead>\n",
       "  <tbody>\n",
       "    <tr>\n",
       "      <th>22882</th>\n",
       "      <td>00100200</td>\n",
       "      <td>alabama a &amp; m university</td>\n",
       "      <td>Normal</td>\n",
       "      <td>1</td>\n",
       "      <td>3</td>\n",
       "      <td>4</td>\n",
       "      <td>1</td>\n",
       "      <td>5.0</td>\n",
       "      <td>0.8989</td>\n",
       "      <td>4051.0</td>\n",
       "      <td>...</td>\n",
       "      <td>18888.0</td>\n",
       "      <td>Bachelor</td>\n",
       "      <td>Public</td>\n",
       "      <td>xl</td>\n",
       "      <td>high</td>\n",
       "      <td>high</td>\n",
       "      <td>high</td>\n",
       "      <td>0.2914</td>\n",
       "      <td>0.6314</td>\n",
       "      <td>0.5000</td>\n",
       "    </tr>\n",
       "    <tr>\n",
       "      <th>22883</th>\n",
       "      <td>00105200</td>\n",
       "      <td>university of alabama at birmingham</td>\n",
       "      <td>Birmingham</td>\n",
       "      <td>1</td>\n",
       "      <td>3</td>\n",
       "      <td>4</td>\n",
       "      <td>1</td>\n",
       "      <td>5.0</td>\n",
       "      <td>0.8673</td>\n",
       "      <td>11200.0</td>\n",
       "      <td>...</td>\n",
       "      <td>19990.0</td>\n",
       "      <td>Bachelor</td>\n",
       "      <td>Public</td>\n",
       "      <td>xl</td>\n",
       "      <td>high</td>\n",
       "      <td>highest</td>\n",
       "      <td>highest</td>\n",
       "      <td>0.5377</td>\n",
       "      <td>0.8016</td>\n",
       "      <td>0.5000</td>\n",
       "    </tr>\n",
       "    <tr>\n",
       "      <th>22884</th>\n",
       "      <td>02503400</td>\n",
       "      <td>amridge university</td>\n",
       "      <td>Montgomery</td>\n",
       "      <td>1</td>\n",
       "      <td>3</td>\n",
       "      <td>4</td>\n",
       "      <td>2</td>\n",
       "      <td>5.0</td>\n",
       "      <td>NaN</td>\n",
       "      <td>322.0</td>\n",
       "      <td>...</td>\n",
       "      <td>12300.0</td>\n",
       "      <td>Bachelor</td>\n",
       "      <td>Private nonprofit</td>\n",
       "      <td>medium</td>\n",
       "      <td>highest</td>\n",
       "      <td>med</td>\n",
       "      <td>low</td>\n",
       "      <td>0.6667</td>\n",
       "      <td>0.3750</td>\n",
       "      <td>0.3333</td>\n",
       "    </tr>\n",
       "    <tr>\n",
       "      <th>22885</th>\n",
       "      <td>Other</td>\n",
       "      <td>university of alabama in huntsville</td>\n",
       "      <td>Huntsville</td>\n",
       "      <td>1</td>\n",
       "      <td>3</td>\n",
       "      <td>4</td>\n",
       "      <td>1</td>\n",
       "      <td>5.0</td>\n",
       "      <td>0.8062</td>\n",
       "      <td>5525.0</td>\n",
       "      <td>...</td>\n",
       "      <td>20306.0</td>\n",
       "      <td>Bachelor</td>\n",
       "      <td>Public</td>\n",
       "      <td>xl</td>\n",
       "      <td>high</td>\n",
       "      <td>high</td>\n",
       "      <td>highest</td>\n",
       "      <td>0.4835</td>\n",
       "      <td>0.8098</td>\n",
       "      <td>0.4444</td>\n",
       "    </tr>\n",
       "    <tr>\n",
       "      <th>22886</th>\n",
       "      <td>00100500</td>\n",
       "      <td>alabama state university</td>\n",
       "      <td>Montgomery</td>\n",
       "      <td>1</td>\n",
       "      <td>3</td>\n",
       "      <td>4</td>\n",
       "      <td>1</td>\n",
       "      <td>5.0</td>\n",
       "      <td>0.5125</td>\n",
       "      <td>5354.0</td>\n",
       "      <td>...</td>\n",
       "      <td>17400.0</td>\n",
       "      <td>Bachelor</td>\n",
       "      <td>Public</td>\n",
       "      <td>xl</td>\n",
       "      <td>high</td>\n",
       "      <td>high</td>\n",
       "      <td>high</td>\n",
       "      <td>0.2517</td>\n",
       "      <td>0.6219</td>\n",
       "      <td>0.3023</td>\n",
       "    </tr>\n",
       "  </tbody>\n",
       "</table>\n",
       "<p>5 rows × 33 columns</p>\n",
       "</div>"
      ],
      "text/plain": [
       "          OPEID                               INSTNM        CITY  NUMBRANCH  \\\n",
       "22882  00100200             alabama a & m university      Normal          1   \n",
       "22883  00105200  university of alabama at birmingham  Birmingham          1   \n",
       "22884  02503400                   amridge university  Montgomery          1   \n",
       "22885     Other  university of alabama in huntsville  Huntsville          1   \n",
       "22886  00100500             alabama state university  Montgomery          1   \n",
       "\n",
       "       PREDDEG  HIGHDEG  CONTROL  region  ADM_RATE     UGDS  ...     Cost  \\\n",
       "22882        3        4        1     5.0    0.8989   4051.0  ...  18888.0   \n",
       "22883        3        4        1     5.0    0.8673  11200.0  ...  19990.0   \n",
       "22884        3        4        2     5.0       NaN    322.0  ...  12300.0   \n",
       "22885        3        4        1     5.0    0.8062   5525.0  ...  20306.0   \n",
       "22886        3        4        1     5.0    0.5125   5354.0  ...  17400.0   \n",
       "\n",
       "       PREDDEG_N         Governance  EnrollmentBins  TuitionBins  \\\n",
       "22882   Bachelor             Public              xl         high   \n",
       "22883   Bachelor             Public              xl         high   \n",
       "22884   Bachelor  Private nonprofit          medium      highest   \n",
       "22885   Bachelor             Public              xl         high   \n",
       "22886   Bachelor             Public              xl         high   \n",
       "\n",
       "       ExpenditureBins  FacultyBins  Complete  RetentionFT  RetentionPT  \n",
       "22882             high         high    0.2914       0.6314       0.5000  \n",
       "22883          highest      highest    0.5377       0.8016       0.5000  \n",
       "22884              med          low    0.6667       0.3750       0.3333  \n",
       "22885             high      highest    0.4835       0.8098       0.4444  \n",
       "22886             high         high    0.2517       0.6219       0.3023  \n",
       "\n",
       "[5 rows x 33 columns]"
      ]
     },
     "execution_count": 14,
     "metadata": {},
     "output_type": "execute_result"
    }
   ],
   "source": [
    "data.head()"
   ]
  },
  {
   "cell_type": "markdown",
   "metadata": {},
   "source": [
    "## Simple EDA with the data subset used for modeling"
   ]
  },
  {
   "cell_type": "code",
   "execution_count": 15,
   "metadata": {},
   "outputs": [
    {
     "data": {
      "text/plain": [
       "Certificate       6762\n",
       "Bachelor          2594\n",
       "Associates        2126\n",
       "Not classified     979\n",
       "Graduate           497\n",
       "Name: PREDDEG_N, dtype: int64"
      ]
     },
     "execution_count": 15,
     "metadata": {},
     "output_type": "execute_result"
    }
   ],
   "source": [
    "data['PREDDEG_N'].value_counts()"
   ]
  },
  {
   "cell_type": "code",
   "execution_count": 16,
   "metadata": {},
   "outputs": [
    {
     "ename": "AttributeError",
     "evalue": "'DataFrame' object has no attribute 'CONTROL_N'",
     "output_type": "error",
     "traceback": [
      "\u001b[0;31m---------------------------------------------------------------------------\u001b[0m",
      "\u001b[0;31mAttributeError\u001b[0m                            Traceback (most recent call last)",
      "\u001b[0;32m<ipython-input-16-8ba015802cf4>\u001b[0m in \u001b[0;36m<module>\u001b[0;34m\u001b[0m\n\u001b[0;32m----> 1\u001b[0;31m \u001b[0mprint\u001b[0m\u001b[0;34m(\u001b[0m\u001b[0mdata\u001b[0m\u001b[0;34m.\u001b[0m\u001b[0mCONTROL_N\u001b[0m\u001b[0;34m.\u001b[0m\u001b[0mvalue_counts\u001b[0m\u001b[0;34m(\u001b[0m\u001b[0;34m)\u001b[0m\u001b[0;34m)\u001b[0m\u001b[0;34m\u001b[0m\u001b[0;34m\u001b[0m\u001b[0m\n\u001b[0m\u001b[1;32m      2\u001b[0m \u001b[0;31m#print(data.Governance.value_counts())\u001b[0m\u001b[0;34m\u001b[0m\u001b[0;34m\u001b[0m\u001b[0;34m\u001b[0m\u001b[0m\n",
      "\u001b[0;32m/opt/anaconda3/lib/python3.7/site-packages/pandas/core/generic.py\u001b[0m in \u001b[0;36m__getattr__\u001b[0;34m(self, name)\u001b[0m\n\u001b[1;32m   5272\u001b[0m             \u001b[0;32mif\u001b[0m \u001b[0mself\u001b[0m\u001b[0;34m.\u001b[0m\u001b[0m_info_axis\u001b[0m\u001b[0;34m.\u001b[0m\u001b[0m_can_hold_identifiers_and_holds_name\u001b[0m\u001b[0;34m(\u001b[0m\u001b[0mname\u001b[0m\u001b[0;34m)\u001b[0m\u001b[0;34m:\u001b[0m\u001b[0;34m\u001b[0m\u001b[0;34m\u001b[0m\u001b[0m\n\u001b[1;32m   5273\u001b[0m                 \u001b[0;32mreturn\u001b[0m \u001b[0mself\u001b[0m\u001b[0;34m[\u001b[0m\u001b[0mname\u001b[0m\u001b[0;34m]\u001b[0m\u001b[0;34m\u001b[0m\u001b[0;34m\u001b[0m\u001b[0m\n\u001b[0;32m-> 5274\u001b[0;31m             \u001b[0;32mreturn\u001b[0m \u001b[0mobject\u001b[0m\u001b[0;34m.\u001b[0m\u001b[0m__getattribute__\u001b[0m\u001b[0;34m(\u001b[0m\u001b[0mself\u001b[0m\u001b[0;34m,\u001b[0m \u001b[0mname\u001b[0m\u001b[0;34m)\u001b[0m\u001b[0;34m\u001b[0m\u001b[0;34m\u001b[0m\u001b[0m\n\u001b[0m\u001b[1;32m   5275\u001b[0m \u001b[0;34m\u001b[0m\u001b[0m\n\u001b[1;32m   5276\u001b[0m     \u001b[0;32mdef\u001b[0m \u001b[0m__setattr__\u001b[0m\u001b[0;34m(\u001b[0m\u001b[0mself\u001b[0m\u001b[0;34m,\u001b[0m \u001b[0mname\u001b[0m\u001b[0;34m:\u001b[0m \u001b[0mstr\u001b[0m\u001b[0;34m,\u001b[0m \u001b[0mvalue\u001b[0m\u001b[0;34m)\u001b[0m \u001b[0;34m->\u001b[0m \u001b[0;32mNone\u001b[0m\u001b[0;34m:\u001b[0m\u001b[0;34m\u001b[0m\u001b[0;34m\u001b[0m\u001b[0m\n",
      "\u001b[0;31mAttributeError\u001b[0m: 'DataFrame' object has no attribute 'CONTROL_N'"
     ]
    }
   ],
   "source": [
    "print(data.CONTROL_N.value_counts())\n",
    "#print(data.Governance.value_counts())"
   ]
  },
  {
   "cell_type": "code",
   "execution_count": null,
   "metadata": {},
   "outputs": [],
   "source": [
    "control_degree = data.pivot_table(index='PREDDEG_N', columns=['CONTROL','CURROPER'], aggfunc='size')\n",
    "print(control_degree)\n",
    "#sns.heatmap(control_degree, cmap='YlGnBu')\n",
    "#plt.savefig('../figures/PreddegControlHeatmap.png',bbox_inches='tight')"
   ]
  },
  {
   "cell_type": "markdown",
   "metadata": {},
   "source": [
    "## Drop columns not needed for analysis"
   ]
  },
  {
   "cell_type": "code",
   "execution_count": null,
   "metadata": {},
   "outputs": [],
   "source": [
    "#df contains just the feature to train the model on\n",
    "to_drop = ['OPEID', 'INSTNM', 'CITY', 'HIGHDEG', 'ADM_RATE', 'NetPrice', 'region','EnrollmentBins','CONTROL_N',\\\n",
    "           'TuitionBins','ExpenditureBins','FacultyBins', 'AVGFACSAL', 'RetentionPT', 'PCTFLOAN', 'Year', 'PREDDEG_N']\n",
    "df = data.drop(to_drop, axis=1)\n",
    "df.head()"
   ]
  },
  {
   "cell_type": "code",
   "execution_count": null,
   "metadata": {},
   "outputs": [],
   "source": [
    "df.info()"
   ]
  },
  {
   "cell_type": "code",
   "execution_count": null,
   "metadata": {},
   "outputs": [],
   "source": [
    "df.isnull().sum()"
   ]
  },
  {
   "cell_type": "code",
   "execution_count": null,
   "metadata": {},
   "outputs": [],
   "source": [
    "y = df.CURROPER\n",
    "X = df.drop('CURROPER', axis=1)"
   ]
  },
  {
   "cell_type": "code",
   "execution_count": null,
   "metadata": {},
   "outputs": [],
   "source": [
    "from sklearn.model_selection import train_test_split\n",
    "X_train, X_test, y_train, y_test = train_test_split(X, y, test_size=0.3, random_state=21, stratify=y)"
   ]
  },
  {
   "cell_type": "code",
   "execution_count": null,
   "metadata": {},
   "outputs": [],
   "source": [
    "X_test.shape"
   ]
  },
  {
   "cell_type": "markdown",
   "metadata": {},
   "source": [
    "# Decision Tree Model\n",
    "Basis for comparison"
   ]
  },
  {
   "cell_type": "code",
   "execution_count": null,
   "metadata": {},
   "outputs": [],
   "source": [
    "from sklearn.tree import DecisionTreeClassifier\n",
    "from sklearn.ensemble import RandomForestClassifier,AdaBoostClassifier"
   ]
  },
  {
   "cell_type": "markdown",
   "metadata": {},
   "source": [
    "## Explore just the criterion and max_depth features\n",
    "\n",
    "Code modified from https://towardsdatascience.com/decision-tree-build-prune-and-visualize-it-using-python-12ceee9af752"
   ]
  },
  {
   "cell_type": "code",
   "execution_count": null,
   "metadata": {},
   "outputs": [],
   "source": [
    "from sklearn import metrics\n",
    "max_depth = []\n",
    "acc_gini = []\n",
    "acc_entropy = []\n",
    "for i in range(1, 31):\n",
    "    gtree = DecisionTreeClassifier(criterion='gini', max_depth=i, random_state=21)\n",
    "    gtree.fit(X_train, y_train)\n",
    "    gpredict = gtree.predict(X_test)\n",
    "    acc_gini.append(metrics.accuracy_score(y_test, gpredict))\n",
    "    ##\n",
    "    etree = DecisionTreeClassifier(criterion='entropy', max_depth=i, random_state=21)\n",
    "    etree.fit(X_train, y_train)\n",
    "    epredict = etree.predict(X_test)\n",
    "    acc_entropy.append(metrics.accuracy_score(y_test, epredict))\n",
    "    ##\n",
    "    max_depth.append(i)"
   ]
  },
  {
   "cell_type": "code",
   "execution_count": null,
   "metadata": {},
   "outputs": [],
   "source": [
    "gini_max = max(acc_gini)\n",
    "gini_idx = acc_gini.index(gini_max)\n",
    "entropy_max = max(acc_entropy)\n",
    "entropy_idx = acc_entropy.index(entropy_max)\n",
    "\n",
    "if gini_max > entropy_max:\n",
    "    depth = max_depth[gini_idx]\n",
    "    crit = 'gini'\n",
    "else:\n",
    "    depth = max_depth[entropy_idx]\n",
    "    crit='entropy'\n",
    "    \n",
    "print(depth)"
   ]
  },
  {
   "cell_type": "code",
   "execution_count": null,
   "metadata": {},
   "outputs": [],
   "source": [
    "trees = pd.DataFrame({'acc_gini':pd.Series(acc_gini),\n",
    "                     'acc_entropy':pd.Series(acc_entropy),\n",
    "                     'max_depth':pd.Series(max_depth)})\n",
    "\n",
    "plt.plot('max_depth', 'acc_gini', data=trees, label='gini')\n",
    "plt.plot('max_depth', 'acc_entropy', data=trees, label='entropy')\n",
    "#plt.vlines(6, 0.895, 0.915)\n",
    "plt.xlabel('max_depth')\n",
    "plt.ylabel('accuracy')\n",
    "plt.legend()\n",
    "plt.show()"
   ]
  },
  {
   "cell_type": "code",
   "execution_count": null,
   "metadata": {},
   "outputs": [],
   "source": [
    "# Train the decision tree using the identified hyperparameters\n",
    "modelDT = DecisionTreeClassifier(criterion=crit, max_depth=depth, random_state=21)\n",
    "modelDT.fit(X_train, y_train)"
   ]
  },
  {
   "cell_type": "code",
   "execution_count": null,
   "metadata": {},
   "outputs": [],
   "source": [
    "# Use the trained tree to predict the testing data\n",
    "dt_pred = modelDT.predict(X_test)\n",
    "dt_pred_prob = modelDT.predict_proba(X_test)\n",
    "#print(type(dt_pred_prob))"
   ]
  },
  {
   "cell_type": "code",
   "execution_count": null,
   "metadata": {},
   "outputs": [],
   "source": [
    "# Run this block for model evaluation \n",
    "#from sklearn import metrics\n",
    "print(\"Model Metrics\")\n",
    "print(\"Accuracy:\", metrics.accuracy_score(y_test, dt_pred))\n",
    "print(\"Balanced accuracy:\", metrics.balanced_accuracy_score(y_test, dt_pred))\n",
    "print('Precision score for \"Yes\"' , metrics.precision_score(y_test, dt_pred, pos_label = 1))\n",
    "print('Recall score for \"No\"' , metrics.recall_score(y_test, dt_pred, pos_label = 0))"
   ]
  },
  {
   "cell_type": "code",
   "execution_count": null,
   "metadata": {},
   "outputs": [],
   "source": [
    "from sklearn.metrics import confusion_matrix, classification_report\n",
    "print(confusion_matrix(y_test, dt_pred))"
   ]
  },
  {
   "cell_type": "code",
   "execution_count": null,
   "metadata": {},
   "outputs": [],
   "source": [
    "print(classification_report(y_test, dt_pred))"
   ]
  },
  {
   "cell_type": "code",
   "execution_count": null,
   "metadata": {},
   "outputs": [],
   "source": [
    "importances = modelDT.feature_importances_\n",
    "#std = np.std([tree.feature_importances_ for tree in modelDT.estimators_],axis=0)\n",
    "indices = np.argsort(importances)[::-1]\n",
    "names = [X_train.columns[i] for i in indices]\n",
    "\n",
    "print(\"Feature ranking:\")\n",
    "\n",
    "for f in range(X.shape[1]):\n",
    "    print(\"%d. feature %s (%f)\" % (f + 1, names[f], importances[indices[f]]))"
   ]
  },
  {
   "cell_type": "code",
   "execution_count": null,
   "metadata": {},
   "outputs": [],
   "source": [
    "# Plot the impurity-based feature importances of the forest\n",
    "plt.figure()\n",
    "plt.title(\"Feature importances\")\n",
    "plt.bar(range(X.shape[1]), importances[indices],\n",
    "        color=\"r\", align=\"center\") #yerr=std[indices]\n",
    "plt.xticks(range(X.shape[1]), names)#indices)\n",
    "plt.xlim([-1, X.shape[1]])\n",
    "plt.show()"
   ]
  },
  {
   "cell_type": "markdown",
   "metadata": {},
   "source": [
    "CONTROL and UGDS are the most prominent features - that predict open schools. (Control is categorical, so I'm not exactly sure how to interpret it). More enrollment increases prediction of being open."
   ]
  },
  {
   "cell_type": "markdown",
   "metadata": {},
   "source": [
    "## Decision Tree Model with various thresholds"
   ]
  },
  {
   "cell_type": "code",
   "execution_count": null,
   "metadata": {},
   "outputs": [],
   "source": [
    "threshold = []\n",
    "accurate=[]\n",
    "balance_acc = []\n",
    "pred_proba = []\n",
    "\n",
    "for thresh in range(50, 100, 5):\n",
    "    new_pred = []\n",
    "    for i in range(0, len(dt_pred_prob)):\n",
    "        # print(len(dt_pred_prob))\n",
    "        new_pred.append(dt_pred_prob[i, 1] > (thresh / 100.0))\n",
    "    # print(new_pred)\n",
    "    accurate.append(metrics.accuracy_score(y_test, new_pred))\n",
    "    balance_acc.append(metrics.balanced_accuracy_score(y_test, new_pred))\n",
    "    threshold.append(thresh)\n",
    "    pred_proba.append(new_pred)"
   ]
  },
  {
   "cell_type": "code",
   "execution_count": null,
   "metadata": {},
   "outputs": [],
   "source": [
    "rate = pd.DataFrame({'threshold':pd.Series(threshold),\n",
    "                     'accuracy':pd.Series(accurate),\n",
    "                     'balance_acc':pd.Series(balance_acc)})\n",
    "\n",
    "plt.plot('threshold', 'accuracy', data=rate, label='accuracy')\n",
    "plt.plot('threshold', 'balance_acc', data=rate, label='balanced accuracy')\n",
    "#plt.vlines(6, 0.895, 0.915)\n",
    "plt.xlabel('Threshold')\n",
    "plt.ylabel('Accuracy')\n",
    "plt.legend()\n",
    "plt.show()"
   ]
  },
  {
   "cell_type": "code",
   "execution_count": null,
   "metadata": {},
   "outputs": [],
   "source": [
    "print(\"Balance Accuracy: \", max(balance_acc))\n",
    "idx = balance_acc.index(max(balance_acc))\n",
    "print(\"Threshold: \", threshold[idx])"
   ]
  },
  {
   "cell_type": "markdown",
   "metadata": {},
   "source": [
    "## AdaBoost model"
   ]
  },
  {
   "cell_type": "code",
   "execution_count": null,
   "metadata": {},
   "outputs": [],
   "source": [
    "ABmax_depth = []\n",
    "score_a = []\n",
    "score_b = []\n",
    "\n",
    "for i in range(105, 131, 1):\n",
    "    atree = AdaBoostClassifier(n_estimators=i, random_state=21)\n",
    "    atree.fit(X_train, y_train)\n",
    "    apredict = gtree.predict(X_test)\n",
    "    score_a.append(metrics.accuracy_score(y_test, apredict))\n",
    "    ##\n",
    "    btree = AdaBoostClassifier(modelDT, n_estimators=i, random_state=21)\n",
    "    btree.fit(X_train, y_train)\n",
    "    bpredict = btree.predict(X_test)\n",
    "    score_b.append(metrics.accuracy_score(y_test, bpredict))\n",
    "    ##\n",
    "    ABmax_depth.append(i)"
   ]
  },
  {
   "cell_type": "code",
   "execution_count": null,
   "metadata": {},
   "outputs": [],
   "source": [
    "adatrees = pd.DataFrame({'score_a':pd.Series(score_a),\n",
    "                     'score_b':pd.Series(score_b),\n",
    "                     'n_estimators':pd.Series(ABmax_depth)})\n",
    "\n",
    "plt.plot('n_estimators', 'score_a', data=adatrees, label='No_base')\n",
    "plt.plot('n_estimators', 'score_b', data=adatrees, label='Base')\n",
    "#plt.vlines(6, 0.895, 0.915)\n",
    "plt.xlabel('n_estimators')\n",
    "plt.ylabel('accuracy')\n",
    "plt.legend()\n",
    "plt.show()"
   ]
  },
  {
   "cell_type": "code",
   "execution_count": null,
   "metadata": {},
   "outputs": [],
   "source": [
    "ideal_estimators = max(score_b)\n",
    "idx = score_b.index(ideal_estimators)\n",
    "print(ABmax_depth[idx])"
   ]
  },
  {
   "cell_type": "code",
   "execution_count": null,
   "metadata": {},
   "outputs": [],
   "source": [
    "modelAB = AdaBoostClassifier(modelDT, n_estimators=ABmax_depth[idx], random_state=21)\n",
    "modelAB.fit(X_train, y_train)\n",
    "AB_pred = modelAB.predict(X_test)\n",
    "print(metrics.accuracy_score(y_test, AB_pred))"
   ]
  },
  {
   "cell_type": "code",
   "execution_count": null,
   "metadata": {},
   "outputs": [],
   "source": [
    "print(confusion_matrix(y_test, AB_pred))"
   ]
  },
  {
   "cell_type": "code",
   "execution_count": null,
   "metadata": {},
   "outputs": [],
   "source": [
    "print(classification_report(y_test, AB_pred))"
   ]
  },
  {
   "cell_type": "code",
   "execution_count": null,
   "metadata": {},
   "outputs": [],
   "source": [
    "importances = modelAB.feature_importances_\n",
    "std = np.std([tree.feature_importances_ for tree in modelAB.estimators_],\n",
    "             axis=0)\n",
    "indices = np.argsort(importances)[::-1]\n",
    "names = [X_train.columns[i] for i in indices]\n",
    "\n",
    "print(\"Feature ranking:\")\n",
    "\n",
    "for f in range(X.shape[1]):\n",
    "    print(\"%d. feature %s (%f)\" % (f + 1, names[f], importances[indices[f]]))"
   ]
  },
  {
   "cell_type": "code",
   "execution_count": null,
   "metadata": {},
   "outputs": [],
   "source": [
    "# Plot the impurity-based feature importances of the forest\n",
    "plt.figure()\n",
    "plt.title(\"Feature importances\")\n",
    "plt.bar(range(X.shape[1]), importances[indices],\n",
    "        color=\"r\", yerr=std[indices], align=\"center\")\n",
    "plt.xticks(range(X.shape[1]), indices)\n",
    "plt.xlim([-1, X.shape[1]])\n",
    "plt.show()"
   ]
  },
  {
   "cell_type": "markdown",
   "metadata": {},
   "source": [
    "### Explore different threshold values for AB Model"
   ]
  },
  {
   "cell_type": "code",
   "execution_count": null,
   "metadata": {},
   "outputs": [],
   "source": [
    "AB_pred_prob = modelAB.predict_proba(X_test)\n",
    "\n",
    "ABthreshold = []\n",
    "ABaccurate=[]\n",
    "ABbalance_acc = []\n",
    "ABpred_proba = []\n",
    "\n",
    "for thresh in range(50, 100, 5):\n",
    "    new_pred = []\n",
    "    for i in range(0, len(AB_pred_prob)):\n",
    "        # print(len(dt_pred_prob))\n",
    "        new_pred.append(AB_pred_prob[i, 1] > (thresh / 100.0))\n",
    "    # print(new_pred)\n",
    "    ABaccurate.append(metrics.accuracy_score(y_test, new_pred))\n",
    "    ABbalance_acc.append(metrics.balanced_accuracy_score(y_test, new_pred))\n",
    "    ABthreshold.append(thresh)\n",
    "    ABpred_proba.append(new_pred)"
   ]
  },
  {
   "cell_type": "code",
   "execution_count": null,
   "metadata": {},
   "outputs": [],
   "source": [
    "ABrate = pd.DataFrame({'threshold':pd.Series(ABthreshold),\n",
    "                     'accuracy':pd.Series(ABaccurate),\n",
    "                     'balance_acc':pd.Series(ABbalance_acc)})\n",
    "\n",
    "plt.plot('threshold', 'accuracy', data=ABrate, label='accuracy')\n",
    "plt.plot('threshold', 'balance_acc', data=ABrate, label='balanced accuracy')\n",
    "#plt.vlines(6, 0.895, 0.915)\n",
    "plt.xlabel('Threshold')\n",
    "plt.ylabel('Accuracy')\n",
    "plt.legend()\n",
    "plt.show()"
   ]
  },
  {
   "cell_type": "markdown",
   "metadata": {},
   "source": [
    "## Exploration of misclassified schools\n",
    "\n",
    "We are interested in predicting schools that might be in danger of closing. This would be schools that are currently open, but that the model predicts are closed. (These would be the \"false negative\" cases.) There are 224 schools in this class that could be explored further."
   ]
  },
  {
   "cell_type": "code",
   "execution_count": null,
   "metadata": {},
   "outputs": [],
   "source": [
    "result_dict = {'CURROPER':y_test, 'Predicted':AB_pred}\n",
    "results = pd.DataFrame(result_dict)\n",
    "results.head()"
   ]
  },
  {
   "cell_type": "code",
   "execution_count": null,
   "metadata": {},
   "outputs": [],
   "source": [
    "predicted = pd.concat([X_test, results], axis=1)\n",
    "predicted.head()"
   ]
  },
  {
   "cell_type": "code",
   "execution_count": null,
   "metadata": {},
   "outputs": [],
   "source": [
    "false_pos = predicted.loc[(predicted.Predicted == True) & (predicted.CURROPER == False)]\n",
    "false_pos.shape"
   ]
  },
  {
   "cell_type": "code",
   "execution_count": null,
   "metadata": {},
   "outputs": [],
   "source": [
    "false_neg = predicted.loc[(predicted.Predicted==False) & (predicted.CURROPER==True)]\n",
    "false_neg.shape"
   ]
  },
  {
   "cell_type": "markdown",
   "metadata": {},
   "source": [
    "## Generate graphs for the report"
   ]
  },
  {
   "cell_type": "code",
   "execution_count": null,
   "metadata": {},
   "outputs": [],
   "source": [
    "predicted['Result'] = np.nan\n",
    "predicted.loc[(predicted.Predicted==True)&(predicted.CURROPER==True), 'Result'] = 'TP'\n",
    "predicted.loc[(predicted.Predicted==False)&(predicted.CURROPER==False), 'Result'] = 'TN'\n",
    "predicted.loc[(predicted.Predicted==True)&(predicted.CURROPER==False), 'Result'] = 'FP'\n",
    "predicted.loc[(predicted.Predicted==False)&(predicted.CURROPER==True), 'Result'] = 'FN'\n",
    "print(predicted.Result)"
   ]
  },
  {
   "cell_type": "code",
   "execution_count": null,
   "metadata": {},
   "outputs": [],
   "source": [
    "to_graph1 = pd.merge(predicted, data)\n",
    "to_graph = pd.merge(identity, to_graph1)\n",
    "to_graph.head()"
   ]
  },
  {
   "cell_type": "code",
   "execution_count": null,
   "metadata": {},
   "outputs": [],
   "source": [
    "to_graph.CONTROL = to_graph.CONTROL.astype('str')\n",
    "to_graph.CONTROL.loc[to_graph.CONTROL == '1.0'] = 'Public'\n",
    "to_graph.CONTROL.loc[to_graph.CONTROL == '2.0'] = 'NonProfit'\n",
    "to_graph.CONTROL.loc[to_graph.CONTROL == '3.0'] = 'ForProfit'\n",
    "\n",
    "to_graph.PREDDEG = to_graph.PREDDEG.astype('str')\n",
    "to_graph.drop(['EnrollmentBins', 'TuitionBins', 'ExpenditureBins', 'FacultyBins'], axis=1, inplace=True)\n",
    "to_graph.info()"
   ]
  },
  {
   "cell_type": "code",
   "execution_count": null,
   "metadata": {},
   "outputs": [],
   "source": [
    "to_graph.duplicated().sum()"
   ]
  },
  {
   "cell_type": "code",
   "execution_count": null,
   "metadata": {},
   "outputs": [],
   "source": [
    "to_graph.drop_duplicates(inplace=True)\n",
    "to_graph.shape"
   ]
  },
  {
   "cell_type": "code",
   "execution_count": null,
   "metadata": {},
   "outputs": [],
   "source": [
    "print(confusion_matrix(to_graph['CURROPER'], to_graph['Predicted']))"
   ]
  },
  {
   "cell_type": "code",
   "execution_count": null,
   "metadata": {},
   "outputs": [],
   "source": [
    "print(classification_report(to_graph['CURROPER'], to_graph['Predicted']))"
   ]
  },
  {
   "cell_type": "code",
   "execution_count": null,
   "metadata": {},
   "outputs": [],
   "source": [
    "degreeControl = to_graph.pivot_table(index='PREDDEG', columns=['CONTROL','CURROPER'], aggfunc='size')\n",
    "print(degreeControl)"
   ]
  },
  {
   "cell_type": "code",
   "execution_count": null,
   "metadata": {},
   "outputs": [],
   "source": [
    "predControl = to_graph.pivot_table(index='PREDDEG', columns=['CONTROL','Result'], aggfunc='size')\n",
    "print(predControl)"
   ]
  },
  {
   "cell_type": "code",
   "execution_count": null,
   "metadata": {},
   "outputs": [],
   "source": [
    "controlPivot = to_graph.pivot_table(index='CONTROL_N', columns = 'Result', aggfunc='size')\n",
    "print(controlPivot)"
   ]
  },
  {
   "cell_type": "code",
   "execution_count": null,
   "metadata": {},
   "outputs": [],
   "source": [
    "false_neg = to_graph.loc[to_graph.Result == 'FN']\n",
    "false_neg.head()"
   ]
  },
  {
   "cell_type": "markdown",
   "metadata": {},
   "source": [
    "## UGDS - Undergraduate enrollment"
   ]
  },
  {
   "cell_type": "code",
   "execution_count": null,
   "metadata": {},
   "outputs": [],
   "source": [
    "fig=plt.figure(figsize=(10,4), dpi= 100, facecolor='w', edgecolor='k')\n",
    "plt.subplot(1, 2, 1)\n",
    "sns.boxplot('CONTROL_N', 'UGDS', data = to_graph, hue = 'Result')\n",
    "plt.ylim(0, 20000)\n",
    "plt.title('Enrollment by Control')\n",
    "\n",
    "plt.subplot(1, 2, 2)\n",
    "sns.boxplot('PREDDEG', 'UGDS', data = to_graph, hue = 'Result')\n",
    "plt.ylim(0, 10000)\n",
    "plt.title('Enrollment by Degree Type')\n",
    "plt.tight_layout()"
   ]
  },
  {
   "cell_type": "code",
   "execution_count": null,
   "metadata": {},
   "outputs": [],
   "source": [
    "fig=plt.figure(figsize=(10,5), dpi= 100, facecolor='w', edgecolor='k')\n",
    "plt.subplot(1, 2, 1)\n",
    "sns.scatterplot('TUITFTE', 'UGDS', data=to_graph.loc[to_graph.Predicted==True], hue = 'CONTROL_N',style='Result', alpha=0.5 )\n",
    "plt.title('Predicted Positive')\n",
    "plt.xlim(0,100000)\n",
    "plt.ylim(0,20000)\n",
    "\n",
    "plt.subplot(1, 2, 2)\n",
    "sns.scatterplot('TUITFTE', 'UGDS', data=to_graph.loc[to_graph.Predicted==False], hue = 'CONTROL_N', style='Result', alpha=0.5)\n",
    "plt.title('Predicted Negative')\n",
    "plt.xlim(0,100000)\n",
    "plt.ylim(0,20000)\n",
    "plt.tight_layout()\n",
    "#plt.show()\n",
    "plt.savefig('../figures/TuitionEnrollmentResultsControl.png',bbox_inches='tight')"
   ]
  },
  {
   "cell_type": "code",
   "execution_count": null,
   "metadata": {},
   "outputs": [],
   "source": [
    "fig=plt.figure(figsize=(10,5), dpi= 100, facecolor='w', edgecolor='k')\n",
    "plt.subplot(1, 2, 1)\n",
    "sns.scatterplot('TUITFTE', 'UGDS', data=to_graph.loc[to_graph.Predicted==True], hue='Result',style='CONTROL_N', alpha=0.5 )\n",
    "plt.title('Predicted Positive')\n",
    "plt.xlim(0,100000)\n",
    "plt.ylim(0,20000)\n",
    "\n",
    "plt.subplot(1, 2, 2)\n",
    "sns.scatterplot('TUITFTE', 'UGDS', data=to_graph.loc[to_graph.Predicted==False], hue='Result', style='CONTROL_N',size='Result', sizes={20,40}, alpha=0.5)\n",
    "plt.title('Predicted Negative')\n",
    "plt.xlim(0,100000)\n",
    "plt.ylim(0,20000)\n",
    "plt.tight_layout()\n",
    "#plt.show()\n",
    "plt.savefig('../figures/TuitionEnrollmentResults.png',bbox_inches='tight')"
   ]
  },
  {
   "cell_type": "markdown",
   "metadata": {},
   "source": [
    "## Tuition and Cost"
   ]
  },
  {
   "cell_type": "code",
   "execution_count": null,
   "metadata": {},
   "outputs": [],
   "source": [
    "fig=plt.figure(figsize=(10,5), dpi= 100, facecolor='w', edgecolor='k')\n",
    "plt.subplot(1, 2, 1)\n",
    "sns.scatterplot('TUITFTE', 'Cost', data=to_graph.loc[to_graph.Predicted==True], hue ='CONTROL_N', style='Result', alpha=0.5)\n",
    "plt.xlim(0, 80000)\n",
    "plt.ylim(0, 80000)\n",
    "plt.title('Predicted Positive')\n",
    "\n",
    "plt.subplot(1, 2, 2)\n",
    "sns.scatterplot('TUITFTE', 'Cost', data=to_graph.loc[to_graph.Predicted==False], hue = 'CONTROL_N', style='Result', alpha=0.5)\n",
    "plt.xlim(0, 80000)\n",
    "plt.ylim(0, 80000)\n",
    "plt.title('Predicted Negative')\n",
    "plt.tight_layout()\n",
    "plt.savefig('../figures/TuitionCostResultsControl.png',bbox_inches='tight')"
   ]
  },
  {
   "cell_type": "code",
   "execution_count": null,
   "metadata": {},
   "outputs": [],
   "source": [
    "fig=plt.figure(figsize=(10,5), dpi= 100, facecolor='w', edgecolor='k')\n",
    "plt.subplot(1, 2, 1)\n",
    "sns.scatterplot('TUITFTE', 'Cost', data=to_graph.loc[to_graph.Predicted==True], hue ='Result', style='CONTROL_N', alpha=0.5)\n",
    "plt.xlim(0, 80000)\n",
    "plt.ylim(0, 80000)\n",
    "plt.title('Predicted Positive')\n",
    "\n",
    "plt.subplot(1, 2, 2)\n",
    "sns.scatterplot('TUITFTE', 'Cost', data=to_graph.loc[to_graph.Predicted==False], hue = 'Result', style='CONTROL_N',size='Result', sizes={20,40}, alpha=0.5)\n",
    "plt.xlim(0, 80000)\n",
    "plt.ylim(0, 80000)\n",
    "plt.title('Predicted Negative')\n",
    "plt.tight_layout()\n",
    "plt.savefig('../figures/TuitionCostResults.png',bbox_inches='tight')"
   ]
  },
  {
   "cell_type": "markdown",
   "metadata": {},
   "source": [
    "## Cost and Debt"
   ]
  },
  {
   "cell_type": "code",
   "execution_count": null,
   "metadata": {},
   "outputs": [],
   "source": [
    "fig=plt.figure(figsize=(10,5), dpi= 100, facecolor='w', edgecolor='k')\n",
    "plt.subplot(1, 2, 1)\n",
    "sns.scatterplot('Cost', 'DEBT_MDN', data=to_graph.loc[to_graph.Predicted==True], hue='CONTROL_N', style='CURROPER', alpha=0.5)\n",
    "plt.title('Predicted Positive')\n",
    "plt.ylim(0,30000)\n",
    "\n",
    "plt.subplot(1, 2, 2)\n",
    "sns.scatterplot('Cost', 'DEBT_MDN', data=to_graph.loc[to_graph.Predicted==False], hue='CONTROL_N', style='CURROPER',size='Result', sizes={20,40}, alpha=0.5) #, label='True')\n",
    "plt.title('Predicted Negative')\n",
    "plt.ylim(0,30000)\n",
    "plt.tight_layout()\n",
    "\n",
    "#plt.show()\n",
    "plt.savefig('../figures/CostDebtResultsControl.png',bbox_inches='tight')"
   ]
  },
  {
   "cell_type": "code",
   "execution_count": null,
   "metadata": {},
   "outputs": [],
   "source": [
    "fig=plt.figure(figsize=(10,5), dpi= 100, facecolor='w', edgecolor='k')\n",
    "plt.subplot(1, 2, 1)\n",
    "sns.scatterplot('Cost', 'DEBT_MDN', data=to_graph.loc[to_graph.Predicted==True], hue='CONTROL_N', style='Result', alpha=0.5)\n",
    "plt.title('Predicted Positive')\n",
    "plt.ylim(0,30000)\n",
    "plt.xlim(0,60000)\n",
    "\n",
    "plt.subplot(1, 2, 2)\n",
    "sns.scatterplot('Cost', 'DEBT_MDN', data=to_graph.loc[to_graph.Predicted==True], hue='Result', style='CONTROL_N',size='Result', sizes={20,40}, alpha=0.5)\n",
    "plt.title('PredictedPostive')\n",
    "plt.ylim(0,30000)\n",
    "plt.xlim(0,60000)\n",
    "plt.tight_layout()\n",
    "#plt.show()\n",
    "plt.savefig('../figures/TuitionCostResultsPositive.png',bbox_inches='tight')"
   ]
  },
  {
   "cell_type": "code",
   "execution_count": null,
   "metadata": {},
   "outputs": [],
   "source": [
    "fig=plt.figure(figsize=(10,5), dpi= 100, facecolor='w', edgecolor='k')\n",
    "plt.subplot(1, 2, 1)\n",
    "sns.scatterplot('Cost', 'DEBT_MDN', data=to_graph.loc[to_graph.Predicted==False], hue='CONTROL_N', style='Result', alpha=0.5)\n",
    "plt.title('Predicted Negative')\n",
    "plt.ylim(0,30000)\n",
    "plt.xlim(0,60000)\n",
    "\n",
    "plt.subplot(1, 2, 2)\n",
    "sns.scatterplot('Cost', 'DEBT_MDN', data=to_graph.loc[to_graph.Predicted==False], hue='Result', style='CONTROL_N', size='Result', sizes={20,40}, alpha=0.5)\n",
    "plt.title('Predicted Negative')\n",
    "plt.ylim(0,30000)\n",
    "plt.xlim(0,60000)\n",
    "plt.tight_layout()\n",
    "plt.show()\n",
    "plt.savefig('../figures/TuitionCostResultsNegative.png',bbox_inches='tight')"
   ]
  },
  {
   "cell_type": "markdown",
   "metadata": {},
   "source": [
    "## NumBranch"
   ]
  },
  {
   "cell_type": "code",
   "execution_count": null,
   "metadata": {},
   "outputs": [],
   "source": [
    "to_graph.NUMBRANCH.hist(bins=25)"
   ]
  },
  {
   "cell_type": "code",
   "execution_count": null,
   "metadata": {},
   "outputs": [],
   "source": [
    "fig=plt.figure(figsize=(10,4), dpi= 100, facecolor='w', edgecolor='k')\n",
    "plt.subplot(1, 2, 1)\n",
    "sns.boxplot('CONTROL_N', 'NUMBRANCH', data = to_graph, hue = 'Result')\n",
    "#plt.ylim(0, 100)\n",
    "plt.title('Number of Branches by Control')\n",
    "\n",
    "plt.subplot(1, 2, 2)\n",
    "sns.boxplot('PREDDEG', 'NUMBRANCH', data = to_graph, hue = 'Result')\n",
    "#plt.ylim(0, 100)\n",
    "plt.title('Number of Branches by Degree Type')\n",
    "plt.tight_layout()\n",
    "plt.show()"
   ]
  },
  {
   "cell_type": "code",
   "execution_count": null,
   "metadata": {},
   "outputs": [],
   "source": [
    "fig=plt.figure(figsize=(10,5), dpi= 100, facecolor='w', edgecolor='k')\n",
    "plt.subplot(1, 2, 1)\n",
    "sns.scatterplot('NUMBRANCH', 'UGDS', data=to_graph.loc[to_graph.Predicted==True], hue='Result', style='CONTROL_N', alpha=0.5)\n",
    "plt.title('Predicted Positive')\n",
    "\n",
    "plt.subplot(1, 2, 2)\n",
    "sns.scatterplot('NUMBRANCH', 'UGDS', data=to_graph.loc[to_graph.Predicted==False], hue='Result', style='CONTROL_N',size='Result', sizes={20,40}, alpha=0.5)\n",
    "plt.title('Predicted Negative')\n",
    "plt.tight_layout()\n",
    "plt.show()\n",
    "plt.savefig('../figures/NumBranchUGDSResults.png',bbox_inches='tight')"
   ]
  },
  {
   "cell_type": "markdown",
   "metadata": {},
   "source": [
    "## Instructional Expenditure"
   ]
  },
  {
   "cell_type": "code",
   "execution_count": null,
   "metadata": {},
   "outputs": [],
   "source": [
    "fig=plt.figure(figsize=(10,4), dpi= 100, facecolor='w', edgecolor='k')\n",
    "plt.subplot(1, 2, 1)\n",
    "sns.boxplot('CONTROL_N', 'INEXPFTE', data = to_graph, hue = 'Result')\n",
    "plt.ylim(0, 100000)\n",
    "plt.title('Instructional Expenditure by Control')\n",
    "\n",
    "plt.subplot(1, 2, 2)\n",
    "sns.boxplot('PREDDEG', 'INEXPFTE', data = to_graph, hue = 'Result')\n",
    "plt.ylim(0, 100000)\n",
    "plt.title('Instructional Expenditure by Degree Type')\n",
    "plt.tight_layout()\n",
    "plt.show()"
   ]
  },
  {
   "cell_type": "code",
   "execution_count": null,
   "metadata": {},
   "outputs": [],
   "source": [
    "fig=plt.figure(figsize=(10,5), dpi= 100, facecolor='w', edgecolor='k')\n",
    "plt.subplot(1, 2, 1)\n",
    "#sns.scatterplot('', 'UGDS', data=to_graph, hue = 'Result')\n",
    "sns.scatterplot('INEXPFTE', 'UGDS', data=to_graph.loc[to_graph.Predicted==True], hue='Result', style='CONTROL_N', alpha=0.5)\n",
    "plt.xlim(0, 100000)\n",
    "plt.ylim(0, 12000)\n",
    "plt.title('Predicted Positive')\n",
    "\n",
    "plt.subplot(1, 2, 2)\n",
    "#sns.scatterplot('INEXPFTE', 'UGDS', data=to_graph.loc[to_graph.Result=='FN'], hue = 'CONTROL')\n",
    "sns.scatterplot('INEXPFTE', 'UGDS', data=to_graph.loc[to_graph.Predicted==False], hue='Result', style='CONTROL_N',size='Result', sizes={20,40}, alpha=0.5)\n",
    "plt.xlim(0, 100000)\n",
    "plt.ylim(0, 12000)\n",
    "plt.title('Predicted Negative')\n",
    "plt.tight_layout()\n",
    "#plt.show()\n",
    "plt.savefig('../figures/ExpenditureUGDSResults.png',bbox_inches='tight')"
   ]
  },
  {
   "cell_type": "code",
   "execution_count": null,
   "metadata": {},
   "outputs": [],
   "source": [
    "fig=plt.figure(figsize=(10,5), dpi= 100, facecolor='w', edgecolor='k')\n",
    "plt.subplot(1, 2, 1)\n",
    "sns.scatterplot('INEXPFTE', 'Cost', data=to_graph.loc[to_graph.Predicted==True], hue='Result', style='CONTROL_N',size='Result', sizes={20,40})#, alpha=0.5)\n",
    "plt.ylim(0, 50000)\n",
    "plt.title('Predicted Positive')\n",
    "\n",
    "plt.subplot(1, 2, 2)\n",
    "sns.scatterplot('INEXPFTE', 'Cost', data=to_graph.loc[to_graph.Predicted==False], hue = 'Result', style='CONTROL_N', size='Result', sizes={20,40})\n",
    "plt.ylim(0, 50000)\n",
    "plt.title('Predicted Negative')\n",
    "plt.tight_layout()\n",
    "#plt.show()\n",
    "plt.savefig('../figures/ExpenditureCostResultsPositive.png',bbox_inches='tight')"
   ]
  },
  {
   "cell_type": "code",
   "execution_count": null,
   "metadata": {},
   "outputs": [],
   "source": [
    "## Graphs of just 4yr bachelors institutions"
   ]
  },
  {
   "cell_type": "code",
   "execution_count": null,
   "metadata": {},
   "outputs": [],
   "source": [
    "bach = to_graph.loc[to_graph['PREDDEG']=='3']\n",
    "bach.shape"
   ]
  },
  {
   "cell_type": "code",
   "execution_count": null,
   "metadata": {},
   "outputs": [],
   "source": [
    "bach.columns"
   ]
  },
  {
   "cell_type": "code",
   "execution_count": null,
   "metadata": {},
   "outputs": [],
   "source": [
    "fig=plt.figure(figsize=(10,5), dpi= 100, facecolor='w', edgecolor='k')\n",
    "plt.subplot(1, 2, 1)\n",
    "sns.scatterplot('Cost', 'DEBT_MDN', data=bach[bach.Predicted==False], hue='CONTROL_N', style='Result', alpha=0.5)\n",
    "plt.title('Predicted Negative')\n",
    "plt.ylim(0,30000)\n",
    "plt.xlim(0,60000)\n",
    "\n",
    "plt.subplot(1, 2, 2)\n",
    "sns.scatterplot('Cost', 'DEBT_MDN', data=bach.loc[bach.Predicted==False], hue='Result', style='CONTROL_N', size='Result', sizes={20,40}, alpha=0.5)\n",
    "plt.title('Predicted Negative')\n",
    "plt.ylim(0,30000)\n",
    "plt.xlim(0,60000)\n",
    "plt.tight_layout()\n",
    "plt.show()\n",
    "plt.savefig('../figures/BachTuitionCostResultsNegative.png',bbox_inches='tight')"
   ]
  },
  {
   "cell_type": "code",
   "execution_count": null,
   "metadata": {},
   "outputs": [],
   "source": [
    "fig=plt.figure(figsize=(10,5), dpi= 100, facecolor='w', edgecolor='k')\n",
    "plt.subplot(1, 2, 1)\n",
    "sns.scatterplot('Cost', 'DEBT_MDN', data=bach.loc[bach.Predicted==True], hue='CONTROL_N', style='Result', alpha=0.5)\n",
    "plt.title('Predicted Positive')\n",
    "plt.ylim(0,30000)\n",
    "plt.xlim(0,60000)\n",
    "\n",
    "plt.subplot(1, 2, 2)\n",
    "sns.scatterplot('Cost', 'DEBT_MDN', data=bach.loc[bach.Predicted==True], hue='Result', style='CONTROL_N',size='Result', sizes={20,40}, alpha=0.5)\n",
    "plt.title('PredictedPostive')\n",
    "plt.ylim(0,30000)\n",
    "plt.xlim(0,60000)\n",
    "plt.tight_layout()\n",
    "#plt.show()\n",
    "plt.savefig('../figures/BachTuitionCostResultsPositive.png',bbox_inches='tight')"
   ]
  },
  {
   "cell_type": "code",
   "execution_count": null,
   "metadata": {},
   "outputs": [],
   "source": [
    "fig=plt.figure(figsize=(10,5), dpi= 100, facecolor='w', edgecolor='k')\n",
    "plt.subplot(1, 2, 1)\n",
    "sns.scatterplot('Cost', 'DEBT_MDN', data=bach.loc[bach.Predicted==True], hue='CONTROL_N', style='CURROPER', alpha=0.5)\n",
    "plt.title('Predicted Positive')\n",
    "plt.ylim(0,30000)\n",
    "\n",
    "plt.subplot(1, 2, 2)\n",
    "sns.scatterplot('Cost', 'DEBT_MDN', data=bach.loc[bach.Predicted==False], hue='CONTROL_N', style='CURROPER',size='Result', sizes={20,40}, alpha=0.5) #, label='True')\n",
    "plt.title('Predicted Negative')\n",
    "plt.ylim(0,30000)\n",
    "plt.tight_layout()\n",
    "\n",
    "#plt.show()\n",
    "plt.savefig('../figures/BachCostDebtResultsControl.png',bbox_inches='tight')"
   ]
  },
  {
   "cell_type": "code",
   "execution_count": null,
   "metadata": {},
   "outputs": [],
   "source": [
    "fig=plt.figure(figsize=(10,5), dpi= 100, facecolor='w', edgecolor='k')\n",
    "plt.subplot(1, 2, 1)\n",
    "sns.scatterplot('TUITFTE', 'Cost', data=bach.loc[bach.Predicted==True], hue ='Result', style='CONTROL_N', alpha=0.5)\n",
    "plt.xlim(0, 80000)\n",
    "plt.ylim(0, 80000)\n",
    "plt.title('Predicted Positive')\n",
    "\n",
    "plt.subplot(1, 2, 2)\n",
    "sns.scatterplot('TUITFTE', 'Cost', data=bach.loc[bach.Predicted==False], hue = 'Result', style='CONTROL_N',size='Result', sizes={20,40}, alpha=0.5)\n",
    "plt.xlim(0, 80000)\n",
    "plt.ylim(0, 80000)\n",
    "plt.title('Predicted Negative')\n",
    "plt.tight_layout()\n",
    "plt.savefig('../figures/BachTuitionCostResults.png',bbox_inches='tight')"
   ]
  },
  {
   "cell_type": "code",
   "execution_count": null,
   "metadata": {
    "scrolled": true
   },
   "outputs": [],
   "source": [
    "fig=plt.figure(figsize=(10,5), dpi= 100, facecolor='w', edgecolor='k')\n",
    "plt.subplot(1, 2, 1)\n",
    "sns.scatterplot('TUITFTE', 'UGDS', data=bach.loc[bach.Predicted==True], hue = 'CONTROL_N',style='Result', alpha=0.5 )\n",
    "plt.title('Predicted Positive')\n",
    "plt.xlim(0,100000)\n",
    "plt.ylim(0,20000)\n",
    "\n",
    "plt.subplot(1, 2, 2)\n",
    "sns.scatterplot('TUITFTE', 'UGDS', data=bach.loc[bach.Predicted==False], hue = 'CONTROL_N', style='Result', alpha=0.5)\n",
    "plt.title('Predicted Negative')\n",
    "plt.xlim(0,100000)\n",
    "plt.ylim(0,20000)\n",
    "plt.tight_layout()\n",
    "#plt.show()\n",
    "plt.savefig('../figures/BachTuitionEnrollmentResultsControl.png',bbox_inches='tight')"
   ]
  },
  {
   "cell_type": "markdown",
   "metadata": {},
   "source": [
    "## Explore predictions of various schools"
   ]
  },
  {
   "cell_type": "code",
   "execution_count": null,
   "metadata": {},
   "outputs": [],
   "source": [
    "bethel = to_graph.loc[to_graph['INSTNM'].str.startswith('bethel')]\n",
    "bethel.shape"
   ]
  },
  {
   "cell_type": "code",
   "execution_count": null,
   "metadata": {},
   "outputs": [],
   "source": [
    "bethel.CURROPER.value_counts()"
   ]
  },
  {
   "cell_type": "code",
   "execution_count": null,
   "metadata": {},
   "outputs": [],
   "source": [
    "bethel.head()"
   ]
  },
  {
   "cell_type": "code",
   "execution_count": null,
   "metadata": {},
   "outputs": [],
   "source": [
    "taylorIN = data.loc[data['INSTNM'].str.startswith('taylor')]\n",
    "taylorIN.shape"
   ]
  },
  {
   "cell_type": "code",
   "execution_count": null,
   "metadata": {},
   "outputs": [],
   "source": [
    "taylorIN.head(7)"
   ]
  },
  {
   "cell_type": "code",
   "execution_count": null,
   "metadata": {},
   "outputs": [],
   "source": [
    "indiana = data.loc[data['INSTNM'].str.startswith('indiana university')]\n",
    "indiana.shape"
   ]
  },
  {
   "cell_type": "code",
   "execution_count": null,
   "metadata": {},
   "outputs": [],
   "source": [
    "indiana.head()"
   ]
  },
  {
   "cell_type": "code",
   "execution_count": null,
   "metadata": {},
   "outputs": [],
   "source": [
    "dangerBachPrivate = bach.loc[(bach['CONTROL']=='2') & (bach['Result']=='FN')]\n",
    "dangerBachPrivate.shape"
   ]
  },
  {
   "cell_type": "code",
   "execution_count": null,
   "metadata": {},
   "outputs": [],
   "source": [
    "dangerBachPrivate.head(7)"
   ]
  },
  {
   "cell_type": "code",
   "execution_count": null,
   "metadata": {},
   "outputs": [],
   "source": [
    "# Naropa still in operation (at least they still have an active website)\n",
    "# Thomas More still in operation\n",
    "# Williamson Christian still in operation\n",
    "# Ecclesia still open\n",
    "# Messenger still open\n",
    "# LIU = Long island university - Brentwood still open, Riverhead still open"
   ]
  }
 ],
 "metadata": {
  "kernelspec": {
   "display_name": "Python 3",
   "language": "python",
   "name": "python3"
  },
  "language_info": {
   "codemirror_mode": {
    "name": "ipython",
    "version": 3
   },
   "file_extension": ".py",
   "mimetype": "text/x-python",
   "name": "python",
   "nbconvert_exporter": "python",
   "pygments_lexer": "ipython3",
   "version": "3.7.7"
  }
 },
 "nbformat": 4,
 "nbformat_minor": 4
}
