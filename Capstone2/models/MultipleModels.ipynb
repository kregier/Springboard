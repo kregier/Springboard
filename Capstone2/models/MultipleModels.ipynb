{
 "cells": [
  {
   "cell_type": "markdown",
   "metadata": {},
   "source": [
    "The point of this notebook is to imput the data and try the same \"model\" with diffent manipulations of the data, so see which model/data combination gives the best result.\n",
    "\n",
    "Each dataset will first be run through a Decision Tree model, which will then form the basis for an AdaBoost model."
   ]
  },
  {
   "cell_type": "code",
   "execution_count": 1,
   "metadata": {},
   "outputs": [],
   "source": [
    "# Set up the environment\n",
    "import pandas as pd\n",
    "import numpy as np\n",
    "import matplotlib.pyplot as plt\n",
    "import seaborn as sns\n",
    "import time\n",
    "%matplotlib inline"
   ]
  },
  {
   "cell_type": "code",
   "execution_count": 2,
   "metadata": {},
   "outputs": [],
   "source": [
    "from sklearn.tree import DecisionTreeClassifier\n",
    "from sklearn.ensemble import RandomForestClassifier,AdaBoostClassifier\n",
    "from sklearn import metrics\n",
    "from sklearn.model_selection import train_test_split\n",
    "from sklearn.utils import resample"
   ]
  },
  {
   "cell_type": "code",
   "execution_count": 3,
   "metadata": {},
   "outputs": [
    {
     "data": {
      "text/html": [
       "<div>\n",
       "<style scoped>\n",
       "    .dataframe tbody tr th:only-of-type {\n",
       "        vertical-align: middle;\n",
       "    }\n",
       "\n",
       "    .dataframe tbody tr th {\n",
       "        vertical-align: top;\n",
       "    }\n",
       "\n",
       "    .dataframe thead th {\n",
       "        text-align: right;\n",
       "    }\n",
       "</style>\n",
       "<table border=\"1\" class=\"dataframe\">\n",
       "  <thead>\n",
       "    <tr style=\"text-align: right;\">\n",
       "      <th></th>\n",
       "      <th>OPEID</th>\n",
       "      <th>INSTNM</th>\n",
       "      <th>NUMBRANCH</th>\n",
       "      <th>PREDDEG</th>\n",
       "      <th>CONTROL</th>\n",
       "      <th>UGDS</th>\n",
       "      <th>CURROPER</th>\n",
       "      <th>TUITFTE</th>\n",
       "      <th>INEXPFTE</th>\n",
       "      <th>PFTFAC</th>\n",
       "      <th>UG25abv</th>\n",
       "      <th>COMP_ORIG_YR4_RT</th>\n",
       "      <th>WDRAW_ORIG_YR4_RT</th>\n",
       "      <th>ENRL_ORIG_YR4_RT</th>\n",
       "      <th>DEBT_MDN</th>\n",
       "      <th>Year</th>\n",
       "      <th>Cost</th>\n",
       "      <th>RetentionFT</th>\n",
       "    </tr>\n",
       "  </thead>\n",
       "  <tbody>\n",
       "    <tr>\n",
       "      <th>0</th>\n",
       "      <td>00100200</td>\n",
       "      <td>alabama a &amp; m university</td>\n",
       "      <td>1</td>\n",
       "      <td>3</td>\n",
       "      <td>1</td>\n",
       "      <td>4930.0</td>\n",
       "      <td>True</td>\n",
       "      <td>6746.0</td>\n",
       "      <td>6601.0</td>\n",
       "      <td>0.8263</td>\n",
       "      <td>NaN</td>\n",
       "      <td>0.228753</td>\n",
       "      <td>0.233519</td>\n",
       "      <td>0.162828</td>\n",
       "      <td>19000.0</td>\n",
       "      <td>2010</td>\n",
       "      <td>13762.0</td>\n",
       "      <td>0.7457</td>\n",
       "    </tr>\n",
       "    <tr>\n",
       "      <th>7414</th>\n",
       "      <td>00100200</td>\n",
       "      <td>alabama a &amp; m university</td>\n",
       "      <td>1</td>\n",
       "      <td>3</td>\n",
       "      <td>1</td>\n",
       "      <td>4112.0</td>\n",
       "      <td>True</td>\n",
       "      <td>4626.0</td>\n",
       "      <td>6841.0</td>\n",
       "      <td>0.7697</td>\n",
       "      <td>0.1400</td>\n",
       "      <td>0.249322</td>\n",
       "      <td>0.224029</td>\n",
       "      <td>0.144535</td>\n",
       "      <td>19484.5</td>\n",
       "      <td>2011</td>\n",
       "      <td>14965.0</td>\n",
       "      <td>0.6441</td>\n",
       "    </tr>\n",
       "    <tr>\n",
       "      <th>15089</th>\n",
       "      <td>00100200</td>\n",
       "      <td>alabama a &amp; m university</td>\n",
       "      <td>1</td>\n",
       "      <td>3</td>\n",
       "      <td>1</td>\n",
       "      <td>4081.0</td>\n",
       "      <td>True</td>\n",
       "      <td>6222.0</td>\n",
       "      <td>8511.0</td>\n",
       "      <td>0.7509</td>\n",
       "      <td>0.1400</td>\n",
       "      <td>0.256983</td>\n",
       "      <td>0.228252</td>\n",
       "      <td>0.150838</td>\n",
       "      <td>19000.0</td>\n",
       "      <td>2012</td>\n",
       "      <td>17351.0</td>\n",
       "      <td>0.6766</td>\n",
       "    </tr>\n",
       "    <tr>\n",
       "      <th>22882</th>\n",
       "      <td>00100200</td>\n",
       "      <td>alabama a &amp; m university</td>\n",
       "      <td>1</td>\n",
       "      <td>3</td>\n",
       "      <td>1</td>\n",
       "      <td>4051.0</td>\n",
       "      <td>True</td>\n",
       "      <td>9063.0</td>\n",
       "      <td>7459.0</td>\n",
       "      <td>0.8856</td>\n",
       "      <td>0.1049</td>\n",
       "      <td>0.256983</td>\n",
       "      <td>0.228252</td>\n",
       "      <td>0.150838</td>\n",
       "      <td>19500.0</td>\n",
       "      <td>2013</td>\n",
       "      <td>18888.0</td>\n",
       "      <td>0.6314</td>\n",
       "    </tr>\n",
       "    <tr>\n",
       "      <th>16</th>\n",
       "      <td>00100300</td>\n",
       "      <td>faulkner university</td>\n",
       "      <td>1</td>\n",
       "      <td>3</td>\n",
       "      <td>2</td>\n",
       "      <td>2334.0</td>\n",
       "      <td>True</td>\n",
       "      <td>9594.0</td>\n",
       "      <td>4245.0</td>\n",
       "      <td>0.9808</td>\n",
       "      <td>0.1049</td>\n",
       "      <td>0.156280</td>\n",
       "      <td>0.408437</td>\n",
       "      <td>0.052733</td>\n",
       "      <td>18041.0</td>\n",
       "      <td>2010</td>\n",
       "      <td>24105.0</td>\n",
       "      <td>0.6628</td>\n",
       "    </tr>\n",
       "  </tbody>\n",
       "</table>\n",
       "</div>"
      ],
      "text/plain": [
       "          OPEID                    INSTNM  NUMBRANCH  PREDDEG  CONTROL  \\\n",
       "0      00100200  alabama a & m university          1        3        1   \n",
       "7414   00100200  alabama a & m university          1        3        1   \n",
       "15089  00100200  alabama a & m university          1        3        1   \n",
       "22882  00100200  alabama a & m university          1        3        1   \n",
       "16     00100300       faulkner university          1        3        2   \n",
       "\n",
       "         UGDS  CURROPER  TUITFTE  INEXPFTE  PFTFAC  UG25abv  COMP_ORIG_YR4_RT  \\\n",
       "0      4930.0      True   6746.0    6601.0  0.8263      NaN          0.228753   \n",
       "7414   4112.0      True   4626.0    6841.0  0.7697   0.1400          0.249322   \n",
       "15089  4081.0      True   6222.0    8511.0  0.7509   0.1400          0.256983   \n",
       "22882  4051.0      True   9063.0    7459.0  0.8856   0.1049          0.256983   \n",
       "16     2334.0      True   9594.0    4245.0  0.9808   0.1049          0.156280   \n",
       "\n",
       "       WDRAW_ORIG_YR4_RT  ENRL_ORIG_YR4_RT  DEBT_MDN  Year     Cost  \\\n",
       "0               0.233519          0.162828   19000.0  2010  13762.0   \n",
       "7414            0.224029          0.144535   19484.5  2011  14965.0   \n",
       "15089           0.228252          0.150838   19000.0  2012  17351.0   \n",
       "22882           0.228252          0.150838   19500.0  2013  18888.0   \n",
       "16              0.408437          0.052733   18041.0  2010  24105.0   \n",
       "\n",
       "       RetentionFT  \n",
       "0           0.7457  \n",
       "7414        0.6441  \n",
       "15089       0.6766  \n",
       "22882       0.6314  \n",
       "16          0.6628  "
      ]
     },
     "execution_count": 3,
     "metadata": {},
     "output_type": "execute_result"
    }
   ],
   "source": [
    "# Upload the original dataset - Subsets will be made off of this original dataframe\n",
    "original = pd.read_csv('../data/processed/DecisionTreeData2010.csv', index_col=0)\n",
    "to_drop = ['CITY', 'HIGHDEG', 'ADM_RATE', 'NetPrice', 'region','EnrollmentBins','Complete',\\\n",
    "           'TuitionBins','ExpenditureBins','FacultyBins', 'AVGFACSAL', 'RetentionPT', 'PCTFLOAN']\n",
    "original = original.drop(to_drop, axis=1)\n",
    "original.head()"
   ]
  },
  {
   "cell_type": "code",
   "execution_count": 4,
   "metadata": {},
   "outputs": [
    {
     "name": "stdout",
     "output_type": "stream",
     "text": [
      "<class 'pandas.core.frame.DataFrame'>\n",
      "Int64Index: 30682 entries, 0 to 26121\n",
      "Data columns (total 18 columns):\n",
      " #   Column             Non-Null Count  Dtype  \n",
      "---  ------             --------------  -----  \n",
      " 0   OPEID              30682 non-null  object \n",
      " 1   INSTNM             30682 non-null  object \n",
      " 2   NUMBRANCH          30682 non-null  int64  \n",
      " 3   PREDDEG            30682 non-null  int64  \n",
      " 4   CONTROL            30682 non-null  int64  \n",
      " 5   UGDS               30682 non-null  float64\n",
      " 6   CURROPER           30682 non-null  bool   \n",
      " 7   TUITFTE            30682 non-null  float64\n",
      " 8   INEXPFTE           30682 non-null  float64\n",
      " 9   PFTFAC             30682 non-null  float64\n",
      " 10  UG25abv            30681 non-null  float64\n",
      " 11  COMP_ORIG_YR4_RT   30682 non-null  float64\n",
      " 12  WDRAW_ORIG_YR4_RT  30682 non-null  float64\n",
      " 13  ENRL_ORIG_YR4_RT   30682 non-null  float64\n",
      " 14  DEBT_MDN           30682 non-null  float64\n",
      " 15  Year               30682 non-null  int64  \n",
      " 16  Cost               30682 non-null  float64\n",
      " 17  RetentionFT        30682 non-null  float64\n",
      "dtypes: bool(1), float64(11), int64(4), object(2)\n",
      "memory usage: 4.2+ MB\n"
     ]
    }
   ],
   "source": [
    "original.info()"
   ]
  },
  {
   "cell_type": "code",
   "execution_count": 5,
   "metadata": {},
   "outputs": [
    {
     "data": {
      "text/plain": [
       "(2759, 18)"
      ]
     },
     "execution_count": 5,
     "metadata": {},
     "output_type": "execute_result"
    }
   ],
   "source": [
    "original_closed = original.loc[original.CURROPER == False]\n",
    "original_closed.shape"
   ]
  },
  {
   "cell_type": "code",
   "execution_count": 6,
   "metadata": {},
   "outputs": [
    {
     "data": {
      "text/plain": [
       "(27923, 18)"
      ]
     },
     "execution_count": 6,
     "metadata": {},
     "output_type": "execute_result"
    }
   ],
   "source": [
    "original_open = original.loc[original.CURROPER==True]\n",
    "original_open.shape"
   ]
  },
  {
   "cell_type": "code",
   "execution_count": 7,
   "metadata": {},
   "outputs": [
    {
     "data": {
      "text/plain": [
       "(7440, 18)"
      ]
     },
     "execution_count": 7,
     "metadata": {},
     "output_type": "execute_result"
    }
   ],
   "source": [
    "current_open = original_open.loc[original_open.Year > 2012]\n",
    "current_open.shape"
   ]
  },
  {
   "cell_type": "code",
   "execution_count": 8,
   "metadata": {},
   "outputs": [
    {
     "name": "stdout",
     "output_type": "stream",
     "text": [
      "Shape: (10199, 18)\n"
     ]
    },
    {
     "data": {
      "text/plain": [
       "True     7440\n",
       "False    2759\n",
       "Name: CURROPER, dtype: int64"
      ]
     },
     "execution_count": 8,
     "metadata": {},
     "output_type": "execute_result"
    }
   ],
   "source": [
    "current = current_open.append(original_closed)\n",
    "print(\"Shape:\" , current.shape)\n",
    "current.CURROPER.value_counts()"
   ]
  },
  {
   "cell_type": "markdown",
   "metadata": {},
   "source": [
    "## Create the new datasets"
   ]
  },
  {
   "cell_type": "code",
   "execution_count": 9,
   "metadata": {},
   "outputs": [
    {
     "name": "stdout",
     "output_type": "stream",
     "text": [
      "Shape:  (12958, 18)\n"
     ]
    },
    {
     "data": {
      "text/plain": [
       "True     7440\n",
       "False    5518\n",
       "Name: CURROPER, dtype: int64"
      ]
     },
     "execution_count": 9,
     "metadata": {},
     "output_type": "execute_result"
    }
   ],
   "source": [
    "# Original dataset, but resample the closed data by simply adding all it again\n",
    "double_closed = current.append(original_closed)\n",
    "print(\"Shape: \", double_closed.shape)\n",
    "double_closed.CURROPER.value_counts()"
   ]
  },
  {
   "cell_type": "code",
   "execution_count": 10,
   "metadata": {},
   "outputs": [
    {
     "name": "stdout",
     "output_type": "stream",
     "text": [
      "Shape:  (14880, 18)\n"
     ]
    },
    {
     "data": {
      "text/plain": [
       "True     7440\n",
       "False    7440\n",
       "Name: CURROPER, dtype: int64"
      ]
     },
     "execution_count": 10,
     "metadata": {},
     "output_type": "execute_result"
    }
   ],
   "source": [
    "# Original dataset, but resample the closed data to make it the same size as the open class\n",
    "closed_upsample = resample(original_closed, replace=True, n_samples=current_open.shape[0], random_state=123)\n",
    "resample_closed = pd.concat([current_open, closed_upsample], axis=0)\n",
    "print(\"Shape: \", resample_closed.shape)\n",
    "resample_closed.CURROPER.value_counts()"
   ]
  },
  {
   "cell_type": "code",
   "execution_count": 11,
   "metadata": {},
   "outputs": [
    {
     "name": "stdout",
     "output_type": "stream",
     "text": [
      "Shape:  (14880, 18)\n"
     ]
    },
    {
     "data": {
      "text/plain": [
       "True     7440\n",
       "False    3720\n",
       "Name: CURROPER, dtype: int64"
      ]
     },
     "execution_count": 11,
     "metadata": {},
     "output_type": "execute_result"
    }
   ],
   "source": [
    "# Original dataset, but resample the closed data to make it half the size as the open class\n",
    "full_open = current_open.shape[0]\n",
    "half_open = int(full_open / 2)\n",
    "\n",
    "closed_halfsample = resample(original_closed, replace=True, n_samples=half_open, random_state=123)\n",
    "resample_half = pd.concat([current_open, closed_halfsample], axis=0)\n",
    "print(\"Shape: \", resample_closed.shape)\n",
    "resample_half.CURROPER.value_counts()"
   ]
  },
  {
   "cell_type": "code",
   "execution_count": 12,
   "metadata": {},
   "outputs": [
    {
     "name": "stdout",
     "output_type": "stream",
     "text": [
      "Closed bachelors shape:  (241, 18)\n",
      "Current open bachelors shape:  (2100, 18)\n",
      "Shape:  (2341, 18)\n"
     ]
    }
   ],
   "source": [
    "# All closed bachelors schools from original, but only the last year for open bachelors schools\n",
    "all_bach = original.loc[original.PREDDEG==3]\n",
    "closed_bach = all_bach.loc[all_bach.CURROPER == False]\n",
    "print(\"Closed bachelors shape: \", closed_bach.shape)\n",
    "open_bach = all_bach.loc[all_bach.CURROPER == True]\n",
    "current_bach = open_bach.loc[all_bach.Year > 2012]\n",
    "print(\"Current open bachelors shape: \", current_bach.shape)\n",
    "bachelor = pd.concat([closed_bach, current_bach], axis=0)\n",
    "print(\"Shape: \", bachelor.shape)"
   ]
  },
  {
   "cell_type": "code",
   "execution_count": 13,
   "metadata": {},
   "outputs": [
    {
     "name": "stdout",
     "output_type": "stream",
     "text": [
      "Shape:  (4200, 18)\n"
     ]
    },
    {
     "data": {
      "text/plain": [
       "True     2100\n",
       "False    2100\n",
       "Name: CURROPER, dtype: int64"
      ]
     },
     "execution_count": 13,
     "metadata": {},
     "output_type": "execute_result"
    }
   ],
   "source": [
    "# Resample the closed bachelor schools to be roughly equal to the number of open bachelors schools\n",
    "bachelor_upsample = resample(closed_bach, replace=True, n_samples = current_bach.shape[0], random_state=123)\n",
    "bachelor_resample = pd.concat([bachelor_upsample, current_bach], axis=0)\n",
    "print(\"Shape: \", bachelor_resample.shape)\n",
    "bachelor_resample.CURROPER.value_counts()"
   ]
  },
  {
   "cell_type": "code",
   "execution_count": 14,
   "metadata": {},
   "outputs": [],
   "source": [
    "current_dict = {'data':current}\n",
    "double_closed_dict = {'data':double_closed}\n",
    "resample_closed_dict = {'data':resample_closed}\n",
    "resample_half_dict = {'data':resample_half}\n",
    "bachelor_dict = {'data':bachelor}\n",
    "bachelor_resample_dict = {'data':bachelor_resample}\n",
    "\n",
    "datasets = {'current':current_dict, 'double_closed':double_closed_dict,'resample_half':resample_half_dict, 'resample_closed':resample_closed_dict,\n",
    "            'bachelor':bachelor_dict, 'bachelor_resample':bachelor_resample_dict}"
   ]
  },
  {
   "cell_type": "markdown",
   "metadata": {},
   "source": [
    "## Create a pipeline/for loop to process all of the datasets.\n",
    "First define functions to do the different modeling tasks that I want."
   ]
  },
  {
   "cell_type": "code",
   "execution_count": 15,
   "metadata": {},
   "outputs": [],
   "source": [
    "def tree_depth(X_train, X_test, y_train, y_test):\n",
    "    max_depth = []\n",
    "    acc_gini = []\n",
    "    acc_entropy = []\n",
    "    for i in range(1, 31):\n",
    "        gtree = DecisionTreeClassifier(criterion='gini', max_depth=i, random_state=21)\n",
    "        gtree.fit(X_train, y_train)\n",
    "        gpredict = gtree.predict(X_test)\n",
    "        acc_gini.append(metrics.accuracy_score(y_test, gpredict))\n",
    "        ##\n",
    "        etree = DecisionTreeClassifier(criterion='entropy', max_depth=i, random_state=21)\n",
    "        etree.fit(X_train, y_train)\n",
    "        epredict = etree.predict(X_test)\n",
    "        acc_entropy.append(metrics.accuracy_score(y_test, epredict))\n",
    "        ##\n",
    "        max_depth.append(i)\n",
    "        \n",
    "    gini_max = max(acc_gini)\n",
    "    gini_idx = acc_gini.index(gini_max)\n",
    "    entropy_max = max(acc_entropy)\n",
    "    entropy_idx = acc_entropy.index(entropy_max)\n",
    "\n",
    "    if gini_max > entropy_max:\n",
    "        depth = max_depth[gini_idx]\n",
    "        crit = 'gini'\n",
    "    else:\n",
    "        depth = max_depth[entropy_idx]\n",
    "        crit='entropy'\n",
    "    \n",
    "    return depth, crit\n",
    "        "
   ]
  },
  {
   "cell_type": "code",
   "execution_count": 16,
   "metadata": {},
   "outputs": [],
   "source": [
    "def AB_n_estimators(X_train, X_test, y_train, y_test, model):\n",
    "    AB_depth = []\n",
    "    score_b = []\n",
    "\n",
    "    for i in range(105, 131, 1):\n",
    "        btree = AdaBoostClassifier(model, n_estimators=i, random_state=21)\n",
    "        btree.fit(X_train, y_train)\n",
    "        bpredict = btree.predict(X_test)\n",
    "        score_b.append(metrics.accuracy_score(y_test, bpredict))\n",
    "        AB_depth.append(i)\n",
    "        \n",
    "    ideal_estimators = max(score_b)\n",
    "    idx = score_b.index(ideal_estimators)\n",
    "    return AB_depth[idx]"
   ]
  },
  {
   "cell_type": "code",
   "execution_count": 17,
   "metadata": {},
   "outputs": [],
   "source": [
    "for dset in datasets:\n",
    "    # Split into X and y\n",
    "    data = datasets[dset]['data']\n",
    "    y = data['CURROPER']\n",
    "    X = data.drop(['CURROPER', 'OPEID', 'INSTNM', 'Year'], axis=1)\n",
    "    # Split into train and test sets\n",
    "    X_train, X_test, y_train, y_test = train_test_split(\n",
    "        X, y, test_size=0.3, random_state=21, stratify=y)\n",
    "    # Cycle through Decision Tree model to get best depth\n",
    "    DTdepth, DTcrit = tree_depth(X_train, X_test, y_train, y_test)\n",
    "    # Train Decision Tree model with best depth\n",
    "    modelDT = DecisionTreeClassifier(criterion=DTcrit, max_depth=DTdepth, random_state=21)\n",
    "    datasets[dset]['dt_model'] = modelDT.fit(X_train, y_train)\n",
    "    datasets[dset]['dt_pred'] = modelDT.predict(X_test)\n",
    "    datasets[dset]['dt_pred_prob'] = modelDT.predict_proba(X_test)\n",
    "    datasets[dset]['y_test'] = y_test\n",
    "    # Record metrics\n",
    "    datasets[dset]['dt_confusion'] = metrics.confusion_matrix(y_test, datasets[dset]['dt_pred'])\n",
    "    datasets[dset]['dt_classification'] = metrics.classification_report(y_test, datasets[dset]['dt_pred'])\n",
    "#     importances = modelDT.feature_importances_\n",
    "#     indices = np.argsort(importances)[::-1]\n",
    "#     names = [X_train.columns[i] for i in indices]\n",
    "#     datasets[dset]['dt_importance'] = list(zip(names, importances))\n",
    "    \n",
    "    # Cycle through AdaBoost model to get n_estimators\n",
    "    n_est = AB_n_estimators(X_train, X_test, y_train, y_test, modelDT)\n",
    "    # Train AdaBoost model with n_estimators\n",
    "    modelAB = AdaBoostClassifier(modelDT, n_estimators=n_est, random_state=21)\n",
    "    datasets[dset]['ab_model'] = modelAB.fit(X_train, y_train)\n",
    "    datasets[dset]['ab_pred'] = modelAB.predict(X_test)\n",
    "    datasets[dset]['ab_pred_prob'] = modelAB.predict_proba(X_test)\n",
    "    \n",
    "    # Record metrics\n",
    "    datasets[dset]['ab_confusion'] = metrics.confusion_matrix(y_test, datasets[dset]['ab_pred'])\n",
    "    datasets[dset]['ab_classification'] = metrics.classification_report(y_test, datasets[dset]['ab_pred'])\n",
    "#     ABimportances = modelAB.feature_importances_\n",
    "#     indices = np.argsort(ABimportances)[::-1]\n",
    "#     datasets[dset]['ab_importance'] = list(zip(names, ABimportances))"
   ]
  },
  {
   "cell_type": "code",
   "execution_count": 18,
   "metadata": {},
   "outputs": [],
   "source": [
    "AB_accuracy = []\n",
    "AB_no_prec = []\n",
    "AB_no_recall = []\n",
    "for dset in datasets:\n",
    "    acc = metrics.accuracy_score(datasets[dset]['y_test'], datasets[dset]['ab_pred'])\n",
    "    prec = metrics.precision_score(datasets[dset]['y_test'], datasets[dset]['ab_pred'], pos_label = 0)\n",
    "    rec = metrics.recall_score(datasets[dset]['y_test'], datasets[dset]['ab_pred'], pos_label = 0)\n",
    "    AB_accuracy.append(acc)\n",
    "    AB_no_prec.append(prec)\n",
    "    AB_no_recall.append(rec)"
   ]
  },
  {
   "cell_type": "code",
   "execution_count": 21,
   "metadata": {},
   "outputs": [],
   "source": [
    "models = [key for key in datasets.keys()]\n",
    "names=['current', 'double', 'half', 'resample', 'bachelor', 'bach_resamp']"
   ]
  },
  {
   "cell_type": "code",
   "execution_count": 22,
   "metadata": {},
   "outputs": [
    {
     "data": {
      "image/png": "[encoded data removed]",
      "text/plain": [
       "<Figure size 432x288 with 1 Axes>"
      ]
     },
     "metadata": {
      "needs_background": "light"
     },
     "output_type": "display_data"
    }
   ],
   "source": [
    "plt.plot(names, AB_accuracy, label='accuracy')\n",
    "plt.plot(names, AB_no_prec, label='precision')\n",
    "plt.plot(names, AB_no_recall, label = 'recall')\n",
    "plt.ylabel('Score')\n",
    "plt.xlabel('Model')\n",
    "plt.legend()\n",
    "plt.show()"
   ]
  },
  {
   "cell_type": "code",
   "execution_count": null,
   "metadata": {},
   "outputs": [],
   "source": []
  }
 ],
 "metadata": {
  "kernelspec": {
   "display_name": "Python 3",
   "language": "python",
   "name": "python3"
  },
  "language_info": {
   "codemirror_mode": {
    "name": "ipython",
    "version": 3
   },
   "file_extension": ".py",
   "mimetype": "text/x-python",
   "name": "python",
   "nbconvert_exporter": "python",
   "pygments_lexer": "ipython3",
   "version": "3.7.7"
  }
 },
 "nbformat": 4,
 "nbformat_minor": 4
}
