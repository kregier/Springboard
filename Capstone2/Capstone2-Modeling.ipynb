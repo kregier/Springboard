{
 "cells": [
  {
   "cell_type": "code",
   "execution_count": 1,
   "metadata": {},
   "outputs": [],
   "source": [
    "# Set up the environment\n",
    "import pandas as pd\n",
    "import numpy as np\n",
    "import matplotlib.pyplot as plt\n",
    "import seaborn as sns\n",
    "import time\n",
    "%matplotlib inline"
   ]
  },
  {
   "cell_type": "code",
   "execution_count": 31,
   "metadata": {},
   "outputs": [],
   "source": [
    "# Upload the data\n",
    "X_train = pd.read_csv('data/processed/X_train.csv', index_col=0)\n",
    "X_test = pd.read_csv('data/processed/X_test.csv', index_col=0)\n",
    "y_train = pd.read_csv('data/processed/y_train.csv', index_col=0)\n",
    "y_test = pd.read_csv('data/processed/y_test.csv', index_col=0)"
   ]
  },
  {
   "cell_type": "code",
   "execution_count": 32,
   "metadata": {},
   "outputs": [
    {
     "name": "stdout",
     "output_type": "stream",
     "text": [
      "<class 'pandas.core.frame.DataFrame'>\n",
      "Int64Index: 55025 entries, 2905 to 78034\n",
      "Data columns (total 20 columns):\n",
      " #   Column             Non-Null Count  Dtype  \n",
      "---  ------             --------------  -----  \n",
      " 0   NUMBRANCH          55025 non-null  float64\n",
      " 1   UGDS               55025 non-null  float64\n",
      " 2   TUITFTE            55025 non-null  float64\n",
      " 3   INEXPFTE           55025 non-null  float64\n",
      " 4   PFTFAC             55025 non-null  float64\n",
      " 5   UG25abv            55025 non-null  float64\n",
      " 6   COMP_ORIG_YR4_RT   55025 non-null  float64\n",
      " 7   WDRAW_ORIG_YR4_RT  55025 non-null  float64\n",
      " 8   ENRL_ORIG_YR4_RT   55025 non-null  float64\n",
      " 9   DEBT_MDN           55025 non-null  float64\n",
      " 10  Year               55025 non-null  float64\n",
      " 11  Cost               55025 non-null  float64\n",
      " 12  Complete           55025 non-null  float64\n",
      " 13  RetentionFT        55025 non-null  float64\n",
      " 14  PREDDEG_1          55025 non-null  float64\n",
      " 15  PREDDEG_2          55025 non-null  float64\n",
      " 16  PREDDEG_3          55025 non-null  float64\n",
      " 17  PREDDEG_4          55025 non-null  float64\n",
      " 18  CONTROL_2.0        55025 non-null  float64\n",
      " 19  CONTROL_3.0        55025 non-null  float64\n",
      "dtypes: float64(20)\n",
      "memory usage: 8.8 MB\n"
     ]
    }
   ],
   "source": [
    "X_train.info()"
   ]
  },
  {
   "cell_type": "code",
   "execution_count": 33,
   "metadata": {},
   "outputs": [
    {
     "name": "stdout",
     "output_type": "stream",
     "text": [
      "<class 'pandas.core.frame.DataFrame'>\n",
      "Int64Index: 55025 entries, 10080 to 62883\n",
      "Data columns (total 1 columns):\n",
      " #   Column    Non-Null Count  Dtype\n",
      "---  ------    --------------  -----\n",
      " 0   CURROPER  55025 non-null  bool \n",
      "dtypes: bool(1)\n",
      "memory usage: 483.6 KB\n"
     ]
    }
   ],
   "source": [
    "y_train.info()"
   ]
  },
  {
   "cell_type": "code",
   "execution_count": 34,
   "metadata": {},
   "outputs": [],
   "source": [
    "y = y_train.CURROPER.ravel()"
   ]
  },
  {
   "cell_type": "markdown",
   "metadata": {},
   "source": [
    "# Modeling\n",
    "## Logistic Regression\n",
    "\n",
    "Hyperparameters to tune:\n",
    "- C - inverse of regularization strength; positive float; smaller values are stronger regularization, may lead to underfit model; large C may lead to overfitting\n",
    "- penalty (l1, l2, elasticnet, none) \n",
    "- l1_ratio - for elastic-net paramter mixing: l1_ratio = 0 == L2 penalty; l1_ratio = 1 == L1 penalty, so no need to use l1 and l2 as penalty parameters, since they will be encompassed in the elastic net values"
   ]
  },
  {
   "cell_type": "code",
   "execution_count": 3,
   "metadata": {},
   "outputs": [],
   "source": [
    "# Import and instantiate model\n",
    "from sklearn.linear_model import LogisticRegression"
   ]
  },
  {
   "cell_type": "code",
   "execution_count": 37,
   "metadata": {},
   "outputs": [],
   "source": [
    "# Hyperparameter search\n",
    "from sklearn.model_selection import RandomizedSearchCV\n",
    "\n",
    "c_grid = [0.001, 0.01, 0.1, 1, 10]\n",
    "pen_grid = ['elasticnet']\n",
    "l1_ratio_grid = [0, 0.1, 0.25, 0.5, 0.75, 0.9, 1]\n",
    "max_iter_grid = [100, 500, 1000, 1500, 2000]\n",
    "\n",
    "param_grid = {'C':c_grid, 'penalty':pen_grid, 'l1_ratio':l1_ratio_grid,'max_iter':max_iter_grid}"
   ]
  },
  {
   "cell_type": "markdown",
   "metadata": {},
   "source": [
    "Note: trying to use pen_grid = ['none', 'elasticnet'] led to errors, since the l1_ratio parameter is only valid for elastic net penatly, not none. If I want to train a model with no penalty, I will have to run a separate Grid search."
   ]
  },
  {
   "cell_type": "code",
   "execution_count": 38,
   "metadata": {},
   "outputs": [],
   "source": [
    "logreg = LogisticRegression(solver = 'saga')\n",
    "logreg_cv = RandomizedSearchCV(logreg, param_grid, cv=5)"
   ]
  },
  {
   "cell_type": "markdown",
   "metadata": {},
   "source": [
    "Note - default solver 'lbfgs' can't handle elasticnet penalty.\n",
    "Note - with default max_iter = 100, kept getting ConvergenceWarning: The max_iter was reached which means the coef_ did not converge, so I added max_iter as a grid search parameter"
   ]
  },
  {
   "cell_type": "code",
   "execution_count": 40,
   "metadata": {},
   "outputs": [
    {
     "name": "stderr",
     "output_type": "stream",
     "text": [
      "/opt/anaconda3/lib/python3.7/site-packages/sklearn/linear_model/_sag.py:330: ConvergenceWarning: The max_iter was reached which means the coef_ did not converge\n",
      "  \"the coef_ did not converge\", ConvergenceWarning)\n",
      "/opt/anaconda3/lib/python3.7/site-packages/sklearn/linear_model/_sag.py:330: ConvergenceWarning: The max_iter was reached which means the coef_ did not converge\n",
      "  \"the coef_ did not converge\", ConvergenceWarning)\n",
      "/opt/anaconda3/lib/python3.7/site-packages/sklearn/linear_model/_sag.py:330: ConvergenceWarning: The max_iter was reached which means the coef_ did not converge\n",
      "  \"the coef_ did not converge\", ConvergenceWarning)\n",
      "/opt/anaconda3/lib/python3.7/site-packages/sklearn/linear_model/_sag.py:330: ConvergenceWarning: The max_iter was reached which means the coef_ did not converge\n",
      "  \"the coef_ did not converge\", ConvergenceWarning)\n",
      "/opt/anaconda3/lib/python3.7/site-packages/sklearn/linear_model/_sag.py:330: ConvergenceWarning: The max_iter was reached which means the coef_ did not converge\n",
      "  \"the coef_ did not converge\", ConvergenceWarning)\n"
     ]
    },
    {
     "data": {
      "text/plain": [
       "RandomizedSearchCV(cv=5, error_score=nan,\n",
       "                   estimator=LogisticRegression(C=1.0, class_weight=None,\n",
       "                                                dual=False, fit_intercept=True,\n",
       "                                                intercept_scaling=1,\n",
       "                                                l1_ratio=None, max_iter=100,\n",
       "                                                multi_class='auto', n_jobs=None,\n",
       "                                                penalty='l2', random_state=None,\n",
       "                                                solver='saga', tol=0.0001,\n",
       "                                                verbose=0, warm_start=False),\n",
       "                   iid='deprecated', n_iter=10, n_jobs=None,\n",
       "                   param_distributions={'C': [0.001, 0.01, 0.1, 1, 10],\n",
       "                                        'l1_ratio': [0, 0.1, 0.25, 0.5, 0.75,\n",
       "                                                     0.9, 1],\n",
       "                                        'max_iter': [100, 500, 1000, 1500,\n",
       "                                                     2000],\n",
       "                                        'penalty': ['elasticnet']},\n",
       "                   pre_dispatch='2*n_jobs', random_state=None, refit=True,\n",
       "                   return_train_score=False, scoring=None, verbose=0)"
      ]
     },
     "execution_count": 40,
     "metadata": {},
     "output_type": "execute_result"
    }
   ],
   "source": [
    "logreg_cv.fit(X_train, y)"
   ]
  },
  {
   "cell_type": "code",
   "execution_count": 41,
   "metadata": {},
   "outputs": [
    {
     "name": "stdout",
     "output_type": "stream",
     "text": [
      "Best params:  {'penalty': 'elasticnet', 'max_iter': 2000, 'l1_ratio': 0.25, 'C': 0.001}\n",
      "Best score:  0.8530667878237166\n"
     ]
    }
   ],
   "source": [
    "print(\"Best params: \" , logreg_cv.best_params_)\n",
    "print(\"Best score: \", logreg_cv.best_score_)"
   ]
  },
  {
   "cell_type": "markdown",
   "metadata": {},
   "source": [
    "### Run the model with the best parameters"
   ]
  },
  {
   "cell_type": "code",
   "execution_count": 44,
   "metadata": {},
   "outputs": [
    {
     "name": "stdout",
     "output_type": "stream",
     "text": [
      "Fit time =  3.6703898906707764\n",
      "Predict time =  0.0017561912536621094\n"
     ]
    }
   ],
   "source": [
    "modelLR = LogisticRegression(C = 0.001, penalty = 'elasticnet', l1_ratio=0.25, max_iter = 2000, solver = 'saga')\n",
    "start = time.time()\n",
    "modelLR.fit(X_train, y)\n",
    "end = time.time()\n",
    "print(\"Fit time = \", end - start)\n",
    "\n",
    "start = time.time()\n",
    "y_pred = modelLR.predict(X_test)\n",
    "end = time.time()\n",
    "print(\"Predict time = \", end - start)\n",
    "\n",
    "y_pred_prob = modelLR.predict_proba(X_test)[:, 1]"
   ]
  },
  {
   "cell_type": "markdown",
   "metadata": {},
   "source": [
    "### Evaluate the model"
   ]
  },
  {
   "cell_type": "code",
   "execution_count": 45,
   "metadata": {},
   "outputs": [
    {
     "name": "stdout",
     "output_type": "stream",
     "text": [
      "[[    3  3463]\n",
      " [    5 20112]]\n"
     ]
    }
   ],
   "source": [
    "# Evaluate model\n",
    "# Confusion matrix\n",
    "from sklearn.metrics import classification_report, confusion_matrix\n",
    "print(confusion_matrix(y_test, y_pred))"
   ]
  },
  {
   "cell_type": "code",
   "execution_count": 46,
   "metadata": {},
   "outputs": [
    {
     "name": "stdout",
     "output_type": "stream",
     "text": [
      "              precision    recall  f1-score   support\n",
      "\n",
      "       False       0.38      0.00      0.00      3466\n",
      "        True       0.85      1.00      0.92     20117\n",
      "\n",
      "    accuracy                           0.85     23583\n",
      "   macro avg       0.61      0.50      0.46     23583\n",
      "weighted avg       0.78      0.85      0.79     23583\n",
      "\n"
     ]
    }
   ],
   "source": [
    "# Classification report\n",
    "print(classification_report(y_test, y_pred))"
   ]
  },
  {
   "cell_type": "code",
   "execution_count": 47,
   "metadata": {},
   "outputs": [
    {
     "data": {
      "image/png": "[encoded data removed]",
      "text/plain": [
       "<Figure size 432x288 with 1 Axes>"
      ]
     },
     "metadata": {
      "needs_background": "light"
     },
     "output_type": "display_data"
    }
   ],
   "source": [
    "# ROC curve\n",
    "from sklearn.metrics import roc_curve, roc_auc_score\n",
    "fpr, tpr, thresholds = roc_curve(y_test, y_pred_prob)\n",
    "\n",
    "plt.plot( [0,1], [0,1], 'k--')\n",
    "plt.plot(fpr, tpr, label='Logistic Regression')\n",
    "plt.xlabel('False Positive Rate')\n",
    "plt.ylabel('True Positive Rate')\n",
    "plt.title('Logistic Regression ROC Curve')\n",
    "plt.show()"
   ]
  },
  {
   "cell_type": "code",
   "execution_count": 48,
   "metadata": {},
   "outputs": [
    {
     "name": "stdout",
     "output_type": "stream",
     "text": [
      "AUC:  0.7748365942674477\n"
     ]
    }
   ],
   "source": [
    "print(\"AUC: \", roc_auc_score(y_test, y_pred_prob))"
   ]
  },
  {
   "cell_type": "markdown",
   "metadata": {},
   "source": [
    "## Decision Tree\n",
    "Parameters to search:\n",
    "max_features\n",
    "max_depth\n",
    "min_samples_leaf"
   ]
  },
  {
   "cell_type": "code",
   "execution_count": null,
   "metadata": {},
   "outputs": [],
   "source": [
    "from sklearn.tree import DecisionTreeClassifier\n",
    "#from sklearn.model_selection import RandomizedSearchCV"
   ]
  },
  {
   "cell_type": "code",
   "execution_count": null,
   "metadata": {},
   "outputs": [],
   "source": [
    "feature_grid = []\n",
    "depth_grid = []\n",
    "leaf_grid = []\n",
    "\n",
    "param_grid = {'max_features':feature_grid, 'max_depth':max_depth, 'min_samples_leaf':leaf_grid}"
   ]
  },
  {
   "cell_type": "code",
   "execution_count": null,
   "metadata": {},
   "outputs": [],
   "source": [
    "tree = DecisionTreeClassifier()\n",
    "tree_cv = RandomizedSearchCV(tree, param_grid, cv=5)\n",
    "tree_cv.fit(X_train, y_train)"
   ]
  },
  {
   "cell_type": "code",
   "execution_count": null,
   "metadata": {},
   "outputs": [],
   "source": [
    "print(\"Best params: \" , tree_cv.best_params_)\n",
    "print(\"Best score: \", tree_cv.best_score_)"
   ]
  },
  {
   "cell_type": "markdown",
   "metadata": {},
   "source": [
    "## Random Forest\n",
    "\n",
    "Hyperparameters:\n",
    "- number of features per tree\n",
    "- number of trees per forest (n_estimators)\n",
    "- depth(?)"
   ]
  },
  {
   "cell_type": "code",
   "execution_count": null,
   "metadata": {},
   "outputs": [],
   "source": [
    "from sklearn.ensemble import RandomForestClassifier\n"
   ]
  },
  {
   "cell_type": "code",
   "execution_count": null,
   "metadata": {},
   "outputs": [],
   "source": [
    "n_tree_grid = []\n",
    "depth_grid = []\n",
    "n_features_tree = [] #'auto'\n",
    "\n",
    "param_grid = {'n_estimators':n_tree_grid}"
   ]
  },
  {
   "cell_type": "code",
   "execution_count": null,
   "metadata": {},
   "outputs": [],
   "source": [
    "forest = RandomForestClassifier()\n",
    "forest_cv = RandomizedSearchCV(forest, param_grid, cv=5)"
   ]
  }
 ],
 "metadata": {
  "kernelspec": {
   "display_name": "Python 3",
   "language": "python",
   "name": "python3"
  },
  "language_info": {
   "codemirror_mode": {
    "name": "ipython",
    "version": 3
   },
   "file_extension": ".py",
   "mimetype": "text/x-python",
   "name": "python",
   "nbconvert_exporter": "python",
   "pygments_lexer": "ipython3",
   "version": "3.7.7"
  }
 },
 "nbformat": 4,
 "nbformat_minor": 4
}
