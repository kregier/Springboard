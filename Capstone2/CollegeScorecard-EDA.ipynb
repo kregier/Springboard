{
 "cells": [
  {
   "cell_type": "markdown",
   "metadata": {},
   "source": [
    "Goal: Explore the data relationships of all your features and understand how the features compare to the response variable.\n",
    "● Build data profiles and tables - Inferential statistics\n",
    "● Explore data relationships - Data visualization\n",
    "● Feature Selection and Engineering"
   ]
  },
  {
   "cell_type": "code",
   "execution_count": 1,
   "metadata": {},
   "outputs": [],
   "source": [
    "# Set up the environment\n",
    "import pandas as pd\n",
    "import numpy as np\n",
    "import seaborn as sns\n",
    "import matplotlib.pyplot as plt\n",
    "%matplotlib inline"
   ]
  },
  {
   "cell_type": "code",
   "execution_count": 2,
   "metadata": {},
   "outputs": [
    {
     "data": {
      "text/html": [
       "<div>\n",
       "<style scoped>\n",
       "    .dataframe tbody tr th:only-of-type {\n",
       "        vertical-align: middle;\n",
       "    }\n",
       "\n",
       "    .dataframe tbody tr th {\n",
       "        vertical-align: top;\n",
       "    }\n",
       "\n",
       "    .dataframe thead th {\n",
       "        text-align: right;\n",
       "    }\n",
       "</style>\n",
       "<table border=\"1\" class=\"dataframe\">\n",
       "  <thead>\n",
       "    <tr style=\"text-align: right;\">\n",
       "      <th></th>\n",
       "      <th>Id</th>\n",
       "      <th>OPEID</th>\n",
       "      <th>Name</th>\n",
       "      <th>City</th>\n",
       "      <th>Zip</th>\n",
       "      <th>Predominant degree</th>\n",
       "      <th>Main branch</th>\n",
       "      <th>NumBranches</th>\n",
       "      <th>Primary degree type</th>\n",
       "      <th>High degree</th>\n",
       "      <th>...</th>\n",
       "      <th>MedianDebtNotComplete</th>\n",
       "      <th>PercentReceiveFedLoan</th>\n",
       "      <th>AvgAgeEntry</th>\n",
       "      <th>PercentFemale</th>\n",
       "      <th>PercentMarried</th>\n",
       "      <th>PercentDependent</th>\n",
       "      <th>PercentVeteran</th>\n",
       "      <th>AvgFamilyIncome</th>\n",
       "      <th>MedianFamilyIncome</th>\n",
       "      <th>MedianHouseholdIncome</th>\n",
       "    </tr>\n",
       "  </thead>\n",
       "  <tbody>\n",
       "    <tr>\n",
       "      <th>0</th>\n",
       "      <td>1</td>\n",
       "      <td>01230800</td>\n",
       "      <td>COMMUNITY COLLEGE OF THE AIR FORCE</td>\n",
       "      <td>MONTGOMERY</td>\n",
       "      <td>361126613</td>\n",
       "      <td>NaN</td>\n",
       "      <td>True</td>\n",
       "      <td>1</td>\n",
       "      <td>Predominantly associate's-degree granting</td>\n",
       "      <td>Associate degree</td>\n",
       "      <td>...</td>\n",
       "      <td>NaN</td>\n",
       "      <td>NaN</td>\n",
       "      <td>NaN</td>\n",
       "      <td>NaN</td>\n",
       "      <td>NaN</td>\n",
       "      <td>NaN</td>\n",
       "      <td>NaN</td>\n",
       "      <td>NaN</td>\n",
       "      <td>NaN</td>\n",
       "      <td>NaN</td>\n",
       "    </tr>\n",
       "    <tr>\n",
       "      <th>1</th>\n",
       "      <td>2</td>\n",
       "      <td>00100200</td>\n",
       "      <td>ALABAMA A &amp; M UNIVERSITY</td>\n",
       "      <td>NORMAL</td>\n",
       "      <td>35762</td>\n",
       "      <td>NaN</td>\n",
       "      <td>True</td>\n",
       "      <td>1</td>\n",
       "      <td>Predominantly bachelor's-degree granting</td>\n",
       "      <td>Graduate degree</td>\n",
       "      <td>...</td>\n",
       "      <td>NaN</td>\n",
       "      <td>NaN</td>\n",
       "      <td>NaN</td>\n",
       "      <td>NaN</td>\n",
       "      <td>NaN</td>\n",
       "      <td>NaN</td>\n",
       "      <td>NaN</td>\n",
       "      <td>NaN</td>\n",
       "      <td>NaN</td>\n",
       "      <td>NaN</td>\n",
       "    </tr>\n",
       "    <tr>\n",
       "      <th>2</th>\n",
       "      <td>3</td>\n",
       "      <td>00105200</td>\n",
       "      <td>UNIVERSITY OF ALABAMA AT BIRMINGHAM</td>\n",
       "      <td>BIRMINGHAM</td>\n",
       "      <td>352940110</td>\n",
       "      <td>NaN</td>\n",
       "      <td>True</td>\n",
       "      <td>2</td>\n",
       "      <td>Predominantly bachelor's-degree granting</td>\n",
       "      <td>Graduate degree</td>\n",
       "      <td>...</td>\n",
       "      <td>NaN</td>\n",
       "      <td>NaN</td>\n",
       "      <td>NaN</td>\n",
       "      <td>NaN</td>\n",
       "      <td>NaN</td>\n",
       "      <td>NaN</td>\n",
       "      <td>NaN</td>\n",
       "      <td>NaN</td>\n",
       "      <td>NaN</td>\n",
       "      <td>NaN</td>\n",
       "    </tr>\n",
       "    <tr>\n",
       "      <th>3</th>\n",
       "      <td>4</td>\n",
       "      <td>00574900</td>\n",
       "      <td>ALABAMA AVIATION AND TECHNICAL COLLEGE</td>\n",
       "      <td>OZARK</td>\n",
       "      <td>36360</td>\n",
       "      <td>NaN</td>\n",
       "      <td>True</td>\n",
       "      <td>1</td>\n",
       "      <td>Predominantly certificate-degree granting</td>\n",
       "      <td>Associate degree</td>\n",
       "      <td>...</td>\n",
       "      <td>NaN</td>\n",
       "      <td>NaN</td>\n",
       "      <td>NaN</td>\n",
       "      <td>NaN</td>\n",
       "      <td>NaN</td>\n",
       "      <td>NaN</td>\n",
       "      <td>NaN</td>\n",
       "      <td>NaN</td>\n",
       "      <td>NaN</td>\n",
       "      <td>NaN</td>\n",
       "    </tr>\n",
       "    <tr>\n",
       "      <th>4</th>\n",
       "      <td>5</td>\n",
       "      <td>02503400</td>\n",
       "      <td>SOUTHERN CHRISTIAN UNIVERSITY</td>\n",
       "      <td>MONTGOMERY</td>\n",
       "      <td>361173553</td>\n",
       "      <td>NaN</td>\n",
       "      <td>True</td>\n",
       "      <td>1</td>\n",
       "      <td>Predominantly bachelor's-degree granting</td>\n",
       "      <td>Graduate degree</td>\n",
       "      <td>...</td>\n",
       "      <td>NaN</td>\n",
       "      <td>NaN</td>\n",
       "      <td>NaN</td>\n",
       "      <td>NaN</td>\n",
       "      <td>NaN</td>\n",
       "      <td>NaN</td>\n",
       "      <td>NaN</td>\n",
       "      <td>NaN</td>\n",
       "      <td>NaN</td>\n",
       "      <td>NaN</td>\n",
       "    </tr>\n",
       "  </tbody>\n",
       "</table>\n",
       "<p>5 rows × 54 columns</p>\n",
       "</div>"
      ],
      "text/plain": [
       "   Id     OPEID                                    Name        City  \\\n",
       "0   1  01230800      COMMUNITY COLLEGE OF THE AIR FORCE  MONTGOMERY   \n",
       "1   2  00100200                ALABAMA A & M UNIVERSITY      NORMAL   \n",
       "2   3  00105200     UNIVERSITY OF ALABAMA AT BIRMINGHAM  BIRMINGHAM   \n",
       "3   4  00574900  ALABAMA AVIATION AND TECHNICAL COLLEGE       OZARK   \n",
       "4   5  02503400           SOUTHERN CHRISTIAN UNIVERSITY  MONTGOMERY   \n",
       "\n",
       "         Zip  Predominant degree  Main branch  NumBranches  \\\n",
       "0  361126613                 NaN         True            1   \n",
       "1      35762                 NaN         True            1   \n",
       "2  352940110                 NaN         True            2   \n",
       "3      36360                 NaN         True            1   \n",
       "4  361173553                 NaN         True            1   \n",
       "\n",
       "                         Primary degree type       High degree  ...  \\\n",
       "0  Predominantly associate's-degree granting  Associate degree  ...   \n",
       "1   Predominantly bachelor's-degree granting   Graduate degree  ...   \n",
       "2   Predominantly bachelor's-degree granting   Graduate degree  ...   \n",
       "3  Predominantly certificate-degree granting  Associate degree  ...   \n",
       "4   Predominantly bachelor's-degree granting   Graduate degree  ...   \n",
       "\n",
       "  MedianDebtNotComplete PercentReceiveFedLoan AvgAgeEntry  PercentFemale  \\\n",
       "0                   NaN                   NaN         NaN            NaN   \n",
       "1                   NaN                   NaN         NaN            NaN   \n",
       "2                   NaN                   NaN         NaN            NaN   \n",
       "3                   NaN                   NaN         NaN            NaN   \n",
       "4                   NaN                   NaN         NaN            NaN   \n",
       "\n",
       "   PercentMarried  PercentDependent  PercentVeteran  AvgFamilyIncome  \\\n",
       "0             NaN               NaN             NaN              NaN   \n",
       "1             NaN               NaN             NaN              NaN   \n",
       "2             NaN               NaN             NaN              NaN   \n",
       "3             NaN               NaN             NaN              NaN   \n",
       "4             NaN               NaN             NaN              NaN   \n",
       "\n",
       "   MedianFamilyIncome  MedianHouseholdIncome  \n",
       "0                 NaN                    NaN  \n",
       "1                 NaN                    NaN  \n",
       "2                 NaN                    NaN  \n",
       "3                 NaN                    NaN  \n",
       "4                 NaN                    NaN  \n",
       "\n",
       "[5 rows x 54 columns]"
      ]
     },
     "execution_count": 2,
     "metadata": {},
     "output_type": "execute_result"
    }
   ],
   "source": [
    "# Load the preprocessed data\n",
    "filename = \"./data/processed/college.filtered.csv\"\n",
    "data = pd.read_csv(filename, dtype={'OPEID':object, 'Zip':object}, index_col=0)\n",
    "data.head()"
   ]
  },
  {
   "cell_type": "markdown",
   "metadata": {},
   "source": [
    "## Build data profiles and tables\n",
    "\n",
    "What are the columns in the data? What are the data types? How many columns contain null values?"
   ]
  },
  {
   "cell_type": "code",
   "execution_count": 3,
   "metadata": {},
   "outputs": [
    {
     "name": "stdout",
     "output_type": "stream",
     "text": [
      "<class 'pandas.core.frame.DataFrame'>\n",
      "Int64Index: 124699 entries, 0 to 124698\n",
      "Data columns (total 54 columns):\n",
      " #   Column                        Non-Null Count   Dtype  \n",
      "---  ------                        --------------   -----  \n",
      " 0   Id                            124699 non-null  int64  \n",
      " 1   OPEID                         124699 non-null  object \n",
      " 2   Name                          124699 non-null  object \n",
      " 3   City                          124699 non-null  object \n",
      " 4   Zip                           124699 non-null  object \n",
      " 5   Predominant degree            101334 non-null  float64\n",
      " 6   Main branch                   124699 non-null  bool   \n",
      " 7   NumBranches                   124699 non-null  int64  \n",
      " 8   Primary degree type           124699 non-null  object \n",
      " 9   High degree                   124699 non-null  object \n",
      " 10  Control                       124676 non-null  object \n",
      " 11  StateCode                     124669 non-null  object \n",
      " 12  Region                        124669 non-null  object \n",
      " 13  AdmissionRate                 34156 non-null   float64\n",
      " 14  ACTMidpoint                   15871 non-null   float64\n",
      " 15  SATAvg                        18598 non-null   float64\n",
      " 16  Enrollment-DegreeSeeking      110343 non-null  float64\n",
      " 17  CURROPER                      124699 non-null  bool   \n",
      " 18  NetPrice-Private              18560 non-null   float64\n",
      " 19  AvgCost-AY                    20504 non-null   float64\n",
      " 20  TuitionRevenue/FTE            106055 non-null  float64\n",
      " 21  Expenditure/FTE               106049 non-null  float64\n",
      " 22  AvgFaculty Salary             69652 non-null   float64\n",
      " 23  Percent Fulltime Faculty      60951 non-null   float64\n",
      " 24  Completion-4yr                34880 non-null   float64\n",
      " 25  Completion<4yr                61470 non-null   float64\n",
      " 26  RetentionFT-4yr               22899 non-null   float64\n",
      " 27  RetentionFT-<4yr              37280 non-null   float64\n",
      " 28  RetentionPT-4yr               15377 non-null   float64\n",
      " 29  RetentionPT-<4yr              22487 non-null   float64\n",
      " 30  PercentFedLoan                34444 non-null   float64\n",
      " 31  PercentAge>25                 52591 non-null   float64\n",
      " 32  PercentCompleted4yr           71242 non-null   float64\n",
      " 33  PercentWithdraw4yr            70228 non-null   float64\n",
      " 34  PercentEnrolled4yr            62443 non-null   float64\n",
      " 35  PercentAidedLowIncome         63485 non-null   float64\n",
      " 36  PercentIndependent            109147 non-null  float64\n",
      " 37  PercentDependentLowIncome     82041 non-null   float64\n",
      " 38  PercentIndepentdentLowIncome  82184 non-null   float64\n",
      " 39  PercentFirstGen               102811 non-null  float64\n",
      " 40  AvgIncomeDependent            104107 non-null  float64\n",
      " 41  AvgIncomeIndep                104589 non-null  float64\n",
      " 42  MedianDebt                    94869 non-null   float64\n",
      " 43  MedianDebtCompleters          87825 non-null   float64\n",
      " 44  MedianDebtNotComplete         87965 non-null   float64\n",
      " 45  PercentReceiveFedLoan         31571 non-null   float64\n",
      " 46  AvgAgeEntry                   31571 non-null   float64\n",
      " 47  PercentFemale                 31571 non-null   float64\n",
      " 48  PercentMarried                31571 non-null   float64\n",
      " 49  PercentDependent              31571 non-null   float64\n",
      " 50  PercentVeteran                31571 non-null   float64\n",
      " 51  AvgFamilyIncome               31571 non-null   float64\n",
      " 52  MedianFamilyIncome            31571 non-null   float64\n",
      " 53  MedianHouseholdIncome         31384 non-null   float64\n",
      "dtypes: bool(2), float64(41), int64(2), object(9)\n",
      "memory usage: 50.7+ MB\n"
     ]
    }
   ],
   "source": [
    "data.info()"
   ]
  },
  {
   "cell_type": "markdown",
   "metadata": {},
   "source": [
    "According to the data dictionary, columns 8-12 are categorical variables, however they have been imported as strings here. I can convert them to categories later, if I decide that will make them easier to work with.\n",
    "\n",
    "Columns 45-53(and several others) contain relatively few values, so I suspect that they will need to be removed. More exploration of null values will follow later."
   ]
  },
  {
   "cell_type": "markdown",
   "metadata": {},
   "source": [
    "What are the ranges and distributions of the numerical variables?"
   ]
  },
  {
   "cell_type": "code",
   "execution_count": 4,
   "metadata": {},
   "outputs": [
    {
     "data": {
      "text/html": [
       "<div>\n",
       "<style scoped>\n",
       "    .dataframe tbody tr th:only-of-type {\n",
       "        vertical-align: middle;\n",
       "    }\n",
       "\n",
       "    .dataframe tbody tr th {\n",
       "        vertical-align: top;\n",
       "    }\n",
       "\n",
       "    .dataframe thead th {\n",
       "        text-align: right;\n",
       "    }\n",
       "</style>\n",
       "<table border=\"1\" class=\"dataframe\">\n",
       "  <thead>\n",
       "    <tr style=\"text-align: right;\">\n",
       "      <th></th>\n",
       "      <th>count</th>\n",
       "      <th>mean</th>\n",
       "      <th>std</th>\n",
       "      <th>min</th>\n",
       "      <th>25%</th>\n",
       "      <th>50%</th>\n",
       "      <th>75%</th>\n",
       "      <th>max</th>\n",
       "    </tr>\n",
       "  </thead>\n",
       "  <tbody>\n",
       "    <tr>\n",
       "      <th>Id</th>\n",
       "      <td>124699.0</td>\n",
       "      <td>62350.000000</td>\n",
       "      <td>35997.644946</td>\n",
       "      <td>1.000000</td>\n",
       "      <td>31175.500000</td>\n",
       "      <td>62350.000000</td>\n",
       "      <td>93524.500000</td>\n",
       "      <td>1.246990e+05</td>\n",
       "    </tr>\n",
       "    <tr>\n",
       "      <th>Predominant degree</th>\n",
       "      <td>101334.0</td>\n",
       "      <td>1.971628</td>\n",
       "      <td>0.876321</td>\n",
       "      <td>1.000000</td>\n",
       "      <td>1.000000</td>\n",
       "      <td>2.000000</td>\n",
       "      <td>3.000000</td>\n",
       "      <td>3.000000e+00</td>\n",
       "    </tr>\n",
       "    <tr>\n",
       "      <th>NumBranches</th>\n",
       "      <td>124699.0</td>\n",
       "      <td>3.737648</td>\n",
       "      <td>12.623389</td>\n",
       "      <td>1.000000</td>\n",
       "      <td>1.000000</td>\n",
       "      <td>1.000000</td>\n",
       "      <td>2.000000</td>\n",
       "      <td>1.410000e+02</td>\n",
       "    </tr>\n",
       "    <tr>\n",
       "      <th>AdmissionRate</th>\n",
       "      <td>34156.0</td>\n",
       "      <td>0.696963</td>\n",
       "      <td>0.223910</td>\n",
       "      <td>0.000000</td>\n",
       "      <td>0.555600</td>\n",
       "      <td>0.721100</td>\n",
       "      <td>0.861525</td>\n",
       "      <td>1.000000e+01</td>\n",
       "    </tr>\n",
       "    <tr>\n",
       "      <th>ACTMidpoint</th>\n",
       "      <td>15871.0</td>\n",
       "      <td>22.722954</td>\n",
       "      <td>3.265049</td>\n",
       "      <td>2.000000</td>\n",
       "      <td>21.000000</td>\n",
       "      <td>22.000000</td>\n",
       "      <td>24.000000</td>\n",
       "      <td>3.500000e+01</td>\n",
       "    </tr>\n",
       "    <tr>\n",
       "      <th>SATAvg</th>\n",
       "      <td>18598.0</td>\n",
       "      <td>1052.701043</td>\n",
       "      <td>126.892749</td>\n",
       "      <td>514.000000</td>\n",
       "      <td>970.000000</td>\n",
       "      <td>1035.000000</td>\n",
       "      <td>1115.000000</td>\n",
       "      <td>1.599000e+03</td>\n",
       "    </tr>\n",
       "    <tr>\n",
       "      <th>Enrollment-DegreeSeeking</th>\n",
       "      <td>110343.0</td>\n",
       "      <td>2151.355673</td>\n",
       "      <td>4734.967374</td>\n",
       "      <td>0.000000</td>\n",
       "      <td>115.000000</td>\n",
       "      <td>490.000000</td>\n",
       "      <td>1989.000000</td>\n",
       "      <td>2.535940e+05</td>\n",
       "    </tr>\n",
       "    <tr>\n",
       "      <th>NetPrice-Private</th>\n",
       "      <td>18560.0</td>\n",
       "      <td>17982.273545</td>\n",
       "      <td>7462.132716</td>\n",
       "      <td>-103168.000000</td>\n",
       "      <td>13120.750000</td>\n",
       "      <td>18179.500000</td>\n",
       "      <td>22487.000000</td>\n",
       "      <td>8.757000e+04</td>\n",
       "    </tr>\n",
       "    <tr>\n",
       "      <th>AvgCost-AY</th>\n",
       "      <td>20504.0</td>\n",
       "      <td>23002.166699</td>\n",
       "      <td>11575.691881</td>\n",
       "      <td>2200.000000</td>\n",
       "      <td>13293.000000</td>\n",
       "      <td>21395.500000</td>\n",
       "      <td>29439.500000</td>\n",
       "      <td>7.447300e+04</td>\n",
       "    </tr>\n",
       "    <tr>\n",
       "      <th>TuitionRevenue/FTE</th>\n",
       "      <td>106055.0</td>\n",
       "      <td>13423.722616</td>\n",
       "      <td>138429.201381</td>\n",
       "      <td>0.000000</td>\n",
       "      <td>2489.000000</td>\n",
       "      <td>5759.000000</td>\n",
       "      <td>10627.000000</td>\n",
       "      <td>2.667016e+07</td>\n",
       "    </tr>\n",
       "    <tr>\n",
       "      <th>Expenditure/FTE</th>\n",
       "      <td>106049.0</td>\n",
       "      <td>16641.486143</td>\n",
       "      <td>946007.293157</td>\n",
       "      <td>0.000000</td>\n",
       "      <td>2456.000000</td>\n",
       "      <td>4160.000000</td>\n",
       "      <td>6739.000000</td>\n",
       "      <td>2.920157e+08</td>\n",
       "    </tr>\n",
       "    <tr>\n",
       "      <th>AvgFaculty Salary</th>\n",
       "      <td>69652.0</td>\n",
       "      <td>5137.648625</td>\n",
       "      <td>2038.500431</td>\n",
       "      <td>0.000000</td>\n",
       "      <td>3864.000000</td>\n",
       "      <td>4964.000000</td>\n",
       "      <td>6236.000000</td>\n",
       "      <td>2.489200e+04</td>\n",
       "    </tr>\n",
       "    <tr>\n",
       "      <th>Percent Fulltime Faculty</th>\n",
       "      <td>60951.0</td>\n",
       "      <td>0.586056</td>\n",
       "      <td>0.299840</td>\n",
       "      <td>0.000000</td>\n",
       "      <td>0.326500</td>\n",
       "      <td>0.565200</td>\n",
       "      <td>0.882400</td>\n",
       "      <td>1.166700e+00</td>\n",
       "    </tr>\n",
       "    <tr>\n",
       "      <th>Completion-4yr</th>\n",
       "      <td>34880.0</td>\n",
       "      <td>0.485687</td>\n",
       "      <td>0.210460</td>\n",
       "      <td>0.000000</td>\n",
       "      <td>0.341700</td>\n",
       "      <td>0.479600</td>\n",
       "      <td>0.625900</td>\n",
       "      <td>1.000000e+00</td>\n",
       "    </tr>\n",
       "    <tr>\n",
       "      <th>Completion&lt;4yr</th>\n",
       "      <td>61470.0</td>\n",
       "      <td>0.545553</td>\n",
       "      <td>0.274392</td>\n",
       "      <td>0.000000</td>\n",
       "      <td>0.302500</td>\n",
       "      <td>0.585300</td>\n",
       "      <td>0.766575</td>\n",
       "      <td>1.000000e+00</td>\n",
       "    </tr>\n",
       "    <tr>\n",
       "      <th>RetentionFT-4yr</th>\n",
       "      <td>22899.0</td>\n",
       "      <td>20.649334</td>\n",
       "      <td>32.719830</td>\n",
       "      <td>0.000000</td>\n",
       "      <td>0.654300</td>\n",
       "      <td>0.793700</td>\n",
       "      <td>53.000000</td>\n",
       "      <td>1.000000e+02</td>\n",
       "    </tr>\n",
       "    <tr>\n",
       "      <th>RetentionFT-&lt;4yr</th>\n",
       "      <td>37280.0</td>\n",
       "      <td>20.346095</td>\n",
       "      <td>32.285487</td>\n",
       "      <td>0.000000</td>\n",
       "      <td>0.610400</td>\n",
       "      <td>0.790450</td>\n",
       "      <td>50.000000</td>\n",
       "      <td>1.000000e+02</td>\n",
       "    </tr>\n",
       "    <tr>\n",
       "      <th>RetentionPT-4yr</th>\n",
       "      <td>15377.0</td>\n",
       "      <td>14.037655</td>\n",
       "      <td>25.818131</td>\n",
       "      <td>0.000000</td>\n",
       "      <td>0.327600</td>\n",
       "      <td>0.545500</td>\n",
       "      <td>18.000000</td>\n",
       "      <td>1.000000e+02</td>\n",
       "    </tr>\n",
       "    <tr>\n",
       "      <th>RetentionPT-&lt;4yr</th>\n",
       "      <td>22487.0</td>\n",
       "      <td>15.763236</td>\n",
       "      <td>27.131287</td>\n",
       "      <td>0.000000</td>\n",
       "      <td>0.415450</td>\n",
       "      <td>0.700200</td>\n",
       "      <td>30.000000</td>\n",
       "      <td>1.000000e+02</td>\n",
       "    </tr>\n",
       "    <tr>\n",
       "      <th>PercentFedLoan</th>\n",
       "      <td>34444.0</td>\n",
       "      <td>0.526235</td>\n",
       "      <td>0.297723</td>\n",
       "      <td>0.000000</td>\n",
       "      <td>0.306300</td>\n",
       "      <td>0.590900</td>\n",
       "      <td>0.764400</td>\n",
       "      <td>1.791800e+00</td>\n",
       "    </tr>\n",
       "    <tr>\n",
       "      <th>PercentAge&gt;25</th>\n",
       "      <td>52591.0</td>\n",
       "      <td>0.405552</td>\n",
       "      <td>0.219876</td>\n",
       "      <td>0.000000</td>\n",
       "      <td>0.243200</td>\n",
       "      <td>0.403100</td>\n",
       "      <td>0.554500</td>\n",
       "      <td>1.000000e+00</td>\n",
       "    </tr>\n",
       "    <tr>\n",
       "      <th>PercentCompleted4yr</th>\n",
       "      <td>71242.0</td>\n",
       "      <td>0.370824</td>\n",
       "      <td>0.245871</td>\n",
       "      <td>0.000000</td>\n",
       "      <td>0.149351</td>\n",
       "      <td>0.371429</td>\n",
       "      <td>0.571429</td>\n",
       "      <td>1.000000e+00</td>\n",
       "    </tr>\n",
       "    <tr>\n",
       "      <th>PercentWithdraw4yr</th>\n",
       "      <td>70228.0</td>\n",
       "      <td>0.209453</td>\n",
       "      <td>0.147122</td>\n",
       "      <td>0.000000</td>\n",
       "      <td>0.102837</td>\n",
       "      <td>0.199797</td>\n",
       "      <td>0.301848</td>\n",
       "      <td>8.604369e-01</td>\n",
       "    </tr>\n",
       "    <tr>\n",
       "      <th>PercentEnrolled4yr</th>\n",
       "      <td>62443.0</td>\n",
       "      <td>0.041562</td>\n",
       "      <td>0.052636</td>\n",
       "      <td>0.000000</td>\n",
       "      <td>0.000000</td>\n",
       "      <td>0.025943</td>\n",
       "      <td>0.068503</td>\n",
       "      <td>7.796610e-01</td>\n",
       "    </tr>\n",
       "    <tr>\n",
       "      <th>PercentAidedLowIncome</th>\n",
       "      <td>63485.0</td>\n",
       "      <td>0.653937</td>\n",
       "      <td>0.194974</td>\n",
       "      <td>0.000000</td>\n",
       "      <td>0.526316</td>\n",
       "      <td>0.688976</td>\n",
       "      <td>0.804468</td>\n",
       "      <td>1.000000e+00</td>\n",
       "    </tr>\n",
       "    <tr>\n",
       "      <th>PercentIndependent</th>\n",
       "      <td>109147.0</td>\n",
       "      <td>0.562163</td>\n",
       "      <td>0.253410</td>\n",
       "      <td>0.000000</td>\n",
       "      <td>0.380299</td>\n",
       "      <td>0.611111</td>\n",
       "      <td>0.760891</td>\n",
       "      <td>1.000000e+00</td>\n",
       "    </tr>\n",
       "    <tr>\n",
       "      <th>PercentDependentLowIncome</th>\n",
       "      <td>82041.0</td>\n",
       "      <td>0.487150</td>\n",
       "      <td>0.194154</td>\n",
       "      <td>0.000000</td>\n",
       "      <td>0.327445</td>\n",
       "      <td>0.483173</td>\n",
       "      <td>0.630388</td>\n",
       "      <td>1.000000e+00</td>\n",
       "    </tr>\n",
       "    <tr>\n",
       "      <th>PercentIndepentdentLowIncome</th>\n",
       "      <td>82184.0</td>\n",
       "      <td>0.787203</td>\n",
       "      <td>0.116844</td>\n",
       "      <td>0.227034</td>\n",
       "      <td>0.732248</td>\n",
       "      <td>0.807716</td>\n",
       "      <td>0.868637</td>\n",
       "      <td>1.000000e+00</td>\n",
       "    </tr>\n",
       "    <tr>\n",
       "      <th>PercentFirstGen</th>\n",
       "      <td>102811.0</td>\n",
       "      <td>0.496133</td>\n",
       "      <td>0.135728</td>\n",
       "      <td>0.000000</td>\n",
       "      <td>0.415525</td>\n",
       "      <td>0.511708</td>\n",
       "      <td>0.583333</td>\n",
       "      <td>1.000000e+00</td>\n",
       "    </tr>\n",
       "    <tr>\n",
       "      <th>AvgIncomeDependent</th>\n",
       "      <td>104107.0</td>\n",
       "      <td>51700.952597</td>\n",
       "      <td>24107.524953</td>\n",
       "      <td>246.550640</td>\n",
       "      <td>32901.468090</td>\n",
       "      <td>48484.402690</td>\n",
       "      <td>67702.300925</td>\n",
       "      <td>1.890418e+05</td>\n",
       "    </tr>\n",
       "    <tr>\n",
       "      <th>AvgIncomeIndep</th>\n",
       "      <td>104589.0</td>\n",
       "      <td>22997.138259</td>\n",
       "      <td>9875.406308</td>\n",
       "      <td>0.000000</td>\n",
       "      <td>16418.096530</td>\n",
       "      <td>21541.188940</td>\n",
       "      <td>27586.208440</td>\n",
       "      <td>1.039465e+05</td>\n",
       "    </tr>\n",
       "    <tr>\n",
       "      <th>MedianDebt</th>\n",
       "      <td>94869.0</td>\n",
       "      <td>8917.969558</td>\n",
       "      <td>4952.612787</td>\n",
       "      <td>124.000000</td>\n",
       "      <td>5250.000000</td>\n",
       "      <td>7937.000000</td>\n",
       "      <td>12000.000000</td>\n",
       "      <td>1.313350e+05</td>\n",
       "    </tr>\n",
       "    <tr>\n",
       "      <th>MedianDebtCompleters</th>\n",
       "      <td>87825.0</td>\n",
       "      <td>12368.840444</td>\n",
       "      <td>7217.116964</td>\n",
       "      <td>310.000000</td>\n",
       "      <td>6625.000000</td>\n",
       "      <td>10895.000000</td>\n",
       "      <td>17125.000000</td>\n",
       "      <td>5.383150e+04</td>\n",
       "    </tr>\n",
       "    <tr>\n",
       "      <th>MedianDebtNotComplete</th>\n",
       "      <td>87965.0</td>\n",
       "      <td>6445.322083</td>\n",
       "      <td>3523.067759</td>\n",
       "      <td>383.000000</td>\n",
       "      <td>3719.000000</td>\n",
       "      <td>5500.000000</td>\n",
       "      <td>8750.000000</td>\n",
       "      <td>3.512500e+04</td>\n",
       "    </tr>\n",
       "    <tr>\n",
       "      <th>PercentReceiveFedLoan</th>\n",
       "      <td>31571.0</td>\n",
       "      <td>0.682527</td>\n",
       "      <td>0.354061</td>\n",
       "      <td>0.000000</td>\n",
       "      <td>0.450000</td>\n",
       "      <td>0.870000</td>\n",
       "      <td>0.950000</td>\n",
       "      <td>1.000000e+00</td>\n",
       "    </tr>\n",
       "    <tr>\n",
       "      <th>AvgAgeEntry</th>\n",
       "      <td>31571.0</td>\n",
       "      <td>25.811096</td>\n",
       "      <td>3.622062</td>\n",
       "      <td>17.049999</td>\n",
       "      <td>23.370001</td>\n",
       "      <td>25.750000</td>\n",
       "      <td>27.889999</td>\n",
       "      <td>4.633000e+01</td>\n",
       "    </tr>\n",
       "    <tr>\n",
       "      <th>PercentFemale</th>\n",
       "      <td>31571.0</td>\n",
       "      <td>0.669086</td>\n",
       "      <td>0.219811</td>\n",
       "      <td>0.000000</td>\n",
       "      <td>0.560000</td>\n",
       "      <td>0.670000</td>\n",
       "      <td>0.850000</td>\n",
       "      <td>1.000000e+00</td>\n",
       "    </tr>\n",
       "    <tr>\n",
       "      <th>PercentMarried</th>\n",
       "      <td>31571.0</td>\n",
       "      <td>0.223136</td>\n",
       "      <td>0.130371</td>\n",
       "      <td>0.000000</td>\n",
       "      <td>0.130000</td>\n",
       "      <td>0.220000</td>\n",
       "      <td>0.300000</td>\n",
       "      <td>1.000000e+00</td>\n",
       "    </tr>\n",
       "    <tr>\n",
       "      <th>PercentDependent</th>\n",
       "      <td>31571.0</td>\n",
       "      <td>0.425259</td>\n",
       "      <td>0.257933</td>\n",
       "      <td>0.000000</td>\n",
       "      <td>0.210000</td>\n",
       "      <td>0.370000</td>\n",
       "      <td>0.610000</td>\n",
       "      <td>1.000000e+00</td>\n",
       "    </tr>\n",
       "    <tr>\n",
       "      <th>PercentVeteran</th>\n",
       "      <td>31571.0</td>\n",
       "      <td>0.036507</td>\n",
       "      <td>0.040298</td>\n",
       "      <td>0.000000</td>\n",
       "      <td>0.010000</td>\n",
       "      <td>0.030000</td>\n",
       "      <td>0.050000</td>\n",
       "      <td>6.200000e-01</td>\n",
       "    </tr>\n",
       "    <tr>\n",
       "      <th>AvgFamilyIncome</th>\n",
       "      <td>31571.0</td>\n",
       "      <td>38968.865768</td>\n",
       "      <td>22061.202911</td>\n",
       "      <td>165.170000</td>\n",
       "      <td>22344.205000</td>\n",
       "      <td>33485.400000</td>\n",
       "      <td>51158.685000</td>\n",
       "      <td>1.562255e+05</td>\n",
       "    </tr>\n",
       "    <tr>\n",
       "      <th>MedianFamilyIncome</th>\n",
       "      <td>31571.0</td>\n",
       "      <td>30515.593789</td>\n",
       "      <td>20239.279981</td>\n",
       "      <td>0.000000</td>\n",
       "      <td>16374.000000</td>\n",
       "      <td>24534.000000</td>\n",
       "      <td>39475.000000</td>\n",
       "      <td>1.381135e+05</td>\n",
       "    </tr>\n",
       "    <tr>\n",
       "      <th>MedianHouseholdIncome</th>\n",
       "      <td>31384.0</td>\n",
       "      <td>56908.946902</td>\n",
       "      <td>12707.984055</td>\n",
       "      <td>14277.000000</td>\n",
       "      <td>48773.910000</td>\n",
       "      <td>56463.820000</td>\n",
       "      <td>64806.335000</td>\n",
       "      <td>1.257130e+05</td>\n",
       "    </tr>\n",
       "  </tbody>\n",
       "</table>\n",
       "</div>"
      ],
      "text/plain": [
       "                                 count          mean            std  \\\n",
       "Id                            124699.0  62350.000000   35997.644946   \n",
       "Predominant degree            101334.0      1.971628       0.876321   \n",
       "NumBranches                   124699.0      3.737648      12.623389   \n",
       "AdmissionRate                  34156.0      0.696963       0.223910   \n",
       "ACTMidpoint                    15871.0     22.722954       3.265049   \n",
       "SATAvg                         18598.0   1052.701043     126.892749   \n",
       "Enrollment-DegreeSeeking      110343.0   2151.355673    4734.967374   \n",
       "NetPrice-Private               18560.0  17982.273545    7462.132716   \n",
       "AvgCost-AY                     20504.0  23002.166699   11575.691881   \n",
       "TuitionRevenue/FTE            106055.0  13423.722616  138429.201381   \n",
       "Expenditure/FTE               106049.0  16641.486143  946007.293157   \n",
       "AvgFaculty Salary              69652.0   5137.648625    2038.500431   \n",
       "Percent Fulltime Faculty       60951.0      0.586056       0.299840   \n",
       "Completion-4yr                 34880.0      0.485687       0.210460   \n",
       "Completion<4yr                 61470.0      0.545553       0.274392   \n",
       "RetentionFT-4yr                22899.0     20.649334      32.719830   \n",
       "RetentionFT-<4yr               37280.0     20.346095      32.285487   \n",
       "RetentionPT-4yr                15377.0     14.037655      25.818131   \n",
       "RetentionPT-<4yr               22487.0     15.763236      27.131287   \n",
       "PercentFedLoan                 34444.0      0.526235       0.297723   \n",
       "PercentAge>25                  52591.0      0.405552       0.219876   \n",
       "PercentCompleted4yr            71242.0      0.370824       0.245871   \n",
       "PercentWithdraw4yr             70228.0      0.209453       0.147122   \n",
       "PercentEnrolled4yr             62443.0      0.041562       0.052636   \n",
       "PercentAidedLowIncome          63485.0      0.653937       0.194974   \n",
       "PercentIndependent            109147.0      0.562163       0.253410   \n",
       "PercentDependentLowIncome      82041.0      0.487150       0.194154   \n",
       "PercentIndepentdentLowIncome   82184.0      0.787203       0.116844   \n",
       "PercentFirstGen               102811.0      0.496133       0.135728   \n",
       "AvgIncomeDependent            104107.0  51700.952597   24107.524953   \n",
       "AvgIncomeIndep                104589.0  22997.138259    9875.406308   \n",
       "MedianDebt                     94869.0   8917.969558    4952.612787   \n",
       "MedianDebtCompleters           87825.0  12368.840444    7217.116964   \n",
       "MedianDebtNotComplete          87965.0   6445.322083    3523.067759   \n",
       "PercentReceiveFedLoan          31571.0      0.682527       0.354061   \n",
       "AvgAgeEntry                    31571.0     25.811096       3.622062   \n",
       "PercentFemale                  31571.0      0.669086       0.219811   \n",
       "PercentMarried                 31571.0      0.223136       0.130371   \n",
       "PercentDependent               31571.0      0.425259       0.257933   \n",
       "PercentVeteran                 31571.0      0.036507       0.040298   \n",
       "AvgFamilyIncome                31571.0  38968.865768   22061.202911   \n",
       "MedianFamilyIncome             31571.0  30515.593789   20239.279981   \n",
       "MedianHouseholdIncome          31384.0  56908.946902   12707.984055   \n",
       "\n",
       "                                        min           25%           50%  \\\n",
       "Id                                 1.000000  31175.500000  62350.000000   \n",
       "Predominant degree                 1.000000      1.000000      2.000000   \n",
       "NumBranches                        1.000000      1.000000      1.000000   \n",
       "AdmissionRate                      0.000000      0.555600      0.721100   \n",
       "ACTMidpoint                        2.000000     21.000000     22.000000   \n",
       "SATAvg                           514.000000    970.000000   1035.000000   \n",
       "Enrollment-DegreeSeeking           0.000000    115.000000    490.000000   \n",
       "NetPrice-Private             -103168.000000  13120.750000  18179.500000   \n",
       "AvgCost-AY                      2200.000000  13293.000000  21395.500000   \n",
       "TuitionRevenue/FTE                 0.000000   2489.000000   5759.000000   \n",
       "Expenditure/FTE                    0.000000   2456.000000   4160.000000   \n",
       "AvgFaculty Salary                  0.000000   3864.000000   4964.000000   \n",
       "Percent Fulltime Faculty           0.000000      0.326500      0.565200   \n",
       "Completion-4yr                     0.000000      0.341700      0.479600   \n",
       "Completion<4yr                     0.000000      0.302500      0.585300   \n",
       "RetentionFT-4yr                    0.000000      0.654300      0.793700   \n",
       "RetentionFT-<4yr                   0.000000      0.610400      0.790450   \n",
       "RetentionPT-4yr                    0.000000      0.327600      0.545500   \n",
       "RetentionPT-<4yr                   0.000000      0.415450      0.700200   \n",
       "PercentFedLoan                     0.000000      0.306300      0.590900   \n",
       "PercentAge>25                      0.000000      0.243200      0.403100   \n",
       "PercentCompleted4yr                0.000000      0.149351      0.371429   \n",
       "PercentWithdraw4yr                 0.000000      0.102837      0.199797   \n",
       "PercentEnrolled4yr                 0.000000      0.000000      0.025943   \n",
       "PercentAidedLowIncome              0.000000      0.526316      0.688976   \n",
       "PercentIndependent                 0.000000      0.380299      0.611111   \n",
       "PercentDependentLowIncome          0.000000      0.327445      0.483173   \n",
       "PercentIndepentdentLowIncome       0.227034      0.732248      0.807716   \n",
       "PercentFirstGen                    0.000000      0.415525      0.511708   \n",
       "AvgIncomeDependent               246.550640  32901.468090  48484.402690   \n",
       "AvgIncomeIndep                     0.000000  16418.096530  21541.188940   \n",
       "MedianDebt                       124.000000   5250.000000   7937.000000   \n",
       "MedianDebtCompleters             310.000000   6625.000000  10895.000000   \n",
       "MedianDebtNotComplete            383.000000   3719.000000   5500.000000   \n",
       "PercentReceiveFedLoan              0.000000      0.450000      0.870000   \n",
       "AvgAgeEntry                       17.049999     23.370001     25.750000   \n",
       "PercentFemale                      0.000000      0.560000      0.670000   \n",
       "PercentMarried                     0.000000      0.130000      0.220000   \n",
       "PercentDependent                   0.000000      0.210000      0.370000   \n",
       "PercentVeteran                     0.000000      0.010000      0.030000   \n",
       "AvgFamilyIncome                  165.170000  22344.205000  33485.400000   \n",
       "MedianFamilyIncome                 0.000000  16374.000000  24534.000000   \n",
       "MedianHouseholdIncome          14277.000000  48773.910000  56463.820000   \n",
       "\n",
       "                                       75%           max  \n",
       "Id                            93524.500000  1.246990e+05  \n",
       "Predominant degree                3.000000  3.000000e+00  \n",
       "NumBranches                       2.000000  1.410000e+02  \n",
       "AdmissionRate                     0.861525  1.000000e+01  \n",
       "ACTMidpoint                      24.000000  3.500000e+01  \n",
       "SATAvg                         1115.000000  1.599000e+03  \n",
       "Enrollment-DegreeSeeking       1989.000000  2.535940e+05  \n",
       "NetPrice-Private              22487.000000  8.757000e+04  \n",
       "AvgCost-AY                    29439.500000  7.447300e+04  \n",
       "TuitionRevenue/FTE            10627.000000  2.667016e+07  \n",
       "Expenditure/FTE                6739.000000  2.920157e+08  \n",
       "AvgFaculty Salary              6236.000000  2.489200e+04  \n",
       "Percent Fulltime Faculty          0.882400  1.166700e+00  \n",
       "Completion-4yr                    0.625900  1.000000e+00  \n",
       "Completion<4yr                    0.766575  1.000000e+00  \n",
       "RetentionFT-4yr                  53.000000  1.000000e+02  \n",
       "RetentionFT-<4yr                 50.000000  1.000000e+02  \n",
       "RetentionPT-4yr                  18.000000  1.000000e+02  \n",
       "RetentionPT-<4yr                 30.000000  1.000000e+02  \n",
       "PercentFedLoan                    0.764400  1.791800e+00  \n",
       "PercentAge>25                     0.554500  1.000000e+00  \n",
       "PercentCompleted4yr               0.571429  1.000000e+00  \n",
       "PercentWithdraw4yr                0.301848  8.604369e-01  \n",
       "PercentEnrolled4yr                0.068503  7.796610e-01  \n",
       "PercentAidedLowIncome             0.804468  1.000000e+00  \n",
       "PercentIndependent                0.760891  1.000000e+00  \n",
       "PercentDependentLowIncome         0.630388  1.000000e+00  \n",
       "PercentIndepentdentLowIncome      0.868637  1.000000e+00  \n",
       "PercentFirstGen                   0.583333  1.000000e+00  \n",
       "AvgIncomeDependent            67702.300925  1.890418e+05  \n",
       "AvgIncomeIndep                27586.208440  1.039465e+05  \n",
       "MedianDebt                    12000.000000  1.313350e+05  \n",
       "MedianDebtCompleters          17125.000000  5.383150e+04  \n",
       "MedianDebtNotComplete          8750.000000  3.512500e+04  \n",
       "PercentReceiveFedLoan             0.950000  1.000000e+00  \n",
       "AvgAgeEntry                      27.889999  4.633000e+01  \n",
       "PercentFemale                     0.850000  1.000000e+00  \n",
       "PercentMarried                    0.300000  1.000000e+00  \n",
       "PercentDependent                  0.610000  1.000000e+00  \n",
       "PercentVeteran                    0.050000  6.200000e-01  \n",
       "AvgFamilyIncome               51158.685000  1.562255e+05  \n",
       "MedianFamilyIncome            39475.000000  1.381135e+05  \n",
       "MedianHouseholdIncome         64806.335000  1.257130e+05  "
      ]
     },
     "execution_count": 4,
     "metadata": {},
     "output_type": "execute_result"
    }
   ],
   "source": [
    "data.describe().T"
   ]
  },
  {
   "cell_type": "markdown",
   "metadata": {},
   "source": [
    "Check for null values, both as a count and as a percentage of the column data."
   ]
  },
  {
   "cell_type": "code",
   "execution_count": 5,
   "metadata": {},
   "outputs": [
    {
     "name": "stdout",
     "output_type": "stream",
     "text": [
      "                               Count   Percent\n",
      "Predominant degree             23365  0.187371\n",
      "Control                           23  0.000184\n",
      "StateCode                         30  0.000241\n",
      "Region                            30  0.000241\n",
      "AdmissionRate                  90543  0.726092\n",
      "ACTMidpoint                   108828  0.872726\n",
      "SATAvg                        106101  0.850857\n",
      "Enrollment-DegreeSeeking       14356  0.115125\n",
      "NetPrice-Private              106139  0.851162\n",
      "AvgCost-AY                    104195  0.835572\n",
      "TuitionRevenue/FTE             18644  0.149512\n",
      "Expenditure/FTE                18650  0.149560\n",
      "AvgFaculty Salary              55047  0.441439\n",
      "Percent Fulltime Faculty       63748  0.511215\n",
      "Completion-4yr                 89819  0.720286\n",
      "Completion<4yr                 63229  0.507053\n",
      "RetentionFT-4yr               101800  0.816366\n",
      "RetentionFT-<4yr               87419  0.701040\n",
      "RetentionPT-4yr               109322  0.876687\n",
      "RetentionPT-<4yr              102212  0.819670\n",
      "PercentFedLoan                 90255  0.723783\n",
      "PercentAge>25                  72108  0.578256\n",
      "PercentCompleted4yr            53457  0.428688\n",
      "PercentWithdraw4yr             54471  0.436820\n",
      "PercentEnrolled4yr             62256  0.499250\n",
      "PercentAidedLowIncome          61214  0.490894\n",
      "PercentIndependent             15552  0.124716\n",
      "PercentDependentLowIncome      42658  0.342088\n",
      "PercentIndepentdentLowIncome   42515  0.340941\n",
      "PercentFirstGen                21888  0.175527\n",
      "AvgIncomeDependent             20592  0.165134\n",
      "AvgIncomeIndep                 20110  0.161268\n",
      "MedianDebt                     29830  0.239216\n",
      "MedianDebtCompleters           36874  0.295704\n",
      "MedianDebtNotComplete          36734  0.294581\n",
      "PercentReceiveFedLoan          93128  0.746822\n",
      "AvgAgeEntry                    93128  0.746822\n",
      "PercentFemale                  93128  0.746822\n",
      "PercentMarried                 93128  0.746822\n",
      "PercentDependent               93128  0.746822\n",
      "PercentVeteran                 93128  0.746822\n",
      "AvgFamilyIncome                93128  0.746822\n",
      "MedianFamilyIncome             93128  0.746822\n",
      "MedianHouseholdIncome          93315  0.748322\n"
     ]
    }
   ],
   "source": [
    "#Check for null values\n",
    "nulldata = data.isnull().sum()\n",
    "nulldata = pd.DataFrame(nulldata)\n",
    "nulldata.columns = [\"Count\"]\n",
    "nulldata['Percent'] = (data.isnull().sum())/data.shape[0]\n",
    "\n",
    "print(nulldata.loc[nulldata['Percent']>0])"
   ]
  },
  {
   "cell_type": "markdown",
   "metadata": {},
   "source": [
    "As suggested above, columns 45-53 (and others) contain more than 70% missing data. In the preprocessing stage, columns with more than 90% of the missing data were excluded. This step will remove columns with more than 70% missing data."
   ]
  },
  {
   "cell_type": "code",
   "execution_count": 6,
   "metadata": {},
   "outputs": [
    {
     "name": "stdout",
     "output_type": "stream",
     "text": [
      "Columns to drop include:  ['AdmissionRate', 'ACTMidpoint', 'SATAvg', 'NetPrice-Private', 'AvgCost-AY', 'Completion-4yr', 'RetentionFT-4yr', 'RetentionFT-<4yr', 'RetentionPT-4yr', 'RetentionPT-<4yr', 'PercentFedLoan', 'PercentReceiveFedLoan', 'AvgAgeEntry', 'PercentFemale', 'PercentMarried', 'PercentDependent', 'PercentVeteran', 'AvgFamilyIncome', 'MedianFamilyIncome', 'MedianHouseholdIncome']\n",
      "Number of columns to drop:  20\n",
      "(124699, 34)\n"
     ]
    }
   ],
   "source": [
    "# Make a list of columns with >70% missing data\n",
    "to_drop = [column for column in data.columns if (data[column].isnull().sum()/len(data[column]) > 0.70)]\n",
    "print(\"Columns to drop include: \", to_drop)\n",
    "print(\"Number of columns to drop: \", len(to_drop))\n",
    "\n",
    "# Drop column with >70% missing data\n",
    "data = data.drop(to_drop, axis=1)\n",
    "print(data.shape)"
   ]
  },
  {
   "cell_type": "markdown",
   "metadata": {},
   "source": [
    "## Explore number of schools\n",
    "- How many rows are in the database?\n",
    "- How many unique schools are in the database? By OPEID and by Name"
   ]
  },
  {
   "cell_type": "code",
   "execution_count": 7,
   "metadata": {},
   "outputs": [
    {
     "name": "stdout",
     "output_type": "stream",
     "text": [
      "There are  124699  observations in the data\n",
      "There are  11511 unique OPEIDs in the data\n",
      "00224900    37\n",
      "00104700    23\n",
      "00147900    23\n",
      "00111700    21\n",
      "00336800    21\n",
      "            ..\n",
      "02075440     1\n",
      "03088900     1\n",
      "02163000     1\n",
      "02609206     1\n",
      "01278000     1\n",
      "Name: OPEID, Length: 11511, dtype: int64\n"
     ]
    }
   ],
   "source": [
    "n_data = data.shape[0]\n",
    "print(\"There are \", n_data, \" observations in the data\")\n",
    "\n",
    "n_opeid = data[\"OPEID\"].nunique()\n",
    "print(\"There are \", n_opeid, \"unique OPEIDs in the data\")\n",
    "print(data.OPEID.value_counts())"
   ]
  },
  {
   "cell_type": "code",
   "execution_count": 8,
   "metadata": {},
   "outputs": [
    {
     "name": "stdout",
     "output_type": "stream",
     "text": [
      "There are  14971 unique school names in the data\n",
      "itt technical institute                               672\n",
      "marinello school of beauty                            212\n",
      "empire beauty school                                  190\n",
      "lincoln technical institute                           167\n",
      "ross medical education center                         148\n",
      "                                                     ... \n",
      "inter american university of puerto rico-barranqui      1\n",
      "lawton school warren branch                             1\n",
      "software education of america                           1\n",
      "saint joseph healthcare sch of prac nur & hlth occ      1\n",
      "the art institute international at portland             1\n",
      "Name: Name, Length: 14971, dtype: int64\n"
     ]
    }
   ],
   "source": [
    "data['Name'] = data['Name'].str.lower()\n",
    "n_schools = data['Name'].nunique()\n",
    "print(\"There are \", n_schools, \"unique school names in the data\")\n",
    "print(data.Name.value_counts())"
   ]
  },
  {
   "cell_type": "markdown",
   "metadata": {},
   "source": [
    "There are 11511 OPEID numbers and 14971 unique school names in the data, which means that some schools share OPEID numbers. To get a sense for the data, I think it will be important to know how schools names relate to the OPEID numbers.\n",
    "\n",
    "First - how many school names occur only once in the database? What are those names?"
   ]
  },
  {
   "cell_type": "code",
   "execution_count": 9,
   "metadata": {},
   "outputs": [
    {
     "name": "stdout",
     "output_type": "stream",
     "text": [
      "the art institute international at portland           1\n",
      "saint joseph healthcare sch of prac nur & hlth occ    1\n",
      "software education of america                         1\n",
      "lawton school warren branch                           1\n",
      "inter american university of puerto rico-barranqui    1\n",
      "                                                     ..\n",
      "bly's school of cosmetology                           1\n",
      "alpenas hollywood school of beauty                    1\n",
      "neill institute                                       1\n",
      "tennessee college of applied technology-nashville     1\n",
      "northwest baptist seminary                            1\n",
      "Name: Name, Length: 2276, dtype: int64\n"
     ]
    }
   ],
   "source": [
    "unique_names = data.Name.value_counts(ascending = True)[data.Name.value_counts()==1]\n",
    "print(unique_names)"
   ]
  },
  {
   "cell_type": "markdown",
   "metadata": {},
   "source": [
    "There are 2276 school names that only occur once the database. That means that there are roughly 13000 school names that occur more than once.  How many schools occur multiple times, and how many times do they occur?"
   ]
  },
  {
   "cell_type": "code",
   "execution_count": 10,
   "metadata": {},
   "outputs": [
    {
     "data": {
      "image/png": "[encoded data removed]",
      "text/plain": [
       "<Figure size 432x288 with 2 Axes>"
      ]
     },
     "metadata": {
      "needs_background": "light"
     },
     "output_type": "display_data"
    }
   ],
   "source": [
    "#Plot histogram of number of schools per Name\n",
    "plt.subplot(1, 2, 1)\n",
    "#plt.hist(data['Name'].value_counts())\n",
    "hist, bins, _ = plt.hist(data['Name'].value_counts(), bins=20)\n",
    "plt.xlabel('Schools per Name')\n",
    "plt.ylabel('Count (log)')\n",
    "plt.yscale('log')\n",
    "\n",
    "plt.subplot(1, 2, 2)\n",
    "# Converted to logarithmic scale\n",
    "logbins = np.logspace(np.log10(bins[0]),np.log10(bins[-1]),len(bins))\n",
    "plt.hist(data['Name'].value_counts(), bins=logbins)\n",
    "plt.xlabel('Schools per Name (log)')\n",
    "plt.xscale('log')\n",
    "plt.yscale('log')\n",
    "plt.show()"
   ]
  },
  {
   "cell_type": "markdown",
   "metadata": {},
   "source": [
    "There is one school with more than 600 occurences in the database, which skews the histogram and its bin sizes. Converting the number of schools (and counts) to a log scale more clearly shows the distribution of the schools by their count in the data.\n",
    "\n",
    "While there are many unique school names, there are also equally many schools with around 100 (or 200) counts.\n",
    "\n",
    "Now that we have a sense of how often school names are repeated in the database, we can explore the distribution of the OPEID. "
   ]
  },
  {
   "cell_type": "code",
   "execution_count": 11,
   "metadata": {},
   "outputs": [
    {
     "data": {
      "image/png": "[encoded data removed]",
      "text/plain": [
       "<Figure size 432x288 with 1 Axes>"
      ]
     },
     "metadata": {
      "needs_background": "light"
     },
     "output_type": "display_data"
    }
   ],
   "source": [
    "#Plot histogram of number of schools per OPEID\n",
    "plt.hist(data['OPEID'].value_counts(), bins=20)\n",
    "plt.xlabel('Schools per OPEID')\n",
    "plt.ylabel('Count (log)')\n",
    "plt.yscale('log')"
   ]
  },
  {
   "cell_type": "markdown",
   "metadata": {},
   "source": [
    "The number of observations per OPEID are much less varied than the school names, with the max count being around 35. This must mean that schools with the same name can have multiple OPEIDs."
   ]
  },
  {
   "cell_type": "markdown",
   "metadata": {},
   "source": [
    "From the list and counts of school names (above), ITT Technical Institute occurs 672 times in the database. How many OPEIDs are associated with ITT Tech?"
   ]
  },
  {
   "cell_type": "code",
   "execution_count": 12,
   "metadata": {},
   "outputs": [
    {
     "name": "stdout",
     "output_type": "stream",
     "text": [
      "00732901    18\n",
      "03071800    18\n",
      "00732902    18\n",
      "00732903    18\n",
      "00732900    18\n",
      "            ..\n",
      "02291603     1\n",
      "02321903     1\n",
      "03070401     1\n",
      "00455303     1\n",
      "02361004     1\n",
      "Name: OPEID, Length: 254, dtype: int64\n",
      "ITT Technical Institue has 672 schools distrubted over 254 OPEIDs\n"
     ]
    }
   ],
   "source": [
    "itt = data.loc[data['Name'].str.startswith('itt tech')] # TECHNICAL INSTITUTE']\n",
    "print(itt.OPEID.value_counts())\n",
    "print(\"ITT Technical Institue has 672 schools distrubted over 254 OPEIDs\")"
   ]
  },
  {
   "cell_type": "markdown",
   "metadata": {},
   "source": [
    "The maximum number of OPEIDs associated with ITT Tech is 18. How are the schools/names associated with one OPEID related?"
   ]
  },
  {
   "cell_type": "code",
   "execution_count": 13,
   "metadata": {},
   "outputs": [
    {
     "data": {
      "text/html": [
       "<div>\n",
       "<style scoped>\n",
       "    .dataframe tbody tr th:only-of-type {\n",
       "        vertical-align: middle;\n",
       "    }\n",
       "\n",
       "    .dataframe tbody tr th {\n",
       "        vertical-align: top;\n",
       "    }\n",
       "\n",
       "    .dataframe thead th {\n",
       "        text-align: right;\n",
       "    }\n",
       "</style>\n",
       "<table border=\"1\" class=\"dataframe\">\n",
       "  <thead>\n",
       "    <tr style=\"text-align: right;\">\n",
       "      <th></th>\n",
       "      <th>Id</th>\n",
       "      <th>OPEID</th>\n",
       "      <th>Name</th>\n",
       "      <th>City</th>\n",
       "      <th>Zip</th>\n",
       "      <th>Predominant degree</th>\n",
       "      <th>Main branch</th>\n",
       "      <th>NumBranches</th>\n",
       "      <th>Primary degree type</th>\n",
       "      <th>High degree</th>\n",
       "      <th>...</th>\n",
       "      <th>PercentAidedLowIncome</th>\n",
       "      <th>PercentIndependent</th>\n",
       "      <th>PercentDependentLowIncome</th>\n",
       "      <th>PercentIndepentdentLowIncome</th>\n",
       "      <th>PercentFirstGen</th>\n",
       "      <th>AvgIncomeDependent</th>\n",
       "      <th>AvgIncomeIndep</th>\n",
       "      <th>MedianDebt</th>\n",
       "      <th>MedianDebtCompleters</th>\n",
       "      <th>MedianDebtNotComplete</th>\n",
       "    </tr>\n",
       "  </thead>\n",
       "  <tbody>\n",
       "    <tr>\n",
       "      <th>5701</th>\n",
       "      <td>5702</td>\n",
       "      <td>00732903</td>\n",
       "      <td>itt technical institute-houston</td>\n",
       "      <td>HOUSTON</td>\n",
       "      <td>770905818</td>\n",
       "      <td>NaN</td>\n",
       "      <td>True</td>\n",
       "      <td>4</td>\n",
       "      <td>Predominantly associate's-degree granting</td>\n",
       "      <td>Associate degree</td>\n",
       "      <td>...</td>\n",
       "      <td>NaN</td>\n",
       "      <td>NaN</td>\n",
       "      <td>NaN</td>\n",
       "      <td>NaN</td>\n",
       "      <td>NaN</td>\n",
       "      <td>NaN</td>\n",
       "      <td>NaN</td>\n",
       "      <td>NaN</td>\n",
       "      <td>NaN</td>\n",
       "      <td>NaN</td>\n",
       "    </tr>\n",
       "    <tr>\n",
       "      <th>12240</th>\n",
       "      <td>12241</td>\n",
       "      <td>00732903</td>\n",
       "      <td>itt technical institute</td>\n",
       "      <td>HOUSTON</td>\n",
       "      <td>770905818</td>\n",
       "      <td>NaN</td>\n",
       "      <td>True</td>\n",
       "      <td>5</td>\n",
       "      <td>Predominantly associate's-degree granting</td>\n",
       "      <td>Associate degree</td>\n",
       "      <td>...</td>\n",
       "      <td>0.635055</td>\n",
       "      <td>0.496016</td>\n",
       "      <td>0.437022</td>\n",
       "      <td>0.836269</td>\n",
       "      <td>0.551735</td>\n",
       "      <td>58425.61298</td>\n",
       "      <td>26187.55805</td>\n",
       "      <td>8574.5</td>\n",
       "      <td>12469.0</td>\n",
       "      <td>3938.5</td>\n",
       "    </tr>\n",
       "    <tr>\n",
       "      <th>18783</th>\n",
       "      <td>18784</td>\n",
       "      <td>00732903</td>\n",
       "      <td>itt technical institute</td>\n",
       "      <td>HOUSTON</td>\n",
       "      <td>770905818</td>\n",
       "      <td>2.0</td>\n",
       "      <td>True</td>\n",
       "      <td>6</td>\n",
       "      <td>Predominantly associate's-degree granting</td>\n",
       "      <td>Associate degree</td>\n",
       "      <td>...</td>\n",
       "      <td>0.627427</td>\n",
       "      <td>0.493280</td>\n",
       "      <td>0.437132</td>\n",
       "      <td>0.822906</td>\n",
       "      <td>0.543544</td>\n",
       "      <td>58977.57059</td>\n",
       "      <td>26614.57650</td>\n",
       "      <td>8834.0</td>\n",
       "      <td>13513.0</td>\n",
       "      <td>3928.0</td>\n",
       "    </tr>\n",
       "    <tr>\n",
       "      <th>25218</th>\n",
       "      <td>25219</td>\n",
       "      <td>00732903</td>\n",
       "      <td>itt technical institute</td>\n",
       "      <td>HOUSTON</td>\n",
       "      <td>770905818</td>\n",
       "      <td>2.0</td>\n",
       "      <td>True</td>\n",
       "      <td>6</td>\n",
       "      <td>Predominantly associate's-degree granting</td>\n",
       "      <td>Associate degree</td>\n",
       "      <td>...</td>\n",
       "      <td>0.617428</td>\n",
       "      <td>0.493476</td>\n",
       "      <td>0.433763</td>\n",
       "      <td>0.805949</td>\n",
       "      <td>0.555260</td>\n",
       "      <td>59465.38238</td>\n",
       "      <td>27163.26105</td>\n",
       "      <td>9329.0</td>\n",
       "      <td>14070.0</td>\n",
       "      <td>4417.0</td>\n",
       "    </tr>\n",
       "    <tr>\n",
       "      <th>31583</th>\n",
       "      <td>31584</td>\n",
       "      <td>00732903</td>\n",
       "      <td>itt technical institute</td>\n",
       "      <td>HOUSTON</td>\n",
       "      <td>770905818</td>\n",
       "      <td>2.0</td>\n",
       "      <td>True</td>\n",
       "      <td>6</td>\n",
       "      <td>Predominantly associate's-degree granting</td>\n",
       "      <td>Associate degree</td>\n",
       "      <td>...</td>\n",
       "      <td>0.613342</td>\n",
       "      <td>0.524248</td>\n",
       "      <td>0.434041</td>\n",
       "      <td>0.776057</td>\n",
       "      <td>0.571004</td>\n",
       "      <td>59925.51167</td>\n",
       "      <td>29234.85648</td>\n",
       "      <td>9799.0</td>\n",
       "      <td>14125.0</td>\n",
       "      <td>4417.0</td>\n",
       "    </tr>\n",
       "    <tr>\n",
       "      <th>38058</th>\n",
       "      <td>38059</td>\n",
       "      <td>00732903</td>\n",
       "      <td>itt technical institute</td>\n",
       "      <td>HOUSTON</td>\n",
       "      <td>770905821</td>\n",
       "      <td>2.0</td>\n",
       "      <td>True</td>\n",
       "      <td>6</td>\n",
       "      <td>Predominantly associate's-degree granting</td>\n",
       "      <td>Associate degree</td>\n",
       "      <td>...</td>\n",
       "      <td>0.603545</td>\n",
       "      <td>0.546107</td>\n",
       "      <td>0.430054</td>\n",
       "      <td>0.747740</td>\n",
       "      <td>0.565508</td>\n",
       "      <td>61715.74188</td>\n",
       "      <td>30800.44818</td>\n",
       "      <td>10028.5</td>\n",
       "      <td>14125.0</td>\n",
       "      <td>4417.0</td>\n",
       "    </tr>\n",
       "    <tr>\n",
       "      <th>44589</th>\n",
       "      <td>44590</td>\n",
       "      <td>00732903</td>\n",
       "      <td>itt technical institute</td>\n",
       "      <td>HOUSTON</td>\n",
       "      <td>77090-5821</td>\n",
       "      <td>2.0</td>\n",
       "      <td>True</td>\n",
       "      <td>6</td>\n",
       "      <td>Predominantly associate's-degree granting</td>\n",
       "      <td>Associate degree</td>\n",
       "      <td>...</td>\n",
       "      <td>0.605835</td>\n",
       "      <td>0.548366</td>\n",
       "      <td>0.426906</td>\n",
       "      <td>0.753200</td>\n",
       "      <td>0.574435</td>\n",
       "      <td>60736.87755</td>\n",
       "      <td>29543.46739</td>\n",
       "      <td>9792.0</td>\n",
       "      <td>18216.0</td>\n",
       "      <td>5348.0</td>\n",
       "    </tr>\n",
       "    <tr>\n",
       "      <th>51083</th>\n",
       "      <td>51084</td>\n",
       "      <td>00732903</td>\n",
       "      <td>itt technical institute</td>\n",
       "      <td>HOUSTON</td>\n",
       "      <td>77090-5818</td>\n",
       "      <td>2.0</td>\n",
       "      <td>True</td>\n",
       "      <td>6</td>\n",
       "      <td>Predominantly associate's-degree granting</td>\n",
       "      <td>Associate degree</td>\n",
       "      <td>...</td>\n",
       "      <td>0.615309</td>\n",
       "      <td>0.575167</td>\n",
       "      <td>0.434460</td>\n",
       "      <td>0.748888</td>\n",
       "      <td>0.585259</td>\n",
       "      <td>57378.32294</td>\n",
       "      <td>28381.15320</td>\n",
       "      <td>9791.0</td>\n",
       "      <td>20030.0</td>\n",
       "      <td>4886.5</td>\n",
       "    </tr>\n",
       "    <tr>\n",
       "      <th>57592</th>\n",
       "      <td>57593</td>\n",
       "      <td>00732903</td>\n",
       "      <td>itt technical institute</td>\n",
       "      <td>HOUSTON</td>\n",
       "      <td>77090-581</td>\n",
       "      <td>2.0</td>\n",
       "      <td>True</td>\n",
       "      <td>6</td>\n",
       "      <td>Predominantly associate's-degree granting</td>\n",
       "      <td>Associate degree</td>\n",
       "      <td>...</td>\n",
       "      <td>0.622331</td>\n",
       "      <td>0.612181</td>\n",
       "      <td>0.423736</td>\n",
       "      <td>0.748142</td>\n",
       "      <td>0.555018</td>\n",
       "      <td>57458.37104</td>\n",
       "      <td>28320.93152</td>\n",
       "      <td>9126.0</td>\n",
       "      <td>20624.0</td>\n",
       "      <td>4417.0</td>\n",
       "    </tr>\n",
       "    <tr>\n",
       "      <th>64220</th>\n",
       "      <td>64221</td>\n",
       "      <td>00732903</td>\n",
       "      <td>itt technical institute</td>\n",
       "      <td>Houston</td>\n",
       "      <td>77090-5821</td>\n",
       "      <td>2.0</td>\n",
       "      <td>True</td>\n",
       "      <td>6</td>\n",
       "      <td>Predominantly associate's-degree granting</td>\n",
       "      <td>Associate degree</td>\n",
       "      <td>...</td>\n",
       "      <td>0.630033</td>\n",
       "      <td>0.635318</td>\n",
       "      <td>0.413470</td>\n",
       "      <td>0.754343</td>\n",
       "      <td>0.532114</td>\n",
       "      <td>57185.20615</td>\n",
       "      <td>27828.79673</td>\n",
       "      <td>8834.0</td>\n",
       "      <td>21124.0</td>\n",
       "      <td>4417.0</td>\n",
       "    </tr>\n",
       "    <tr>\n",
       "      <th>70999</th>\n",
       "      <td>71000</td>\n",
       "      <td>00732903</td>\n",
       "      <td>itt technical institute-houston north</td>\n",
       "      <td>Houston</td>\n",
       "      <td>77090-5821</td>\n",
       "      <td>2.0</td>\n",
       "      <td>True</td>\n",
       "      <td>6</td>\n",
       "      <td>Predominantly associate's-degree granting</td>\n",
       "      <td>Associate degree</td>\n",
       "      <td>...</td>\n",
       "      <td>NaN</td>\n",
       "      <td>0.661763</td>\n",
       "      <td>0.421707</td>\n",
       "      <td>0.732162</td>\n",
       "      <td>0.536616</td>\n",
       "      <td>55413.77543</td>\n",
       "      <td>27900.88197</td>\n",
       "      <td>7292.0</td>\n",
       "      <td>21124.0</td>\n",
       "      <td>4417.0</td>\n",
       "    </tr>\n",
       "    <tr>\n",
       "      <th>77802</th>\n",
       "      <td>77803</td>\n",
       "      <td>00732903</td>\n",
       "      <td>itt technical institute-houston north</td>\n",
       "      <td>Houston</td>\n",
       "      <td>77090</td>\n",
       "      <td>2.0</td>\n",
       "      <td>True</td>\n",
       "      <td>6</td>\n",
       "      <td>Predominantly associate's-degree granting</td>\n",
       "      <td>Associate degree</td>\n",
       "      <td>...</td>\n",
       "      <td>0.616873</td>\n",
       "      <td>0.701493</td>\n",
       "      <td>0.418644</td>\n",
       "      <td>0.701226</td>\n",
       "      <td>0.533793</td>\n",
       "      <td>55661.94228</td>\n",
       "      <td>29134.97376</td>\n",
       "      <td>7501.0</td>\n",
       "      <td>21124.0</td>\n",
       "      <td>5292.0</td>\n",
       "    </tr>\n",
       "    <tr>\n",
       "      <th>84659</th>\n",
       "      <td>84660</td>\n",
       "      <td>00732903</td>\n",
       "      <td>itt technical institute-houston north</td>\n",
       "      <td>Houston</td>\n",
       "      <td>77090</td>\n",
       "      <td>2.0</td>\n",
       "      <td>True</td>\n",
       "      <td>6</td>\n",
       "      <td>Predominantly associate's-degree granting</td>\n",
       "      <td>Associate degree</td>\n",
       "      <td>...</td>\n",
       "      <td>0.641047</td>\n",
       "      <td>0.760791</td>\n",
       "      <td>0.428405</td>\n",
       "      <td>0.707906</td>\n",
       "      <td>0.540223</td>\n",
       "      <td>53980.84506</td>\n",
       "      <td>27689.65051</td>\n",
       "      <td>9500.0</td>\n",
       "      <td>22124.0</td>\n",
       "      <td>7001.0</td>\n",
       "    </tr>\n",
       "    <tr>\n",
       "      <th>91595</th>\n",
       "      <td>91596</td>\n",
       "      <td>00732903</td>\n",
       "      <td>itt technical institute-houston north</td>\n",
       "      <td>Houston</td>\n",
       "      <td>77090</td>\n",
       "      <td>2.0</td>\n",
       "      <td>True</td>\n",
       "      <td>6</td>\n",
       "      <td>Predominantly associate's-degree granting</td>\n",
       "      <td>Associate degree</td>\n",
       "      <td>...</td>\n",
       "      <td>NaN</td>\n",
       "      <td>0.752645</td>\n",
       "      <td>0.552052</td>\n",
       "      <td>0.764338</td>\n",
       "      <td>0.553853</td>\n",
       "      <td>41025.04106</td>\n",
       "      <td>22555.31385</td>\n",
       "      <td>9500.0</td>\n",
       "      <td>26332.0</td>\n",
       "      <td>8665.5</td>\n",
       "    </tr>\n",
       "    <tr>\n",
       "      <th>98704</th>\n",
       "      <td>98705</td>\n",
       "      <td>00732903</td>\n",
       "      <td>itt technical institute-houston north</td>\n",
       "      <td>Houston</td>\n",
       "      <td>77090</td>\n",
       "      <td>2.0</td>\n",
       "      <td>True</td>\n",
       "      <td>119</td>\n",
       "      <td>Predominantly associate's-degree granting</td>\n",
       "      <td>Associate degree</td>\n",
       "      <td>...</td>\n",
       "      <td>NaN</td>\n",
       "      <td>0.745480</td>\n",
       "      <td>0.522694</td>\n",
       "      <td>0.792526</td>\n",
       "      <td>0.546699</td>\n",
       "      <td>43099.24043</td>\n",
       "      <td>20588.24274</td>\n",
       "      <td>6334.0</td>\n",
       "      <td>8333.0</td>\n",
       "      <td>5902.5</td>\n",
       "    </tr>\n",
       "    <tr>\n",
       "      <th>106081</th>\n",
       "      <td>106082</td>\n",
       "      <td>00732903</td>\n",
       "      <td>itt technical institute-houston north</td>\n",
       "      <td>Houston</td>\n",
       "      <td>77090</td>\n",
       "      <td>2.0</td>\n",
       "      <td>True</td>\n",
       "      <td>128</td>\n",
       "      <td>Predominantly associate's-degree granting</td>\n",
       "      <td>Bachelor's degree</td>\n",
       "      <td>...</td>\n",
       "      <td>0.724327</td>\n",
       "      <td>0.749040</td>\n",
       "      <td>0.515924</td>\n",
       "      <td>0.794151</td>\n",
       "      <td>0.539846</td>\n",
       "      <td>43496.22276</td>\n",
       "      <td>20354.73746</td>\n",
       "      <td>8167.0</td>\n",
       "      <td>12500.0</td>\n",
       "      <td>6334.0</td>\n",
       "    </tr>\n",
       "    <tr>\n",
       "      <th>113700</th>\n",
       "      <td>113701</td>\n",
       "      <td>00732903</td>\n",
       "      <td>itt technical institute-houston north</td>\n",
       "      <td>Houston</td>\n",
       "      <td>77090</td>\n",
       "      <td>2.0</td>\n",
       "      <td>True</td>\n",
       "      <td>141</td>\n",
       "      <td>Predominantly associate's-degree granting</td>\n",
       "      <td>Bachelor's degree</td>\n",
       "      <td>...</td>\n",
       "      <td>NaN</td>\n",
       "      <td>0.765655</td>\n",
       "      <td>0.545558</td>\n",
       "      <td>0.784444</td>\n",
       "      <td>0.524008</td>\n",
       "      <td>40192.74947</td>\n",
       "      <td>20266.53888</td>\n",
       "      <td>12473.0</td>\n",
       "      <td>18833.0</td>\n",
       "      <td>8873.5</td>\n",
       "    </tr>\n",
       "    <tr>\n",
       "      <th>121428</th>\n",
       "      <td>121429</td>\n",
       "      <td>00732903</td>\n",
       "      <td>itt technical institute-houston north</td>\n",
       "      <td>Houston</td>\n",
       "      <td>77090</td>\n",
       "      <td>NaN</td>\n",
       "      <td>True</td>\n",
       "      <td>141</td>\n",
       "      <td>Predominantly associate's-degree granting</td>\n",
       "      <td>Bachelor's degree</td>\n",
       "      <td>...</td>\n",
       "      <td>NaN</td>\n",
       "      <td>0.779942</td>\n",
       "      <td>0.550534</td>\n",
       "      <td>0.773190</td>\n",
       "      <td>0.506675</td>\n",
       "      <td>38964.56032</td>\n",
       "      <td>20555.50330</td>\n",
       "      <td>14656.5</td>\n",
       "      <td>25833.5</td>\n",
       "      <td>9500.0</td>\n",
       "    </tr>\n",
       "  </tbody>\n",
       "</table>\n",
       "<p>18 rows × 34 columns</p>\n",
       "</div>"
      ],
      "text/plain": [
       "            Id     OPEID                                   Name     City  \\\n",
       "5701      5702  00732903        itt technical institute-houston  HOUSTON   \n",
       "12240    12241  00732903                itt technical institute  HOUSTON   \n",
       "18783    18784  00732903                itt technical institute  HOUSTON   \n",
       "25218    25219  00732903                itt technical institute  HOUSTON   \n",
       "31583    31584  00732903                itt technical institute  HOUSTON   \n",
       "38058    38059  00732903                itt technical institute  HOUSTON   \n",
       "44589    44590  00732903                itt technical institute  HOUSTON   \n",
       "51083    51084  00732903                itt technical institute  HOUSTON   \n",
       "57592    57593  00732903                itt technical institute  HOUSTON   \n",
       "64220    64221  00732903                itt technical institute  Houston   \n",
       "70999    71000  00732903  itt technical institute-houston north  Houston   \n",
       "77802    77803  00732903  itt technical institute-houston north  Houston   \n",
       "84659    84660  00732903  itt technical institute-houston north  Houston   \n",
       "91595    91596  00732903  itt technical institute-houston north  Houston   \n",
       "98704    98705  00732903  itt technical institute-houston north  Houston   \n",
       "106081  106082  00732903  itt technical institute-houston north  Houston   \n",
       "113700  113701  00732903  itt technical institute-houston north  Houston   \n",
       "121428  121429  00732903  itt technical institute-houston north  Houston   \n",
       "\n",
       "               Zip  Predominant degree  Main branch  NumBranches  \\\n",
       "5701     770905818                 NaN         True            4   \n",
       "12240    770905818                 NaN         True            5   \n",
       "18783    770905818                 2.0         True            6   \n",
       "25218    770905818                 2.0         True            6   \n",
       "31583    770905818                 2.0         True            6   \n",
       "38058    770905821                 2.0         True            6   \n",
       "44589   77090-5821                 2.0         True            6   \n",
       "51083   77090-5818                 2.0         True            6   \n",
       "57592    77090-581                 2.0         True            6   \n",
       "64220   77090-5821                 2.0         True            6   \n",
       "70999   77090-5821                 2.0         True            6   \n",
       "77802        77090                 2.0         True            6   \n",
       "84659        77090                 2.0         True            6   \n",
       "91595        77090                 2.0         True            6   \n",
       "98704        77090                 2.0         True          119   \n",
       "106081       77090                 2.0         True          128   \n",
       "113700       77090                 2.0         True          141   \n",
       "121428       77090                 NaN         True          141   \n",
       "\n",
       "                              Primary degree type        High degree  ...  \\\n",
       "5701    Predominantly associate's-degree granting   Associate degree  ...   \n",
       "12240   Predominantly associate's-degree granting   Associate degree  ...   \n",
       "18783   Predominantly associate's-degree granting   Associate degree  ...   \n",
       "25218   Predominantly associate's-degree granting   Associate degree  ...   \n",
       "31583   Predominantly associate's-degree granting   Associate degree  ...   \n",
       "38058   Predominantly associate's-degree granting   Associate degree  ...   \n",
       "44589   Predominantly associate's-degree granting   Associate degree  ...   \n",
       "51083   Predominantly associate's-degree granting   Associate degree  ...   \n",
       "57592   Predominantly associate's-degree granting   Associate degree  ...   \n",
       "64220   Predominantly associate's-degree granting   Associate degree  ...   \n",
       "70999   Predominantly associate's-degree granting   Associate degree  ...   \n",
       "77802   Predominantly associate's-degree granting   Associate degree  ...   \n",
       "84659   Predominantly associate's-degree granting   Associate degree  ...   \n",
       "91595   Predominantly associate's-degree granting   Associate degree  ...   \n",
       "98704   Predominantly associate's-degree granting   Associate degree  ...   \n",
       "106081  Predominantly associate's-degree granting  Bachelor's degree  ...   \n",
       "113700  Predominantly associate's-degree granting  Bachelor's degree  ...   \n",
       "121428  Predominantly associate's-degree granting  Bachelor's degree  ...   \n",
       "\n",
       "       PercentAidedLowIncome PercentIndependent PercentDependentLowIncome  \\\n",
       "5701                     NaN                NaN                       NaN   \n",
       "12240               0.635055           0.496016                  0.437022   \n",
       "18783               0.627427           0.493280                  0.437132   \n",
       "25218               0.617428           0.493476                  0.433763   \n",
       "31583               0.613342           0.524248                  0.434041   \n",
       "38058               0.603545           0.546107                  0.430054   \n",
       "44589               0.605835           0.548366                  0.426906   \n",
       "51083               0.615309           0.575167                  0.434460   \n",
       "57592               0.622331           0.612181                  0.423736   \n",
       "64220               0.630033           0.635318                  0.413470   \n",
       "70999                    NaN           0.661763                  0.421707   \n",
       "77802               0.616873           0.701493                  0.418644   \n",
       "84659               0.641047           0.760791                  0.428405   \n",
       "91595                    NaN           0.752645                  0.552052   \n",
       "98704                    NaN           0.745480                  0.522694   \n",
       "106081              0.724327           0.749040                  0.515924   \n",
       "113700                   NaN           0.765655                  0.545558   \n",
       "121428                   NaN           0.779942                  0.550534   \n",
       "\n",
       "        PercentIndepentdentLowIncome  PercentFirstGen  AvgIncomeDependent  \\\n",
       "5701                             NaN              NaN                 NaN   \n",
       "12240                       0.836269         0.551735         58425.61298   \n",
       "18783                       0.822906         0.543544         58977.57059   \n",
       "25218                       0.805949         0.555260         59465.38238   \n",
       "31583                       0.776057         0.571004         59925.51167   \n",
       "38058                       0.747740         0.565508         61715.74188   \n",
       "44589                       0.753200         0.574435         60736.87755   \n",
       "51083                       0.748888         0.585259         57378.32294   \n",
       "57592                       0.748142         0.555018         57458.37104   \n",
       "64220                       0.754343         0.532114         57185.20615   \n",
       "70999                       0.732162         0.536616         55413.77543   \n",
       "77802                       0.701226         0.533793         55661.94228   \n",
       "84659                       0.707906         0.540223         53980.84506   \n",
       "91595                       0.764338         0.553853         41025.04106   \n",
       "98704                       0.792526         0.546699         43099.24043   \n",
       "106081                      0.794151         0.539846         43496.22276   \n",
       "113700                      0.784444         0.524008         40192.74947   \n",
       "121428                      0.773190         0.506675         38964.56032   \n",
       "\n",
       "        AvgIncomeIndep  MedianDebt  MedianDebtCompleters  \\\n",
       "5701               NaN         NaN                   NaN   \n",
       "12240      26187.55805      8574.5               12469.0   \n",
       "18783      26614.57650      8834.0               13513.0   \n",
       "25218      27163.26105      9329.0               14070.0   \n",
       "31583      29234.85648      9799.0               14125.0   \n",
       "38058      30800.44818     10028.5               14125.0   \n",
       "44589      29543.46739      9792.0               18216.0   \n",
       "51083      28381.15320      9791.0               20030.0   \n",
       "57592      28320.93152      9126.0               20624.0   \n",
       "64220      27828.79673      8834.0               21124.0   \n",
       "70999      27900.88197      7292.0               21124.0   \n",
       "77802      29134.97376      7501.0               21124.0   \n",
       "84659      27689.65051      9500.0               22124.0   \n",
       "91595      22555.31385      9500.0               26332.0   \n",
       "98704      20588.24274      6334.0                8333.0   \n",
       "106081     20354.73746      8167.0               12500.0   \n",
       "113700     20266.53888     12473.0               18833.0   \n",
       "121428     20555.50330     14656.5               25833.5   \n",
       "\n",
       "        MedianDebtNotComplete  \n",
       "5701                      NaN  \n",
       "12240                  3938.5  \n",
       "18783                  3928.0  \n",
       "25218                  4417.0  \n",
       "31583                  4417.0  \n",
       "38058                  4417.0  \n",
       "44589                  5348.0  \n",
       "51083                  4886.5  \n",
       "57592                  4417.0  \n",
       "64220                  4417.0  \n",
       "70999                  4417.0  \n",
       "77802                  5292.0  \n",
       "84659                  7001.0  \n",
       "91595                  8665.5  \n",
       "98704                  5902.5  \n",
       "106081                 6334.0  \n",
       "113700                 8873.5  \n",
       "121428                 9500.0  \n",
       "\n",
       "[18 rows x 34 columns]"
      ]
     },
     "execution_count": 13,
     "metadata": {},
     "output_type": "execute_result"
    }
   ],
   "source": [
    "itt_sample = data.loc[data.OPEID == '00732903']\n",
    "itt_sample"
   ]
  },
  {
   "cell_type": "markdown",
   "metadata": {},
   "source": [
    "All of these schools are in Houston. They may have different names - some include the name \"Houston\" or \"Houston-North.\"\n",
    "They also all have different IDs, which leads to some questions about how the ID number relates to the OPEID and the school name. This information may be in the data dictionary, or other meta-data documents."
   ]
  },
  {
   "cell_type": "markdown",
   "metadata": {},
   "source": [
    "## Explore more individual columns\n",
    "Reprint the column names, to kow what to analyze next."
   ]
  },
  {
   "cell_type": "code",
   "execution_count": 14,
   "metadata": {},
   "outputs": [
    {
     "data": {
      "text/plain": [
       "Index(['Id', 'OPEID', 'Name', 'City', 'Zip', 'Predominant degree',\n",
       "       'Main branch', 'NumBranches', 'Primary degree type', 'High degree',\n",
       "       'Control', 'StateCode', 'Region', 'Enrollment-DegreeSeeking',\n",
       "       'CURROPER', 'TuitionRevenue/FTE', 'Expenditure/FTE',\n",
       "       'AvgFaculty Salary', 'Percent Fulltime Faculty', 'Completion<4yr',\n",
       "       'PercentAge>25', 'PercentCompleted4yr', 'PercentWithdraw4yr',\n",
       "       'PercentEnrolled4yr', 'PercentAidedLowIncome', 'PercentIndependent',\n",
       "       'PercentDependentLowIncome', 'PercentIndepentdentLowIncome',\n",
       "       'PercentFirstGen', 'AvgIncomeDependent', 'AvgIncomeIndep', 'MedianDebt',\n",
       "       'MedianDebtCompleters', 'MedianDebtNotComplete'],\n",
       "      dtype='object')"
      ]
     },
     "execution_count": 14,
     "metadata": {},
     "output_type": "execute_result"
    }
   ],
   "source": [
    "data.columns"
   ]
  },
  {
   "cell_type": "markdown",
   "metadata": {},
   "source": [
    "What are the values (and distributions) of the \"Predominant degree\" column?\n",
    "\n",
    "In the preprocessing step, this column was converted to a category. It is being processed here as a float. It is unclear at this point how the original string categories were converted to numbers. (To be investigated further.)"
   ]
  },
  {
   "cell_type": "code",
   "execution_count": 15,
   "metadata": {},
   "outputs": [
    {
     "data": {
      "text/plain": [
       "1.0    40387\n",
       "3.0    37512\n",
       "2.0    23435\n",
       "Name: Predominant degree, dtype: int64"
      ]
     },
     "execution_count": 15,
     "metadata": {},
     "output_type": "execute_result"
    }
   ],
   "source": [
    "data['Predominant degree'].value_counts()\n",
    "# plt.hist(data['Predominant degree'])\n",
    "# plt.xlabel('Degree code')\n",
    "# plt.ylabel('Count')\n",
    "# plt.show()"
   ]
  },
  {
   "cell_type": "markdown",
   "metadata": {},
   "source": [
    "What are the values (and distributions) of the \"Main branch\" column?\n",
    "\n",
    "Result: all of the observations in the data are coded as a \"Main branch\" which means it is not a meaningful variable, so I'll drop it."
   ]
  },
  {
   "cell_type": "code",
   "execution_count": 16,
   "metadata": {},
   "outputs": [
    {
     "name": "stdout",
     "output_type": "stream",
     "text": [
      "True    124699\n",
      "Name: Main branch, dtype: int64\n"
     ]
    }
   ],
   "source": [
    "print(data['Main branch'].value_counts())\n",
    "\n",
    "data= data.drop('Main branch', axis=1)"
   ]
  },
  {
   "cell_type": "markdown",
   "metadata": {},
   "source": [
    "Since all schools are labeled as main branches, how many other branches are associated with each school? This is in the NumBranches column."
   ]
  },
  {
   "cell_type": "code",
   "execution_count": 17,
   "metadata": {},
   "outputs": [
    {
     "name": "stdout",
     "output_type": "stream",
     "text": [
      "1      91561\n",
      "2      11535\n",
      "3       5970\n",
      "4       3286\n",
      "5       2010\n",
      "6       1490\n",
      "8        758\n",
      "7        752\n",
      "9        633\n",
      "11       584\n",
      "10       579\n",
      "23       347\n",
      "14       314\n",
      "141      282\n",
      "78       234\n",
      "13       234\n",
      "74       222\n",
      "22       198\n",
      "19       192\n",
      "31       186\n",
      "26       182\n",
      "86       172\n",
      "28       171\n",
      "16       161\n",
      "38       152\n",
      "12       149\n",
      "17       136\n",
      "15       136\n",
      "128      128\n",
      "42       126\n",
      "20       120\n",
      "119      119\n",
      "99       101\n",
      "93        95\n",
      "18        92\n",
      "44        88\n",
      "84        85\n",
      "85        85\n",
      "39        78\n",
      "72        72\n",
      "68        72\n",
      "71        71\n",
      "70        70\n",
      "63        63\n",
      "60        60\n",
      "59        59\n",
      "27        54\n",
      "54        54\n",
      "51        51\n",
      "50        50\n",
      "21        42\n",
      "41        41\n",
      "40        40\n",
      "36        36\n",
      "34        34\n",
      "33        33\n",
      "30        30\n",
      "24        24\n",
      "Name: NumBranches, dtype: int64\n"
     ]
    },
    {
     "data": {
      "image/png": "[encoded data removed]",
      "text/plain": [
       "<Figure size 432x288 with 1 Axes>"
      ]
     },
     "metadata": {
      "needs_background": "light"
     },
     "output_type": "display_data"
    }
   ],
   "source": [
    "print(data['NumBranches'].value_counts())\n",
    "plt.hist(data['NumBranches'])\n",
    "plt.xlabel('Number of branches')\n",
    "plt.ylabel('Count')\n",
    "plt.yscale('log')\n",
    "plt.show()"
   ]
  },
  {
   "cell_type": "markdown",
   "metadata": {},
   "source": [
    "Most of the schools (91561) have only one branch, while a few have more than 100 branches. It might be interesting to investigate this more."
   ]
  },
  {
   "cell_type": "markdown",
   "metadata": {},
   "source": [
    "What are the values and distribution of the 'Primary degree type' column? In the preprocessing step, they were converted to categorical data, but they have been imported here as a string. Should they be re-convereted to categorical data?"
   ]
  },
  {
   "cell_type": "code",
   "execution_count": 18,
   "metadata": {},
   "outputs": [
    {
     "name": "stdout",
     "output_type": "stream",
     "text": [
      "Predominantly certificate-degree granting    52605\n",
      "Predominantly bachelor's-degree granting     35199\n",
      "Predominantly associate's-degree granting    26670\n",
      "Not classified                                5228\n",
      "Entirely graduate-degree granting             4997\n",
      "Name: Primary degree type, dtype: int64\n"
     ]
    },
    {
     "data": {
      "text/plain": [
       "0         Predominantly associate's-degree granting\n",
       "1          Predominantly bachelor's-degree granting\n",
       "2          Predominantly bachelor's-degree granting\n",
       "3         Predominantly certificate-degree granting\n",
       "4          Predominantly bachelor's-degree granting\n",
       "                            ...                    \n",
       "124694                               Not classified\n",
       "124695                               Not classified\n",
       "124696                               Not classified\n",
       "124697                               Not classified\n",
       "124698                               Not classified\n",
       "Name: Primary degree type, Length: 124699, dtype: category\n",
       "Categories (5, object): [Entirely graduate-degree granting, Not classified, Predominantly associate's-degree granting, Predominantly bachelor's-degree granting, Predominantly certificate-degree granting]"
      ]
     },
     "execution_count": 18,
     "metadata": {},
     "output_type": "execute_result"
    }
   ],
   "source": [
    "print(data['Primary degree type'].value_counts())\n",
    "data['Primary degree type'].astype('category')"
   ]
  },
  {
   "cell_type": "markdown",
   "metadata": {},
   "source": [
    "Based on the 5 different values, it does seem that this column contains categorical data, so it has been adjusted accordingly. I'm am primarily intersted in undergraduate institutions, and may drop the 'Entirely graduate-degree granting' institutions for further analysis at a later time."
   ]
  },
  {
   "cell_type": "markdown",
   "metadata": {},
   "source": [
    "What are the values and distributions in the 'High degree' column? (How are these related to the Primary degree type)?"
   ]
  },
  {
   "cell_type": "code",
   "execution_count": 19,
   "metadata": {},
   "outputs": [
    {
     "name": "stdout",
     "output_type": "stream",
     "text": [
      "Certificate degree     42894\n",
      "Graduate degree        32252\n",
      "Associate degree       30733\n",
      "Bachelor's degree      13592\n",
      "Non-degree-granting     5228\n",
      "Name: High degree, dtype: int64\n"
     ]
    },
    {
     "data": {
      "text/plain": [
       "0            Associate degree\n",
       "1             Graduate degree\n",
       "2             Graduate degree\n",
       "3            Associate degree\n",
       "4             Graduate degree\n",
       "                 ...         \n",
       "124694    Non-degree-granting\n",
       "124695    Non-degree-granting\n",
       "124696    Non-degree-granting\n",
       "124697    Non-degree-granting\n",
       "124698    Non-degree-granting\n",
       "Name: High degree, Length: 124699, dtype: category\n",
       "Categories (5, object): [Associate degree, Bachelor's degree, Certificate degree, Graduate degree, Non-degree-granting]"
      ]
     },
     "execution_count": 19,
     "metadata": {},
     "output_type": "execute_result"
    }
   ],
   "source": [
    "print(data['High degree'].value_counts())\n",
    "data['High degree'].astype('category')"
   ]
  },
  {
   "cell_type": "markdown",
   "metadata": {},
   "source": [
    "Since there are only 5 values, it seems that this column should be treated categorically as well. Interstingly, there are 5228 non-degree-granting institutions, which is the same number as the \"Not classifed\" category in the 'Primary degree type' column. \n",
    "\n",
    "The following pivot table shows how the categories in these two columns are related. Indeed, the 5228 Non-degree granting institutions from 'High degree\" are the same as the 'Not classified' schools from 'Primary degree type'."
   ]
  },
  {
   "cell_type": "code",
   "execution_count": 20,
   "metadata": {},
   "outputs": [
    {
     "data": {
      "text/html": [
       "<div>\n",
       "<style scoped>\n",
       "    .dataframe tbody tr th:only-of-type {\n",
       "        vertical-align: middle;\n",
       "    }\n",
       "\n",
       "    .dataframe tbody tr th {\n",
       "        vertical-align: top;\n",
       "    }\n",
       "\n",
       "    .dataframe thead th {\n",
       "        text-align: right;\n",
       "    }\n",
       "</style>\n",
       "<table border=\"1\" class=\"dataframe\">\n",
       "  <thead>\n",
       "    <tr style=\"text-align: right;\">\n",
       "      <th>High degree</th>\n",
       "      <th>Associate degree</th>\n",
       "      <th>Bachelor's degree</th>\n",
       "      <th>Certificate degree</th>\n",
       "      <th>Graduate degree</th>\n",
       "      <th>Non-degree-granting</th>\n",
       "    </tr>\n",
       "    <tr>\n",
       "      <th>Primary degree type</th>\n",
       "      <th></th>\n",
       "      <th></th>\n",
       "      <th></th>\n",
       "      <th></th>\n",
       "      <th></th>\n",
       "    </tr>\n",
       "  </thead>\n",
       "  <tbody>\n",
       "    <tr>\n",
       "      <th>Entirely graduate-degree granting</th>\n",
       "      <td>NaN</td>\n",
       "      <td>NaN</td>\n",
       "      <td>NaN</td>\n",
       "      <td>4997.0</td>\n",
       "      <td>NaN</td>\n",
       "    </tr>\n",
       "    <tr>\n",
       "      <th>Not classified</th>\n",
       "      <td>NaN</td>\n",
       "      <td>NaN</td>\n",
       "      <td>NaN</td>\n",
       "      <td>NaN</td>\n",
       "      <td>5228.0</td>\n",
       "    </tr>\n",
       "    <tr>\n",
       "      <th>Predominantly associate's-degree granting</th>\n",
       "      <td>22047.0</td>\n",
       "      <td>3842.0</td>\n",
       "      <td>NaN</td>\n",
       "      <td>781.0</td>\n",
       "      <td>NaN</td>\n",
       "    </tr>\n",
       "    <tr>\n",
       "      <th>Predominantly bachelor's-degree granting</th>\n",
       "      <td>NaN</td>\n",
       "      <td>9239.0</td>\n",
       "      <td>NaN</td>\n",
       "      <td>25960.0</td>\n",
       "      <td>NaN</td>\n",
       "    </tr>\n",
       "    <tr>\n",
       "      <th>Predominantly certificate-degree granting</th>\n",
       "      <td>8686.0</td>\n",
       "      <td>511.0</td>\n",
       "      <td>42894.0</td>\n",
       "      <td>514.0</td>\n",
       "      <td>NaN</td>\n",
       "    </tr>\n",
       "  </tbody>\n",
       "</table>\n",
       "</div>"
      ],
      "text/plain": [
       "High degree                                Associate degree  \\\n",
       "Primary degree type                                           \n",
       "Entirely graduate-degree granting                       NaN   \n",
       "Not classified                                          NaN   \n",
       "Predominantly associate's-degree granting           22047.0   \n",
       "Predominantly bachelor's-degree granting                NaN   \n",
       "Predominantly certificate-degree granting            8686.0   \n",
       "\n",
       "High degree                                Bachelor's degree  \\\n",
       "Primary degree type                                            \n",
       "Entirely graduate-degree granting                        NaN   \n",
       "Not classified                                           NaN   \n",
       "Predominantly associate's-degree granting             3842.0   \n",
       "Predominantly bachelor's-degree granting              9239.0   \n",
       "Predominantly certificate-degree granting              511.0   \n",
       "\n",
       "High degree                                Certificate degree  \\\n",
       "Primary degree type                                             \n",
       "Entirely graduate-degree granting                         NaN   \n",
       "Not classified                                            NaN   \n",
       "Predominantly associate's-degree granting                 NaN   \n",
       "Predominantly bachelor's-degree granting                  NaN   \n",
       "Predominantly certificate-degree granting             42894.0   \n",
       "\n",
       "High degree                                Graduate degree  \\\n",
       "Primary degree type                                          \n",
       "Entirely graduate-degree granting                   4997.0   \n",
       "Not classified                                         NaN   \n",
       "Predominantly associate's-degree granting            781.0   \n",
       "Predominantly bachelor's-degree granting           25960.0   \n",
       "Predominantly certificate-degree granting            514.0   \n",
       "\n",
       "High degree                                Non-degree-granting  \n",
       "Primary degree type                                             \n",
       "Entirely graduate-degree granting                          NaN  \n",
       "Not classified                                          5228.0  \n",
       "Predominantly associate's-degree granting                  NaN  \n",
       "Predominantly bachelor's-degree granting                   NaN  \n",
       "Predominantly certificate-degree granting                  NaN  "
      ]
     },
     "execution_count": 20,
     "metadata": {},
     "output_type": "execute_result"
    }
   ],
   "source": [
    "degree = data.pivot_table(index='Primary degree type', columns='High degree', aggfunc='size')\n",
    "degree"
   ]
  },
  {
   "cell_type": "markdown",
   "metadata": {},
   "source": [
    "Next steps:\n",
    "\n",
    "Explore (univariately) more columns\n",
    "\n",
    "Of most interest:\n",
    "\n"
   ]
  },
  {
   "cell_type": "markdown",
   "metadata": {},
   "source": [
    "What is the distribution of schools by \"Control\" - Public, Private non-profite and Privat for-profit? Is this column treated as a string or a category?  It should be a category."
   ]
  },
  {
   "cell_type": "code",
   "execution_count": 21,
   "metadata": {},
   "outputs": [
    {
     "name": "stdout",
     "output_type": "stream",
     "text": [
      "category\n",
      "Private for-profit    51531\n",
      "Public                37943\n",
      "Private nonprofit     35202\n",
      "Name: Control, dtype: int64\n",
      "For profit =  41.33193236869967\n"
     ]
    }
   ],
   "source": [
    "data[\"Control\"] = data[\"Control\"].astype('category')\n",
    "print(data.Control.dtype)\n",
    "print(data[\"Control\"].value_counts())\n",
    "\n",
    "school_total = 51531 + 37943 + 35202\n",
    "percent_forprofit = (51531/school_total) * 100\n",
    "print(\"For profit = \", percent_forprofit)"
   ]
  },
  {
   "cell_type": "markdown",
   "metadata": {},
   "source": [
    "There are approximately equal numbers of public and private non-profit schools. About 40% of the schools are private for-profit schools."
   ]
  },
  {
   "cell_type": "code",
   "execution_count": 22,
   "metadata": {},
   "outputs": [
    {
     "name": "stdout",
     "output_type": "stream",
     "text": [
      "category\n"
     ]
    },
    {
     "data": {
      "text/plain": [
       "California                        12182\n",
       "New York                           8242\n",
       "Pennsylvania                       7456\n",
       "Texas                              7037\n",
       "Florida                            5935\n",
       "Ohio                               5896\n",
       "Illinois                           4903\n",
       "Missouri                           3612\n",
       "Massachusetts                      3423\n",
       "Michigan                           3404\n",
       "Georgia                            3172\n",
       "North Carolina                     3038\n",
       "Virginia                           2907\n",
       "Tennessee                          2903\n",
       "New Jersey                         2721\n",
       "Puerto Rico                        2587\n",
       "Minnesota                          2552\n",
       "Indiana                            2530\n",
       "Oklahoma                           2493\n",
       "Louisiana                          2464\n",
       "Washington                         2157\n",
       "Kentucky                           2064\n",
       "Arizona                            2041\n",
       "Colorado                           1926\n",
       "Wisconsin                          1778\n",
       "Connecticut                        1717\n",
       "Maryland                           1669\n",
       "Iowa                               1645\n",
       "South Carolina                     1605\n",
       "Kansas                             1592\n",
       "Alabama                            1553\n",
       "Oregon                             1550\n",
       "Arkansas                           1509\n",
       "West Virginia                      1361\n",
       "Mississippi                        1112\n",
       "Utah                               1096\n",
       "New Mexico                          926\n",
       "Nebraska                            919\n",
       "Maine                               790\n",
       "New Hampshire                       716\n",
       "Montana                             584\n",
       "Nevada                              573\n",
       "South Dakota                        548\n",
       "Vermont                             534\n",
       "Idaho                               517\n",
       "North Dakota                        501\n",
       "Hawaii                              467\n",
       "Rhode Island                        452\n",
       "District of Columbia                414\n",
       "Delaware                            291\n",
       "Wyoming                             215\n",
       "Alaska                              185\n",
       "Guam                                 48\n",
       "Federated States of Micronesia       47\n",
       "Virgin Islands                       37\n",
       "Unknown                              19\n",
       "Palau                                18\n",
       "Northern Mariana Islands             18\n",
       "American Samoa                       18\n",
       "Name: StateCode, dtype: int64"
      ]
     },
     "execution_count": 22,
     "metadata": {},
     "output_type": "execute_result"
    }
   ],
   "source": [
    "data.StateCode = data.StateCode.astype('category')\n",
    "print(data.StateCode.dtype)\n",
    "data.StateCode.value_counts()"
   ]
  },
  {
   "cell_type": "markdown",
   "metadata": {},
   "source": [
    "Not suprisingly, some of the largest states (CA, NY, TX) have the most schools.\n",
    "\n",
    "The \"Regions\" column is defined by state groups, so I expect that I will only need to keep one of the columns, but I'm not sure which one to keep yet."
   ]
  },
  {
   "cell_type": "code",
   "execution_count": 23,
   "metadata": {},
   "outputs": [
    {
     "name": "stdout",
     "output_type": "stream",
     "text": [
      "category\n"
     ]
    },
    {
     "data": {
      "text/plain": [
       "Southeast (AL, AR, FL, GA, KY, LA, MS, NC, SC, TN, VA, WV)    29621\n",
       "Mid East (DE, DC, MD, NJ, NY, PA)                             20766\n",
       "Great Lakes (IL, IN, MI, OH, WI)                              18509\n",
       "Far West (AK, CA, HI, NV, OR, WA)                             17111\n",
       "Southwest (AZ, NM, OK, TX)                                    12497\n",
       "Plains (IA, KS, MN, MO, NE, ND, SD)                           11367\n",
       "New England (CT, ME, MA, NH, RI, VT)                           7630\n",
       "Rocky Mountains (CO, ID, MT, UT, WY)                           4336\n",
       "Outlying Areas (AS, FM, GU, MH, MP, PR, PW, VI)                2792\n",
       "U.S. Service Schools                                             40\n",
       "Name: Region, dtype: int64"
      ]
     },
     "execution_count": 23,
     "metadata": {},
     "output_type": "execute_result"
    }
   ],
   "source": [
    "data.Region = data.Region.astype('category')\n",
    "print(data.Region.dtype)\n",
    "data['Region'].value_counts()"
   ]
  },
  {
   "cell_type": "markdown",
   "metadata": {},
   "source": [
    "## Explore columns with numerical values\n",
    "\n",
    "\n",
    "'PercentFirstGen'\n",
    "'AvgIncomeDependent'\n",
    "'AvgIncomeIndep'\n",
    "'MedianDebt'\n",
    "'MedianDebtCompleters'\n",
    "'MedianDebtNotComplete'\n",
    "\n",
    "CURROPER is the main variable...Some already done below."
   ]
  },
  {
   "cell_type": "code",
   "execution_count": 24,
   "metadata": {},
   "outputs": [
    {
     "name": "stdout",
     "output_type": "stream",
     "text": [
      "Null count:  14356\n",
      "Schools with 0 Enrollment-DegreeSeeking 33\n"
     ]
    },
    {
     "data": {
      "text/plain": [
       "count    110343.000000\n",
       "mean       2151.355673\n",
       "std        4734.967374\n",
       "min           0.000000\n",
       "25%         115.000000\n",
       "50%         490.000000\n",
       "75%        1989.000000\n",
       "max      253594.000000\n",
       "Name: Enrollment-DegreeSeeking, dtype: float64"
      ]
     },
     "execution_count": 24,
     "metadata": {},
     "output_type": "execute_result"
    }
   ],
   "source": [
    "print('Null count: ', data['Enrollment-DegreeSeeking'].isnull().sum())\n",
    "zero = data.loc[data['Enrollment-DegreeSeeking']==0]\n",
    "print('Schools with 0 Enrollment-DegreeSeeking', zero.shape[1])\n",
    "data['Enrollment-DegreeSeeking'].describe().T"
   ]
  },
  {
   "cell_type": "code",
   "execution_count": 25,
   "metadata": {},
   "outputs": [
    {
     "data": {
      "image/png": "[encoded data removed]",
      "text/plain": [
       "<Figure size 432x288 with 1 Axes>"
      ]
     },
     "metadata": {
      "needs_background": "light"
     },
     "output_type": "display_data"
    }
   ],
   "source": [
    "sns.boxplot('Enrollment-DegreeSeeking', data=data)\n",
    "plt.title('Distribution of Enrollment of Degree Seeking students')\n",
    "plt.xscale('log')\n",
    "plt.show()"
   ]
  },
  {
   "cell_type": "markdown",
   "metadata": {},
   "source": [
    "Given the wide range of enrollments and huge numbers of outliers, it might be helpful to convert enrollment into bins - small, medium, large, huge; or by number ranges."
   ]
  },
  {
   "cell_type": "code",
   "execution_count": 26,
   "metadata": {},
   "outputs": [
    {
     "name": "stdout",
     "output_type": "stream",
     "text": [
      "Null count:  18644\n",
      "Schools with 0 TuitionRevenue/FTE 33\n"
     ]
    },
    {
     "data": {
      "text/plain": [
       "count    1.060550e+05\n",
       "mean     1.342372e+04\n",
       "std      1.384292e+05\n",
       "min      0.000000e+00\n",
       "25%      2.489000e+03\n",
       "50%      5.759000e+03\n",
       "75%      1.062700e+04\n",
       "max      2.667016e+07\n",
       "Name: TuitionRevenue/FTE, dtype: float64"
      ]
     },
     "execution_count": 26,
     "metadata": {},
     "output_type": "execute_result"
    }
   ],
   "source": [
    "print('Null count: ', data['TuitionRevenue/FTE'].isnull().sum())\n",
    "\n",
    "zero = data.loc[data['TuitionRevenue/FTE']==0]\n",
    "print('Schools with 0 TuitionRevenue/FTE', zero.shape[1])\n",
    "\n",
    "data['TuitionRevenue/FTE'].describe()"
   ]
  },
  {
   "cell_type": "code",
   "execution_count": 27,
   "metadata": {},
   "outputs": [
    {
     "data": {
      "image/png": "[encoded data removed]",
      "text/plain": [
       "<Figure size 432x288 with 1 Axes>"
      ]
     },
     "metadata": {
      "needs_background": "light"
     },
     "output_type": "display_data"
    }
   ],
   "source": [
    "sns.boxplot('TuitionRevenue/FTE', data=data)\n",
    "plt.xscale('log')\n",
    "plt.show()"
   ]
  },
  {
   "cell_type": "code",
   "execution_count": 28,
   "metadata": {},
   "outputs": [
    {
     "name": "stderr",
     "output_type": "stream",
     "text": [
      "/opt/anaconda3/lib/python3.7/site-packages/numpy/lib/histograms.py:839: RuntimeWarning: invalid value encountered in greater_equal\n",
      "  keep = (tmp_a >= first_edge)\n",
      "/opt/anaconda3/lib/python3.7/site-packages/numpy/lib/histograms.py:840: RuntimeWarning: invalid value encountered in less_equal\n",
      "  keep &= (tmp_a <= last_edge)\n"
     ]
    },
    {
     "data": {
      "image/png": "[encoded data removed]",
      "text/plain": [
       "<Figure size 432x288 with 1 Axes>"
      ]
     },
     "metadata": {
      "needs_background": "light"
     },
     "output_type": "display_data"
    }
   ],
   "source": [
    "plt.hist(data['TuitionRevenue/FTE'])\n",
    "plt.xlabel('TuitionRevenue/FTE')\n",
    "plt.ylabel('Count')\n",
    "plt.xscale('log')\n",
    "plt.yscale('log')\n",
    "plt.show()"
   ]
  },
  {
   "cell_type": "markdown",
   "metadata": {},
   "source": [
    "There seem to be a lot of schools with low TuitionRevenue/FTE, which warrant more exploring. As shown above, only 33 schools have 0 tuition revenue, though 18644 schools have null values. Again, it might be worth binning the Tuition Revenue column into ranges, or groups.\n",
    "\n",
    "Next, is the Expenditure/FTE column."
   ]
  },
  {
   "cell_type": "code",
   "execution_count": 29,
   "metadata": {},
   "outputs": [
    {
     "name": "stdout",
     "output_type": "stream",
     "text": [
      "Null count:  18650\n",
      "Schools with 0 Expenditure/FTE 33\n"
     ]
    },
    {
     "data": {
      "text/plain": [
       "count    1.060490e+05\n",
       "mean     1.664149e+04\n",
       "std      9.460073e+05\n",
       "min      0.000000e+00\n",
       "25%      2.456000e+03\n",
       "50%      4.160000e+03\n",
       "75%      6.739000e+03\n",
       "max      2.920157e+08\n",
       "Name: Expenditure/FTE, dtype: float64"
      ]
     },
     "execution_count": 29,
     "metadata": {},
     "output_type": "execute_result"
    }
   ],
   "source": [
    "print('Null count: ', data['Expenditure/FTE'].isnull().sum())\n",
    "zero = data.loc[data['Expenditure/FTE']==0]\n",
    "print('Schools with 0 Expenditure/FTE', zero.shape[1])\n",
    "\n",
    "data['Expenditure/FTE'].describe()"
   ]
  },
  {
   "cell_type": "code",
   "execution_count": 30,
   "metadata": {},
   "outputs": [
    {
     "data": {
      "image/png": "[encoded data removed]",
      "text/plain": [
       "<Figure size 432x288 with 1 Axes>"
      ]
     },
     "metadata": {
      "needs_background": "light"
     },
     "output_type": "display_data"
    }
   ],
   "source": [
    "sns.boxplot('Expenditure/FTE', data=data)\n",
    "plt.xscale('log')\n",
    "plt.show()"
   ]
  },
  {
   "cell_type": "code",
   "execution_count": 31,
   "metadata": {},
   "outputs": [
    {
     "name": "stderr",
     "output_type": "stream",
     "text": [
      "/opt/anaconda3/lib/python3.7/site-packages/numpy/lib/histograms.py:839: RuntimeWarning: invalid value encountered in greater_equal\n",
      "  keep = (tmp_a >= first_edge)\n",
      "/opt/anaconda3/lib/python3.7/site-packages/numpy/lib/histograms.py:840: RuntimeWarning: invalid value encountered in less_equal\n",
      "  keep &= (tmp_a <= last_edge)\n"
     ]
    },
    {
     "data": {
      "image/png": "[encoded data removed]",
      "text/plain": [
       "<Figure size 432x288 with 1 Axes>"
      ]
     },
     "metadata": {
      "needs_background": "light"
     },
     "output_type": "display_data"
    }
   ],
   "source": [
    "plt.hist(data['Expenditure/FTE'])\n",
    "plt.xlabel('Expenditure/FTE')\n",
    "plt.ylabel('Count')\n",
    "plt.xscale('log')\n",
    "plt.yscale('log')\n",
    "plt.show()"
   ]
  },
  {
   "cell_type": "markdown",
   "metadata": {},
   "source": [
    "What is the school with the max value?  It seems to be way higher than even the other outliers."
   ]
  },
  {
   "cell_type": "code",
   "execution_count": 32,
   "metadata": {},
   "outputs": [
    {
     "data": {
      "text/html": [
       "<div>\n",
       "<style scoped>\n",
       "    .dataframe tbody tr th:only-of-type {\n",
       "        vertical-align: middle;\n",
       "    }\n",
       "\n",
       "    .dataframe tbody tr th {\n",
       "        vertical-align: top;\n",
       "    }\n",
       "\n",
       "    .dataframe thead th {\n",
       "        text-align: right;\n",
       "    }\n",
       "</style>\n",
       "<table border=\"1\" class=\"dataframe\">\n",
       "  <thead>\n",
       "    <tr style=\"text-align: right;\">\n",
       "      <th></th>\n",
       "      <th>Id</th>\n",
       "      <th>OPEID</th>\n",
       "      <th>Name</th>\n",
       "      <th>City</th>\n",
       "      <th>Zip</th>\n",
       "      <th>Predominant degree</th>\n",
       "      <th>NumBranches</th>\n",
       "      <th>Primary degree type</th>\n",
       "      <th>High degree</th>\n",
       "      <th>Control</th>\n",
       "      <th>...</th>\n",
       "      <th>PercentAidedLowIncome</th>\n",
       "      <th>PercentIndependent</th>\n",
       "      <th>PercentDependentLowIncome</th>\n",
       "      <th>PercentIndepentdentLowIncome</th>\n",
       "      <th>PercentFirstGen</th>\n",
       "      <th>AvgIncomeDependent</th>\n",
       "      <th>AvgIncomeIndep</th>\n",
       "      <th>MedianDebt</th>\n",
       "      <th>MedianDebtCompleters</th>\n",
       "      <th>MedianDebtNotComplete</th>\n",
       "    </tr>\n",
       "  </thead>\n",
       "  <tbody>\n",
       "    <tr>\n",
       "      <th>76720</th>\n",
       "      <td>76721</td>\n",
       "      <td>00659100</td>\n",
       "      <td>st joseph school of nursing</td>\n",
       "      <td>North Providence</td>\n",
       "      <td>02904</td>\n",
       "      <td>1.0</td>\n",
       "      <td>1</td>\n",
       "      <td>Predominantly certificate-degree granting</td>\n",
       "      <td>Certificate degree</td>\n",
       "      <td>Private nonprofit</td>\n",
       "      <td>...</td>\n",
       "      <td>NaN</td>\n",
       "      <td>0.746269</td>\n",
       "      <td>NaN</td>\n",
       "      <td>NaN</td>\n",
       "      <td>NaN</td>\n",
       "      <td>149701.7513</td>\n",
       "      <td>49167.11684</td>\n",
       "      <td>16750.0</td>\n",
       "      <td>22703.0</td>\n",
       "      <td>3313.0</td>\n",
       "    </tr>\n",
       "  </tbody>\n",
       "</table>\n",
       "<p>1 rows × 33 columns</p>\n",
       "</div>"
      ],
      "text/plain": [
       "          Id     OPEID                         Name              City    Zip  \\\n",
       "76720  76721  00659100  st joseph school of nursing  North Providence  02904   \n",
       "\n",
       "       Predominant degree  NumBranches  \\\n",
       "76720                 1.0            1   \n",
       "\n",
       "                             Primary degree type         High degree  \\\n",
       "76720  Predominantly certificate-degree granting  Certificate degree   \n",
       "\n",
       "                 Control  ... PercentAidedLowIncome PercentIndependent  \\\n",
       "76720  Private nonprofit  ...                   NaN           0.746269   \n",
       "\n",
       "       PercentDependentLowIncome  PercentIndepentdentLowIncome  \\\n",
       "76720                        NaN                           NaN   \n",
       "\n",
       "       PercentFirstGen  AvgIncomeDependent  AvgIncomeIndep  MedianDebt  \\\n",
       "76720              NaN         149701.7513     49167.11684     16750.0   \n",
       "\n",
       "       MedianDebtCompleters  MedianDebtNotComplete  \n",
       "76720               22703.0                 3313.0  \n",
       "\n",
       "[1 rows x 33 columns]"
      ]
     },
     "execution_count": 32,
     "metadata": {},
     "output_type": "execute_result"
    }
   ],
   "source": [
    "max_expend = data['Expenditure/FTE'].max()\n",
    "max_expenditure_school = data.loc[data['Expenditure/FTE']== max_expend]\n",
    "max_expenditure_school"
   ]
  },
  {
   "cell_type": "markdown",
   "metadata": {},
   "source": [
    "I wonder why St. Joseph School of Nursing has such a high Expenditure/FTE. It is certificate granting institution with the highest degree as a certificate.\n",
    "\n",
    "It will be interesting to see if Tuition/Revenue and Expenditure correlate, in general, but also for St. Joseph School of Nursing.\n",
    "\n",
    "Next up, Average Faculty Salary, (in unknown units)"
   ]
  },
  {
   "cell_type": "code",
   "execution_count": 33,
   "metadata": {},
   "outputs": [
    {
     "name": "stdout",
     "output_type": "stream",
     "text": [
      "Null count:  55047\n",
      "Schools with 0 AvgFaculty Salary 33\n"
     ]
    },
    {
     "data": {
      "text/plain": [
       "count    69652.000000\n",
       "mean      5137.648625\n",
       "std       2038.500431\n",
       "min          0.000000\n",
       "25%       3864.000000\n",
       "50%       4964.000000\n",
       "75%       6236.000000\n",
       "max      24892.000000\n",
       "Name: AvgFaculty Salary, dtype: float64"
      ]
     },
     "execution_count": 33,
     "metadata": {},
     "output_type": "execute_result"
    }
   ],
   "source": [
    "print('Null count: ', data['AvgFaculty Salary'].isnull().sum())\n",
    "zero = data.loc[data['AvgFaculty Salary']==0]\n",
    "print('Schools with 0 AvgFaculty Salary', zero.shape[1])\n",
    "\n",
    "data['AvgFaculty Salary'].describe()"
   ]
  },
  {
   "cell_type": "code",
   "execution_count": 34,
   "metadata": {},
   "outputs": [
    {
     "name": "stderr",
     "output_type": "stream",
     "text": [
      "/opt/anaconda3/lib/python3.7/site-packages/numpy/lib/histograms.py:839: RuntimeWarning: invalid value encountered in greater_equal\n",
      "  keep = (tmp_a >= first_edge)\n",
      "/opt/anaconda3/lib/python3.7/site-packages/numpy/lib/histograms.py:840: RuntimeWarning: invalid value encountered in less_equal\n",
      "  keep &= (tmp_a <= last_edge)\n"
     ]
    },
    {
     "data": {
      "image/png": "[encoded data removed]",
      "text/plain": [
       "<Figure size 432x288 with 1 Axes>"
      ]
     },
     "metadata": {
      "needs_background": "light"
     },
     "output_type": "display_data"
    }
   ],
   "source": [
    "plt.hist(data['AvgFaculty Salary'])\n",
    "plt.xlabel('AvgFaculty Salary')\n",
    "plt.ylabel('Count')\n",
    "plt.show()"
   ]
  },
  {
   "cell_type": "code",
   "execution_count": 35,
   "metadata": {},
   "outputs": [
    {
     "data": {
      "image/png": "[encoded data removed]",
      "text/plain": [
       "<Figure size 432x288 with 1 Axes>"
      ]
     },
     "metadata": {
      "needs_background": "light"
     },
     "output_type": "display_data"
    }
   ],
   "source": [
    "sns.boxplot('AvgFaculty Salary', data=data)\n",
    "plt.show()"
   ]
  },
  {
   "cell_type": "markdown",
   "metadata": {},
   "source": [
    "I need to check the scale of the salary in the data dictionary - I suspect that faculty are not making an median salary of 5000, but maybe 50,000."
   ]
  },
  {
   "cell_type": "code",
   "execution_count": 36,
   "metadata": {},
   "outputs": [
    {
     "name": "stdout",
     "output_type": "stream",
     "text": [
      "Null count:  63748\n",
      "Schools with 0 Percent Fulltime Faculty 33\n"
     ]
    },
    {
     "data": {
      "text/plain": [
       "count    60951.000000\n",
       "mean         0.586056\n",
       "std          0.299840\n",
       "min          0.000000\n",
       "25%          0.326500\n",
       "50%          0.565200\n",
       "75%          0.882400\n",
       "max          1.166700\n",
       "Name: Percent Fulltime Faculty, dtype: float64"
      ]
     },
     "execution_count": 36,
     "metadata": {},
     "output_type": "execute_result"
    }
   ],
   "source": [
    "print('Null count: ', data['Percent Fulltime Faculty'].isnull().sum())\n",
    "zero = data.loc[data['Percent Fulltime Faculty']==0]\n",
    "print('Schools with 0 Percent Fulltime Faculty', zero.shape[1])\n",
    "\n",
    "data['Percent Fulltime Faculty'].describe()"
   ]
  },
  {
   "cell_type": "code",
   "execution_count": 37,
   "metadata": {},
   "outputs": [
    {
     "name": "stderr",
     "output_type": "stream",
     "text": [
      "/opt/anaconda3/lib/python3.7/site-packages/numpy/lib/histograms.py:839: RuntimeWarning: invalid value encountered in greater_equal\n",
      "  keep = (tmp_a >= first_edge)\n",
      "/opt/anaconda3/lib/python3.7/site-packages/numpy/lib/histograms.py:840: RuntimeWarning: invalid value encountered in less_equal\n",
      "  keep &= (tmp_a <= last_edge)\n"
     ]
    },
    {
     "data": {
      "image/png": "[encoded data removed]",
      "text/plain": [
       "<Figure size 432x288 with 1 Axes>"
      ]
     },
     "metadata": {
      "needs_background": "light"
     },
     "output_type": "display_data"
    }
   ],
   "source": [
    "plt.hist(data['Percent Fulltime Faculty'])\n",
    "plt.xlabel('Percent Fulltime Faculty')\n",
    "plt.ylabel('Count')\n",
    "plt.show()"
   ]
  },
  {
   "cell_type": "markdown",
   "metadata": {},
   "source": [
    "I'm a little confused how a school can have more than 100% fulltime faculty. \n",
    "\n",
    "The next column in the percentage of students who complete their degrees in less than 4 years."
   ]
  },
  {
   "cell_type": "code",
   "execution_count": 38,
   "metadata": {},
   "outputs": [
    {
     "name": "stdout",
     "output_type": "stream",
     "text": [
      "Null count:  63229\n",
      "Schools with 0 Completion < 4yr 33\n"
     ]
    },
    {
     "data": {
      "text/plain": [
       "count    61470.000000\n",
       "mean         0.545553\n",
       "std          0.274392\n",
       "min          0.000000\n",
       "25%          0.302500\n",
       "50%          0.585300\n",
       "75%          0.766575\n",
       "max          1.000000\n",
       "Name: Completion<4yr, dtype: float64"
      ]
     },
     "execution_count": 38,
     "metadata": {},
     "output_type": "execute_result"
    }
   ],
   "source": [
    "print('Null count: ', data['Completion<4yr'].isnull().sum())\n",
    "zero = data.loc[data['Completion<4yr']==0]\n",
    "print('Schools with 0 Completion < 4yr', zero.shape[1])\n",
    "\n",
    "data['Completion<4yr'].describe()"
   ]
  },
  {
   "cell_type": "code",
   "execution_count": 40,
   "metadata": {},
   "outputs": [
    {
     "data": {
      "image/png": "[encoded data removed]",
      "text/plain": [
       "<Figure size 432x288 with 1 Axes>"
      ]
     },
     "metadata": {
      "needs_background": "light"
     },
     "output_type": "display_data"
    }
   ],
   "source": [
    "plt.hist(data['Completion<4yr'])\n",
    "plt.xlabel('Completion <4yr')\n",
    "plt.ylabel('Count')\n",
    "plt.show()"
   ]
  },
  {
   "cell_type": "markdown",
   "metadata": {},
   "source": [
    "There seem to be quite a few schools more than half of their students who finish in less than four years. This would make sense for certificate programs and graduate schools, where the standard degree completion time would be less than 4 years.\n",
    "\n",
    "The next column in is the percentage for students who have completed their degree in 4 years, which is the typical time to complete a bachelor's degree."
   ]
  },
  {
   "cell_type": "code",
   "execution_count": 41,
   "metadata": {},
   "outputs": [
    {
     "name": "stdout",
     "output_type": "stream",
     "text": [
      "Null count:  53457\n",
      "Schools with 0 PercentCompleted4yr 33\n"
     ]
    },
    {
     "data": {
      "text/plain": [
       "count    71242.000000\n",
       "mean         0.370824\n",
       "std          0.245871\n",
       "min          0.000000\n",
       "25%          0.149351\n",
       "50%          0.371429\n",
       "75%          0.571429\n",
       "max          1.000000\n",
       "Name: PercentCompleted4yr, dtype: float64"
      ]
     },
     "execution_count": 41,
     "metadata": {},
     "output_type": "execute_result"
    }
   ],
   "source": [
    "print('Null count: ', data['PercentCompleted4yr'].isnull().sum())\n",
    "zero = data.loc[data['PercentCompleted4yr']==0]\n",
    "print('Schools with 0 PercentCompleted4yr', zero.shape[1])\n",
    "\n",
    "data['PercentCompleted4yr'].describe()"
   ]
  },
  {
   "cell_type": "code",
   "execution_count": 42,
   "metadata": {},
   "outputs": [
    {
     "data": {
      "image/png": "[encoded data removed]",
      "text/plain": [
       "<Figure size 432x288 with 1 Axes>"
      ]
     },
     "metadata": {
      "needs_background": "light"
     },
     "output_type": "display_data"
    }
   ],
   "source": [
    "plt.hist(data['PercentCompleted4yr'])\n",
    "plt.xlabel('Percent Completed in 4 yrs')\n",
    "plt.ylabel('Count')\n",
    "plt.show()"
   ]
  },
  {
   "cell_type": "markdown",
   "metadata": {},
   "source": [
    "Complementary to the last column, there are few schools where the more than half of the students finish in 4 years. (It's not clear to me if these numbers as students who complete in for or fewer years.) I need to look at the data dictionary again.\n",
    "\n",
    "It might be good to filter this column (and possibly the next several) by four year schools, to see how the expected completion time relates to actual completion time."
   ]
  },
  {
   "cell_type": "code",
   "execution_count": 43,
   "metadata": {},
   "outputs": [
    {
     "name": "stdout",
     "output_type": "stream",
     "text": [
      "Null count:  54471\n",
      "Schools with 0 PercentWithdraw4yr 33\n"
     ]
    },
    {
     "data": {
      "text/plain": [
       "count    70228.000000\n",
       "mean         0.209453\n",
       "std          0.147122\n",
       "min          0.000000\n",
       "25%          0.102837\n",
       "50%          0.199797\n",
       "75%          0.301848\n",
       "max          0.860437\n",
       "Name: PercentWithdraw4yr, dtype: float64"
      ]
     },
     "execution_count": 43,
     "metadata": {},
     "output_type": "execute_result"
    }
   ],
   "source": [
    "print('Null count: ', data['PercentWithdraw4yr'].isnull().sum())\n",
    "zero = data.loc[data['PercentWithdraw4yr']==0]\n",
    "print('Schools with 0 PercentWithdraw4yr', zero.shape[1])\n",
    "\n",
    "data['PercentWithdraw4yr'].describe()"
   ]
  },
  {
   "cell_type": "code",
   "execution_count": 44,
   "metadata": {},
   "outputs": [
    {
     "data": {
      "image/png": "[encoded data removed]",
      "text/plain": [
       "<Figure size 432x288 with 1 Axes>"
      ]
     },
     "metadata": {
      "needs_background": "light"
     },
     "output_type": "display_data"
    }
   ],
   "source": [
    "plt.hist(data['PercentWithdraw4yr'])\n",
    "plt.xlabel('Percent Withdrawn in 4 yrs')\n",
    "plt.ylabel('Count')\n",
    "plt.show()"
   ]
  },
  {
   "cell_type": "code",
   "execution_count": 45,
   "metadata": {},
   "outputs": [
    {
     "name": "stdout",
     "output_type": "stream",
     "text": [
      "Null count:  62256\n",
      "Schools with 0 PercentEnrolled4yr 33\n"
     ]
    },
    {
     "data": {
      "text/plain": [
       "count    62443.000000\n",
       "mean         0.041562\n",
       "std          0.052636\n",
       "min          0.000000\n",
       "25%          0.000000\n",
       "50%          0.025943\n",
       "75%          0.068503\n",
       "max          0.779661\n",
       "Name: PercentEnrolled4yr, dtype: float64"
      ]
     },
     "execution_count": 45,
     "metadata": {},
     "output_type": "execute_result"
    }
   ],
   "source": [
    "print('Null count: ', data['PercentEnrolled4yr'].isnull().sum())\n",
    "zero = data.loc[data['PercentEnrolled4yr']==0]\n",
    "print('Schools with 0 PercentEnrolled4yr', zero.shape[1])\n",
    "\n",
    "data['PercentEnrolled4yr'].describe()"
   ]
  },
  {
   "cell_type": "code",
   "execution_count": 46,
   "metadata": {},
   "outputs": [
    {
     "data": {
      "image/png": "[encoded data removed]",
      "text/plain": [
       "<Figure size 432x288 with 1 Axes>"
      ]
     },
     "metadata": {
      "needs_background": "light"
     },
     "output_type": "display_data"
    }
   ],
   "source": [
    "plt.hist(data['PercentEnrolled4yr'])\n",
    "plt.xlabel('Percent still enrolled after 4 yrs')\n",
    "plt.ylabel('Count')\n",
    "plt.show()"
   ]
  },
  {
   "cell_type": "code",
   "execution_count": 48,
   "metadata": {},
   "outputs": [
    {
     "name": "stdout",
     "output_type": "stream",
     "text": [
      "Null count:  72108\n",
      "Schools with 0 PercentAge>25 33\n"
     ]
    },
    {
     "data": {
      "text/plain": [
       "count    52591.000000\n",
       "mean         0.405552\n",
       "std          0.219876\n",
       "min          0.000000\n",
       "25%          0.243200\n",
       "50%          0.403100\n",
       "75%          0.554500\n",
       "max          1.000000\n",
       "Name: PercentAge>25, dtype: float64"
      ]
     },
     "execution_count": 48,
     "metadata": {},
     "output_type": "execute_result"
    }
   ],
   "source": [
    "print('Null count: ', data['PercentAge>25'].isnull().sum())\n",
    "zero = data.loc[data['PercentAge>25']==0]\n",
    "print('Schools with 0 PercentAge>25', zero.shape[1])\n",
    "\n",
    "data['PercentAge>25'].describe()"
   ]
  },
  {
   "cell_type": "code",
   "execution_count": 49,
   "metadata": {},
   "outputs": [
    {
     "data": {
      "image/png": "[encoded data removed]",
      "text/plain": [
       "<Figure size 432x288 with 1 Axes>"
      ]
     },
     "metadata": {
      "needs_background": "light"
     },
     "output_type": "display_data"
    }
   ],
   "source": [
    "plt.hist(data['PercentAge>25'])\n",
    "plt.xlabel('Percent of students over 25')\n",
    "plt.ylabel('Count')\n",
    "plt.show()"
   ]
  },
  {
   "cell_type": "code",
   "execution_count": 51,
   "metadata": {},
   "outputs": [
    {
     "name": "stdout",
     "output_type": "stream",
     "text": [
      "Null count:  61214\n",
      "Schools with 0 PercentAidedLowIncome 33\n"
     ]
    },
    {
     "data": {
      "text/plain": [
       "count    63485.000000\n",
       "mean         0.653937\n",
       "std          0.194974\n",
       "min          0.000000\n",
       "25%          0.526316\n",
       "50%          0.688976\n",
       "75%          0.804468\n",
       "max          1.000000\n",
       "Name: PercentAidedLowIncome, dtype: float64"
      ]
     },
     "execution_count": 51,
     "metadata": {},
     "output_type": "execute_result"
    }
   ],
   "source": [
    "print('Null count: ', data['PercentAidedLowIncome'].isnull().sum())\n",
    "zero = data.loc[data['PercentAidedLowIncome']==0]\n",
    "print('Schools with 0 PercentAidedLowIncome', zero.shape[1])\n",
    "\n",
    "data['PercentAidedLowIncome'].describe()"
   ]
  },
  {
   "cell_type": "code",
   "execution_count": 52,
   "metadata": {},
   "outputs": [
    {
     "data": {
      "image/png": "[encoded data removed]",
      "text/plain": [
       "<Figure size 432x288 with 1 Axes>"
      ]
     },
     "metadata": {
      "needs_background": "light"
     },
     "output_type": "display_data"
    }
   ],
   "source": [
    "plt.hist(data['PercentAidedLowIncome'])\n",
    "plt.xlabel('Percent Aided Low Income')\n",
    "plt.ylabel('Count')\n",
    "plt.show()"
   ]
  },
  {
   "cell_type": "code",
   "execution_count": 53,
   "metadata": {},
   "outputs": [
    {
     "name": "stdout",
     "output_type": "stream",
     "text": [
      "Null count:  15552\n",
      "Schools with 0 PercentIndependent 33\n"
     ]
    },
    {
     "data": {
      "text/plain": [
       "count    109147.000000\n",
       "mean          0.562163\n",
       "std           0.253410\n",
       "min           0.000000\n",
       "25%           0.380299\n",
       "50%           0.611111\n",
       "75%           0.760891\n",
       "max           1.000000\n",
       "Name: PercentIndependent, dtype: float64"
      ]
     },
     "execution_count": 53,
     "metadata": {},
     "output_type": "execute_result"
    }
   ],
   "source": [
    "print('Null count: ', data['PercentIndependent'].isnull().sum())\n",
    "zero = data.loc[data['PercentIndependent']==0]\n",
    "print('Schools with 0 PercentIndependent', zero.shape[1])\n",
    "\n",
    "data['PercentIndependent'].describe()"
   ]
  },
  {
   "cell_type": "code",
   "execution_count": 54,
   "metadata": {},
   "outputs": [
    {
     "data": {
      "image/png": "[encoded data removed]",
      "text/plain": [
       "<Figure size 432x288 with 1 Axes>"
      ]
     },
     "metadata": {
      "needs_background": "light"
     },
     "output_type": "display_data"
    }
   ],
   "source": [
    "plt.hist(data['PercentIndependent'])\n",
    "plt.xlabel('Percent of students who are independent')\n",
    "plt.ylabel('Count')\n",
    "plt.show()"
   ]
  },
  {
   "cell_type": "code",
   "execution_count": 56,
   "metadata": {},
   "outputs": [
    {
     "name": "stdout",
     "output_type": "stream",
     "text": [
      "Null count:  42658\n",
      "Schools with 0 PercentDependentLowIncome 33\n"
     ]
    },
    {
     "data": {
      "text/plain": [
       "count    82041.000000\n",
       "mean         0.487150\n",
       "std          0.194154\n",
       "min          0.000000\n",
       "25%          0.327445\n",
       "50%          0.483173\n",
       "75%          0.630388\n",
       "max          1.000000\n",
       "Name: PercentDependentLowIncome, dtype: float64"
      ]
     },
     "execution_count": 56,
     "metadata": {},
     "output_type": "execute_result"
    }
   ],
   "source": [
    "print('Null count: ', data['PercentDependentLowIncome'].isnull().sum())\n",
    "zero = data.loc[data['PercentDependentLowIncome']==0]\n",
    "print('Schools with 0 PercentDependentLowIncome', zero.shape[1])\n",
    "\n",
    "data['PercentDependentLowIncome'].describe()"
   ]
  },
  {
   "cell_type": "code",
   "execution_count": 57,
   "metadata": {},
   "outputs": [
    {
     "data": {
      "image/png": "[encoded data removed]",
      "text/plain": [
       "<Figure size 432x288 with 1 Axes>"
      ]
     },
     "metadata": {
      "needs_background": "light"
     },
     "output_type": "display_data"
    }
   ],
   "source": [
    "plt.hist(data['PercentDependentLowIncome'])\n",
    "plt.xlabel('Percent of dependent low income students')\n",
    "plt.ylabel('Count')\n",
    "plt.show()"
   ]
  },
  {
   "cell_type": "code",
   "execution_count": 58,
   "metadata": {},
   "outputs": [
    {
     "name": "stdout",
     "output_type": "stream",
     "text": [
      "Null count:  42515\n",
      "Schools with 0 PercentIndepentdentLowIncome 33\n"
     ]
    },
    {
     "data": {
      "text/plain": [
       "count    82184.000000\n",
       "mean         0.787203\n",
       "std          0.116844\n",
       "min          0.227034\n",
       "25%          0.732248\n",
       "50%          0.807716\n",
       "75%          0.868637\n",
       "max          1.000000\n",
       "Name: PercentIndepentdentLowIncome, dtype: float64"
      ]
     },
     "execution_count": 58,
     "metadata": {},
     "output_type": "execute_result"
    }
   ],
   "source": [
    "print('Null count: ', data['PercentIndepentdentLowIncome'].isnull().sum())\n",
    "zero = data.loc[data['PercentIndepentdentLowIncome']==0]\n",
    "print('Schools with 0 PercentIndepentdentLowIncome', zero.shape[1])\n",
    "\n",
    "data['PercentIndepentdentLowIncome'].describe()"
   ]
  },
  {
   "cell_type": "code",
   "execution_count": 59,
   "metadata": {},
   "outputs": [
    {
     "data": {
      "image/png": "[encoded data removed]",
      "text/plain": [
       "<Figure size 432x288 with 1 Axes>"
      ]
     },
     "metadata": {
      "needs_background": "light"
     },
     "output_type": "display_data"
    }
   ],
   "source": [
    "plt.hist(data['PercentIndepentdentLowIncome'])\n",
    "plt.xlabel('Percent of independent low income students')\n",
    "plt.ylabel('Count')\n",
    "plt.show()"
   ]
  },
  {
   "cell_type": "code",
   "execution_count": 61,
   "metadata": {},
   "outputs": [
    {
     "name": "stdout",
     "output_type": "stream",
     "text": [
      "Null count:  21888\n",
      "Schools with 0 PercentFirstGen 33\n"
     ]
    },
    {
     "data": {
      "text/plain": [
       "count    102811.000000\n",
       "mean          0.496133\n",
       "std           0.135728\n",
       "min           0.000000\n",
       "25%           0.415525\n",
       "50%           0.511708\n",
       "75%           0.583333\n",
       "max           1.000000\n",
       "Name: PercentFirstGen, dtype: float64"
      ]
     },
     "execution_count": 61,
     "metadata": {},
     "output_type": "execute_result"
    }
   ],
   "source": [
    "print('Null count: ', data['PercentFirstGen'].isnull().sum())\n",
    "zero = data.loc[data['PercentFirstGen']==0]\n",
    "print('Schools with 0 PercentFirstGen', zero.shape[1])\n",
    "\n",
    "data['PercentFirstGen'].describe()"
   ]
  },
  {
   "cell_type": "code",
   "execution_count": 62,
   "metadata": {},
   "outputs": [
    {
     "data": {
      "image/png": "[encoded data removed]",
      "text/plain": [
       "<Figure size 432x288 with 1 Axes>"
      ]
     },
     "metadata": {
      "needs_background": "light"
     },
     "output_type": "display_data"
    }
   ],
   "source": [
    "plt.hist(data['PercentFirstGen'])\n",
    "plt.xlabel('Percent of students FirstGen')\n",
    "plt.ylabel('Count')\n",
    "plt.show()"
   ]
  },
  {
   "cell_type": "code",
   "execution_count": 63,
   "metadata": {},
   "outputs": [
    {
     "name": "stdout",
     "output_type": "stream",
     "text": [
      "Null count:  20592\n",
      "Schools with 0 AvgIncomeDependent 33\n"
     ]
    },
    {
     "data": {
      "text/plain": [
       "count    104107.000000\n",
       "mean      51700.952597\n",
       "std       24107.524953\n",
       "min         246.550640\n",
       "25%       32901.468090\n",
       "50%       48484.402690\n",
       "75%       67702.300925\n",
       "max      189041.801900\n",
       "Name: AvgIncomeDependent, dtype: float64"
      ]
     },
     "execution_count": 63,
     "metadata": {},
     "output_type": "execute_result"
    }
   ],
   "source": [
    "print('Null count: ', data['AvgIncomeDependent'].isnull().sum())\n",
    "zero = data.loc[data['AvgIncomeDependent']==0]\n",
    "print('Schools with 0 AvgIncomeDependent', zero.shape[1])\n",
    "\n",
    "data['AvgIncomeDependent'].describe()"
   ]
  },
  {
   "cell_type": "code",
   "execution_count": 64,
   "metadata": {},
   "outputs": [
    {
     "data": {
      "image/png": "[encoded data removed]",
      "text/plain": [
       "<Figure size 432x288 with 1 Axes>"
      ]
     },
     "metadata": {
      "needs_background": "light"
     },
     "output_type": "display_data"
    }
   ],
   "source": [
    "plt.hist(data['AvgIncomeDependent'])\n",
    "plt.xlabel('AvgIncomeDependent')\n",
    "plt.ylabel('Count')\n",
    "plt.show()"
   ]
  },
  {
   "cell_type": "code",
   "execution_count": 65,
   "metadata": {},
   "outputs": [
    {
     "name": "stdout",
     "output_type": "stream",
     "text": [
      "Null count:  20110\n",
      "Schools with 0 AvgIncomeIndep 33\n"
     ]
    },
    {
     "data": {
      "text/plain": [
       "count    104589.000000\n",
       "mean      22997.138259\n",
       "std        9875.406308\n",
       "min           0.000000\n",
       "25%       16418.096530\n",
       "50%       21541.188940\n",
       "75%       27586.208440\n",
       "max      103946.461300\n",
       "Name: AvgIncomeIndep, dtype: float64"
      ]
     },
     "execution_count": 65,
     "metadata": {},
     "output_type": "execute_result"
    }
   ],
   "source": [
    "print('Null count: ', data['AvgIncomeIndep'].isnull().sum())\n",
    "zero = data.loc[data['AvgIncomeIndep']==0]\n",
    "print('Schools with 0 AvgIncomeIndep', zero.shape[1])\n",
    "\n",
    "data['AvgIncomeIndep'].describe()"
   ]
  },
  {
   "cell_type": "code",
   "execution_count": 66,
   "metadata": {},
   "outputs": [
    {
     "data": {
      "image/png": "[encoded data removed]",
      "text/plain": [
       "<Figure size 432x288 with 1 Axes>"
      ]
     },
     "metadata": {
      "needs_background": "light"
     },
     "output_type": "display_data"
    }
   ],
   "source": [
    "plt.hist(data['AvgIncomeIndep'])\n",
    "plt.xlabel('AvgIncomeIndep')\n",
    "plt.ylabel('Count')\n",
    "plt.show()"
   ]
  },
  {
   "cell_type": "code",
   "execution_count": 67,
   "metadata": {},
   "outputs": [
    {
     "name": "stdout",
     "output_type": "stream",
     "text": [
      "Null count:  29830\n",
      "Schools with 0 MedianDebt 33\n"
     ]
    },
    {
     "data": {
      "text/plain": [
       "count     94869.000000\n",
       "mean       8917.969558\n",
       "std        4952.612787\n",
       "min         124.000000\n",
       "25%        5250.000000\n",
       "50%        7937.000000\n",
       "75%       12000.000000\n",
       "max      131335.000000\n",
       "Name: MedianDebt, dtype: float64"
      ]
     },
     "execution_count": 67,
     "metadata": {},
     "output_type": "execute_result"
    }
   ],
   "source": [
    "print('Null count: ', data['MedianDebt'].isnull().sum())\n",
    "zero = data.loc[data['MedianDebt']==0]\n",
    "print('Schools with 0 MedianDebt', zero.shape[1])\n",
    "\n",
    "data['MedianDebt'].describe()"
   ]
  },
  {
   "cell_type": "code",
   "execution_count": 76,
   "metadata": {},
   "outputs": [
    {
     "data": {
      "image/png": "[encoded data removed]",
      "text/plain": [
       "<Figure size 432x288 with 2 Axes>"
      ]
     },
     "metadata": {
      "needs_background": "light"
     },
     "output_type": "display_data"
    }
   ],
   "source": [
    "plt.subplot(1, 2, 1)\n",
    "plt.hist(data['MedianDebt'])\n",
    "plt.xlabel('Median amount of debt')\n",
    "plt.ylabel('Count')\n",
    "\n",
    "plt.subplot(1, 2, 2)\n",
    "plt.hist(data['MedianDebt'])\n",
    "plt.xlabel('Median amount of debt')\n",
    "plt.ylabel('Count')\n",
    "plt.xscale('log')\n",
    "plt.tight_layout()\n",
    "plt.show()"
   ]
  },
  {
   "cell_type": "code",
   "execution_count": 77,
   "metadata": {},
   "outputs": [
    {
     "name": "stdout",
     "output_type": "stream",
     "text": [
      "Null count:  36874\n",
      "Schools with 0 MedianDebtCompleters 33\n"
     ]
    },
    {
     "data": {
      "text/plain": [
       "count    87825.000000\n",
       "mean     12368.840444\n",
       "std       7217.116964\n",
       "min        310.000000\n",
       "25%       6625.000000\n",
       "50%      10895.000000\n",
       "75%      17125.000000\n",
       "max      53831.500000\n",
       "Name: MedianDebtCompleters, dtype: float64"
      ]
     },
     "execution_count": 77,
     "metadata": {},
     "output_type": "execute_result"
    }
   ],
   "source": [
    "print('Null count: ', data[ 'MedianDebtCompleters'].isnull().sum())\n",
    "zero = data.loc[data['MedianDebtCompleters' ]==0]\n",
    "print('Schools with 0 MedianDebtCompleters', zero.shape[1])\n",
    "\n",
    "data['MedianDebtCompleters' ].describe()"
   ]
  },
  {
   "cell_type": "code",
   "execution_count": 78,
   "metadata": {},
   "outputs": [
    {
     "data": {
      "image/png": "[encoded data removed]",
      "text/plain": [
       "<Figure size 432x288 with 1 Axes>"
      ]
     },
     "metadata": {
      "needs_background": "light"
     },
     "output_type": "display_data"
    }
   ],
   "source": [
    "plt.hist(data['MedianDebtCompleters'])\n",
    "plt.xlabel('MedianDebtCompleters')\n",
    "plt.ylabel('Count')\n",
    "plt.show()"
   ]
  },
  {
   "cell_type": "code",
   "execution_count": 79,
   "metadata": {},
   "outputs": [
    {
     "name": "stdout",
     "output_type": "stream",
     "text": [
      "Null count:  36734\n",
      "Schools with 0 MedianDebtNotComplete 33\n"
     ]
    },
    {
     "data": {
      "text/plain": [
       "count    87965.000000\n",
       "mean      6445.322083\n",
       "std       3523.067759\n",
       "min        383.000000\n",
       "25%       3719.000000\n",
       "50%       5500.000000\n",
       "75%       8750.000000\n",
       "max      35125.000000\n",
       "Name: MedianDebtNotComplete, dtype: float64"
      ]
     },
     "execution_count": 79,
     "metadata": {},
     "output_type": "execute_result"
    }
   ],
   "source": [
    "print('Null count: ', data['MedianDebtNotComplete'].isnull().sum())\n",
    "zero = data.loc[data[ 'MedianDebtNotComplete']==0]\n",
    "print('Schools with 0 MedianDebtNotComplete', zero.shape[1])\n",
    "\n",
    "data['MedianDebtNotComplete'].describe()"
   ]
  },
  {
   "cell_type": "code",
   "execution_count": 80,
   "metadata": {},
   "outputs": [
    {
     "data": {
      "image/png": "[encoded data removed]",
      "text/plain": [
       "<Figure size 432x288 with 1 Axes>"
      ]
     },
     "metadata": {
      "needs_background": "light"
     },
     "output_type": "display_data"
    }
   ],
   "source": [
    "plt.hist(data['MedianDebtNotComplete'])\n",
    "plt.xlabel('Percent of ...')\n",
    "plt.ylabel('Count')\n",
    "plt.show()"
   ]
  },
  {
   "cell_type": "markdown",
   "metadata": {},
   "source": [
    "## Explore CURROPER column\n",
    "- How many schools are open vs closed?\n",
    "- What percentage of schools are open vs closed?\n",
    "- Does this relate to main branch vs non?\n",
    "- How does this relate to control?"
   ]
  },
  {
   "cell_type": "code",
   "execution_count": 81,
   "metadata": {},
   "outputs": [
    {
     "name": "stdout",
     "output_type": "stream",
     "text": [
      "Open:   101121\n",
      "Closed:   23578\n"
     ]
    }
   ],
   "source": [
    "# How many schools are closed?\n",
    "num_open = data['CURROPER'].sum()\n",
    "print('Open:  ', num_open)\n",
    "\n",
    "closed = data.loc[data['CURROPER']==False]\n",
    "print('Closed:  ', closed.shape[0])"
   ]
  },
  {
   "cell_type": "code",
   "execution_count": 82,
   "metadata": {},
   "outputs": [
    {
     "data": {
      "image/png": "[encoded data removed]",
      "text/plain": [
       "<Figure size 432x288 with 2 Axes>"
      ]
     },
     "metadata": {
      "needs_background": "light"
     },
     "output_type": "display_data"
    }
   ],
   "source": [
    "#How many schools are open/closed by name? by OPEID?\n",
    "closed.OPEID.value_counts()\n",
    "\n",
    "plt.subplot(1, 2, 1)\n",
    "plt.hist(closed.OPEID.value_counts(), bins=18)\n",
    "plt.xlabel('Campuses per OPEID')\n",
    "plt.ylabel('Count')\n",
    "plt.title('Closed campuses by OPEID')\n",
    "\n",
    "plt.subplot(1, 2, 2)\n",
    "plt.hist(closed.Name.value_counts(), bins=18)\n",
    "plt.xscale('log')\n",
    "plt.yscale('log')\n",
    "plt.xlabel('Campuses per Name')\n",
    "plt.ylabel('Count')\n",
    "plt.title('Closed campuses by Name')\n",
    "plt.tight_layout\n",
    "plt.show()\n"
   ]
  },
  {
   "cell_type": "code",
   "execution_count": 83,
   "metadata": {},
   "outputs": [
    {
     "data": {
      "text/plain": [
       "Text(0.5, 1.0, 'Boxplots of Percent First Generation students by School type')"
      ]
     },
     "execution_count": 83,
     "metadata": {},
     "output_type": "execute_result"
    },
    {
     "data": {
      "image/png": "[encoded data removed]",
      "text/plain": [
       "<Figure size 432x288 with 1 Axes>"
      ]
     },
     "metadata": {
      "needs_background": "light"
     },
     "output_type": "display_data"
    }
   ],
   "source": [
    "#Choose columns with >15% missing values that might be intersting to explore\n",
    "to_explore = ['PercentFirstGen', 'AvgIncomeDependent','AvgIncomeIndep', 'PercentIndependent', 'TuitionRevenue/FTE', 'Expenditure/FTE', 'Enrollment-DegreeSeeking']\n",
    "\n",
    "#Create boxplots of the colunms\n",
    "sns.boxplot('Control', 'PercentFirstGen', data=data, hue = 'CURROPER')\n",
    "\n",
    "plt.title('Boxplots of Percent First Generation students by School type')"
   ]
  },
  {
   "cell_type": "markdown",
   "metadata": {},
   "source": [
    "Comments - Closed schools have slightly higher first generation percentages than open schools for all three types of schools. Open nonprofit private schools have lowest first gen percentages."
   ]
  },
  {
   "cell_type": "code",
   "execution_count": 84,
   "metadata": {},
   "outputs": [
    {
     "data": {
      "text/plain": [
       "Text(0.5, 1.0, 'Boxplots of Student Enrollment by School type')"
      ]
     },
     "execution_count": 84,
     "metadata": {},
     "output_type": "execute_result"
    },
    {
     "data": {
      "image/png": "[encoded data removed]",
      "text/plain": [
       "<Figure size 432x288 with 1 Axes>"
      ]
     },
     "metadata": {
      "needs_background": "light"
     },
     "output_type": "display_data"
    }
   ],
   "source": [
    "sns.boxplot('Control', 'Enrollment-DegreeSeeking', data=data, hue = 'CURROPER')\n",
    "plt.title('Boxplots of Student Enrollment by School type')"
   ]
  },
  {
   "cell_type": "code",
   "execution_count": 85,
   "metadata": {},
   "outputs": [
    {
     "data": {
      "image/png": "[encoded data removed]",
      "text/plain": [
       "<Figure size 432x288 with 1 Axes>"
      ]
     },
     "metadata": {
      "needs_background": "light"
     },
     "output_type": "display_data"
    }
   ],
   "source": [
    "sns.boxplot('Control', 'Enrollment-DegreeSeeking', data=data, hue = 'CURROPER')\n",
    "plt.title('Boxplots of Student Enrollment by School type- Adj. scale')\n",
    "plt.ylim((0,10000))\n",
    "plt.show()"
   ]
  },
  {
   "cell_type": "markdown",
   "metadata": {},
   "source": [
    "Private for-profit schools can have much higher enrollments than the other two types of schools. Interestingly, some of the closed for-profit schools have really high enrollments."
   ]
  },
  {
   "cell_type": "code",
   "execution_count": 86,
   "metadata": {},
   "outputs": [
    {
     "data": {
      "text/plain": [
       "Text(0.5, 1.0, 'Boxplots of Tuition Revene per student by School type')"
      ]
     },
     "execution_count": 86,
     "metadata": {},
     "output_type": "execute_result"
    },
    {
     "data": {
      "image/png": "[encoded data removed]",
      "text/plain": [
       "<Figure size 432x288 with 1 Axes>"
      ]
     },
     "metadata": {
      "needs_background": "light"
     },
     "output_type": "display_data"
    }
   ],
   "source": [
    "sns.boxplot('Control', 'TuitionRevenue/FTE', data=data, hue = 'CURROPER')\n",
    "plt.title('Boxplots of Tuition Revene per student by School type')"
   ]
  },
  {
   "cell_type": "markdown",
   "metadata": {},
   "source": [
    "Private-for profit school has an extreme outlier - which school is it?"
   ]
  },
  {
   "cell_type": "code",
   "execution_count": 87,
   "metadata": {},
   "outputs": [
    {
     "data": {
      "text/plain": [
       "Text(0.5, 1.0, 'Boxplots of Expenditure per student by School type')"
      ]
     },
     "execution_count": 87,
     "metadata": {},
     "output_type": "execute_result"
    },
    {
     "data": {
      "image/png": "[encoded data removed]",
      "text/plain": [
       "<Figure size 432x288 with 1 Axes>"
      ]
     },
     "metadata": {
      "needs_background": "light"
     },
     "output_type": "display_data"
    }
   ],
   "source": [
    "sns.boxplot('Control', 'Expenditure/FTE', data=data, hue = 'CURROPER')\n",
    "plt.title('Boxplots of Expenditure per student by School type')"
   ]
  },
  {
   "cell_type": "markdown",
   "metadata": {},
   "source": [
    "Extreme outlier in closed nonprofit private school is distorting the data."
   ]
  },
  {
   "cell_type": "markdown",
   "metadata": {},
   "source": [
    "### Inferential Statistics Hint: \n",
    "Do any particular results in your data strike you as [abnormal]? What hypotheses can you form (Null and Alternative hypotheses) which you could go on to test? Take some time to recall your statistical concepts, such as that the [p-value] of an observation is the probability of seeing data at least as extreme as that observation, on the assumption of the null hypothesis."
   ]
  },
  {
   "cell_type": "markdown",
   "metadata": {},
   "source": [
    "Private-for profit school has an extreme outlier - which school is it?"
   ]
  },
  {
   "cell_type": "code",
   "execution_count": null,
   "metadata": {},
   "outputs": [],
   "source": []
  },
  {
   "cell_type": "code",
   "execution_count": null,
   "metadata": {},
   "outputs": [],
   "source": [
    "Extreme outlier in closed nonprofit private school is distorting the data."
   ]
  },
  {
   "cell_type": "code",
   "execution_count": null,
   "metadata": {},
   "outputs": [],
   "source": []
  },
  {
   "cell_type": "markdown",
   "metadata": {},
   "source": [
    "## Explore data relationships"
   ]
  },
  {
   "cell_type": "markdown",
   "metadata": {},
   "source": [
    "### Data Visualization Hint: \n",
    "Recall your [matplotlib] and [seaborn] functions for data visualization: \n",
    "Matplotlib:\n",
    "- plt.plot()\n",
    "- plt.xlabel() \n",
    "- plt.show() \n",
    "- plt.hist(),\n",
    "Seaborn:\n",
    "- sns.relplot() \n",
    "- sns.lmplot() \n",
    "- sns.catplot()."
   ]
  },
  {
   "cell_type": "markdown",
   "metadata": {},
   "source": [
    "### Feature Selection and Engineering Hint: \n",
    "Feature selection is where data storytelling starts: we tell a story as soon as we include certain features and omit others. But how we manipulate - or engineer - those fields is just as important. Recall the crucial elements to feature engineering:\n",
    "- If you have categorical features, you might need to [one-hot encode] them\n",
    "- You may need to [binarize] your columns and [bin] your values.\n",
    "- To handle missing data, think about how appropriate the methods of [listwise\n",
    "deletion, data imputation, replacing missing values with constants] or simply attempting to [find the missing values] are for your data.\n",
    "- Think about whether you need to [standardize, log-transform or normalize] your data, as well as statistically valid ways to remove outliers."
   ]
  },
  {
   "cell_type": "markdown",
   "metadata": {},
   "source": [
    "## Questions to answer\n",
    "Are there variables that are particularly significant in terms of explaining the answer to your project question?\n",
    "● Are there significant differences between subgroups in your data that may be relevant to your project aim?\n",
    "● Are there strong correlations between pairs of independent variables or between an independent and a dependent variable?\n",
    "● What are the most appropriate tests to use to analyze these relationships?"
   ]
  }
 ],
 "metadata": {
  "kernelspec": {
   "display_name": "Python 3",
   "language": "python",
   "name": "python3"
  },
  "language_info": {
   "codemirror_mode": {
    "name": "ipython",
    "version": 3
   },
   "file_extension": ".py",
   "mimetype": "text/x-python",
   "name": "python",
   "nbconvert_exporter": "python",
   "pygments_lexer": "ipython3",
   "version": "3.7.7"
  }
 },
 "nbformat": 4,
 "nbformat_minor": 4
}
