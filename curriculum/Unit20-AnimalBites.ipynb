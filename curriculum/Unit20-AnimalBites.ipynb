{
 "cells": [
  {
   "cell_type": "markdown",
   "metadata": {},
   "source": [
    "# Animal bites in Louisville"
   ]
  },
  {
   "cell_type": "code",
   "execution_count": 1,
   "metadata": {},
   "outputs": [],
   "source": [
    "# Set up the environment\n",
    "import pandas as pd\n",
    "import numpy as np\n",
    "import matplotlib.pyplot as plt\n",
    "import seaborn as sns\n",
    "%matplotlib inline"
   ]
  },
  {
   "cell_type": "code",
   "execution_count": 2,
   "metadata": {},
   "outputs": [
    {
     "data": {
      "text/plain": [
       "(9003, 15)"
      ]
     },
     "execution_count": 2,
     "metadata": {},
     "output_type": "execute_result"
    }
   ],
   "source": [
    "# Import that dataset\n",
    "filename = pd.read_csv('Health_AnimalBites.csv')\n",
    "data = pd.DataFrame(filename)\n",
    "data.shape"
   ]
  },
  {
   "cell_type": "code",
   "execution_count": 3,
   "metadata": {},
   "outputs": [
    {
     "data": {
      "text/html": [
       "<div>\n",
       "<style scoped>\n",
       "    .dataframe tbody tr th:only-of-type {\n",
       "        vertical-align: middle;\n",
       "    }\n",
       "\n",
       "    .dataframe tbody tr th {\n",
       "        vertical-align: top;\n",
       "    }\n",
       "\n",
       "    .dataframe thead th {\n",
       "        text-align: right;\n",
       "    }\n",
       "</style>\n",
       "<table border=\"1\" class=\"dataframe\">\n",
       "  <thead>\n",
       "    <tr style=\"text-align: right;\">\n",
       "      <th></th>\n",
       "      <th>bite_date</th>\n",
       "      <th>SpeciesIDDesc</th>\n",
       "      <th>BreedIDDesc</th>\n",
       "      <th>GenderIDDesc</th>\n",
       "      <th>color</th>\n",
       "      <th>vaccination_yrs</th>\n",
       "      <th>vaccination_date</th>\n",
       "      <th>victim_zip</th>\n",
       "      <th>AdvIssuedYNDesc</th>\n",
       "      <th>WhereBittenIDDesc</th>\n",
       "      <th>quarantine_date</th>\n",
       "      <th>DispositionIDDesc</th>\n",
       "      <th>head_sent_date</th>\n",
       "      <th>release_date</th>\n",
       "      <th>ResultsIDDesc</th>\n",
       "    </tr>\n",
       "  </thead>\n",
       "  <tbody>\n",
       "    <tr>\n",
       "      <th>0</th>\n",
       "      <td>1985-05-05 00:00:00</td>\n",
       "      <td>DOG</td>\n",
       "      <td>NaN</td>\n",
       "      <td>FEMALE</td>\n",
       "      <td>LIG. BROWN</td>\n",
       "      <td>1.0</td>\n",
       "      <td>1985-06-20 00:00:00</td>\n",
       "      <td>40229</td>\n",
       "      <td>NO</td>\n",
       "      <td>BODY</td>\n",
       "      <td>1985-05-05 00:00:00</td>\n",
       "      <td>UNKNOWN</td>\n",
       "      <td>NaN</td>\n",
       "      <td>NaN</td>\n",
       "      <td>UNKNOWN</td>\n",
       "    </tr>\n",
       "    <tr>\n",
       "      <th>1</th>\n",
       "      <td>1986-02-12 00:00:00</td>\n",
       "      <td>DOG</td>\n",
       "      <td>NaN</td>\n",
       "      <td>UNKNOWN</td>\n",
       "      <td>BRO &amp; BLA</td>\n",
       "      <td>NaN</td>\n",
       "      <td>NaN</td>\n",
       "      <td>40218</td>\n",
       "      <td>NO</td>\n",
       "      <td>BODY</td>\n",
       "      <td>1986-02-12 00:00:00</td>\n",
       "      <td>UNKNOWN</td>\n",
       "      <td>NaN</td>\n",
       "      <td>NaN</td>\n",
       "      <td>UNKNOWN</td>\n",
       "    </tr>\n",
       "    <tr>\n",
       "      <th>2</th>\n",
       "      <td>1987-05-07 00:00:00</td>\n",
       "      <td>DOG</td>\n",
       "      <td>NaN</td>\n",
       "      <td>UNKNOWN</td>\n",
       "      <td>NaN</td>\n",
       "      <td>NaN</td>\n",
       "      <td>NaN</td>\n",
       "      <td>40219</td>\n",
       "      <td>NO</td>\n",
       "      <td>BODY</td>\n",
       "      <td>1990-05-07 00:00:00</td>\n",
       "      <td>UNKNOWN</td>\n",
       "      <td>NaN</td>\n",
       "      <td>NaN</td>\n",
       "      <td>UNKNOWN</td>\n",
       "    </tr>\n",
       "    <tr>\n",
       "      <th>3</th>\n",
       "      <td>1988-10-02 00:00:00</td>\n",
       "      <td>DOG</td>\n",
       "      <td>NaN</td>\n",
       "      <td>MALE</td>\n",
       "      <td>BLA &amp; BRO</td>\n",
       "      <td>NaN</td>\n",
       "      <td>NaN</td>\n",
       "      <td>NaN</td>\n",
       "      <td>NO</td>\n",
       "      <td>BODY</td>\n",
       "      <td>1990-10-02 00:00:00</td>\n",
       "      <td>UNKNOWN</td>\n",
       "      <td>NaN</td>\n",
       "      <td>NaN</td>\n",
       "      <td>UNKNOWN</td>\n",
       "    </tr>\n",
       "    <tr>\n",
       "      <th>4</th>\n",
       "      <td>1989-08-29 00:00:00</td>\n",
       "      <td>DOG</td>\n",
       "      <td>NaN</td>\n",
       "      <td>FEMALE</td>\n",
       "      <td>BLK-WHT</td>\n",
       "      <td>NaN</td>\n",
       "      <td>NaN</td>\n",
       "      <td>NaN</td>\n",
       "      <td>NO</td>\n",
       "      <td>BODY</td>\n",
       "      <td>NaN</td>\n",
       "      <td>UNKNOWN</td>\n",
       "      <td>NaN</td>\n",
       "      <td>NaN</td>\n",
       "      <td>UNKNOWN</td>\n",
       "    </tr>\n",
       "  </tbody>\n",
       "</table>\n",
       "</div>"
      ],
      "text/plain": [
       "             bite_date SpeciesIDDesc BreedIDDesc GenderIDDesc       color  \\\n",
       "0  1985-05-05 00:00:00           DOG         NaN       FEMALE  LIG. BROWN   \n",
       "1  1986-02-12 00:00:00           DOG         NaN      UNKNOWN   BRO & BLA   \n",
       "2  1987-05-07 00:00:00           DOG         NaN      UNKNOWN         NaN   \n",
       "3  1988-10-02 00:00:00           DOG         NaN         MALE   BLA & BRO   \n",
       "4  1989-08-29 00:00:00           DOG         NaN       FEMALE     BLK-WHT   \n",
       "\n",
       "   vaccination_yrs     vaccination_date victim_zip AdvIssuedYNDesc  \\\n",
       "0              1.0  1985-06-20 00:00:00      40229              NO   \n",
       "1              NaN                  NaN      40218              NO   \n",
       "2              NaN                  NaN      40219              NO   \n",
       "3              NaN                  NaN        NaN              NO   \n",
       "4              NaN                  NaN        NaN              NO   \n",
       "\n",
       "  WhereBittenIDDesc      quarantine_date DispositionIDDesc head_sent_date  \\\n",
       "0              BODY  1985-05-05 00:00:00           UNKNOWN            NaN   \n",
       "1              BODY  1986-02-12 00:00:00           UNKNOWN            NaN   \n",
       "2              BODY  1990-05-07 00:00:00           UNKNOWN            NaN   \n",
       "3              BODY  1990-10-02 00:00:00           UNKNOWN            NaN   \n",
       "4              BODY                  NaN           UNKNOWN            NaN   \n",
       "\n",
       "  release_date ResultsIDDesc  \n",
       "0          NaN       UNKNOWN  \n",
       "1          NaN       UNKNOWN  \n",
       "2          NaN       UNKNOWN  \n",
       "3          NaN       UNKNOWN  \n",
       "4          NaN       UNKNOWN  "
      ]
     },
     "execution_count": 3,
     "metadata": {},
     "output_type": "execute_result"
    }
   ],
   "source": [
    "data.head()"
   ]
  },
  {
   "cell_type": "code",
   "execution_count": 4,
   "metadata": {},
   "outputs": [],
   "source": [
    "data['bite_date'] = pd.to_datetime(data['bite_date'], errors='coerce')\n",
    "data['vaccination_date'] = pd.to_datetime(data['vaccination_date'], errors='coerce')\n",
    "data['quarantine_date'] = pd.to_datetime(data['quarantine_date'], errors='coerce')\n",
    "data['head_sent_date'] = pd.to_datetime(data['head_sent_date'], errors='coerce')\n",
    "data['release_date'] = pd.to_datetime(data['release_date'], errors='coerce')\n"
   ]
  },
  {
   "cell_type": "code",
   "execution_count": 5,
   "metadata": {},
   "outputs": [
    {
     "name": "stdout",
     "output_type": "stream",
     "text": [
      "<class 'pandas.core.frame.DataFrame'>\n",
      "RangeIndex: 9003 entries, 0 to 9002\n",
      "Data columns (total 15 columns):\n",
      " #   Column             Non-Null Count  Dtype         \n",
      "---  ------             --------------  -----         \n",
      " 0   bite_date          8685 non-null   datetime64[ns]\n",
      " 1   SpeciesIDDesc      8885 non-null   object        \n",
      " 2   BreedIDDesc        3759 non-null   object        \n",
      " 3   GenderIDDesc       6477 non-null   object        \n",
      " 4   color              6426 non-null   object        \n",
      " 5   vaccination_yrs    3738 non-null   float64       \n",
      " 6   vaccination_date   4115 non-null   datetime64[ns]\n",
      " 7   victim_zip         7165 non-null   object        \n",
      " 8   AdvIssuedYNDesc    2565 non-null   object        \n",
      " 9   WhereBittenIDDesc  8387 non-null   object        \n",
      " 10  quarantine_date    2020 non-null   datetime64[ns]\n",
      " 11  DispositionIDDesc  1535 non-null   object        \n",
      " 12  head_sent_date     395 non-null    datetime64[ns]\n",
      " 13  release_date       1445 non-null   datetime64[ns]\n",
      " 14  ResultsIDDesc      1543 non-null   object        \n",
      "dtypes: datetime64[ns](5), float64(1), object(9)\n",
      "memory usage: 1.0+ MB\n"
     ]
    }
   ],
   "source": [
    "data.info()"
   ]
  },
  {
   "cell_type": "code",
   "execution_count": 6,
   "metadata": {},
   "outputs": [
    {
     "name": "stdout",
     "output_type": "stream",
     "text": [
      "Null counts:\n",
      "                   Count   Percent\n",
      "bite_date            318  0.035322\n",
      "SpeciesIDDesc        118  0.013107\n",
      "BreedIDDesc         5244  0.582473\n",
      "GenderIDDesc        2526  0.280573\n",
      "color               2577  0.286238\n",
      "vaccination_yrs     5265  0.584805\n",
      "vaccination_date    4888  0.542930\n",
      "victim_zip          1838  0.204154\n",
      "AdvIssuedYNDesc     6438  0.715095\n",
      "WhereBittenIDDesc    616  0.068422\n",
      "quarantine_date     6983  0.775630\n",
      "DispositionIDDesc   7468  0.829501\n",
      "head_sent_date      8608  0.956126\n",
      "release_date        7558  0.839498\n",
      "ResultsIDDesc       7460  0.828613\n"
     ]
    }
   ],
   "source": [
    "#Check for null values\n",
    "nulldata = data.isnull().sum()\n",
    "nulldata = pd.DataFrame(nulldata)\n",
    "nulldata.columns = [\"Count\"]\n",
    "nulldata['Percent'] = (data.isnull().sum())/data.shape[0]\n",
    "print('Null counts:')\n",
    "print(nulldata)"
   ]
  },
  {
   "cell_type": "markdown",
   "metadata": {},
   "source": [
    "## Animal characteristics"
   ]
  },
  {
   "cell_type": "markdown",
   "metadata": {},
   "source": [
    "### Species"
   ]
  },
  {
   "cell_type": "code",
   "execution_count": 7,
   "metadata": {},
   "outputs": [
    {
     "data": {
      "text/plain": [
       "DOG        7029\n",
       "CAT        1568\n",
       "BAT         237\n",
       "RACCOON      27\n",
       "OTHER        11\n",
       "HORSE         5\n",
       "FERRET        4\n",
       "RABBIT        3\n",
       "SKUNK         1\n",
       "Name: SpeciesIDDesc, dtype: int64"
      ]
     },
     "execution_count": 7,
     "metadata": {},
     "output_type": "execute_result"
    }
   ],
   "source": [
    "data.SpeciesIDDesc.value_counts()"
   ]
  },
  {
   "cell_type": "code",
   "execution_count": 8,
   "metadata": {},
   "outputs": [
    {
     "data": {
      "text/plain": [
       "0.7807397534155281"
      ]
     },
     "execution_count": 8,
     "metadata": {},
     "output_type": "execute_result"
    }
   ],
   "source": [
    "7029 / data.shape[0]"
   ]
  },
  {
   "cell_type": "code",
   "execution_count": 9,
   "metadata": {},
   "outputs": [
    {
     "data": {
      "image/png": "[encoded data removed]",
      "text/plain": [
       "<Figure size 432x288 with 1 Axes>"
      ]
     },
     "metadata": {
      "needs_background": "light"
     },
     "output_type": "display_data"
    }
   ],
   "source": [
    "splot = sns.countplot('SpeciesIDDesc', data=data)\n",
    "for p in splot.patches:\n",
    "    splot.annotate(format(p.get_height(), '.0f'), \n",
    "                   (p.get_x() + p.get_width() / 2., p.get_height()), \n",
    "                   ha = 'center', va = 'center', \n",
    "                   xytext = (0, 4), color='black',\n",
    "                   textcoords = 'offset points')\n",
    "plt.yscale('log')\n",
    "#plt.title('Species Count')\n",
    "plt.xlabel('')\n",
    "plt.ylabel('Incident count - log scale')\n",
    "plt.xticks(rotation=45)\n",
    "plt.tight_layout()\n",
    "plt.savefig('SpeciesCountLog.png')"
   ]
  },
  {
   "cell_type": "code",
   "execution_count": 10,
   "metadata": {},
   "outputs": [
    {
     "data": {
      "image/png": "[encoded data removed]",
      "text/plain": [
       "<Figure size 432x288 with 1 Axes>"
      ]
     },
     "metadata": {
      "needs_background": "light"
     },
     "output_type": "display_data"
    }
   ],
   "source": [
    "sns.countplot('SpeciesIDDesc', data=data)\n",
    "#plt.yscale('log')\n",
    "plt.title('Species Count')\n",
    "plt.xlabel('Species')\n",
    "plt.ylabel('Incident count')\n",
    "plt.xticks(rotation=45)\n",
    "plt.savefig('SpeciesCountScale.png')"
   ]
  },
  {
   "cell_type": "markdown",
   "metadata": {},
   "source": [
    "Most (78%) of the reported animal bites are caused by dogs."
   ]
  },
  {
   "cell_type": "markdown",
   "metadata": {},
   "source": [
    "### Breed"
   ]
  },
  {
   "cell_type": "code",
   "execution_count": 11,
   "metadata": {},
   "outputs": [
    {
     "data": {
      "text/plain": [
       "DOG    3755\n",
       "CAT       3\n",
       "Name: SpeciesIDDesc, dtype: int64"
      ]
     },
     "execution_count": 11,
     "metadata": {},
     "output_type": "execute_result"
    }
   ],
   "source": [
    "breeds = data.loc[data.BreedIDDesc.notnull()]\n",
    "breeds.SpeciesIDDesc.value_counts()"
   ]
  },
  {
   "cell_type": "markdown",
   "metadata": {},
   "source": [
    "Breeds are only available for dogs and cats, not other animals. All but three of the breed entries are for dogs, and two of the cat breeds are 'other'."
   ]
  },
  {
   "cell_type": "code",
   "execution_count": 12,
   "metadata": {},
   "outputs": [
    {
     "data": {
      "text/plain": [
       "OTHER     2\n",
       "BEAGLE    1\n",
       "Name: BreedIDDesc, dtype: int64"
      ]
     },
     "execution_count": 12,
     "metadata": {},
     "output_type": "execute_result"
    }
   ],
   "source": [
    "cat = data.loc[data.SpeciesIDDesc=='CAT']\n",
    "cat.BreedIDDesc.value_counts()"
   ]
  },
  {
   "cell_type": "code",
   "execution_count": 13,
   "metadata": {},
   "outputs": [
    {
     "name": "stdout",
     "output_type": "stream",
     "text": [
      "PIT BULL           1101\n",
      "GERM SHEPHERD       327\n",
      "LABRADOR RETRIV     253\n",
      "BOXER               181\n",
      "CHICHAUHUA          165\n",
      "SHIH TZU            119\n",
      "BEAGLE              115\n",
      "ROTTWEILER           86\n",
      "AAUST. TERR.         78\n",
      "DACHSHUND            67\n",
      "Name: BreedIDDesc, dtype: int64\n"
     ]
    }
   ],
   "source": [
    "dog = data.loc[data.SpeciesIDDesc=='DOG']\n",
    "dog_count = dog.BreedIDDesc.value_counts(sort=True, ascending=False)\n",
    "dog_count = dog_count.loc[dog_count>1].copy()\n",
    "#dog_count = pd.DataFrame(dog_count)\n",
    "print(dog_count.head(10))"
   ]
  },
  {
   "cell_type": "code",
   "execution_count": 14,
   "metadata": {},
   "outputs": [
    {
     "data": {
      "image/png": "[encoded data removed]",
      "text/plain": [
       "<Figure size 1440x360 with 1 Axes>"
      ]
     },
     "metadata": {
      "needs_background": "light"
     },
     "output_type": "display_data"
    }
   ],
   "source": [
    "fig = plt.figure(figsize=(20, 5))\n",
    "#sns.countplot(data.loc[(data.SpeciesIDDesc=='DOG')].BreedIDDesc)\n",
    "sns.barplot(dog_count.index, dog_count.values)\n",
    "plt.xticks(rotation=90)\n",
    "plt.xlabel('Breed')\n",
    "plt.ylabel('Incident count - log scale')\n",
    "plt.yscale('log')\n",
    "plt.title('Dog breeds involved in more than one incident')\n",
    "plt.savefig('Breeds.png')"
   ]
  },
  {
   "cell_type": "code",
   "execution_count": 15,
   "metadata": {},
   "outputs": [
    {
     "data": {
      "image/png": "[encoded data removed]",
      "text/plain": [
       "<Figure size 720x360 with 1 Axes>"
      ]
     },
     "metadata": {
      "needs_background": "light"
     },
     "output_type": "display_data"
    }
   ],
   "source": [
    "fig = plt.figure(figsize=(10, 5))\n",
    "#sns.countplot(data.loc[(data.SpeciesIDDesc=='DOG')].BreedIDDesc)\n",
    "sns.barplot(dog_count.index[0:10], dog_count.values[0:10])\n",
    "plt.xticks(rotation=45)\n",
    "plt.xlabel('Breed')\n",
    "plt.ylabel('Incident count - log scale')\n",
    "plt.yscale('log')\n",
    "plt.title('Top 10 dog breeds involved biting incidents')\n",
    "plt.tight_layout()\n",
    "plt.savefig('Breeds.png')"
   ]
  },
  {
   "cell_type": "code",
   "execution_count": 16,
   "metadata": {},
   "outputs": [
    {
     "data": {
      "text/plain": [
       "0.15663679043960735"
      ]
     },
     "execution_count": 16,
     "metadata": {},
     "output_type": "execute_result"
    }
   ],
   "source": [
    "1101/7029"
   ]
  },
  {
   "cell_type": "markdown",
   "metadata": {},
   "source": [
    "Pit bulls are the most common breed associated with bites - 15.7% of dog bites are from pit bulls.\n",
    "German shepherds, labrador retrivers, boxers, and chichauhua are the next most common breed of biting dogs."
   ]
  },
  {
   "cell_type": "markdown",
   "metadata": {},
   "source": [
    "### Animal gender"
   ]
  },
  {
   "cell_type": "code",
   "execution_count": 17,
   "metadata": {},
   "outputs": [
    {
     "data": {
      "text/plain": [
       "MALE       3832\n",
       "FEMALE     2016\n",
       "UNKNOWN     629\n",
       "Name: GenderIDDesc, dtype: int64"
      ]
     },
     "execution_count": 17,
     "metadata": {},
     "output_type": "execute_result"
    }
   ],
   "source": [
    "data.GenderIDDesc.value_counts()"
   ]
  },
  {
   "cell_type": "code",
   "execution_count": 18,
   "metadata": {},
   "outputs": [
    {
     "data": {
      "text/plain": [
       "2526"
      ]
     },
     "execution_count": 18,
     "metadata": {},
     "output_type": "execute_result"
    }
   ],
   "source": [
    "data.GenderIDDesc.isnull().sum()"
   ]
  },
  {
   "cell_type": "code",
   "execution_count": 19,
   "metadata": {},
   "outputs": [
    {
     "data": {
      "image/png": "[encoded data removed]",
      "text/plain": [
       "<Figure size 432x288 with 1 Axes>"
      ]
     },
     "metadata": {
      "needs_background": "light"
     },
     "output_type": "display_data"
    }
   ],
   "source": [
    "sns.countplot(data.GenderIDDesc)\n",
    "plt.title('Gender of Animal')\n",
    "plt.xlabel('')\n",
    "plt.savefig('GenderAnimal.png')"
   ]
  },
  {
   "cell_type": "markdown",
   "metadata": {},
   "source": [
    "### Color"
   ]
  },
  {
   "cell_type": "code",
   "execution_count": 20,
   "metadata": {},
   "outputs": [
    {
     "data": {
      "text/plain": [
       "BLACK         671\n",
       "BROWN         433\n",
       "WHITE         394\n",
       "BLK WHT       277\n",
       "TAN           223\n",
       "             ... \n",
       "MULTICOLOR      1\n",
       "TAN/BROWN       1\n",
       "OR WHITE        1\n",
       "BRN/BLACK       1\n",
       "TANN            1\n",
       "Name: color, Length: 712, dtype: int64"
      ]
     },
     "execution_count": 20,
     "metadata": {},
     "output_type": "execute_result"
    }
   ],
   "source": [
    "data.color.value_counts()"
   ]
  },
  {
   "cell_type": "code",
   "execution_count": 21,
   "metadata": {},
   "outputs": [
    {
     "data": {
      "text/plain": [
       "2577"
      ]
     },
     "execution_count": 21,
     "metadata": {},
     "output_type": "execute_result"
    }
   ],
   "source": [
    "data.color.isnull().sum()"
   ]
  },
  {
   "cell_type": "markdown",
   "metadata": {},
   "source": [
    "### Vaccination information"
   ]
  },
  {
   "cell_type": "code",
   "execution_count": 22,
   "metadata": {},
   "outputs": [
    {
     "data": {
      "text/plain": [
       "1.0     2894\n",
       "3.0      837\n",
       "2.0        6\n",
       "11.0       1\n",
       "Name: vaccination_yrs, dtype: int64"
      ]
     },
     "execution_count": 22,
     "metadata": {},
     "output_type": "execute_result"
    }
   ],
   "source": [
    "# How many years since the last vaccination\n",
    "data.vaccination_yrs.value_counts()"
   ]
  },
  {
   "cell_type": "code",
   "execution_count": 23,
   "metadata": {},
   "outputs": [
    {
     "data": {
      "text/plain": [
       "5265"
      ]
     },
     "execution_count": 23,
     "metadata": {},
     "output_type": "execute_result"
    }
   ],
   "source": [
    "data.vaccination_yrs.isnull().sum()"
   ]
  },
  {
   "cell_type": "markdown",
   "metadata": {},
   "source": [
    "For the animals on which we have data, most had been vaccinated within the last year. I assume this means they were current on their vaccinations. "
   ]
  },
  {
   "cell_type": "code",
   "execution_count": 24,
   "metadata": {},
   "outputs": [
    {
     "data": {
      "text/plain": [
       "2015-10-01    8\n",
       "2014-04-01    7\n",
       "2011-07-08    7\n",
       "2014-04-02    7\n",
       "2013-04-01    7\n",
       "             ..\n",
       "2016-07-18    1\n",
       "2012-07-18    1\n",
       "2012-02-11    1\n",
       "2013-12-18    1\n",
       "2008-10-26    1\n",
       "Name: vaccination_date, Length: 2107, dtype: int64"
      ]
     },
     "execution_count": 24,
     "metadata": {},
     "output_type": "execute_result"
    }
   ],
   "source": [
    "# Date of last vaccination\n",
    "data.vaccination_date.value_counts()"
   ]
  },
  {
   "cell_type": "code",
   "execution_count": 25,
   "metadata": {},
   "outputs": [
    {
     "data": {
      "text/plain": [
       "4888"
      ]
     },
     "execution_count": 25,
     "metadata": {},
     "output_type": "execute_result"
    }
   ],
   "source": [
    "data.vaccination_date.isnull().sum()"
   ]
  },
  {
   "cell_type": "markdown",
   "metadata": {},
   "source": [
    "### Quarantine details"
   ]
  },
  {
   "cell_type": "code",
   "execution_count": 26,
   "metadata": {},
   "outputs": [
    {
     "data": {
      "text/plain": [
       "2010-04-05    18\n",
       "2011-06-01    14\n",
       "2010-11-08    14\n",
       "2010-02-01    13\n",
       "2011-06-27    13\n",
       "              ..\n",
       "2009-12-28     1\n",
       "2011-05-26     1\n",
       "2011-05-30     1\n",
       "2010-07-18     1\n",
       "2011-02-07     1\n",
       "Name: quarantine_date, Length: 602, dtype: int64"
      ]
     },
     "execution_count": 26,
     "metadata": {},
     "output_type": "execute_result"
    }
   ],
   "source": [
    "data.quarantine_date.value_counts()"
   ]
  },
  {
   "cell_type": "code",
   "execution_count": 27,
   "metadata": {},
   "outputs": [
    {
     "data": {
      "text/plain": [
       "6983"
      ]
     },
     "execution_count": 27,
     "metadata": {},
     "output_type": "execute_result"
    }
   ],
   "source": [
    "data.quarantine_date.isnull().sum()"
   ]
  },
  {
   "cell_type": "code",
   "execution_count": 28,
   "metadata": {},
   "outputs": [
    {
     "data": {
      "text/plain": [
       "RELEASED    912\n",
       "UNKNOWN     603\n",
       "KILLED       16\n",
       "DIED          4\n",
       "Name: DispositionIDDesc, dtype: int64"
      ]
     },
     "execution_count": 28,
     "metadata": {},
     "output_type": "execute_result"
    }
   ],
   "source": [
    "# Whether the animal was released from quarantine\n",
    "data.DispositionIDDesc.value_counts()"
   ]
  },
  {
   "cell_type": "code",
   "execution_count": 29,
   "metadata": {},
   "outputs": [
    {
     "data": {
      "text/plain": [
       "DOG      9\n",
       "BAT      4\n",
       "CAT      2\n",
       "OTHER    1\n",
       "Name: SpeciesIDDesc, dtype: int64"
      ]
     },
     "execution_count": 29,
     "metadata": {},
     "output_type": "execute_result"
    }
   ],
   "source": [
    "data.loc[data.DispositionIDDesc=='KILLED'].SpeciesIDDesc.value_counts()\n"
   ]
  },
  {
   "cell_type": "code",
   "execution_count": 30,
   "metadata": {},
   "outputs": [
    {
     "data": {
      "text/html": [
       "<div>\n",
       "<style scoped>\n",
       "    .dataframe tbody tr th:only-of-type {\n",
       "        vertical-align: middle;\n",
       "    }\n",
       "\n",
       "    .dataframe tbody tr th {\n",
       "        vertical-align: top;\n",
       "    }\n",
       "\n",
       "    .dataframe thead tr th {\n",
       "        text-align: left;\n",
       "    }\n",
       "\n",
       "    .dataframe thead tr:last-of-type th {\n",
       "        text-align: right;\n",
       "    }\n",
       "</style>\n",
       "<table border=\"1\" class=\"dataframe\">\n",
       "  <thead>\n",
       "    <tr>\n",
       "      <th></th>\n",
       "      <th colspan=\"4\" halign=\"left\">AdvIssuedYNDesc</th>\n",
       "      <th colspan=\"4\" halign=\"left\">BreedIDDesc</th>\n",
       "      <th colspan=\"2\" halign=\"left\">GenderIDDesc</th>\n",
       "      <th>...</th>\n",
       "      <th colspan=\"2\" halign=\"left\">vaccination_date</th>\n",
       "      <th colspan=\"4\" halign=\"left\">vaccination_yrs</th>\n",
       "      <th colspan=\"4\" halign=\"left\">victim_zip</th>\n",
       "    </tr>\n",
       "    <tr>\n",
       "      <th>DispositionIDDesc</th>\n",
       "      <th>DIED</th>\n",
       "      <th>KILLED</th>\n",
       "      <th>RELEASED</th>\n",
       "      <th>UNKNOWN</th>\n",
       "      <th>DIED</th>\n",
       "      <th>KILLED</th>\n",
       "      <th>RELEASED</th>\n",
       "      <th>UNKNOWN</th>\n",
       "      <th>DIED</th>\n",
       "      <th>KILLED</th>\n",
       "      <th>...</th>\n",
       "      <th>RELEASED</th>\n",
       "      <th>UNKNOWN</th>\n",
       "      <th>DIED</th>\n",
       "      <th>KILLED</th>\n",
       "      <th>RELEASED</th>\n",
       "      <th>UNKNOWN</th>\n",
       "      <th>DIED</th>\n",
       "      <th>KILLED</th>\n",
       "      <th>RELEASED</th>\n",
       "      <th>UNKNOWN</th>\n",
       "    </tr>\n",
       "    <tr>\n",
       "      <th>SpeciesIDDesc</th>\n",
       "      <th></th>\n",
       "      <th></th>\n",
       "      <th></th>\n",
       "      <th></th>\n",
       "      <th></th>\n",
       "      <th></th>\n",
       "      <th></th>\n",
       "      <th></th>\n",
       "      <th></th>\n",
       "      <th></th>\n",
       "      <th></th>\n",
       "      <th></th>\n",
       "      <th></th>\n",
       "      <th></th>\n",
       "      <th></th>\n",
       "      <th></th>\n",
       "      <th></th>\n",
       "      <th></th>\n",
       "      <th></th>\n",
       "      <th></th>\n",
       "      <th></th>\n",
       "    </tr>\n",
       "  </thead>\n",
       "  <tbody>\n",
       "    <tr>\n",
       "      <th>BAT</th>\n",
       "      <td>NaN</td>\n",
       "      <td>4.0</td>\n",
       "      <td>NaN</td>\n",
       "      <td>10.0</td>\n",
       "      <td>NaN</td>\n",
       "      <td>0.0</td>\n",
       "      <td>NaN</td>\n",
       "      <td>0.0</td>\n",
       "      <td>NaN</td>\n",
       "      <td>0.0</td>\n",
       "      <td>...</td>\n",
       "      <td>NaN</td>\n",
       "      <td>0.0</td>\n",
       "      <td>NaN</td>\n",
       "      <td>0.0</td>\n",
       "      <td>NaN</td>\n",
       "      <td>0.0</td>\n",
       "      <td>NaN</td>\n",
       "      <td>4.0</td>\n",
       "      <td>NaN</td>\n",
       "      <td>9.0</td>\n",
       "    </tr>\n",
       "    <tr>\n",
       "      <th>CAT</th>\n",
       "      <td>2.0</td>\n",
       "      <td>2.0</td>\n",
       "      <td>132.0</td>\n",
       "      <td>151.0</td>\n",
       "      <td>0.0</td>\n",
       "      <td>0.0</td>\n",
       "      <td>0.0</td>\n",
       "      <td>0.0</td>\n",
       "      <td>1.0</td>\n",
       "      <td>1.0</td>\n",
       "      <td>...</td>\n",
       "      <td>101.0</td>\n",
       "      <td>7.0</td>\n",
       "      <td>0.0</td>\n",
       "      <td>0.0</td>\n",
       "      <td>102.0</td>\n",
       "      <td>3.0</td>\n",
       "      <td>2.0</td>\n",
       "      <td>2.0</td>\n",
       "      <td>128.0</td>\n",
       "      <td>150.0</td>\n",
       "    </tr>\n",
       "    <tr>\n",
       "      <th>DOG</th>\n",
       "      <td>1.0</td>\n",
       "      <td>8.0</td>\n",
       "      <td>775.0</td>\n",
       "      <td>436.0</td>\n",
       "      <td>1.0</td>\n",
       "      <td>6.0</td>\n",
       "      <td>142.0</td>\n",
       "      <td>14.0</td>\n",
       "      <td>1.0</td>\n",
       "      <td>8.0</td>\n",
       "      <td>...</td>\n",
       "      <td>605.0</td>\n",
       "      <td>70.0</td>\n",
       "      <td>0.0</td>\n",
       "      <td>0.0</td>\n",
       "      <td>601.0</td>\n",
       "      <td>30.0</td>\n",
       "      <td>1.0</td>\n",
       "      <td>9.0</td>\n",
       "      <td>743.0</td>\n",
       "      <td>426.0</td>\n",
       "    </tr>\n",
       "    <tr>\n",
       "      <th>OTHER</th>\n",
       "      <td>1.0</td>\n",
       "      <td>1.0</td>\n",
       "      <td>NaN</td>\n",
       "      <td>3.0</td>\n",
       "      <td>0.0</td>\n",
       "      <td>0.0</td>\n",
       "      <td>NaN</td>\n",
       "      <td>0.0</td>\n",
       "      <td>0.0</td>\n",
       "      <td>0.0</td>\n",
       "      <td>...</td>\n",
       "      <td>NaN</td>\n",
       "      <td>0.0</td>\n",
       "      <td>0.0</td>\n",
       "      <td>0.0</td>\n",
       "      <td>NaN</td>\n",
       "      <td>0.0</td>\n",
       "      <td>1.0</td>\n",
       "      <td>1.0</td>\n",
       "      <td>NaN</td>\n",
       "      <td>3.0</td>\n",
       "    </tr>\n",
       "    <tr>\n",
       "      <th>RACCOON</th>\n",
       "      <td>NaN</td>\n",
       "      <td>NaN</td>\n",
       "      <td>NaN</td>\n",
       "      <td>2.0</td>\n",
       "      <td>NaN</td>\n",
       "      <td>NaN</td>\n",
       "      <td>NaN</td>\n",
       "      <td>0.0</td>\n",
       "      <td>NaN</td>\n",
       "      <td>NaN</td>\n",
       "      <td>...</td>\n",
       "      <td>NaN</td>\n",
       "      <td>0.0</td>\n",
       "      <td>NaN</td>\n",
       "      <td>NaN</td>\n",
       "      <td>NaN</td>\n",
       "      <td>0.0</td>\n",
       "      <td>NaN</td>\n",
       "      <td>NaN</td>\n",
       "      <td>NaN</td>\n",
       "      <td>2.0</td>\n",
       "    </tr>\n",
       "  </tbody>\n",
       "</table>\n",
       "<p>5 rows × 52 columns</p>\n",
       "</div>"
      ],
      "text/plain": [
       "                  AdvIssuedYNDesc                         BreedIDDesc         \\\n",
       "DispositionIDDesc            DIED KILLED RELEASED UNKNOWN        DIED KILLED   \n",
       "SpeciesIDDesc                                                                  \n",
       "BAT                           NaN    4.0      NaN    10.0         NaN    0.0   \n",
       "CAT                           2.0    2.0    132.0   151.0         0.0    0.0   \n",
       "DOG                           1.0    8.0    775.0   436.0         1.0    6.0   \n",
       "OTHER                         1.0    1.0      NaN     3.0         0.0    0.0   \n",
       "RACCOON                       NaN    NaN      NaN     2.0         NaN    NaN   \n",
       "\n",
       "                                   GenderIDDesc         ... vaccination_date  \\\n",
       "DispositionIDDesc RELEASED UNKNOWN         DIED KILLED  ...         RELEASED   \n",
       "SpeciesIDDesc                                           ...                    \n",
       "BAT                    NaN     0.0          NaN    0.0  ...              NaN   \n",
       "CAT                    0.0     0.0          1.0    1.0  ...            101.0   \n",
       "DOG                  142.0    14.0          1.0    8.0  ...            605.0   \n",
       "OTHER                  NaN     0.0          0.0    0.0  ...              NaN   \n",
       "RACCOON                NaN     0.0          NaN    NaN  ...              NaN   \n",
       "\n",
       "                          vaccination_yrs                         victim_zip  \\\n",
       "DispositionIDDesc UNKNOWN            DIED KILLED RELEASED UNKNOWN       DIED   \n",
       "SpeciesIDDesc                                                                  \n",
       "BAT                   0.0             NaN    0.0      NaN     0.0        NaN   \n",
       "CAT                   7.0             0.0    0.0    102.0     3.0        2.0   \n",
       "DOG                  70.0             0.0    0.0    601.0    30.0        1.0   \n",
       "OTHER                 0.0             0.0    0.0      NaN     0.0        1.0   \n",
       "RACCOON               0.0             NaN    NaN      NaN     0.0        NaN   \n",
       "\n",
       "                                           \n",
       "DispositionIDDesc KILLED RELEASED UNKNOWN  \n",
       "SpeciesIDDesc                              \n",
       "BAT                  4.0      NaN     9.0  \n",
       "CAT                  2.0    128.0   150.0  \n",
       "DOG                  9.0    743.0   426.0  \n",
       "OTHER                1.0      NaN     3.0  \n",
       "RACCOON              NaN      NaN     2.0  \n",
       "\n",
       "[5 rows x 52 columns]"
      ]
     },
     "execution_count": 30,
     "metadata": {},
     "output_type": "execute_result"
    }
   ],
   "source": [
    "data.pivot_table(index='SpeciesIDDesc', columns='DispositionIDDesc', aggfunc='count')"
   ]
  },
  {
   "cell_type": "code",
   "execution_count": 31,
   "metadata": {},
   "outputs": [
    {
     "data": {
      "image/png": "[encoded data removed]",
      "text/plain": [
       "<Figure size 432x288 with 1 Axes>"
      ]
     },
     "metadata": {
      "needs_background": "light"
     },
     "output_type": "display_data"
    }
   ],
   "source": [
    "# Filter out species without Disposition data\n",
    "disposition = data.loc[data.DispositionIDDesc.notnull()]\n",
    "\n",
    "sns.countplot('SpeciesIDDesc', data=disposition, hue='DispositionIDDesc')\n",
    "plt.yscale('log')\n",
    "plt.ylabel('Count - log scale')\n",
    "plt.xlabel('')\n",
    "plt.legend(loc = 'upper right')\n",
    "plt.title('Species by Quarantine Result')\n",
    "plt.savefig('SpeciesQuarantine.png')"
   ]
  },
  {
   "cell_type": "code",
   "execution_count": 32,
   "metadata": {},
   "outputs": [
    {
     "data": {
      "text/plain": [
       "2010-05-21    4\n",
       "2015-06-02    3\n",
       "2015-08-17    3\n",
       "2017-01-11    3\n",
       "2016-07-27    3\n",
       "             ..\n",
       "2016-05-19    1\n",
       "2016-06-29    1\n",
       "2016-08-28    1\n",
       "2017-08-23    1\n",
       "2015-09-02    1\n",
       "Name: head_sent_date, Length: 325, dtype: int64"
      ]
     },
     "execution_count": 32,
     "metadata": {},
     "output_type": "execute_result"
    }
   ],
   "source": [
    "data.head_sent_date.value_counts()"
   ]
  },
  {
   "cell_type": "code",
   "execution_count": 33,
   "metadata": {},
   "outputs": [
    {
     "data": {
      "text/plain": [
       "2016-07-05    13\n",
       "2017-09-05    12\n",
       "2016-04-04    11\n",
       "2016-05-23     9\n",
       "2017-05-08     9\n",
       "              ..\n",
       "2015-09-22     1\n",
       "2013-06-10     1\n",
       "2016-07-22     1\n",
       "2015-10-25     1\n",
       "2017-02-10     1\n",
       "Name: release_date, Length: 582, dtype: int64"
      ]
     },
     "execution_count": 33,
     "metadata": {},
     "output_type": "execute_result"
    }
   ],
   "source": [
    "data.release_date.value_counts()"
   ]
  },
  {
   "cell_type": "code",
   "execution_count": 34,
   "metadata": {},
   "outputs": [
    {
     "data": {
      "text/plain": [
       "1418    BAT\n",
       "1502    DOG\n",
       "1677    BAT\n",
       "1678    BAT\n",
       "Name: SpeciesIDDesc, dtype: object"
      ]
     },
     "execution_count": 34,
     "metadata": {},
     "output_type": "execute_result"
    }
   ],
   "source": [
    "data.loc[data.ResultsIDDesc=='POSITIVE'].SpeciesIDDesc"
   ]
  },
  {
   "cell_type": "code",
   "execution_count": 35,
   "metadata": {},
   "outputs": [
    {
     "data": {
      "text/plain": [
       "BAT        160\n",
       "CAT         64\n",
       "DOG         58\n",
       "RACCOON      9\n",
       "OTHER        5\n",
       "Name: SpeciesIDDesc, dtype: int64"
      ]
     },
     "execution_count": 35,
     "metadata": {},
     "output_type": "execute_result"
    }
   ],
   "source": [
    "data.loc[data.ResultsIDDesc=='NEGATIVE'].SpeciesIDDesc.value_counts()"
   ]
  },
  {
   "cell_type": "code",
   "execution_count": 36,
   "metadata": {},
   "outputs": [
    {
     "data": {
      "image/png": "[encoded data removed]",
      "text/plain": [
       "<Figure size 432x288 with 1 Axes>"
      ]
     },
     "metadata": {
      "needs_background": "light"
     },
     "output_type": "display_data"
    }
   ],
   "source": [
    "# Filter out species without Disposition data\n",
    "rabies_result = data.loc[data.ResultsIDDesc.notnull()]\n",
    "\n",
    "sns.countplot('SpeciesIDDesc', data=rabies_result, hue='ResultsIDDesc')\n",
    "plt.yscale('log')\n",
    "plt.ylabel('Count - log scale')\n",
    "plt.xlabel('')\n",
    "plt.legend(loc = 'upper right')\n",
    "plt.title('Species by Rabies Test Result')\n",
    "plt.savefig('SpeciesRabies.png')"
   ]
  },
  {
   "cell_type": "markdown",
   "metadata": {},
   "source": [
    "## Victim information"
   ]
  },
  {
   "cell_type": "code",
   "execution_count": 37,
   "metadata": {},
   "outputs": [
    {
     "data": {
      "text/plain": [
       "40272    376\n",
       "40291    368\n",
       "40216    362\n",
       "40215    356\n",
       "40214    348\n",
       "        ... \n",
       "40076      1\n",
       "19341      1\n",
       "29717      1\n",
       "36877      1\n",
       "41018      1\n",
       "Name: victim_zip, Length: 233, dtype: int64"
      ]
     },
     "execution_count": 37,
     "metadata": {},
     "output_type": "execute_result"
    }
   ],
   "source": [
    "data.victim_zip.value_counts()"
   ]
  },
  {
   "cell_type": "code",
   "execution_count": 38,
   "metadata": {},
   "outputs": [
    {
     "data": {
      "text/plain": [
       "NO     1914\n",
       "YES     651\n",
       "Name: AdvIssuedYNDesc, dtype: int64"
      ]
     },
     "execution_count": 38,
     "metadata": {},
     "output_type": "execute_result"
    }
   ],
   "source": [
    "data.AdvIssuedYNDesc.value_counts()"
   ]
  },
  {
   "cell_type": "code",
   "execution_count": 39,
   "metadata": {},
   "outputs": [
    {
     "data": {
      "text/plain": [
       "BODY       6213\n",
       "HEAD       1244\n",
       "UNKNOWN     930\n",
       "Name: WhereBittenIDDesc, dtype: int64"
      ]
     },
     "execution_count": 39,
     "metadata": {},
     "output_type": "execute_result"
    }
   ],
   "source": [
    "data.WhereBittenIDDesc.value_counts()"
   ]
  },
  {
   "cell_type": "code",
   "execution_count": 40,
   "metadata": {},
   "outputs": [
    {
     "data": {
      "image/png": "[encoded data removed]",
      "text/plain": [
       "<Figure size 432x288 with 1 Axes>"
      ]
     },
     "metadata": {
      "needs_background": "light"
     },
     "output_type": "display_data"
    }
   ],
   "source": [
    "bite_loc = data.loc[data.WhereBittenIDDesc.notnull()]\n",
    "\n",
    "sns.countplot('SpeciesIDDesc', data=bite_loc, hue='WhereBittenIDDesc')\n",
    "plt.yscale('log')\n",
    "plt.ylabel('Count - log scale')\n",
    "plt.xlabel('')\n",
    "plt.legend(loc = 'upper right')\n",
    "plt.xticks(rotation=45)\n",
    "plt.title('Species by Body Part Bitten')\n",
    "plt.savefig('SpeciesBiteLocation.png')"
   ]
  },
  {
   "cell_type": "markdown",
   "metadata": {},
   "source": [
    "## Is there a pattern to the timing of dog bites?\n",
    "Are more people bitten in the summer than in the winter?"
   ]
  },
  {
   "cell_type": "code",
   "execution_count": 41,
   "metadata": {},
   "outputs": [],
   "source": [
    "data['Month']= data['bite_date'].dt.month\n",
    "data['Year']=data['bite_date'].dt.year"
   ]
  },
  {
   "cell_type": "code",
   "execution_count": 42,
   "metadata": {},
   "outputs": [
    {
     "data": {
      "text/plain": [
       "2012.0    1180\n",
       "2014.0    1176\n",
       "2011.0    1148\n",
       "2013.0    1145\n",
       "2010.0    1131\n",
       "2016.0    1051\n",
       "2015.0     985\n",
       "2017.0     801\n",
       "2009.0      14\n",
       "1992.0      10\n",
       "1994.0       7\n",
       "1990.0       6\n",
       "1993.0       6\n",
       "1991.0       5\n",
       "2201.0       3\n",
       "1952.0       2\n",
       "1989.0       2\n",
       "2020.0       1\n",
       "1985.0       1\n",
       "1986.0       1\n",
       "1987.0       1\n",
       "1988.0       1\n",
       "2021.0       1\n",
       "1995.0       1\n",
       "2101.0       1\n",
       "1999.0       1\n",
       "2001.0       1\n",
       "2002.0       1\n",
       "2007.0       1\n",
       "2018.0       1\n",
       "Name: Year, dtype: int64"
      ]
     },
     "execution_count": 42,
     "metadata": {},
     "output_type": "execute_result"
    }
   ],
   "source": [
    "data.Year.value_counts()"
   ]
  },
  {
   "cell_type": "code",
   "execution_count": 43,
   "metadata": {},
   "outputs": [],
   "source": [
    "data['bite_year_month'] = data['bite_date'].dt.strftime('%Y-%m')"
   ]
  },
  {
   "cell_type": "code",
   "execution_count": 44,
   "metadata": {},
   "outputs": [
    {
     "data": {
      "text/plain": [
       "2013-05    139\n",
       "2014-05    135\n",
       "2014-08    129\n",
       "2011-08    129\n",
       "2010-05    125\n",
       "          ... \n",
       "2009-10      1\n",
       "1993-06      1\n",
       "2101-02      1\n",
       "1991-10      1\n",
       "1993-12      1\n",
       "Name: bite_year_month, Length: 139, dtype: int64"
      ]
     },
     "execution_count": 44,
     "metadata": {},
     "output_type": "execute_result"
    }
   ],
   "source": [
    "data.bite_year_month.value_counts()"
   ]
  },
  {
   "cell_type": "code",
   "execution_count": 45,
   "metadata": {},
   "outputs": [
    {
     "data": {
      "text/plain": [
       "(8617, 18)"
      ]
     },
     "execution_count": 45,
     "metadata": {},
     "output_type": "execute_result"
    }
   ],
   "source": [
    "max_bites = data.loc[(data.Year > 2009) & (data.Year < 2018)]\n",
    "max_bites.shape"
   ]
  },
  {
   "cell_type": "code",
   "execution_count": 46,
   "metadata": {},
   "outputs": [
    {
     "name": "stdout",
     "output_type": "stream",
     "text": [
      "   bite_year_month  count_bites\n",
      "0          2010-01           61\n",
      "1          2010-02           65\n",
      "2          2010-03           87\n",
      "3          2010-04          104\n",
      "4          2010-05          125\n",
      "..             ...          ...\n",
      "88         2017-05          113\n",
      "89         2017-06          124\n",
      "90         2017-07          121\n",
      "91         2017-08          124\n",
      "92         2017-09           24\n",
      "\n",
      "[93 rows x 2 columns]\n",
      "92.65591397849462\n"
     ]
    }
   ],
   "source": [
    "max_bites_gp = max_bites.groupby('bite_year_month').size().reset_index().rename(columns={0: 'count_bites'})\n",
    "print(max_bites_gp)\n",
    "bite_mean = max_bites_gp.count_bites.mean()\n",
    "print(bite_mean)"
   ]
  },
  {
   "cell_type": "code",
   "execution_count": 47,
   "metadata": {},
   "outputs": [
    {
     "name": "stdout",
     "output_type": "stream",
     "text": [
      "<class 'pandas.core.frame.DataFrame'>\n",
      "RangeIndex: 93 entries, 0 to 92\n",
      "Data columns (total 2 columns):\n",
      " #   Column           Non-Null Count  Dtype         \n",
      "---  ------           --------------  -----         \n",
      " 0   bite_year_month  93 non-null     datetime64[ns]\n",
      " 1   count_bites      93 non-null     int64         \n",
      "dtypes: datetime64[ns](1), int64(1)\n",
      "memory usage: 1.6 KB\n"
     ]
    }
   ],
   "source": [
    "max_bites_gp['bite_year_month'] = pd.to_datetime(max_bites_gp['bite_year_month'])\n",
    "max_bites_gp.info()"
   ]
  },
  {
   "cell_type": "code",
   "execution_count": 48,
   "metadata": {},
   "outputs": [
    {
     "name": "stdout",
     "output_type": "stream",
     "text": [
      "dict_keys([2010, 2011, 2012, 2013, 2014, 2015, 2016, 2017])\n"
     ]
    }
   ],
   "source": [
    "yr_df = {}\n",
    "\n",
    "for year in max_bites_gp['bite_year_month'].dt.year:\n",
    "    yr_df[year] = max_bites_gp.loc[max_bites_gp.bite_year_month.dt.year == year].copy()\n",
    "    yr_df[year]['Month'] = yr_df[year]['bite_year_month'].dt.month\n",
    "    \n",
    "print(yr_df.keys())"
   ]
  },
  {
   "cell_type": "code",
   "execution_count": 49,
   "metadata": {},
   "outputs": [
    {
     "name": "stdout",
     "output_type": "stream",
     "text": [
      "   bite_year_month  count_bites  Month\n",
      "0       2010-01-01           61      1\n",
      "1       2010-02-01           65      2\n",
      "2       2010-03-01           87      3\n",
      "3       2010-04-01          104      4\n",
      "4       2010-05-01          125      5\n",
      "5       2010-06-01          113      6\n",
      "6       2010-07-01          116      7\n",
      "7       2010-08-01          104      8\n",
      "8       2010-09-01           78      9\n",
      "9       2010-10-01          104     10\n",
      "10      2010-11-01           90     11\n",
      "11      2010-12-01           84     12\n"
     ]
    }
   ],
   "source": [
    "print(yr_df[2010])"
   ]
  },
  {
   "cell_type": "code",
   "execution_count": 50,
   "metadata": {
    "scrolled": true
   },
   "outputs": [
    {
     "data": {
      "image/png": "[encoded data removed]",
      "text/plain": [
       "<Figure size 576x360 with 1 Axes>"
      ]
     },
     "metadata": {
      "needs_background": "light"
     },
     "output_type": "display_data"
    }
   ],
   "source": [
    "fig=plt.figure(figsize=(8, 5))\n",
    "for year in yr_df.keys():\n",
    "    sns.lineplot(x='Month', y='count_bites', data=yr_df[year], label=year)\n",
    "    \n",
    "#plt.hlines(bite_mean, 1, 12, linestyle='dashed', label='mean')\n",
    "plt.xticks(ticks = [1, 2, 3, 4, 5, 6, 7, 8, 9, 10, 11, 12], labels=['Jan', 'Feb', 'Mar', 'Apr', 'May', 'Jun', 'Jul', 'Aug', 'Sep', 'Oct', 'Nov', 'Dec'])\n",
    "plt.title('Dog bites by Month, 2010-2017')\n",
    "plt.ylabel('Bite count')\n",
    "#plt.vlines(4.5, 20, 140, linestyle='dotted')\n",
    "#plt.vlines(8.5, 20, 140, linestyle='dotted')\n",
    "plt.savefig('BitesMonth.png')"
   ]
  },
  {
   "cell_type": "code",
   "execution_count": null,
   "metadata": {},
   "outputs": [],
   "source": []
  }
 ],
 "metadata": {
  "kernelspec": {
   "display_name": "Python 3",
   "language": "python",
   "name": "python3"
  },
  "language_info": {
   "codemirror_mode": {
    "name": "ipython",
    "version": 3
   },
   "file_extension": ".py",
   "mimetype": "text/x-python",
   "name": "python",
   "nbconvert_exporter": "python",
   "pygments_lexer": "ipython3",
   "version": "3.7.7"
  }
 },
 "nbformat": 4,
 "nbformat_minor": 4
}
