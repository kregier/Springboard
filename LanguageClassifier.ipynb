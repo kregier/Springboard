{
  "nbformat": 4,
  "nbformat_minor": 0,
  "metadata": {
    "colab": {
      "name": "LanguageClassifier.ipynb",
      "provenance": [],
      "authorship_tag": "ABX9TyPP1p/HgB8ncM5cWf8Kktpj",
      "include_colab_link": true
    },
    "kernelspec": {
      "name": "python3",
      "display_name": "Python 3"
    }
  },
  "cells": [
    {
      "cell_type": "markdown",
      "metadata": {
        "id": "view-in-github",
        "colab_type": "text"
      },
      "source": [
        "<a href=\"https://colab.research.google.com/github/kregier/Springboard/blob/master/LanguageClassifier.ipynb\" target=\"_parent\"><img src=\"https://colab.research.google.com/assets/colab-badge.svg\" alt=\"Open In Colab\"/></a>"
      ]
    },
    {
      "cell_type": "markdown",
      "metadata": {
        "id": "aOCawm14hrRb"
      },
      "source": [
        "# Language classsifier\n",
        "Identify the gender and/or native language of speakers reading a fixed passage in English.\n",
        "\n",
        "The goal is to use the pre-trained vggish model to extract features from audio files, and train a classifier to identify the gender and/or native language or the speaker.\n",
        "\n",
        "The data is a subset of the Speech Accent Archive, available from https://www.kaggle.com/rtatman/speech-accent-archive"
      ]
    },
    {
      "cell_type": "code",
      "metadata": {
        "id": "B37Q73AZhZ-L"
      },
      "source": [
        "# Set up the environment\n",
        "import pandas as pd\n",
        "import numpy as np\n",
        "import maplotlib.pylab as plt\n",
        "import seaborn as sns\n",
        "\n",
        "import tensorflow as tf\n",
        "import tensorflow_hub as hub"
      ],
      "execution_count": null,
      "outputs": []
    },
    {
      "cell_type": "code",
      "metadata": {
        "id": "tD-ixFgtjerF"
      },
      "source": [
        "# Load the vggish model from the TF hub\n",
        "model = hub.load('https://tfhub.dev/google/vggish/1')"
      ],
      "execution_count": null,
      "outputs": []
    },
    {
      "cell_type": "code",
      "metadata": {
        "id": "YFlPZvASkNwT"
      },
      "source": [
        ""
      ],
      "execution_count": null,
      "outputs": []
    },
    {
      "cell_type": "markdown",
      "metadata": {
        "id": "EThsLGIDkObA"
      },
      "source": [
        "# Data wrangling\n",
        "- Load the data (or at least the metadata)\n",
        "- Perform EDA\n",
        "- Select the desired subset of the data"
      ]
    },
    {
      "cell_type": "markdown",
      "metadata": {
        "id": "RZvb1DbZkwTW"
      },
      "source": [
        "# Data Augmentation\n",
        "- Break paragraph into sentences by dividing at pauses\n",
        "- Add random noise (at varying levels) to the files\n",
        "- Possible pitch manipulation"
      ]
    },
    {
      "cell_type": "markdown",
      "metadata": {
        "id": "2VeU-8CqlRVI"
      },
      "source": [
        "# Gender classifier\n",
        "- binary options: logistic regression, sigmoid function?"
      ]
    },
    {
      "cell_type": "markdown",
      "metadata": {
        "id": "Sk_utnUilm-x"
      },
      "source": [
        "# Build a model\n",
        "- Feature extraction from vggish\n",
        "- Gender classifier layers"
      ]
    },
    {
      "cell_type": "markdown",
      "metadata": {
        "id": "d4GX8WJ7lwyZ"
      },
      "source": [
        "# Train the model"
      ]
    },
    {
      "cell_type": "markdown",
      "metadata": {
        "id": "cuiB6-wUlzsI"
      },
      "source": [
        "# Evaluate the results"
      ]
    }
  ]
}