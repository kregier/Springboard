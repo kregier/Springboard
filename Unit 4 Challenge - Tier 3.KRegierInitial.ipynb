{
 "cells": [
  {
   "cell_type": "markdown",
   "metadata": {
    "colab_type": "text",
    "id": "Tia3MP1SJpgj"
   },
   "source": [
    "# Springboard Data Science Career Track Unit 4 Challenge - Tier 3 Complete\n",
    "\n",
    "## Objectives\n",
    "Hey! Great job getting through those challenging DataCamp courses. You're learning a lot in a short span of time. \n",
    "\n",
    "In this notebook, you're going to apply the skills you've been learning, bridging the gap between the controlled environment of DataCamp and the *slightly* messier work that data scientists do with actual datasets!\n",
    "\n",
    "Here’s the mystery we’re going to solve: ***which boroughs of London have seen the greatest increase in housing prices, on average, over the last two decades?***\n",
    "\n",
    "\n",
    "A borough is just a fancy word for district. You may be familiar with the five boroughs of New York… well, there are 32 boroughs within Greater London [(here's some info for the curious)](https://en.wikipedia.org/wiki/London_boroughs). Some of them are more desirable areas to live in, and the data will reflect that with a greater rise in housing prices.\n",
    "\n",
    "***This is the Tier 3 notebook, which means it's not filled in at all: we'll just give you the skeleton of a project, the brief and the data. It's up to you to play around with it and see what you can find out! Good luck! If you struggle, feel free to look at easier tiers for help; but try to dip in and out of them, as the more independent work you do, the better it is for your learning!***\n",
    "\n",
    "This challenge will make use of only what you learned in the following DataCamp courses: \n",
    "- Prework courses (Introduction to Python for Data Science, Intermediate Python for Data Science)\n",
    "- Data Types for Data Science\n",
    "- Python Data Science Toolbox (Part One) \n",
    "- pandas Foundations\n",
    "- Manipulating DataFrames with pandas\n",
    "- Merging DataFrames with pandas\n",
    "\n",
    "Of the tools, techniques and concepts in the above DataCamp courses, this challenge should require the application of the following: \n",
    "- **pandas**\n",
    "    - **data ingestion and inspection** (pandas Foundations, Module One) \n",
    "    - **exploratory data analysis** (pandas Foundations, Module Two)\n",
    "    - **tidying and cleaning** (Manipulating DataFrames with pandas, Module Three) \n",
    "    - **transforming DataFrames** (Manipulating DataFrames with pandas, Module One)\n",
    "    - **subsetting DataFrames with lists** (Manipulating DataFrames with pandas, Module One) \n",
    "    - **filtering DataFrames** (Manipulating DataFrames with pandas, Module One) \n",
    "    - **grouping data** (Manipulating DataFrames with pandas, Module Four) \n",
    "    - **melting data** (Manipulating DataFrames with pandas, Module Three) \n",
    "    - **advanced indexing** (Manipulating DataFrames with pandas, Module Four) \n",
    "- **matplotlib** (Intermediate Python for Data Science, Module One)\n",
    "- **fundamental data types** (Data Types for Data Science, Module One) \n",
    "- **dictionaries** (Intermediate Python for Data Science, Module Two)\n",
    "- **handling dates and times** (Data Types for Data Science, Module Four)\n",
    "- **function definition** (Python Data Science Toolbox - Part One, Module One)\n",
    "- **default arguments, variable length, and scope** (Python Data Science Toolbox - Part One, Module Two) \n",
    "- **lambda functions and error handling** (Python Data Science Toolbox - Part One, Module Four) "
   ]
  },
  {
   "cell_type": "markdown",
   "metadata": {
    "colab_type": "text",
    "id": "Ipgd2nV8Jpgl"
   },
   "source": [
    "## The Data Science Pipeline\n",
    "\n",
    "This is Tier Three, so we'll get you started. But after that, it's all in your hands! When you feel done with your investigations, look back over what you've accomplished, and prepare a quick presentation of your findings for the next mentor meeting. \n",
    "\n",
    "Data Science is magical. In this case study, you'll get to apply some complex machine learning algorithms. But as  [David Spiegelhalter](https://www.youtube.com/watch?v=oUs1uvsz0Ok) reminds us, there is no substitute for simply **taking a really, really good look at the data.** Sometimes, this is all we need to answer our question.\n",
    "\n",
    "Data Science projects generally adhere to the four stages of Data Science Pipeline:\n",
    "1. Sourcing and loading \n",
    "2. Cleaning, transforming, and visualizing \n",
    "3. Modeling \n",
    "4. Evaluating and concluding \n"
   ]
  },
  {
   "cell_type": "markdown",
   "metadata": {
    "colab_type": "text",
    "id": "zswDqbefJpgm"
   },
   "source": [
    "### 1. Sourcing and Loading \n",
    "\n",
    "Any Data Science project kicks off by importing  ***pandas***. The documentation of this wonderful library can be found [here](https://pandas.pydata.org/). As you've seen, pandas is conveniently connected to the [Numpy](http://www.numpy.org/) and [Matplotlib](https://matplotlib.org/) libraries. \n",
    "\n",
    "***Hint:*** This part of the data science pipeline will test those skills you acquired in the pandas Foundations course, Module One. "
   ]
  },
  {
   "cell_type": "markdown",
   "metadata": {
    "colab_type": "text",
    "id": "aEau5nEvJpgm"
   },
   "source": [
    "#### 1.1. Importing Libraries"
   ]
  },
  {
   "cell_type": "code",
   "execution_count": 1,
   "metadata": {
    "colab": {},
    "colab_type": "code",
    "id": "7Bt_Q_oPJpgn"
   },
   "outputs": [],
   "source": [
    "# Let's import the pandas, numpy libraries as pd, and np respectively. \n",
    "import pandas as pd\n",
    "import numpy as np\n",
    "\n",
    "# Load the pyplot collection of functions from matplotlib, as plt \n",
    "from matplotlib import pyplot as plt"
   ]
  },
  {
   "cell_type": "markdown",
   "metadata": {
    "colab_type": "text",
    "id": "koUrawxsJpgq"
   },
   "source": [
    "#### 1.2.  Loading the data\n",
    "Your data comes from the [London Datastore](https://data.london.gov.uk/): a free, open-source data-sharing portal for London-oriented datasets. "
   ]
  },
  {
   "cell_type": "code",
   "execution_count": 2,
   "metadata": {
    "colab": {},
    "colab_type": "code",
    "id": "AiLiD4v3Jpgr"
   },
   "outputs": [],
   "source": [
    "# First, make a variable called url_LondonHousePrices, and assign it the following link, enclosed in quotation-marks as a string:\n",
    "# https://data.london.gov.uk/download/uk-house-price-index/70ac0766-8902-4eb5-aab5-01951aaed773/UK%20House%20price%20index.xls\n",
    "\n",
    "url_LondonHousePrices = \"https://data.london.gov.uk/download/uk-house-price-index/70ac0766-8902-4eb5-aab5-01951aaed773/UK%20House%20price%20index.xls\"\n",
    "\n",
    "# The dataset we're interested in contains the Average prices of the houses, and is actually on a particular sheet of the Excel file. \n",
    "# As a result, we need to specify the sheet name in the read_excel() method.\n",
    "# Put this data into a variable called properties.  \n",
    "properties = pd.read_excel(url_LondonHousePrices, sheet_name='Average price', index_col= None)"
   ]
  },
  {
   "cell_type": "markdown",
   "metadata": {
    "colab_type": "text",
    "id": "POukEJXgJpgu"
   },
   "source": [
    "### 2. Cleaning, transforming, and visualizing\n",
    "This second stage is arguably the most important part of any Data Science project. The first thing to do is take a proper look at the data. Cleaning forms the majority of this stage, and can be done both before or after Transformation.\n",
    "\n",
    "The end goal of data cleaning is to have tidy data. When data is tidy: \n",
    "\n",
    "1. Each variable has a column.\n",
    "2. Each observation forms a row.\n",
    "\n",
    "Keep the end goal in mind as you move through this process, every step will take you closer. \n",
    "\n",
    "\n",
    "\n",
    "***Hint:*** This part of the data science pipeline should test those skills you acquired in: \n",
    "- Intermediate Python for data science, all modules.\n",
    "- pandas Foundations, all modules. \n",
    "- Manipulating DataFrames with pandas, all modules.\n",
    "- Data Types for Data Science, Module Four.\n",
    "- Python Data Science Toolbox - Part One, all modules"
   ]
  },
  {
   "cell_type": "markdown",
   "metadata": {
    "colab_type": "text",
    "id": "Te0Q548tnzZa"
   },
   "source": [
    "**2.1. Exploring your data** \n",
    "\n",
    "Think about your pandas functions for checking out a dataframe. "
   ]
  },
  {
   "cell_type": "code",
   "execution_count": 3,
   "metadata": {
    "colab": {},
    "colab_type": "code",
    "id": "Rxirxw_qoAJa"
   },
   "outputs": [
    {
     "name": "stdout",
     "output_type": "stream",
     "text": [
      "<class 'pandas.core.frame.DataFrame'>\n",
      "RangeIndex: 304 entries, 0 to 303\n",
      "Data columns (total 49 columns):\n",
      " #   Column                Non-Null Count  Dtype         \n",
      "---  ------                --------------  -----         \n",
      " 0   Unnamed: 0            303 non-null    datetime64[ns]\n",
      " 1   City of London        304 non-null    object        \n",
      " 2   Barking & Dagenham    304 non-null    object        \n",
      " 3   Barnet                304 non-null    object        \n",
      " 4   Bexley                304 non-null    object        \n",
      " 5   Brent                 304 non-null    object        \n",
      " 6   Bromley               304 non-null    object        \n",
      " 7   Camden                304 non-null    object        \n",
      " 8   Croydon               304 non-null    object        \n",
      " 9   Ealing                304 non-null    object        \n",
      " 10  Enfield               304 non-null    object        \n",
      " 11  Greenwich             304 non-null    object        \n",
      " 12  Hackney               304 non-null    object        \n",
      " 13  Hammersmith & Fulham  304 non-null    object        \n",
      " 14  Haringey              304 non-null    object        \n",
      " 15  Harrow                304 non-null    object        \n",
      " 16  Havering              304 non-null    object        \n",
      " 17  Hillingdon            304 non-null    object        \n",
      " 18  Hounslow              304 non-null    object        \n",
      " 19  Islington             304 non-null    object        \n",
      " 20  Kensington & Chelsea  304 non-null    object        \n",
      " 21  Kingston upon Thames  304 non-null    object        \n",
      " 22  Lambeth               304 non-null    object        \n",
      " 23  Lewisham              304 non-null    object        \n",
      " 24  Merton                304 non-null    object        \n",
      " 25  Newham                304 non-null    object        \n",
      " 26  Redbridge             304 non-null    object        \n",
      " 27  Richmond upon Thames  304 non-null    object        \n",
      " 28  Southwark             304 non-null    object        \n",
      " 29  Sutton                304 non-null    object        \n",
      " 30  Tower Hamlets         304 non-null    object        \n",
      " 31  Waltham Forest        304 non-null    object        \n",
      " 32  Wandsworth            304 non-null    object        \n",
      " 33  Westminster           304 non-null    object        \n",
      " 34  Unnamed: 34           0 non-null      float64       \n",
      " 35  Inner London          304 non-null    object        \n",
      " 36  Outer London          304 non-null    object        \n",
      " 37  Unnamed: 37           0 non-null      float64       \n",
      " 38  NORTH EAST            304 non-null    object        \n",
      " 39  NORTH WEST            304 non-null    object        \n",
      " 40  YORKS & THE HUMBER    304 non-null    object        \n",
      " 41  EAST MIDLANDS         304 non-null    object        \n",
      " 42  WEST MIDLANDS         304 non-null    object        \n",
      " 43  EAST OF ENGLAND       304 non-null    object        \n",
      " 44  LONDON                304 non-null    object        \n",
      " 45  SOUTH EAST            304 non-null    object        \n",
      " 46  SOUTH WEST            304 non-null    object        \n",
      " 47  Unnamed: 47           0 non-null      float64       \n",
      " 48  England               304 non-null    object        \n",
      "dtypes: datetime64[ns](1), float64(3), object(45)\n",
      "memory usage: 116.5+ KB\n"
     ]
    },
    {
     "data": {
      "text/html": [
       "<div>\n",
       "<style scoped>\n",
       "    .dataframe tbody tr th:only-of-type {\n",
       "        vertical-align: middle;\n",
       "    }\n",
       "\n",
       "    .dataframe tbody tr th {\n",
       "        vertical-align: top;\n",
       "    }\n",
       "\n",
       "    .dataframe thead th {\n",
       "        text-align: right;\n",
       "    }\n",
       "</style>\n",
       "<table border=\"1\" class=\"dataframe\">\n",
       "  <thead>\n",
       "    <tr style=\"text-align: right;\">\n",
       "      <th></th>\n",
       "      <th>Unnamed: 0</th>\n",
       "      <th>City of London</th>\n",
       "      <th>Barking &amp; Dagenham</th>\n",
       "      <th>Barnet</th>\n",
       "      <th>Bexley</th>\n",
       "      <th>Brent</th>\n",
       "      <th>Bromley</th>\n",
       "      <th>Camden</th>\n",
       "      <th>Croydon</th>\n",
       "      <th>Ealing</th>\n",
       "      <th>...</th>\n",
       "      <th>NORTH WEST</th>\n",
       "      <th>YORKS &amp; THE HUMBER</th>\n",
       "      <th>EAST MIDLANDS</th>\n",
       "      <th>WEST MIDLANDS</th>\n",
       "      <th>EAST OF ENGLAND</th>\n",
       "      <th>LONDON</th>\n",
       "      <th>SOUTH EAST</th>\n",
       "      <th>SOUTH WEST</th>\n",
       "      <th>Unnamed: 47</th>\n",
       "      <th>England</th>\n",
       "    </tr>\n",
       "  </thead>\n",
       "  <tbody>\n",
       "    <tr>\n",
       "      <th>299</th>\n",
       "      <td>2019-11-01</td>\n",
       "      <td>776894</td>\n",
       "      <td>306390</td>\n",
       "      <td>522639</td>\n",
       "      <td>333657</td>\n",
       "      <td>432188</td>\n",
       "      <td>436080</td>\n",
       "      <td>825336</td>\n",
       "      <td>367585</td>\n",
       "      <td>475492</td>\n",
       "      <td>...</td>\n",
       "      <td>165808</td>\n",
       "      <td>164499</td>\n",
       "      <td>194855</td>\n",
       "      <td>200896</td>\n",
       "      <td>288781</td>\n",
       "      <td>468983</td>\n",
       "      <td>322512</td>\n",
       "      <td>256875</td>\n",
       "      <td>NaN</td>\n",
       "      <td>247951</td>\n",
       "    </tr>\n",
       "    <tr>\n",
       "      <th>300</th>\n",
       "      <td>2019-12-01</td>\n",
       "      <td>737275</td>\n",
       "      <td>301283</td>\n",
       "      <td>519306</td>\n",
       "      <td>336302</td>\n",
       "      <td>427126</td>\n",
       "      <td>438682</td>\n",
       "      <td>807124</td>\n",
       "      <td>369568</td>\n",
       "      <td>469662</td>\n",
       "      <td>...</td>\n",
       "      <td>164893</td>\n",
       "      <td>165818</td>\n",
       "      <td>194553</td>\n",
       "      <td>198644</td>\n",
       "      <td>290814</td>\n",
       "      <td>478576</td>\n",
       "      <td>321972</td>\n",
       "      <td>256577</td>\n",
       "      <td>NaN</td>\n",
       "      <td>248250</td>\n",
       "    </tr>\n",
       "    <tr>\n",
       "      <th>301</th>\n",
       "      <td>2020-01-01</td>\n",
       "      <td>757377</td>\n",
       "      <td>304187</td>\n",
       "      <td>520115</td>\n",
       "      <td>334430</td>\n",
       "      <td>424663</td>\n",
       "      <td>435337</td>\n",
       "      <td>816906</td>\n",
       "      <td>371918</td>\n",
       "      <td>467351</td>\n",
       "      <td>...</td>\n",
       "      <td>165024</td>\n",
       "      <td>164838</td>\n",
       "      <td>196277</td>\n",
       "      <td>202289</td>\n",
       "      <td>290548</td>\n",
       "      <td>479166</td>\n",
       "      <td>323967</td>\n",
       "      <td>258185</td>\n",
       "      <td>NaN</td>\n",
       "      <td>249160</td>\n",
       "    </tr>\n",
       "    <tr>\n",
       "      <th>302</th>\n",
       "      <td>2020-02-01</td>\n",
       "      <td>765416</td>\n",
       "      <td>304719</td>\n",
       "      <td>520966</td>\n",
       "      <td>334845</td>\n",
       "      <td>471574</td>\n",
       "      <td>436544</td>\n",
       "      <td>818558</td>\n",
       "      <td>371686</td>\n",
       "      <td>467963</td>\n",
       "      <td>...</td>\n",
       "      <td>165917</td>\n",
       "      <td>165232</td>\n",
       "      <td>193858</td>\n",
       "      <td>200577</td>\n",
       "      <td>291261</td>\n",
       "      <td>479974</td>\n",
       "      <td>321268</td>\n",
       "      <td>258129</td>\n",
       "      <td>NaN</td>\n",
       "      <td>248587</td>\n",
       "    </tr>\n",
       "    <tr>\n",
       "      <th>303</th>\n",
       "      <td>2020-03-01</td>\n",
       "      <td>792583</td>\n",
       "      <td>327136</td>\n",
       "      <td>532569</td>\n",
       "      <td>331679</td>\n",
       "      <td>446966</td>\n",
       "      <td>430033</td>\n",
       "      <td>881096</td>\n",
       "      <td>358356</td>\n",
       "      <td>454027</td>\n",
       "      <td>...</td>\n",
       "      <td>166202</td>\n",
       "      <td>159208</td>\n",
       "      <td>194664</td>\n",
       "      <td>195917</td>\n",
       "      <td>291254</td>\n",
       "      <td>485794</td>\n",
       "      <td>323353</td>\n",
       "      <td>263360</td>\n",
       "      <td>NaN</td>\n",
       "      <td>248271</td>\n",
       "    </tr>\n",
       "  </tbody>\n",
       "</table>\n",
       "<p>5 rows × 49 columns</p>\n",
       "</div>"
      ],
      "text/plain": [
       "    Unnamed: 0 City of London Barking & Dagenham  Barnet  Bexley   Brent  \\\n",
       "299 2019-11-01         776894             306390  522639  333657  432188   \n",
       "300 2019-12-01         737275             301283  519306  336302  427126   \n",
       "301 2020-01-01         757377             304187  520115  334430  424663   \n",
       "302 2020-02-01         765416             304719  520966  334845  471574   \n",
       "303 2020-03-01         792583             327136  532569  331679  446966   \n",
       "\n",
       "    Bromley  Camden Croydon  Ealing  ... NORTH WEST YORKS & THE HUMBER  \\\n",
       "299  436080  825336  367585  475492  ...     165808             164499   \n",
       "300  438682  807124  369568  469662  ...     164893             165818   \n",
       "301  435337  816906  371918  467351  ...     165024             164838   \n",
       "302  436544  818558  371686  467963  ...     165917             165232   \n",
       "303  430033  881096  358356  454027  ...     166202             159208   \n",
       "\n",
       "    EAST MIDLANDS WEST MIDLANDS EAST OF ENGLAND  LONDON SOUTH EAST SOUTH WEST  \\\n",
       "299        194855        200896          288781  468983     322512     256875   \n",
       "300        194553        198644          290814  478576     321972     256577   \n",
       "301        196277        202289          290548  479166     323967     258185   \n",
       "302        193858        200577          291261  479974     321268     258129   \n",
       "303        194664        195917          291254  485794     323353     263360   \n",
       "\n",
       "    Unnamed: 47 England  \n",
       "299         NaN  247951  \n",
       "300         NaN  248250  \n",
       "301         NaN  249160  \n",
       "302         NaN  248587  \n",
       "303         NaN  248271  \n",
       "\n",
       "[5 rows x 49 columns]"
      ]
     },
     "execution_count": 3,
     "metadata": {},
     "output_type": "execute_result"
    }
   ],
   "source": [
    "properties.info()\n",
    "properties.head()\n",
    "properties.tail()"
   ]
  },
  {
   "cell_type": "markdown",
   "metadata": {
    "colab_type": "text",
    "id": "tE9Sqt9-oAta"
   },
   "source": [
    "**2.2. Cleaning the data**\n",
    "\n",
    "You might find you need to transpose your dataframe, check out what its row indexes are, and reset the index. You  also might find you need to assign the values of the first row to your column headings  . (Hint: recall the .columns feature of DataFrames, as well as the iloc[] method).\n",
    "\n",
    "Don't be afraid to use StackOverflow for help  with this."
   ]
  },
  {
   "cell_type": "code",
   "execution_count": 4,
   "metadata": {
    "colab": {},
    "colab_type": "code",
    "id": "cdAu1A3YoH_r"
   },
   "outputs": [],
   "source": [
    "prop_i = properties.set_index(properties.columns[0])\n",
    "prop_i.index.name = \"Date\"\n",
    "#print(prop_i.index)\n"
   ]
  },
  {
   "cell_type": "markdown",
   "metadata": {
    "colab_type": "text",
    "id": "o1uLbJAsoIjK"
   },
   "source": [
    "**2.3. Cleaning the data (part 2)**\n",
    "\n",
    "You might we have to **rename** a couple columns. How do you do this? The clue's pretty bold..."
   ]
  },
  {
   "cell_type": "code",
   "execution_count": 5,
   "metadata": {
    "colab": {},
    "colab_type": "code",
    "id": "GKkmn1AnoVZS"
   },
   "outputs": [
    {
     "name": "stdout",
     "output_type": "stream",
     "text": [
      "<class 'pandas.core.frame.DataFrame'>\n",
      "DatetimeIndex: 303 entries, 1995-01-01 to 2020-03-01\n",
      "Data columns (total 33 columns):\n",
      " #   Column                Non-Null Count  Dtype \n",
      "---  ------                --------------  ----- \n",
      " 0   City of London        303 non-null    object\n",
      " 1   Barking & Dagenham    303 non-null    object\n",
      " 2   Barnet                303 non-null    object\n",
      " 3   Bexley                303 non-null    object\n",
      " 4   Brent                 303 non-null    object\n",
      " 5   Bromley               303 non-null    object\n",
      " 6   Camden                303 non-null    object\n",
      " 7   Croydon               303 non-null    object\n",
      " 8   Ealing                303 non-null    object\n",
      " 9   Enfield               303 non-null    object\n",
      " 10  Greenwich             303 non-null    object\n",
      " 11  Hackney               303 non-null    object\n",
      " 12  Hammersmith & Fulham  303 non-null    object\n",
      " 13  Haringey              303 non-null    object\n",
      " 14  Harrow                303 non-null    object\n",
      " 15  Havering              303 non-null    object\n",
      " 16  Hillingdon            303 non-null    object\n",
      " 17  Hounslow              303 non-null    object\n",
      " 18  Islington             303 non-null    object\n",
      " 19  Kensington & Chelsea  303 non-null    object\n",
      " 20  Kingston upon Thames  303 non-null    object\n",
      " 21  Lambeth               303 non-null    object\n",
      " 22  Lewisham              303 non-null    object\n",
      " 23  Merton                303 non-null    object\n",
      " 24  Newham                303 non-null    object\n",
      " 25  Redbridge             303 non-null    object\n",
      " 26  Richmond upon Thames  303 non-null    object\n",
      " 27  Southwark             303 non-null    object\n",
      " 28  Sutton                303 non-null    object\n",
      " 29  Tower Hamlets         303 non-null    object\n",
      " 30  Waltham Forest        303 non-null    object\n",
      " 31  Wandsworth            303 non-null    object\n",
      " 32  Westminster           303 non-null    object\n",
      "dtypes: object(33)\n",
      "memory usage: 80.5+ KB\n"
     ]
    }
   ],
   "source": [
    "columnNames = list(prop_i.columns)\n",
    "columnNames[33] = \"End of boroughs\"\n",
    "columnNames[36] = \"Divider\"\n",
    "columnNames[46] = \"Another Divider\"\n",
    "#print(columnNames)\n",
    "prop_i.columns=columnNames\n",
    "prop_i.head()\n",
    "# Drop the first row\n",
    "prop_s = prop_i.iloc[1:, :33]\n",
    "prop_s.head()\n",
    "prop_s.info()"
   ]
  },
  {
   "cell_type": "markdown",
   "metadata": {
    "colab_type": "text",
    "id": "jy8BzXHmoWEw"
   },
   "source": [
    "**2.4.Transforming the data**\n",
    "\n",
    "Remember what Wes McKinney said about tidy data? \n",
    "\n",
    "You might need to **melt** your DataFrame here. "
   ]
  },
  {
   "cell_type": "code",
   "execution_count": null,
   "metadata": {
    "colab": {},
    "colab_type": "code",
    "id": "S2wM0qLuo2Zt"
   },
   "outputs": [],
   "source": []
  },
  {
   "cell_type": "markdown",
   "metadata": {
    "colab_type": "text",
    "id": "7kIsgAo7o3mf"
   },
   "source": [
    "Remember to make sure your column data types are all correct. Average prices, for example, should be floating point numbers... "
   ]
  },
  {
   "cell_type": "code",
   "execution_count": 6,
   "metadata": {
    "colab": {},
    "colab_type": "code",
    "id": "ZcR4IHbcpOaq"
   },
   "outputs": [],
   "source": [
    "for col in prop_s:\n",
    "    prop_s[col] = pd.to_numeric(prop_s[col])\n",
    "#prop_s.info()"
   ]
  },
  {
   "cell_type": "markdown",
   "metadata": {
    "colab_type": "text",
    "id": "knLUXHLypOtw"
   },
   "source": [
    "**2.5. Cleaning the data (part 3)**\n",
    "\n",
    "Do we have an equal number of observations in the ID, Average Price, Month, and London Borough columns? Remember that there are only 32 London Boroughs. How many entries do you have in that column? \n",
    "\n",
    "Check out the contents of the London Borough column, and if you find null values, get rid of them however you see fit. "
   ]
  },
  {
   "cell_type": "code",
   "execution_count": 7,
   "metadata": {
    "colab": {},
    "colab_type": "code",
    "id": "BnvTW5a3p0fC"
   },
   "outputs": [],
   "source": [
    "prop_a = prop_s.resample('A').mean()\n",
    "prop_a['AnnualAvg'] = prop_a.mean(axis=1)"
   ]
  },
  {
   "cell_type": "markdown",
   "metadata": {
    "colab_type": "text",
    "id": "PGEx6mJsp6dG"
   },
   "source": [
    "**2.6. Visualizing the data**\n",
    "\n",
    "To visualize the data, why not subset on a particular London Borough? Maybe do a line plot of Month against Average Price?"
   ]
  },
  {
   "cell_type": "code",
   "execution_count": 8,
   "metadata": {
    "colab": {},
    "colab_type": "code",
    "id": "nAg5pT9cqHAR"
   },
   "outputs": [
    {
     "data": {
      "image/png": "[encoded data removed]",
      "text/plain": [
       "<Figure size 432x288 with 1 Axes>"
      ]
     },
     "metadata": {
      "needs_background": "light"
     },
     "output_type": "display_data"
    },
    {
     "data": {
      "image/png": "[encoded data removed]",
      "text/plain": [
       "<Figure size 432x288 with 1 Axes>"
      ]
     },
     "metadata": {
      "needs_background": "light"
     },
     "output_type": "display_data"
    }
   ],
   "source": [
    "inner = [\"Camden\", \"Greenwich\", \"Hackney\", \"Hammersmith & Fulham\", \"Islington\", \\\n",
    "         \"Kensington & Chelsea\", \"Lambeth\", \"Lewisham\", \"Southwark\", \\\n",
    "         \"Tower Hamlets\", \"Wandsworth\", \"Westminster\"] #12\n",
    "outer = [\"Barking & Dagenham\", \"Barnet\", \"Bexley\", \"Brent\", \"Bromley\", \"Croydon\", \"Ealing\", \\\n",
    "         \"Enfield\", \"Haringey\", \"Harrow\", \"Havering\", \"Hillingdon\", \\\n",
    "         \"Hounslow\", \"Kingston upon Thames\", \"Merton\", \"Newham\", \"Redbridge\", \\\n",
    "         \"Richmond upon Thames\", \"Sutton\", \"Waltham Forest\" ] #20\n",
    "inner_plot = inner.append(\"AnnualAvg\")\n",
    "outer_plot = outer.append(\"AnnualAvg\")\n",
    "prop_a[[\"Camden\", \"Greenwich\", \"Hackney\", \"Hammersmith & Fulham\", \"Islington\", \\\n",
    "         \"Kensington & Chelsea\", \"Lambeth\", \"Lewisham\", \"Southwark\", \\\n",
    "         \"Tower Hamlets\", \"Wandsworth\", \"Westminster\"]].plot()\n",
    "plt.title(\"Inner\")\n",
    "plt.show()\n",
    "prop_a[[\"Barking & Dagenham\", \"Barnet\", \"Bexley\", \"Brent\", \"Bromley\", \"Croydon\", \"Ealing\", \\\n",
    "         \"Enfield\", \"Haringey\", \"Harrow\", \"Havering\", \"Hillingdon\", \\\n",
    "         \"Hounslow\", \"Kingston upon Thames\", \"Merton\", \"Newham\", \"Redbridge\", \\\n",
    "         \"Richmond upon Thames\", \"Sutton\", \"Waltham Forest\" ]].plot()\n",
    "plt.title(\"Outer\")\n",
    "plt.show()\n",
    "\n",
    "#What is the median and range of housing prices in 1998? What about in 2018?\n",
    "\n",
    "#Which boroughs are in the top quartile? Which are in the bottom?"
   ]
  },
  {
   "cell_type": "markdown",
   "metadata": {
    "colab_type": "text",
    "id": "aWTPqSJeqHnC"
   },
   "source": [
    "To limit the number of data points you have, you might want to extract the year from every month value your *Month* column. \n",
    "\n",
    "To this end, you *could* apply a ***lambda function***. Your logic could work as follows:\n",
    "1. look through the `Month` column\n",
    "2. extract the year from each individual value in that column \n",
    "3. store that corresponding year as separate column. \n",
    "\n",
    "Whether you go ahead with this is up to you. Just so long as you answer our initial brief: which boroughs of London have seen the greatest house price increase, on average, over the past two decades? "
   ]
  },
  {
   "cell_type": "code",
   "execution_count": 9,
   "metadata": {
    "colab": {},
    "colab_type": "code",
    "id": "e0DF92cyqnu8",
    "scrolled": true
   },
   "outputs": [
    {
     "data": {
      "text/html": [
       "<div>\n",
       "<style scoped>\n",
       "    .dataframe tbody tr th:only-of-type {\n",
       "        vertical-align: middle;\n",
       "    }\n",
       "\n",
       "    .dataframe tbody tr th {\n",
       "        vertical-align: top;\n",
       "    }\n",
       "\n",
       "    .dataframe thead th {\n",
       "        text-align: right;\n",
       "    }\n",
       "</style>\n",
       "<table border=\"1\" class=\"dataframe\">\n",
       "  <thead>\n",
       "    <tr style=\"text-align: right;\">\n",
       "      <th></th>\n",
       "      <th>City of London</th>\n",
       "      <th>Barking &amp; Dagenham</th>\n",
       "      <th>Barnet</th>\n",
       "      <th>Bexley</th>\n",
       "      <th>Brent</th>\n",
       "      <th>Bromley</th>\n",
       "      <th>Camden</th>\n",
       "      <th>Croydon</th>\n",
       "      <th>Ealing</th>\n",
       "      <th>Enfield</th>\n",
       "      <th>...</th>\n",
       "      <th>Newham</th>\n",
       "      <th>Redbridge</th>\n",
       "      <th>Richmond upon Thames</th>\n",
       "      <th>Southwark</th>\n",
       "      <th>Sutton</th>\n",
       "      <th>Tower Hamlets</th>\n",
       "      <th>Waltham Forest</th>\n",
       "      <th>Wandsworth</th>\n",
       "      <th>Westminster</th>\n",
       "      <th>AnnualAvg</th>\n",
       "    </tr>\n",
       "    <tr>\n",
       "      <th>Date</th>\n",
       "      <th></th>\n",
       "      <th></th>\n",
       "      <th></th>\n",
       "      <th></th>\n",
       "      <th></th>\n",
       "      <th></th>\n",
       "      <th></th>\n",
       "      <th></th>\n",
       "      <th></th>\n",
       "      <th></th>\n",
       "      <th></th>\n",
       "      <th></th>\n",
       "      <th></th>\n",
       "      <th></th>\n",
       "      <th></th>\n",
       "      <th></th>\n",
       "      <th></th>\n",
       "      <th></th>\n",
       "      <th></th>\n",
       "      <th></th>\n",
       "      <th></th>\n",
       "    </tr>\n",
       "  </thead>\n",
       "  <tbody>\n",
       "    <tr>\n",
       "      <th>2016-12-31</th>\n",
       "      <td>818315.551142</td>\n",
       "      <td>273919.636042</td>\n",
       "      <td>525939.577300</td>\n",
       "      <td>321563.508775</td>\n",
       "      <td>489469.418367</td>\n",
       "      <td>428008.119983</td>\n",
       "      <td>807118.961958</td>\n",
       "      <td>355846.809333</td>\n",
       "      <td>476440.737308</td>\n",
       "      <td>385489.805458</td>\n",
       "      <td>...</td>\n",
       "      <td>347956.886925</td>\n",
       "      <td>391837.313350</td>\n",
       "      <td>653760.818533</td>\n",
       "      <td>510331.261983</td>\n",
       "      <td>365303.130833</td>\n",
       "      <td>457129.597725</td>\n",
       "      <td>413149.270708</td>\n",
       "      <td>608740.907083</td>\n",
       "      <td>9.955434e+05</td>\n",
       "      <td>521855.352744</td>\n",
       "    </tr>\n",
       "    <tr>\n",
       "      <th>2017-12-31</th>\n",
       "      <td>849790.096133</td>\n",
       "      <td>287734.717358</td>\n",
       "      <td>538281.017008</td>\n",
       "      <td>335694.468958</td>\n",
       "      <td>487703.754375</td>\n",
       "      <td>441218.585283</td>\n",
       "      <td>839347.476208</td>\n",
       "      <td>372554.484167</td>\n",
       "      <td>484592.165825</td>\n",
       "      <td>395929.176617</td>\n",
       "      <td>...</td>\n",
       "      <td>362131.544175</td>\n",
       "      <td>410300.158625</td>\n",
       "      <td>665284.674308</td>\n",
       "      <td>515883.332175</td>\n",
       "      <td>376924.583592</td>\n",
       "      <td>459279.060158</td>\n",
       "      <td>436116.502500</td>\n",
       "      <td>617921.475300</td>\n",
       "      <td>1.064772e+06</td>\n",
       "      <td>538511.112924</td>\n",
       "    </tr>\n",
       "    <tr>\n",
       "      <th>2018-12-31</th>\n",
       "      <td>784808.908635</td>\n",
       "      <td>295196.673612</td>\n",
       "      <td>533266.534055</td>\n",
       "      <td>342603.605654</td>\n",
       "      <td>492845.371253</td>\n",
       "      <td>443409.985635</td>\n",
       "      <td>842410.409361</td>\n",
       "      <td>370298.543320</td>\n",
       "      <td>480050.544561</td>\n",
       "      <td>396631.717802</td>\n",
       "      <td>...</td>\n",
       "      <td>359022.512777</td>\n",
       "      <td>422591.065915</td>\n",
       "      <td>652665.426320</td>\n",
       "      <td>504235.374945</td>\n",
       "      <td>379262.580582</td>\n",
       "      <td>446500.553785</td>\n",
       "      <td>440859.411128</td>\n",
       "      <td>596649.139044</td>\n",
       "      <td>1.020025e+06</td>\n",
       "      <td>533415.524497</td>\n",
       "    </tr>\n",
       "    <tr>\n",
       "      <th>2019-12-31</th>\n",
       "      <td>796181.248442</td>\n",
       "      <td>298620.203492</td>\n",
       "      <td>519611.265983</td>\n",
       "      <td>336858.000467</td>\n",
       "      <td>474513.082183</td>\n",
       "      <td>436459.813675</td>\n",
       "      <td>841744.354550</td>\n",
       "      <td>365441.069775</td>\n",
       "      <td>472913.245508</td>\n",
       "      <td>392835.437917</td>\n",
       "      <td>...</td>\n",
       "      <td>363957.159467</td>\n",
       "      <td>412566.179825</td>\n",
       "      <td>650027.532992</td>\n",
       "      <td>499247.348242</td>\n",
       "      <td>371874.961808</td>\n",
       "      <td>438460.953933</td>\n",
       "      <td>430501.945317</td>\n",
       "      <td>588613.051833</td>\n",
       "      <td>9.553525e+05</td>\n",
       "      <td>523395.078321</td>\n",
       "    </tr>\n",
       "    <tr>\n",
       "      <th>2020-12-31</th>\n",
       "      <td>771791.903667</td>\n",
       "      <td>312014.145767</td>\n",
       "      <td>524550.037233</td>\n",
       "      <td>333651.683867</td>\n",
       "      <td>447734.223067</td>\n",
       "      <td>433971.314000</td>\n",
       "      <td>838853.363933</td>\n",
       "      <td>367319.827733</td>\n",
       "      <td>463113.755467</td>\n",
       "      <td>389225.100033</td>\n",
       "      <td>...</td>\n",
       "      <td>377645.186100</td>\n",
       "      <td>422036.270033</td>\n",
       "      <td>653557.861900</td>\n",
       "      <td>497683.357267</td>\n",
       "      <td>374482.200700</td>\n",
       "      <td>470269.511167</td>\n",
       "      <td>440327.458967</td>\n",
       "      <td>612122.084167</td>\n",
       "      <td>1.043060e+06</td>\n",
       "      <td>534263.043919</td>\n",
       "    </tr>\n",
       "  </tbody>\n",
       "</table>\n",
       "<p>5 rows × 34 columns</p>\n",
       "</div>"
      ],
      "text/plain": [
       "            City of London  Barking & Dagenham         Barnet         Bexley  \\\n",
       "Date                                                                           \n",
       "2016-12-31   818315.551142       273919.636042  525939.577300  321563.508775   \n",
       "2017-12-31   849790.096133       287734.717358  538281.017008  335694.468958   \n",
       "2018-12-31   784808.908635       295196.673612  533266.534055  342603.605654   \n",
       "2019-12-31   796181.248442       298620.203492  519611.265983  336858.000467   \n",
       "2020-12-31   771791.903667       312014.145767  524550.037233  333651.683867   \n",
       "\n",
       "                    Brent        Bromley         Camden        Croydon  \\\n",
       "Date                                                                     \n",
       "2016-12-31  489469.418367  428008.119983  807118.961958  355846.809333   \n",
       "2017-12-31  487703.754375  441218.585283  839347.476208  372554.484167   \n",
       "2018-12-31  492845.371253  443409.985635  842410.409361  370298.543320   \n",
       "2019-12-31  474513.082183  436459.813675  841744.354550  365441.069775   \n",
       "2020-12-31  447734.223067  433971.314000  838853.363933  367319.827733   \n",
       "\n",
       "                   Ealing        Enfield  ...         Newham      Redbridge  \\\n",
       "Date                                      ...                                 \n",
       "2016-12-31  476440.737308  385489.805458  ...  347956.886925  391837.313350   \n",
       "2017-12-31  484592.165825  395929.176617  ...  362131.544175  410300.158625   \n",
       "2018-12-31  480050.544561  396631.717802  ...  359022.512777  422591.065915   \n",
       "2019-12-31  472913.245508  392835.437917  ...  363957.159467  412566.179825   \n",
       "2020-12-31  463113.755467  389225.100033  ...  377645.186100  422036.270033   \n",
       "\n",
       "            Richmond upon Thames      Southwark         Sutton  Tower Hamlets  \\\n",
       "Date                                                                            \n",
       "2016-12-31         653760.818533  510331.261983  365303.130833  457129.597725   \n",
       "2017-12-31         665284.674308  515883.332175  376924.583592  459279.060158   \n",
       "2018-12-31         652665.426320  504235.374945  379262.580582  446500.553785   \n",
       "2019-12-31         650027.532992  499247.348242  371874.961808  438460.953933   \n",
       "2020-12-31         653557.861900  497683.357267  374482.200700  470269.511167   \n",
       "\n",
       "            Waltham Forest     Wandsworth   Westminster      AnnualAvg  \n",
       "Date                                                                    \n",
       "2016-12-31   413149.270708  608740.907083  9.955434e+05  521855.352744  \n",
       "2017-12-31   436116.502500  617921.475300  1.064772e+06  538511.112924  \n",
       "2018-12-31   440859.411128  596649.139044  1.020025e+06  533415.524497  \n",
       "2019-12-31   430501.945317  588613.051833  9.553525e+05  523395.078321  \n",
       "2020-12-31   440327.458967  612122.084167  1.043060e+06  534263.043919  \n",
       "\n",
       "[5 rows x 34 columns]"
      ]
     },
     "execution_count": 9,
     "metadata": {},
     "output_type": "execute_result"
    }
   ],
   "source": [
    "prop_a.tail()"
   ]
  },
  {
   "cell_type": "markdown",
   "metadata": {
    "colab_type": "text",
    "id": "2knuTxAEqoJ4"
   },
   "source": [
    "**3. Modeling**\n",
    "\n",
    "Consider creating a function that will calculate a ratio of house prices, comparing the price of a house in 2018 to the price in 1998.\n",
    "\n",
    "Consider calling this function create_price_ratio.\n",
    "\n",
    "You'd want this function to:\n",
    "1. Take a filter of dfg, specifically where this filter constrains the London_Borough, as an argument. For example, one admissible argument should be: dfg[dfg['London_Borough']=='Camden'].\n",
    "2. Get the Average Price for that Borough, for the years 1998 and 2018.\n",
    "4. Calculate the ratio of the Average Price for 1998 divided by the Average Price for 2018.\n",
    "5. Return that ratio.\n",
    "\n",
    "Once you've written this function, you ultimately want to use it to iterate through all the unique London_Boroughs and work out the ratio capturing the difference of house prices between 1998 and 2018.\n",
    "\n",
    "Bear in mind: you don't have to write a function like this if you don't want to. If you can solve the brief otherwise, then great! \n",
    "\n",
    "***Hint***: This section should test the skills you acquired in:\n",
    "- Python Data Science Toolbox - Part One, all modules"
   ]
  },
  {
   "cell_type": "code",
   "execution_count": 10,
   "metadata": {
    "colab": {},
    "colab_type": "code",
    "id": "cKTyr437UgDa"
   },
   "outputs": [
    {
     "name": "stdout",
     "output_type": "stream",
     "text": [
      "Hounslow  :  0.25148317824115635\n",
      "Hackney  :  0.16133493530705734\n"
     ]
    }
   ],
   "source": [
    "def create_price_ratio(df, borough):\n",
    "    avg1998 = df.at[\"1998\", borough]\n",
    "#    print(type(avg1998))\n",
    "    avg2018 = df.at[\"2018\", borough]\n",
    "#    print(\"2018: \", avg2018)\n",
    "    ratio = avg1998[0] / avg2018[0]\n",
    "    return ratio\n",
    "\n",
    "ratios = {}\n",
    "for borough in prop_a.columns:\n",
    "    ratios[borough] = create_price_ratio(prop_a, borough)\n",
    "    \n",
    "#print(ratios)\n",
    "#print(max(ratios.values()))\n",
    "maxVal = max(ratios.values())\n",
    "minVal = min(ratios.values())\n",
    "\n",
    "def get_key(dict, val):\n",
    "    for key, value in dict.items():\n",
    "        if value == val:\n",
    "            return key\n",
    "    return (\"Value not found\")\n",
    "\n",
    "answer = get_key( ratios, maxVal )\n",
    "print(answer, \" : \", maxVal)\n",
    "\n",
    "lowest =  get_key( ratios, minVal )\n",
    "print(lowest, \" : \", minVal)"
   ]
  },
  {
   "cell_type": "markdown",
   "metadata": {
    "colab_type": "text",
    "id": "NzYUI7FxJpgv"
   },
   "source": [
    "### 4. Conclusion\n",
    "What can you conclude? Type out your conclusion below. \n",
    "\n",
    "Look back at your notebook. Think about how you might summarize what you have done, and prepare a quick presentation on it to your mentor at your next meeting. \n",
    "\n",
    "We hope you enjoyed this practical project. It should have consolidated your data hygiene and pandas skills by looking at a real-world problem involving just the kind of dataset you might encounter as a budding data scientist. Congratulations, and looking forward to seeing you at the next step in the course! "
   ]
  }
 ],
 "metadata": {
  "colab": {
   "collapsed_sections": [],
   "name": "Springboard Data Science Career Track Unit 4 Challenge - Tier 3 Complete .ipynb",
   "provenance": []
  },
  "kernelspec": {
   "display_name": "Python 3",
   "language": "python",
   "name": "python3"
  },
  "language_info": {
   "codemirror_mode": {
    "name": "ipython",
    "version": 3
   },
   "file_extension": ".py",
   "mimetype": "text/x-python",
   "name": "python",
   "nbconvert_exporter": "python",
   "pygments_lexer": "ipython3",
   "version": "3.7.7"
  }
 },
 "nbformat": 4,
 "nbformat_minor": 1
}
